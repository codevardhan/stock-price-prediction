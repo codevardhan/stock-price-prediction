{
  "cells": [
    {
      "cell_type": "markdown",
      "metadata": {},
      "source": [
        "## Import Libraries\n"
      ]
    },
    {
      "cell_type": "code",
      "execution_count": 1,
      "metadata": {
        "id": "_fHYbsgACOU2"
      },
      "outputs": [],
      "source": [
        "import numpy as np \n",
        "import pandas as pd \n",
        "import os\n",
        "\n",
        "import datetime as dt\n",
        "from datetime import datetime\n",
        "\n",
        "import matplotlib.pyplot as plt\n",
        "plt.style.use('ggplot')\n",
        "\n",
        "import numpy as np\n",
        "\n",
        "from sklearn.preprocessing import MinMaxScaler\n",
        "\n",
        "### Create the Stacked LSTM model\n",
        "from tensorflow.keras.models import Sequential\n",
        "from tensorflow.keras.layers import Dense\n",
        "from tensorflow.keras.layers import LSTM\n",
        "from keras.layers import Dropout\n",
        "\n",
        "from tensorflow.keras.preprocessing.text import Tokenizer\n",
        "from tensorflow.keras.preprocessing.sequence import pad_sequences\n",
        "from tensorflow.keras.models import load_model\n",
        "import pickle"
      ]
    },
    {
      "cell_type": "markdown",
      "metadata": {},
      "source": [
        "## Loading Stock Data"
      ]
    },
    {
      "cell_type": "markdown",
      "metadata": {
        "id": "kwVO_ar3Jsv-"
      },
      "source": [
        "The dataset is taken from https://in.finance.yahoo.com/ . Any stock dataset you want to add in the website can be taken from the website given above then traing the model on that dataset"
      ]
    },
    {
      "cell_type": "code",
      "execution_count": 2,
      "metadata": {
        "id": "FmXZfUymqmo9"
      },
      "outputs": [],
      "source": [
        "data = './data/AMZN.csv'"
      ]
    },
    {
      "cell_type": "code",
      "execution_count": 3,
      "metadata": {
        "colab": {
          "base_uri": "https://localhost:8080/",
          "height": 206
        },
        "id": "sg8IEYzgpk1n",
        "outputId": "df5a6ff1-d9f6-4fd2-ea3f-96176dc34cde"
      },
      "outputs": [
        {
          "data": {
            "text/html": [
              "<div>\n",
              "<style scoped>\n",
              "    .dataframe tbody tr th:only-of-type {\n",
              "        vertical-align: middle;\n",
              "    }\n",
              "\n",
              "    .dataframe tbody tr th {\n",
              "        vertical-align: top;\n",
              "    }\n",
              "\n",
              "    .dataframe thead th {\n",
              "        text-align: right;\n",
              "    }\n",
              "</style>\n",
              "<table border=\"1\" class=\"dataframe\">\n",
              "  <thead>\n",
              "    <tr style=\"text-align: right;\">\n",
              "      <th></th>\n",
              "      <th>Date</th>\n",
              "      <th>Open</th>\n",
              "      <th>High</th>\n",
              "      <th>Low</th>\n",
              "      <th>Close</th>\n",
              "      <th>Adj Close</th>\n",
              "      <th>Volume</th>\n",
              "    </tr>\n",
              "  </thead>\n",
              "  <tbody>\n",
              "    <tr>\n",
              "      <th>0</th>\n",
              "      <td>2012-01-03</td>\n",
              "      <td>175.889999</td>\n",
              "      <td>179.479996</td>\n",
              "      <td>175.550003</td>\n",
              "      <td>179.029999</td>\n",
              "      <td>179.029999</td>\n",
              "      <td>5110800</td>\n",
              "    </tr>\n",
              "    <tr>\n",
              "      <th>1</th>\n",
              "      <td>2012-01-04</td>\n",
              "      <td>179.210007</td>\n",
              "      <td>180.500000</td>\n",
              "      <td>176.070007</td>\n",
              "      <td>177.509995</td>\n",
              "      <td>177.509995</td>\n",
              "      <td>4205200</td>\n",
              "    </tr>\n",
              "    <tr>\n",
              "      <th>2</th>\n",
              "      <td>2012-01-05</td>\n",
              "      <td>175.940002</td>\n",
              "      <td>178.250000</td>\n",
              "      <td>174.050003</td>\n",
              "      <td>177.610001</td>\n",
              "      <td>177.610001</td>\n",
              "      <td>3809100</td>\n",
              "    </tr>\n",
              "    <tr>\n",
              "      <th>3</th>\n",
              "      <td>2012-01-06</td>\n",
              "      <td>178.070007</td>\n",
              "      <td>184.649994</td>\n",
              "      <td>177.500000</td>\n",
              "      <td>182.610001</td>\n",
              "      <td>182.610001</td>\n",
              "      <td>7008400</td>\n",
              "    </tr>\n",
              "    <tr>\n",
              "      <th>4</th>\n",
              "      <td>2012-01-09</td>\n",
              "      <td>182.759995</td>\n",
              "      <td>184.369995</td>\n",
              "      <td>177.000000</td>\n",
              "      <td>178.559998</td>\n",
              "      <td>178.559998</td>\n",
              "      <td>5056900</td>\n",
              "    </tr>\n",
              "  </tbody>\n",
              "</table>\n",
              "</div>"
            ],
            "text/plain": [
              "         Date        Open        High         Low       Close   Adj Close  \\\n",
              "0  2012-01-03  175.889999  179.479996  175.550003  179.029999  179.029999   \n",
              "1  2012-01-04  179.210007  180.500000  176.070007  177.509995  177.509995   \n",
              "2  2012-01-05  175.940002  178.250000  174.050003  177.610001  177.610001   \n",
              "3  2012-01-06  178.070007  184.649994  177.500000  182.610001  182.610001   \n",
              "4  2012-01-09  182.759995  184.369995  177.000000  178.559998  178.559998   \n",
              "\n",
              "    Volume  \n",
              "0  5110800  \n",
              "1  4205200  \n",
              "2  3809100  \n",
              "3  7008400  \n",
              "4  5056900  "
            ]
          },
          "execution_count": 3,
          "metadata": {},
          "output_type": "execute_result"
        }
      ],
      "source": [
        "df = pd.read_csv(data)\n",
        "df.head()"
      ]
    },
    {
      "cell_type": "code",
      "execution_count": 4,
      "metadata": {
        "colab": {
          "base_uri": "https://localhost:8080/",
          "height": 496
        },
        "id": "U5OE4RCUqPfB",
        "outputId": "fd9c2e9d-53b2-4d68-eeb4-6a8fd9760ce1"
      },
      "outputs": [
        {
          "data": {
            "text/plain": [
              "<matplotlib.legend.Legend at 0x7f7ec500ffa0>"
            ]
          },
          "execution_count": 4,
          "metadata": {},
          "output_type": "execute_result"
        },
        {
          "data": {
            "image/png": "[encoded data removed]",
            "text/plain": [
              "<Figure size 1440x576 with 1 Axes>"
            ]
          },
          "metadata": {},
          "output_type": "display_data"
        }
      ],
      "source": [
        "df['Date'] = pd.to_datetime(df.Date,format='%Y-%m-%d')\n",
        "df.index = df['Date']\n",
        "plt.figure(figsize=(20,8))\n",
        "plt.plot(df['Close'], label='Close Price')\n",
        "plt.xlabel('Year')\n",
        "plt.ylabel('Close Price') \n",
        "plt.title('Close Price')\n",
        "plt.legend() "
      ]
    },
    {
      "cell_type": "code",
      "execution_count": 5,
      "metadata": {
        "colab": {
          "base_uri": "https://localhost:8080/"
        },
        "id": "jEfp7Vqrq-_h",
        "outputId": "d67d150e-cde9-401d-a096-611641cef9d6"
      },
      "outputs": [
        {
          "name": "stderr",
          "output_type": "stream",
          "text": [
            "/home/codevardhan/.env-list/mach-env/lib/python3.9/site-packages/pandas/core/frame.py:4906: SettingWithCopyWarning: \n",
            "A value is trying to be set on a copy of a slice from a DataFrame\n",
            "\n",
            "See the caveats in the documentation: https://pandas.pydata.org/pandas-docs/stable/user_guide/indexing.html#returning-a-view-versus-a-copy\n",
            "  return super().drop(\n"
          ]
        }
      ],
      "source": [
        "features = [\"Date\", \"Close\"]\n",
        "all_data = df[features]\n",
        "all_data.index = all_data.Date\n",
        "all_data.drop('Date', axis=1, inplace=True)"
      ]
    },
    {
      "cell_type": "code",
      "execution_count": 6,
      "metadata": {
        "colab": {
          "base_uri": "https://localhost:8080/"
        },
        "id": "EW8N4Tq0rfev",
        "outputId": "ee3de299-136a-4008-b72a-e002f9da2cad"
      },
      "outputs": [
        {
          "name": "stdout",
          "output_type": "stream",
          "text": [
            "(2603, 1)\n"
          ]
        },
        {
          "data": {
            "text/html": [
              "<div>\n",
              "<style scoped>\n",
              "    .dataframe tbody tr th:only-of-type {\n",
              "        vertical-align: middle;\n",
              "    }\n",
              "\n",
              "    .dataframe tbody tr th {\n",
              "        vertical-align: top;\n",
              "    }\n",
              "\n",
              "    .dataframe thead th {\n",
              "        text-align: right;\n",
              "    }\n",
              "</style>\n",
              "<table border=\"1\" class=\"dataframe\">\n",
              "  <thead>\n",
              "    <tr style=\"text-align: right;\">\n",
              "      <th></th>\n",
              "      <th>Close</th>\n",
              "    </tr>\n",
              "    <tr>\n",
              "      <th>Date</th>\n",
              "      <th></th>\n",
              "    </tr>\n",
              "  </thead>\n",
              "  <tbody>\n",
              "    <tr>\n",
              "      <th>2012-01-03</th>\n",
              "      <td>179.029999</td>\n",
              "    </tr>\n",
              "    <tr>\n",
              "      <th>2012-01-04</th>\n",
              "      <td>177.509995</td>\n",
              "    </tr>\n",
              "    <tr>\n",
              "      <th>2012-01-05</th>\n",
              "      <td>177.610001</td>\n",
              "    </tr>\n",
              "    <tr>\n",
              "      <th>2012-01-06</th>\n",
              "      <td>182.610001</td>\n",
              "    </tr>\n",
              "    <tr>\n",
              "      <th>2012-01-09</th>\n",
              "      <td>178.559998</td>\n",
              "    </tr>\n",
              "  </tbody>\n",
              "</table>\n",
              "</div>"
            ],
            "text/plain": [
              "                 Close\n",
              "Date                  \n",
              "2012-01-03  179.029999\n",
              "2012-01-04  177.509995\n",
              "2012-01-05  177.610001\n",
              "2012-01-06  182.610001\n",
              "2012-01-09  178.559998"
            ]
          },
          "execution_count": 6,
          "metadata": {},
          "output_type": "execute_result"
        }
      ],
      "source": [
        "print(all_data.shape)\n",
        "all_data.head()\n"
      ]
    },
    {
      "cell_type": "markdown",
      "metadata": {},
      "source": [
        "## Loading sentiment data and augmenting training data"
      ]
    },
    {
      "cell_type": "code",
      "execution_count": 7,
      "metadata": {},
      "outputs": [],
      "source": [
        "tokenizer = Tokenizer()\n",
        "\n",
        "with open(\"sentiment_analysis_models/tokenizer.pkl\", \"rb\") as handle:\n",
        "    tokenizer = pickle.load(handle)"
      ]
    },
    {
      "cell_type": "code",
      "execution_count": 8,
      "metadata": {},
      "outputs": [
        {
          "name": "stderr",
          "output_type": "stream",
          "text": [
            "2022-05-06 12:55:56.073256: E tensorflow/stream_executor/cuda/cuda_driver.cc:271] failed call to cuInit: CUDA_ERROR_NO_DEVICE: no CUDA-capable device is detected\n",
            "2022-05-06 12:55:56.073289: I tensorflow/stream_executor/cuda/cuda_diagnostics.cc:156] kernel driver does not appear to be running on this host (pop-os): /proc/driver/nvidia/version does not exist\n",
            "2022-05-06 12:55:56.075713: I tensorflow/core/platform/cpu_feature_guard.cc:151] This TensorFlow binary is optimized with oneAPI Deep Neural Network Library (oneDNN) to use the following CPU instructions in performance-critical operations:  AVX2 FMA\n",
            "To enable them in other operations, rebuild TensorFlow with the appropriate compiler flags.\n"
          ]
        },
        {
          "name": "stdout",
          "output_type": "stream",
          "text": [
            "0.08411294221878052\n"
          ]
        }
      ],
      "source": [
        "# function that uses the model to predict score\n",
        "def get_score(text):\n",
        "    model = load_model(\"sentiment_analysis_models/model.h5\")\n",
        "    # Tokenize text\n",
        "    tokenized_text = pad_sequences(tokenizer.texts_to_sequences([str(text)]), maxlen=300)\n",
        "    # Predict\n",
        "    score = model.predict([tokenized_text])[0]\n",
        "    # Decode sentiment\n",
        "    return float(score)\n",
        "    \n",
        "print(get_score(\"idk what to do\"))"
      ]
    },
    {
      "cell_type": "code",
      "execution_count": 9,
      "metadata": {},
      "outputs": [
        {
          "data": {
            "text/html": [
              "<div>\n",
              "<style scoped>\n",
              "    .dataframe tbody tr th:only-of-type {\n",
              "        vertical-align: middle;\n",
              "    }\n",
              "\n",
              "    .dataframe tbody tr th {\n",
              "        vertical-align: top;\n",
              "    }\n",
              "\n",
              "    .dataframe thead th {\n",
              "        text-align: right;\n",
              "    }\n",
              "</style>\n",
              "<table border=\"1\" class=\"dataframe\">\n",
              "  <thead>\n",
              "    <tr style=\"text-align: right;\">\n",
              "      <th></th>\n",
              "      <th>dates</th>\n",
              "      <th>data</th>\n",
              "    </tr>\n",
              "  </thead>\n",
              "  <tbody>\n",
              "    <tr>\n",
              "      <th>0</th>\n",
              "      <td>2022-04-28</td>\n",
              "      <td>k amzn htm k amzn of contentsunited statessecu...</td>\n",
              "    </tr>\n",
              "    <tr>\n",
              "      <th>1</th>\n",
              "      <td>2022-04-14</td>\n",
              "      <td>k htm form k false inc usd xbrli shares usd xb...</td>\n",
              "    </tr>\n",
              "    <tr>\n",
              "      <th>2</th>\n",
              "      <td>2022-04-13</td>\n",
              "      <td>k htm k k false united states securities and e...</td>\n",
              "    </tr>\n",
              "    <tr>\n",
              "      <th>3</th>\n",
              "      <td>2022-03-09</td>\n",
              "      <td>k amzn htm k amzn of contentsunited statessecu...</td>\n",
              "    </tr>\n",
              "    <tr>\n",
              "      <th>4</th>\n",
              "      <td>2022-02-03</td>\n",
              "      <td>k amzn htm k amzn of contentsunited statessecu...</td>\n",
              "    </tr>\n",
              "  </tbody>\n",
              "</table>\n",
              "</div>"
            ],
            "text/plain": [
              "        dates                                               data\n",
              "0  2022-04-28  k amzn htm k amzn of contentsunited statessecu...\n",
              "1  2022-04-14  k htm form k false inc usd xbrli shares usd xb...\n",
              "2  2022-04-13  k htm k k false united states securities and e...\n",
              "3  2022-03-09  k amzn htm k amzn of contentsunited statessecu...\n",
              "4  2022-02-03  k amzn htm k amzn of contentsunited statessecu..."
            ]
          },
          "execution_count": 9,
          "metadata": {},
          "output_type": "execute_result"
        }
      ],
      "source": [
        "sec_data=pd.concat([pd.read_csv('output/sec_8k.csv'), pd.read_csv('output/sec_10k.csv')])\n",
        "sec_data.head()"
      ]
    },
    {
      "cell_type": "code",
      "execution_count": 10,
      "metadata": {},
      "outputs": [
        {
          "name": "stdout",
          "output_type": "stream",
          "text": [
            "WARNING:tensorflow:5 out of the last 5 calls to <function Model.make_predict_function.<locals>.predict_function at 0x7f7ea87ab670> triggered tf.function retracing. Tracing is expensive and the excessive number of tracings could be due to (1) creating @tf.function repeatedly in a loop, (2) passing tensors with different shapes, (3) passing Python objects instead of tensors. For (1), please define your @tf.function outside of the loop. For (2), @tf.function has experimental_relax_shapes=True option that relaxes argument shapes that can avoid unnecessary retracing. For (3), please refer to https://www.tensorflow.org/guide/function#controlling_retracing and https://www.tensorflow.org/api_docs/python/tf/function for  more details.\n",
            "WARNING:tensorflow:6 out of the last 6 calls to <function Model.make_predict_function.<locals>.predict_function at 0x7f7eb8257940> triggered tf.function retracing. Tracing is expensive and the excessive number of tracings could be due to (1) creating @tf.function repeatedly in a loop, (2) passing tensors with different shapes, (3) passing Python objects instead of tensors. For (1), please define your @tf.function outside of the loop. For (2), @tf.function has experimental_relax_shapes=True option that relaxes argument shapes that can avoid unnecessary retracing. For (3), please refer to https://www.tensorflow.org/guide/function#controlling_retracing and https://www.tensorflow.org/api_docs/python/tf/function for  more details.\n"
          ]
        },
        {
          "ename": "KeyboardInterrupt",
          "evalue": "",
          "output_type": "error",
          "traceback": [
            "\u001b[0;31m---------------------------------------------------------------------------\u001b[0m",
            "\u001b[0;31mKeyboardInterrupt\u001b[0m                         Traceback (most recent call last)",
            "\u001b[1;32m/home/codevardhan/uni/S6/Financial/Project/stock-price-prediction/Prediction_with_sentiment.ipynb Cell 14'\u001b[0m in \u001b[0;36m<module>\u001b[0;34m\u001b[0m\n\u001b[0;32m----> <a href='vscode-notebook-cell:/home/codevardhan/uni/S6/Financial/Project/stock-price-prediction/Prediction_with_sentiment.ipynb#ch0000014?line=0'>1</a>\u001b[0m sec_data[\u001b[39m\"\u001b[39m\u001b[39msentiment\u001b[39m\u001b[39m\"\u001b[39m] \u001b[39m=\u001b[39m sec_data[\u001b[39m\"\u001b[39;49m\u001b[39mdata\u001b[39;49m\u001b[39m\"\u001b[39;49m]\u001b[39m.\u001b[39;49mapply(\u001b[39mlambda\u001b[39;49;00m x: get_score(x))\n\u001b[1;32m      <a href='vscode-notebook-cell:/home/codevardhan/uni/S6/Financial/Project/stock-price-prediction/Prediction_with_sentiment.ipynb#ch0000014?line=1'>2</a>\u001b[0m sec_data\u001b[39m.\u001b[39mhead()\n",
            "File \u001b[0;32m~/.env-list/mach-env/lib/python3.9/site-packages/pandas/core/series.py:4357\u001b[0m, in \u001b[0;36mSeries.apply\u001b[0;34m(self, func, convert_dtype, args, **kwargs)\u001b[0m\n\u001b[1;32m   <a href='file:///home/codevardhan/.env-list/mach-env/lib/python3.9/site-packages/pandas/core/series.py?line=4246'>4247</a>\u001b[0m \u001b[39mdef\u001b[39;00m \u001b[39mapply\u001b[39m(\n\u001b[1;32m   <a href='file:///home/codevardhan/.env-list/mach-env/lib/python3.9/site-packages/pandas/core/series.py?line=4247'>4248</a>\u001b[0m     \u001b[39mself\u001b[39m,\n\u001b[1;32m   <a href='file:///home/codevardhan/.env-list/mach-env/lib/python3.9/site-packages/pandas/core/series.py?line=4248'>4249</a>\u001b[0m     func: AggFuncType,\n\u001b[0;32m   (...)\u001b[0m\n\u001b[1;32m   <a href='file:///home/codevardhan/.env-list/mach-env/lib/python3.9/site-packages/pandas/core/series.py?line=4251'>4252</a>\u001b[0m     \u001b[39m*\u001b[39m\u001b[39m*\u001b[39mkwargs,\n\u001b[1;32m   <a href='file:///home/codevardhan/.env-list/mach-env/lib/python3.9/site-packages/pandas/core/series.py?line=4252'>4253</a>\u001b[0m ) \u001b[39m-\u001b[39m\u001b[39m>\u001b[39m FrameOrSeriesUnion:\n\u001b[1;32m   <a href='file:///home/codevardhan/.env-list/mach-env/lib/python3.9/site-packages/pandas/core/series.py?line=4253'>4254</a>\u001b[0m     \u001b[39m\"\"\"\u001b[39;00m\n\u001b[1;32m   <a href='file:///home/codevardhan/.env-list/mach-env/lib/python3.9/site-packages/pandas/core/series.py?line=4254'>4255</a>\u001b[0m \u001b[39m    Invoke function on values of Series.\u001b[39;00m\n\u001b[1;32m   <a href='file:///home/codevardhan/.env-list/mach-env/lib/python3.9/site-packages/pandas/core/series.py?line=4255'>4256</a>\u001b[0m \n\u001b[0;32m   (...)\u001b[0m\n\u001b[1;32m   <a href='file:///home/codevardhan/.env-list/mach-env/lib/python3.9/site-packages/pandas/core/series.py?line=4354'>4355</a>\u001b[0m \u001b[39m    dtype: float64\u001b[39;00m\n\u001b[1;32m   <a href='file:///home/codevardhan/.env-list/mach-env/lib/python3.9/site-packages/pandas/core/series.py?line=4355'>4356</a>\u001b[0m \u001b[39m    \"\"\"\u001b[39;00m\n\u001b[0;32m-> <a href='file:///home/codevardhan/.env-list/mach-env/lib/python3.9/site-packages/pandas/core/series.py?line=4356'>4357</a>\u001b[0m     \u001b[39mreturn\u001b[39;00m SeriesApply(\u001b[39mself\u001b[39;49m, func, convert_dtype, args, kwargs)\u001b[39m.\u001b[39;49mapply()\n",
            "File \u001b[0;32m~/.env-list/mach-env/lib/python3.9/site-packages/pandas/core/apply.py:1043\u001b[0m, in \u001b[0;36mSeriesApply.apply\u001b[0;34m(self)\u001b[0m\n\u001b[1;32m   <a href='file:///home/codevardhan/.env-list/mach-env/lib/python3.9/site-packages/pandas/core/apply.py?line=1038'>1039</a>\u001b[0m \u001b[39mif\u001b[39;00m \u001b[39misinstance\u001b[39m(\u001b[39mself\u001b[39m\u001b[39m.\u001b[39mf, \u001b[39mstr\u001b[39m):\n\u001b[1;32m   <a href='file:///home/codevardhan/.env-list/mach-env/lib/python3.9/site-packages/pandas/core/apply.py?line=1039'>1040</a>\u001b[0m     \u001b[39m# if we are a string, try to dispatch\u001b[39;00m\n\u001b[1;32m   <a href='file:///home/codevardhan/.env-list/mach-env/lib/python3.9/site-packages/pandas/core/apply.py?line=1040'>1041</a>\u001b[0m     \u001b[39mreturn\u001b[39;00m \u001b[39mself\u001b[39m\u001b[39m.\u001b[39mapply_str()\n\u001b[0;32m-> <a href='file:///home/codevardhan/.env-list/mach-env/lib/python3.9/site-packages/pandas/core/apply.py?line=1042'>1043</a>\u001b[0m \u001b[39mreturn\u001b[39;00m \u001b[39mself\u001b[39;49m\u001b[39m.\u001b[39;49mapply_standard()\n",
            "File \u001b[0;32m~/.env-list/mach-env/lib/python3.9/site-packages/pandas/core/apply.py:1098\u001b[0m, in \u001b[0;36mSeriesApply.apply_standard\u001b[0;34m(self)\u001b[0m\n\u001b[1;32m   <a href='file:///home/codevardhan/.env-list/mach-env/lib/python3.9/site-packages/pandas/core/apply.py?line=1091'>1092</a>\u001b[0m         values \u001b[39m=\u001b[39m obj\u001b[39m.\u001b[39mastype(\u001b[39mobject\u001b[39m)\u001b[39m.\u001b[39m_values\n\u001b[1;32m   <a href='file:///home/codevardhan/.env-list/mach-env/lib/python3.9/site-packages/pandas/core/apply.py?line=1092'>1093</a>\u001b[0m         \u001b[39m# error: Argument 2 to \"map_infer\" has incompatible type\u001b[39;00m\n\u001b[1;32m   <a href='file:///home/codevardhan/.env-list/mach-env/lib/python3.9/site-packages/pandas/core/apply.py?line=1093'>1094</a>\u001b[0m         \u001b[39m# \"Union[Callable[..., Any], str, List[Union[Callable[..., Any], str]],\u001b[39;00m\n\u001b[1;32m   <a href='file:///home/codevardhan/.env-list/mach-env/lib/python3.9/site-packages/pandas/core/apply.py?line=1094'>1095</a>\u001b[0m         \u001b[39m# Dict[Hashable, Union[Union[Callable[..., Any], str],\u001b[39;00m\n\u001b[1;32m   <a href='file:///home/codevardhan/.env-list/mach-env/lib/python3.9/site-packages/pandas/core/apply.py?line=1095'>1096</a>\u001b[0m         \u001b[39m# List[Union[Callable[..., Any], str]]]]]\"; expected\u001b[39;00m\n\u001b[1;32m   <a href='file:///home/codevardhan/.env-list/mach-env/lib/python3.9/site-packages/pandas/core/apply.py?line=1096'>1097</a>\u001b[0m         \u001b[39m# \"Callable[[Any], Any]\"\u001b[39;00m\n\u001b[0;32m-> <a href='file:///home/codevardhan/.env-list/mach-env/lib/python3.9/site-packages/pandas/core/apply.py?line=1097'>1098</a>\u001b[0m         mapped \u001b[39m=\u001b[39m lib\u001b[39m.\u001b[39;49mmap_infer(\n\u001b[1;32m   <a href='file:///home/codevardhan/.env-list/mach-env/lib/python3.9/site-packages/pandas/core/apply.py?line=1098'>1099</a>\u001b[0m             values,\n\u001b[1;32m   <a href='file:///home/codevardhan/.env-list/mach-env/lib/python3.9/site-packages/pandas/core/apply.py?line=1099'>1100</a>\u001b[0m             f,  \u001b[39m# type: ignore[arg-type]\u001b[39;49;00m\n\u001b[1;32m   <a href='file:///home/codevardhan/.env-list/mach-env/lib/python3.9/site-packages/pandas/core/apply.py?line=1100'>1101</a>\u001b[0m             convert\u001b[39m=\u001b[39;49m\u001b[39mself\u001b[39;49m\u001b[39m.\u001b[39;49mconvert_dtype,\n\u001b[1;32m   <a href='file:///home/codevardhan/.env-list/mach-env/lib/python3.9/site-packages/pandas/core/apply.py?line=1101'>1102</a>\u001b[0m         )\n\u001b[1;32m   <a href='file:///home/codevardhan/.env-list/mach-env/lib/python3.9/site-packages/pandas/core/apply.py?line=1103'>1104</a>\u001b[0m \u001b[39mif\u001b[39;00m \u001b[39mlen\u001b[39m(mapped) \u001b[39mand\u001b[39;00m \u001b[39misinstance\u001b[39m(mapped[\u001b[39m0\u001b[39m], ABCSeries):\n\u001b[1;32m   <a href='file:///home/codevardhan/.env-list/mach-env/lib/python3.9/site-packages/pandas/core/apply.py?line=1104'>1105</a>\u001b[0m     \u001b[39m# GH 25959 use pd.array instead of tolist\u001b[39;00m\n\u001b[1;32m   <a href='file:///home/codevardhan/.env-list/mach-env/lib/python3.9/site-packages/pandas/core/apply.py?line=1105'>1106</a>\u001b[0m     \u001b[39m# so extension arrays can be used\u001b[39;00m\n\u001b[1;32m   <a href='file:///home/codevardhan/.env-list/mach-env/lib/python3.9/site-packages/pandas/core/apply.py?line=1106'>1107</a>\u001b[0m     \u001b[39mreturn\u001b[39;00m obj\u001b[39m.\u001b[39m_constructor_expanddim(pd_array(mapped), index\u001b[39m=\u001b[39mobj\u001b[39m.\u001b[39mindex)\n",
            "File \u001b[0;32m~/.env-list/mach-env/lib/python3.9/site-packages/pandas/_libs/lib.pyx:2859\u001b[0m, in \u001b[0;36mpandas._libs.lib.map_infer\u001b[0;34m()\u001b[0m\n",
            "\u001b[1;32m/home/codevardhan/uni/S6/Financial/Project/stock-price-prediction/Prediction_with_sentiment.ipynb Cell 14'\u001b[0m in \u001b[0;36m<lambda>\u001b[0;34m(x)\u001b[0m\n\u001b[0;32m----> <a href='vscode-notebook-cell:/home/codevardhan/uni/S6/Financial/Project/stock-price-prediction/Prediction_with_sentiment.ipynb#ch0000014?line=0'>1</a>\u001b[0m sec_data[\u001b[39m\"\u001b[39m\u001b[39msentiment\u001b[39m\u001b[39m\"\u001b[39m] \u001b[39m=\u001b[39m sec_data[\u001b[39m\"\u001b[39m\u001b[39mdata\u001b[39m\u001b[39m\"\u001b[39m]\u001b[39m.\u001b[39mapply(\u001b[39mlambda\u001b[39;00m x: get_score(x))\n\u001b[1;32m      <a href='vscode-notebook-cell:/home/codevardhan/uni/S6/Financial/Project/stock-price-prediction/Prediction_with_sentiment.ipynb#ch0000014?line=1'>2</a>\u001b[0m sec_data\u001b[39m.\u001b[39mhead()\n",
            "\u001b[1;32m/home/codevardhan/uni/S6/Financial/Project/stock-price-prediction/Prediction_with_sentiment.ipynb Cell 12'\u001b[0m in \u001b[0;36mget_score\u001b[0;34m(text)\u001b[0m\n\u001b[1;32m      <a href='vscode-notebook-cell:/home/codevardhan/uni/S6/Financial/Project/stock-price-prediction/Prediction_with_sentiment.ipynb#ch0000012?line=1'>2</a>\u001b[0m \u001b[39mdef\u001b[39;00m \u001b[39mget_score\u001b[39m(text):\n\u001b[0;32m----> <a href='vscode-notebook-cell:/home/codevardhan/uni/S6/Financial/Project/stock-price-prediction/Prediction_with_sentiment.ipynb#ch0000012?line=2'>3</a>\u001b[0m     model \u001b[39m=\u001b[39m load_model(\u001b[39m\"\u001b[39;49m\u001b[39msentiment_analysis_models/model.h5\u001b[39;49m\u001b[39m\"\u001b[39;49m)\n\u001b[1;32m      <a href='vscode-notebook-cell:/home/codevardhan/uni/S6/Financial/Project/stock-price-prediction/Prediction_with_sentiment.ipynb#ch0000012?line=3'>4</a>\u001b[0m     \u001b[39m# Tokenize text\u001b[39;00m\n\u001b[1;32m      <a href='vscode-notebook-cell:/home/codevardhan/uni/S6/Financial/Project/stock-price-prediction/Prediction_with_sentiment.ipynb#ch0000012?line=4'>5</a>\u001b[0m     tokenized_text \u001b[39m=\u001b[39m pad_sequences(tokenizer\u001b[39m.\u001b[39mtexts_to_sequences([\u001b[39mstr\u001b[39m(text)]), maxlen\u001b[39m=\u001b[39m\u001b[39m300\u001b[39m)\n",
            "File \u001b[0;32m~/.env-list/mach-env/lib/python3.9/site-packages/keras/utils/traceback_utils.py:64\u001b[0m, in \u001b[0;36mfilter_traceback.<locals>.error_handler\u001b[0;34m(*args, **kwargs)\u001b[0m\n\u001b[1;32m     <a href='file:///home/codevardhan/.env-list/mach-env/lib/python3.9/site-packages/keras/utils/traceback_utils.py?line=61'>62</a>\u001b[0m filtered_tb \u001b[39m=\u001b[39m \u001b[39mNone\u001b[39;00m\n\u001b[1;32m     <a href='file:///home/codevardhan/.env-list/mach-env/lib/python3.9/site-packages/keras/utils/traceback_utils.py?line=62'>63</a>\u001b[0m \u001b[39mtry\u001b[39;00m:\n\u001b[0;32m---> <a href='file:///home/codevardhan/.env-list/mach-env/lib/python3.9/site-packages/keras/utils/traceback_utils.py?line=63'>64</a>\u001b[0m   \u001b[39mreturn\u001b[39;00m fn(\u001b[39m*\u001b[39;49margs, \u001b[39m*\u001b[39;49m\u001b[39m*\u001b[39;49mkwargs)\n\u001b[1;32m     <a href='file:///home/codevardhan/.env-list/mach-env/lib/python3.9/site-packages/keras/utils/traceback_utils.py?line=64'>65</a>\u001b[0m \u001b[39mexcept\u001b[39;00m \u001b[39mException\u001b[39;00m \u001b[39mas\u001b[39;00m e:  \u001b[39m# pylint: disable=broad-except\u001b[39;00m\n\u001b[1;32m     <a href='file:///home/codevardhan/.env-list/mach-env/lib/python3.9/site-packages/keras/utils/traceback_utils.py?line=65'>66</a>\u001b[0m   filtered_tb \u001b[39m=\u001b[39m _process_traceback_frames(e\u001b[39m.\u001b[39m__traceback__)\n",
            "File \u001b[0;32m~/.env-list/mach-env/lib/python3.9/site-packages/keras/saving/save.py:203\u001b[0m, in \u001b[0;36mload_model\u001b[0;34m(filepath, custom_objects, compile, options)\u001b[0m\n\u001b[1;32m    <a href='file:///home/codevardhan/.env-list/mach-env/lib/python3.9/site-packages/keras/saving/save.py?line=199'>200</a>\u001b[0m \u001b[39mwith\u001b[39;00m load_context\u001b[39m.\u001b[39mload_context(options):\n\u001b[1;32m    <a href='file:///home/codevardhan/.env-list/mach-env/lib/python3.9/site-packages/keras/saving/save.py?line=200'>201</a>\u001b[0m   \u001b[39mif\u001b[39;00m (h5py \u001b[39mis\u001b[39;00m \u001b[39mnot\u001b[39;00m \u001b[39mNone\u001b[39;00m \u001b[39mand\u001b[39;00m\n\u001b[1;32m    <a href='file:///home/codevardhan/.env-list/mach-env/lib/python3.9/site-packages/keras/saving/save.py?line=201'>202</a>\u001b[0m       (\u001b[39misinstance\u001b[39m(filepath, h5py\u001b[39m.\u001b[39mFile) \u001b[39mor\u001b[39;00m h5py\u001b[39m.\u001b[39mis_hdf5(filepath))):\n\u001b[0;32m--> <a href='file:///home/codevardhan/.env-list/mach-env/lib/python3.9/site-packages/keras/saving/save.py?line=202'>203</a>\u001b[0m     \u001b[39mreturn\u001b[39;00m hdf5_format\u001b[39m.\u001b[39;49mload_model_from_hdf5(filepath, custom_objects,\n\u001b[1;32m    <a href='file:///home/codevardhan/.env-list/mach-env/lib/python3.9/site-packages/keras/saving/save.py?line=203'>204</a>\u001b[0m                                             \u001b[39mcompile\u001b[39;49m)\n\u001b[1;32m    <a href='file:///home/codevardhan/.env-list/mach-env/lib/python3.9/site-packages/keras/saving/save.py?line=205'>206</a>\u001b[0m   filepath \u001b[39m=\u001b[39m path_to_string(filepath)\n\u001b[1;32m    <a href='file:///home/codevardhan/.env-list/mach-env/lib/python3.9/site-packages/keras/saving/save.py?line=206'>207</a>\u001b[0m   \u001b[39mif\u001b[39;00m \u001b[39misinstance\u001b[39m(filepath, \u001b[39mstr\u001b[39m):\n",
            "File \u001b[0;32m~/.env-list/mach-env/lib/python3.9/site-packages/keras/saving/hdf5_format.py:181\u001b[0m, in \u001b[0;36mload_model_from_hdf5\u001b[0;34m(filepath, custom_objects, compile)\u001b[0m\n\u001b[1;32m    <a href='file:///home/codevardhan/.env-list/mach-env/lib/python3.9/site-packages/keras/saving/hdf5_format.py?line=178'>179</a>\u001b[0m   model_config \u001b[39m=\u001b[39m model_config\u001b[39m.\u001b[39mdecode(\u001b[39m'\u001b[39m\u001b[39mutf-8\u001b[39m\u001b[39m'\u001b[39m)\n\u001b[1;32m    <a href='file:///home/codevardhan/.env-list/mach-env/lib/python3.9/site-packages/keras/saving/hdf5_format.py?line=179'>180</a>\u001b[0m model_config \u001b[39m=\u001b[39m json_utils\u001b[39m.\u001b[39mdecode(model_config)\n\u001b[0;32m--> <a href='file:///home/codevardhan/.env-list/mach-env/lib/python3.9/site-packages/keras/saving/hdf5_format.py?line=180'>181</a>\u001b[0m model \u001b[39m=\u001b[39m model_config_lib\u001b[39m.\u001b[39;49mmodel_from_config(model_config,\n\u001b[1;32m    <a href='file:///home/codevardhan/.env-list/mach-env/lib/python3.9/site-packages/keras/saving/hdf5_format.py?line=181'>182</a>\u001b[0m                                            custom_objects\u001b[39m=\u001b[39;49mcustom_objects)\n\u001b[1;32m    <a href='file:///home/codevardhan/.env-list/mach-env/lib/python3.9/site-packages/keras/saving/hdf5_format.py?line=183'>184</a>\u001b[0m \u001b[39m# set weights\u001b[39;00m\n\u001b[1;32m    <a href='file:///home/codevardhan/.env-list/mach-env/lib/python3.9/site-packages/keras/saving/hdf5_format.py?line=184'>185</a>\u001b[0m load_weights_from_hdf5_group(f[\u001b[39m'\u001b[39m\u001b[39mmodel_weights\u001b[39m\u001b[39m'\u001b[39m], model)\n",
            "File \u001b[0;32m~/.env-list/mach-env/lib/python3.9/site-packages/keras/saving/model_config.py:52\u001b[0m, in \u001b[0;36mmodel_from_config\u001b[0;34m(config, custom_objects)\u001b[0m\n\u001b[1;32m     <a href='file:///home/codevardhan/.env-list/mach-env/lib/python3.9/site-packages/keras/saving/model_config.py?line=47'>48</a>\u001b[0m   \u001b[39mraise\u001b[39;00m \u001b[39mTypeError\u001b[39;00m(\u001b[39m'\u001b[39m\u001b[39m`model_from_config` expects a dictionary, not a list. \u001b[39m\u001b[39m'\u001b[39m\n\u001b[1;32m     <a href='file:///home/codevardhan/.env-list/mach-env/lib/python3.9/site-packages/keras/saving/model_config.py?line=48'>49</a>\u001b[0m                   \u001b[39mf\u001b[39m\u001b[39m'\u001b[39m\u001b[39mReceived: config=\u001b[39m\u001b[39m{\u001b[39;00mconfig\u001b[39m}\u001b[39;00m\u001b[39m. Did you meant to use \u001b[39m\u001b[39m'\u001b[39m\n\u001b[1;32m     <a href='file:///home/codevardhan/.env-list/mach-env/lib/python3.9/site-packages/keras/saving/model_config.py?line=49'>50</a>\u001b[0m                   \u001b[39m'\u001b[39m\u001b[39m`Sequential.from_config(config)`?\u001b[39m\u001b[39m'\u001b[39m)\n\u001b[1;32m     <a href='file:///home/codevardhan/.env-list/mach-env/lib/python3.9/site-packages/keras/saving/model_config.py?line=50'>51</a>\u001b[0m \u001b[39mfrom\u001b[39;00m \u001b[39mkeras\u001b[39;00m\u001b[39m.\u001b[39;00m\u001b[39mlayers\u001b[39;00m \u001b[39mimport\u001b[39;00m deserialize  \u001b[39m# pylint: disable=g-import-not-at-top\u001b[39;00m\n\u001b[0;32m---> <a href='file:///home/codevardhan/.env-list/mach-env/lib/python3.9/site-packages/keras/saving/model_config.py?line=51'>52</a>\u001b[0m \u001b[39mreturn\u001b[39;00m deserialize(config, custom_objects\u001b[39m=\u001b[39;49mcustom_objects)\n",
            "File \u001b[0;32m~/.env-list/mach-env/lib/python3.9/site-packages/keras/layers/serialization.py:207\u001b[0m, in \u001b[0;36mdeserialize\u001b[0;34m(config, custom_objects)\u001b[0m\n\u001b[1;32m    <a href='file:///home/codevardhan/.env-list/mach-env/lib/python3.9/site-packages/keras/layers/serialization.py?line=169'>170</a>\u001b[0m \u001b[39m\"\"\"Instantiates a layer from a config dictionary.\u001b[39;00m\n\u001b[1;32m    <a href='file:///home/codevardhan/.env-list/mach-env/lib/python3.9/site-packages/keras/layers/serialization.py?line=170'>171</a>\u001b[0m \n\u001b[1;32m    <a href='file:///home/codevardhan/.env-list/mach-env/lib/python3.9/site-packages/keras/layers/serialization.py?line=171'>172</a>\u001b[0m \u001b[39mArgs:\u001b[39;00m\n\u001b[0;32m   (...)\u001b[0m\n\u001b[1;32m    <a href='file:///home/codevardhan/.env-list/mach-env/lib/python3.9/site-packages/keras/layers/serialization.py?line=203'>204</a>\u001b[0m \u001b[39m```\u001b[39;00m\n\u001b[1;32m    <a href='file:///home/codevardhan/.env-list/mach-env/lib/python3.9/site-packages/keras/layers/serialization.py?line=204'>205</a>\u001b[0m \u001b[39m\"\"\"\u001b[39;00m\n\u001b[1;32m    <a href='file:///home/codevardhan/.env-list/mach-env/lib/python3.9/site-packages/keras/layers/serialization.py?line=205'>206</a>\u001b[0m populate_deserializable_objects()\n\u001b[0;32m--> <a href='file:///home/codevardhan/.env-list/mach-env/lib/python3.9/site-packages/keras/layers/serialization.py?line=206'>207</a>\u001b[0m \u001b[39mreturn\u001b[39;00m generic_utils\u001b[39m.\u001b[39;49mdeserialize_keras_object(\n\u001b[1;32m    <a href='file:///home/codevardhan/.env-list/mach-env/lib/python3.9/site-packages/keras/layers/serialization.py?line=207'>208</a>\u001b[0m     config,\n\u001b[1;32m    <a href='file:///home/codevardhan/.env-list/mach-env/lib/python3.9/site-packages/keras/layers/serialization.py?line=208'>209</a>\u001b[0m     module_objects\u001b[39m=\u001b[39;49mLOCAL\u001b[39m.\u001b[39;49mALL_OBJECTS,\n\u001b[1;32m    <a href='file:///home/codevardhan/.env-list/mach-env/lib/python3.9/site-packages/keras/layers/serialization.py?line=209'>210</a>\u001b[0m     custom_objects\u001b[39m=\u001b[39;49mcustom_objects,\n\u001b[1;32m    <a href='file:///home/codevardhan/.env-list/mach-env/lib/python3.9/site-packages/keras/layers/serialization.py?line=210'>211</a>\u001b[0m     printable_module_name\u001b[39m=\u001b[39;49m\u001b[39m'\u001b[39;49m\u001b[39mlayer\u001b[39;49m\u001b[39m'\u001b[39;49m)\n",
            "File \u001b[0;32m~/.env-list/mach-env/lib/python3.9/site-packages/keras/utils/generic_utils.py:678\u001b[0m, in \u001b[0;36mdeserialize_keras_object\u001b[0;34m(identifier, module_objects, custom_objects, printable_module_name)\u001b[0m\n\u001b[1;32m    <a href='file:///home/codevardhan/.env-list/mach-env/lib/python3.9/site-packages/keras/utils/generic_utils.py?line=674'>675</a>\u001b[0m custom_objects \u001b[39m=\u001b[39m custom_objects \u001b[39mor\u001b[39;00m {}\n\u001b[1;32m    <a href='file:///home/codevardhan/.env-list/mach-env/lib/python3.9/site-packages/keras/utils/generic_utils.py?line=676'>677</a>\u001b[0m \u001b[39mif\u001b[39;00m \u001b[39m'\u001b[39m\u001b[39mcustom_objects\u001b[39m\u001b[39m'\u001b[39m \u001b[39min\u001b[39;00m arg_spec\u001b[39m.\u001b[39margs:\n\u001b[0;32m--> <a href='file:///home/codevardhan/.env-list/mach-env/lib/python3.9/site-packages/keras/utils/generic_utils.py?line=677'>678</a>\u001b[0m   deserialized_obj \u001b[39m=\u001b[39m \u001b[39mcls\u001b[39;49m\u001b[39m.\u001b[39;49mfrom_config(\n\u001b[1;32m    <a href='file:///home/codevardhan/.env-list/mach-env/lib/python3.9/site-packages/keras/utils/generic_utils.py?line=678'>679</a>\u001b[0m       cls_config,\n\u001b[1;32m    <a href='file:///home/codevardhan/.env-list/mach-env/lib/python3.9/site-packages/keras/utils/generic_utils.py?line=679'>680</a>\u001b[0m       custom_objects\u001b[39m=\u001b[39;49m\u001b[39mdict\u001b[39;49m(\n\u001b[1;32m    <a href='file:///home/codevardhan/.env-list/mach-env/lib/python3.9/site-packages/keras/utils/generic_utils.py?line=680'>681</a>\u001b[0m           \u001b[39mlist\u001b[39;49m(_GLOBAL_CUSTOM_OBJECTS\u001b[39m.\u001b[39;49mitems()) \u001b[39m+\u001b[39;49m\n\u001b[1;32m    <a href='file:///home/codevardhan/.env-list/mach-env/lib/python3.9/site-packages/keras/utils/generic_utils.py?line=681'>682</a>\u001b[0m           \u001b[39mlist\u001b[39;49m(custom_objects\u001b[39m.\u001b[39;49mitems())))\n\u001b[1;32m    <a href='file:///home/codevardhan/.env-list/mach-env/lib/python3.9/site-packages/keras/utils/generic_utils.py?line=682'>683</a>\u001b[0m \u001b[39melse\u001b[39;00m:\n\u001b[1;32m    <a href='file:///home/codevardhan/.env-list/mach-env/lib/python3.9/site-packages/keras/utils/generic_utils.py?line=683'>684</a>\u001b[0m   \u001b[39mwith\u001b[39;00m CustomObjectScope(custom_objects):\n",
            "File \u001b[0;32m~/.env-list/mach-env/lib/python3.9/site-packages/keras/engine/sequential.py:438\u001b[0m, in \u001b[0;36mSequential.from_config\u001b[0;34m(cls, config, custom_objects)\u001b[0m\n\u001b[1;32m    <a href='file:///home/codevardhan/.env-list/mach-env/lib/python3.9/site-packages/keras/engine/sequential.py?line=434'>435</a>\u001b[0m \u001b[39mfor\u001b[39;00m layer_config \u001b[39min\u001b[39;00m layer_configs:\n\u001b[1;32m    <a href='file:///home/codevardhan/.env-list/mach-env/lib/python3.9/site-packages/keras/engine/sequential.py?line=435'>436</a>\u001b[0m   layer \u001b[39m=\u001b[39m layer_module\u001b[39m.\u001b[39mdeserialize(layer_config,\n\u001b[1;32m    <a href='file:///home/codevardhan/.env-list/mach-env/lib/python3.9/site-packages/keras/engine/sequential.py?line=436'>437</a>\u001b[0m                                    custom_objects\u001b[39m=\u001b[39mcustom_objects)\n\u001b[0;32m--> <a href='file:///home/codevardhan/.env-list/mach-env/lib/python3.9/site-packages/keras/engine/sequential.py?line=437'>438</a>\u001b[0m   model\u001b[39m.\u001b[39;49madd(layer)\n\u001b[1;32m    <a href='file:///home/codevardhan/.env-list/mach-env/lib/python3.9/site-packages/keras/engine/sequential.py?line=438'>439</a>\u001b[0m \u001b[39mif\u001b[39;00m (\u001b[39mnot\u001b[39;00m model\u001b[39m.\u001b[39minputs \u001b[39mand\u001b[39;00m build_input_shape \u001b[39mand\u001b[39;00m\n\u001b[1;32m    <a href='file:///home/codevardhan/.env-list/mach-env/lib/python3.9/site-packages/keras/engine/sequential.py?line=439'>440</a>\u001b[0m     \u001b[39misinstance\u001b[39m(build_input_shape, (\u001b[39mtuple\u001b[39m, \u001b[39mlist\u001b[39m))):\n\u001b[1;32m    <a href='file:///home/codevardhan/.env-list/mach-env/lib/python3.9/site-packages/keras/engine/sequential.py?line=440'>441</a>\u001b[0m   model\u001b[39m.\u001b[39mbuild(build_input_shape)\n",
            "File \u001b[0;32m~/.env-list/mach-env/lib/python3.9/site-packages/tensorflow/python/training/tracking/base.py:530\u001b[0m, in \u001b[0;36mno_automatic_dependency_tracking.<locals>._method_wrapper\u001b[0;34m(self, *args, **kwargs)\u001b[0m\n\u001b[1;32m    <a href='file:///home/codevardhan/.env-list/mach-env/lib/python3.9/site-packages/tensorflow/python/training/tracking/base.py?line=527'>528</a>\u001b[0m \u001b[39mself\u001b[39m\u001b[39m.\u001b[39m_self_setattr_tracking \u001b[39m=\u001b[39m \u001b[39mFalse\u001b[39;00m  \u001b[39m# pylint: disable=protected-access\u001b[39;00m\n\u001b[1;32m    <a href='file:///home/codevardhan/.env-list/mach-env/lib/python3.9/site-packages/tensorflow/python/training/tracking/base.py?line=528'>529</a>\u001b[0m \u001b[39mtry\u001b[39;00m:\n\u001b[0;32m--> <a href='file:///home/codevardhan/.env-list/mach-env/lib/python3.9/site-packages/tensorflow/python/training/tracking/base.py?line=529'>530</a>\u001b[0m   result \u001b[39m=\u001b[39m method(\u001b[39mself\u001b[39;49m, \u001b[39m*\u001b[39;49margs, \u001b[39m*\u001b[39;49m\u001b[39m*\u001b[39;49mkwargs)\n\u001b[1;32m    <a href='file:///home/codevardhan/.env-list/mach-env/lib/python3.9/site-packages/tensorflow/python/training/tracking/base.py?line=530'>531</a>\u001b[0m \u001b[39mfinally\u001b[39;00m:\n\u001b[1;32m    <a href='file:///home/codevardhan/.env-list/mach-env/lib/python3.9/site-packages/tensorflow/python/training/tracking/base.py?line=531'>532</a>\u001b[0m   \u001b[39mself\u001b[39m\u001b[39m.\u001b[39m_self_setattr_tracking \u001b[39m=\u001b[39m previous_value  \u001b[39m# pylint: disable=protected-access\u001b[39;00m\n",
            "File \u001b[0;32m~/.env-list/mach-env/lib/python3.9/site-packages/keras/utils/traceback_utils.py:64\u001b[0m, in \u001b[0;36mfilter_traceback.<locals>.error_handler\u001b[0;34m(*args, **kwargs)\u001b[0m\n\u001b[1;32m     <a href='file:///home/codevardhan/.env-list/mach-env/lib/python3.9/site-packages/keras/utils/traceback_utils.py?line=61'>62</a>\u001b[0m filtered_tb \u001b[39m=\u001b[39m \u001b[39mNone\u001b[39;00m\n\u001b[1;32m     <a href='file:///home/codevardhan/.env-list/mach-env/lib/python3.9/site-packages/keras/utils/traceback_utils.py?line=62'>63</a>\u001b[0m \u001b[39mtry\u001b[39;00m:\n\u001b[0;32m---> <a href='file:///home/codevardhan/.env-list/mach-env/lib/python3.9/site-packages/keras/utils/traceback_utils.py?line=63'>64</a>\u001b[0m   \u001b[39mreturn\u001b[39;00m fn(\u001b[39m*\u001b[39;49margs, \u001b[39m*\u001b[39;49m\u001b[39m*\u001b[39;49mkwargs)\n\u001b[1;32m     <a href='file:///home/codevardhan/.env-list/mach-env/lib/python3.9/site-packages/keras/utils/traceback_utils.py?line=64'>65</a>\u001b[0m \u001b[39mexcept\u001b[39;00m \u001b[39mException\u001b[39;00m \u001b[39mas\u001b[39;00m e:  \u001b[39m# pylint: disable=broad-except\u001b[39;00m\n\u001b[1;32m     <a href='file:///home/codevardhan/.env-list/mach-env/lib/python3.9/site-packages/keras/utils/traceback_utils.py?line=65'>66</a>\u001b[0m   filtered_tb \u001b[39m=\u001b[39m _process_traceback_frames(e\u001b[39m.\u001b[39m__traceback__)\n",
            "File \u001b[0;32m~/.env-list/mach-env/lib/python3.9/site-packages/keras/engine/sequential.py:220\u001b[0m, in \u001b[0;36mSequential.add\u001b[0;34m(self, layer)\u001b[0m\n\u001b[1;32m    <a href='file:///home/codevardhan/.env-list/mach-env/lib/python3.9/site-packages/keras/engine/sequential.py?line=214'>215</a>\u001b[0m     \u001b[39mself\u001b[39m\u001b[39m.\u001b[39m_has_explicit_input_shape \u001b[39m=\u001b[39m \u001b[39mTrue\u001b[39;00m\n\u001b[1;32m    <a href='file:///home/codevardhan/.env-list/mach-env/lib/python3.9/site-packages/keras/engine/sequential.py?line=216'>217</a>\u001b[0m \u001b[39melif\u001b[39;00m \u001b[39mself\u001b[39m\u001b[39m.\u001b[39moutputs:\n\u001b[1;32m    <a href='file:///home/codevardhan/.env-list/mach-env/lib/python3.9/site-packages/keras/engine/sequential.py?line=217'>218</a>\u001b[0m   \u001b[39m# If the model is being built continuously on top of an input layer:\u001b[39;00m\n\u001b[1;32m    <a href='file:///home/codevardhan/.env-list/mach-env/lib/python3.9/site-packages/keras/engine/sequential.py?line=218'>219</a>\u001b[0m   \u001b[39m# refresh its output.\u001b[39;00m\n\u001b[0;32m--> <a href='file:///home/codevardhan/.env-list/mach-env/lib/python3.9/site-packages/keras/engine/sequential.py?line=219'>220</a>\u001b[0m   output_tensor \u001b[39m=\u001b[39m layer(\u001b[39mself\u001b[39;49m\u001b[39m.\u001b[39;49moutputs[\u001b[39m0\u001b[39;49m])\n\u001b[1;32m    <a href='file:///home/codevardhan/.env-list/mach-env/lib/python3.9/site-packages/keras/engine/sequential.py?line=220'>221</a>\u001b[0m   \u001b[39mif\u001b[39;00m \u001b[39mlen\u001b[39m(tf\u001b[39m.\u001b[39mnest\u001b[39m.\u001b[39mflatten(output_tensor)) \u001b[39m!=\u001b[39m \u001b[39m1\u001b[39m:\n\u001b[1;32m    <a href='file:///home/codevardhan/.env-list/mach-env/lib/python3.9/site-packages/keras/engine/sequential.py?line=221'>222</a>\u001b[0m     \u001b[39mraise\u001b[39;00m \u001b[39mValueError\u001b[39;00m(SINGLE_LAYER_OUTPUT_ERROR_MSG)\n",
            "File \u001b[0;32m~/.env-list/mach-env/lib/python3.9/site-packages/keras/utils/traceback_utils.py:64\u001b[0m, in \u001b[0;36mfilter_traceback.<locals>.error_handler\u001b[0;34m(*args, **kwargs)\u001b[0m\n\u001b[1;32m     <a href='file:///home/codevardhan/.env-list/mach-env/lib/python3.9/site-packages/keras/utils/traceback_utils.py?line=61'>62</a>\u001b[0m filtered_tb \u001b[39m=\u001b[39m \u001b[39mNone\u001b[39;00m\n\u001b[1;32m     <a href='file:///home/codevardhan/.env-list/mach-env/lib/python3.9/site-packages/keras/utils/traceback_utils.py?line=62'>63</a>\u001b[0m \u001b[39mtry\u001b[39;00m:\n\u001b[0;32m---> <a href='file:///home/codevardhan/.env-list/mach-env/lib/python3.9/site-packages/keras/utils/traceback_utils.py?line=63'>64</a>\u001b[0m   \u001b[39mreturn\u001b[39;00m fn(\u001b[39m*\u001b[39;49margs, \u001b[39m*\u001b[39;49m\u001b[39m*\u001b[39;49mkwargs)\n\u001b[1;32m     <a href='file:///home/codevardhan/.env-list/mach-env/lib/python3.9/site-packages/keras/utils/traceback_utils.py?line=64'>65</a>\u001b[0m \u001b[39mexcept\u001b[39;00m \u001b[39mException\u001b[39;00m \u001b[39mas\u001b[39;00m e:  \u001b[39m# pylint: disable=broad-except\u001b[39;00m\n\u001b[1;32m     <a href='file:///home/codevardhan/.env-list/mach-env/lib/python3.9/site-packages/keras/utils/traceback_utils.py?line=65'>66</a>\u001b[0m   filtered_tb \u001b[39m=\u001b[39m _process_traceback_frames(e\u001b[39m.\u001b[39m__traceback__)\n",
            "File \u001b[0;32m~/.env-list/mach-env/lib/python3.9/site-packages/keras/engine/base_layer.py:1019\u001b[0m, in \u001b[0;36mLayer.__call__\u001b[0;34m(self, *args, **kwargs)\u001b[0m\n\u001b[1;32m   <a href='file:///home/codevardhan/.env-list/mach-env/lib/python3.9/site-packages/keras/engine/base_layer.py?line=1012'>1013</a>\u001b[0m \u001b[39m# Functional Model construction mode is invoked when `Layer`s are called on\u001b[39;00m\n\u001b[1;32m   <a href='file:///home/codevardhan/.env-list/mach-env/lib/python3.9/site-packages/keras/engine/base_layer.py?line=1013'>1014</a>\u001b[0m \u001b[39m# symbolic `KerasTensor`s, i.e.:\u001b[39;00m\n\u001b[1;32m   <a href='file:///home/codevardhan/.env-list/mach-env/lib/python3.9/site-packages/keras/engine/base_layer.py?line=1014'>1015</a>\u001b[0m \u001b[39m# >> inputs = tf.keras.Input(10)\u001b[39;00m\n\u001b[1;32m   <a href='file:///home/codevardhan/.env-list/mach-env/lib/python3.9/site-packages/keras/engine/base_layer.py?line=1015'>1016</a>\u001b[0m \u001b[39m# >> outputs = MyLayer()(inputs)  # Functional construction mode.\u001b[39;00m\n\u001b[1;32m   <a href='file:///home/codevardhan/.env-list/mach-env/lib/python3.9/site-packages/keras/engine/base_layer.py?line=1016'>1017</a>\u001b[0m \u001b[39m# >> model = tf.keras.Model(inputs, outputs)\u001b[39;00m\n\u001b[1;32m   <a href='file:///home/codevardhan/.env-list/mach-env/lib/python3.9/site-packages/keras/engine/base_layer.py?line=1017'>1018</a>\u001b[0m \u001b[39mif\u001b[39;00m _in_functional_construction_mode(\u001b[39mself\u001b[39m, inputs, args, kwargs, input_list):\n\u001b[0;32m-> <a href='file:///home/codevardhan/.env-list/mach-env/lib/python3.9/site-packages/keras/engine/base_layer.py?line=1018'>1019</a>\u001b[0m   \u001b[39mreturn\u001b[39;00m \u001b[39mself\u001b[39;49m\u001b[39m.\u001b[39;49m_functional_construction_call(inputs, args, kwargs,\n\u001b[1;32m   <a href='file:///home/codevardhan/.env-list/mach-env/lib/python3.9/site-packages/keras/engine/base_layer.py?line=1019'>1020</a>\u001b[0m                                             input_list)\n\u001b[1;32m   <a href='file:///home/codevardhan/.env-list/mach-env/lib/python3.9/site-packages/keras/engine/base_layer.py?line=1021'>1022</a>\u001b[0m \u001b[39m# Maintains info about the `Layer.call` stack.\u001b[39;00m\n\u001b[1;32m   <a href='file:///home/codevardhan/.env-list/mach-env/lib/python3.9/site-packages/keras/engine/base_layer.py?line=1022'>1023</a>\u001b[0m call_context \u001b[39m=\u001b[39m base_layer_utils\u001b[39m.\u001b[39mcall_context()\n",
            "File \u001b[0;32m~/.env-list/mach-env/lib/python3.9/site-packages/keras/engine/base_layer.py:1160\u001b[0m, in \u001b[0;36mLayer._functional_construction_call\u001b[0;34m(self, inputs, args, kwargs, input_list)\u001b[0m\n\u001b[1;32m   <a href='file:///home/codevardhan/.env-list/mach-env/lib/python3.9/site-packages/keras/engine/base_layer.py?line=1154'>1155</a>\u001b[0m     training_arg_passed_by_framework \u001b[39m=\u001b[39m \u001b[39mTrue\u001b[39;00m\n\u001b[1;32m   <a href='file:///home/codevardhan/.env-list/mach-env/lib/python3.9/site-packages/keras/engine/base_layer.py?line=1156'>1157</a>\u001b[0m \u001b[39mwith\u001b[39;00m call_context\u001b[39m.\u001b[39menter(\n\u001b[1;32m   <a href='file:///home/codevardhan/.env-list/mach-env/lib/python3.9/site-packages/keras/engine/base_layer.py?line=1157'>1158</a>\u001b[0m     layer\u001b[39m=\u001b[39m\u001b[39mself\u001b[39m, inputs\u001b[39m=\u001b[39minputs, build_graph\u001b[39m=\u001b[39m\u001b[39mTrue\u001b[39;00m, training\u001b[39m=\u001b[39mtraining_value):\n\u001b[1;32m   <a href='file:///home/codevardhan/.env-list/mach-env/lib/python3.9/site-packages/keras/engine/base_layer.py?line=1158'>1159</a>\u001b[0m   \u001b[39m# Check input assumptions set after layer building, e.g. input shape.\u001b[39;00m\n\u001b[0;32m-> <a href='file:///home/codevardhan/.env-list/mach-env/lib/python3.9/site-packages/keras/engine/base_layer.py?line=1159'>1160</a>\u001b[0m   outputs \u001b[39m=\u001b[39m \u001b[39mself\u001b[39;49m\u001b[39m.\u001b[39;49m_keras_tensor_symbolic_call(\n\u001b[1;32m   <a href='file:///home/codevardhan/.env-list/mach-env/lib/python3.9/site-packages/keras/engine/base_layer.py?line=1160'>1161</a>\u001b[0m       inputs, input_masks, args, kwargs)\n\u001b[1;32m   <a href='file:///home/codevardhan/.env-list/mach-env/lib/python3.9/site-packages/keras/engine/base_layer.py?line=1162'>1163</a>\u001b[0m   \u001b[39mif\u001b[39;00m outputs \u001b[39mis\u001b[39;00m \u001b[39mNone\u001b[39;00m:\n\u001b[1;32m   <a href='file:///home/codevardhan/.env-list/mach-env/lib/python3.9/site-packages/keras/engine/base_layer.py?line=1163'>1164</a>\u001b[0m     \u001b[39mraise\u001b[39;00m \u001b[39mValueError\u001b[39;00m(\u001b[39m'\u001b[39m\u001b[39mA layer\u001b[39m\u001b[39m\\'\u001b[39;00m\u001b[39ms `call` method should return a \u001b[39m\u001b[39m'\u001b[39m\n\u001b[1;32m   <a href='file:///home/codevardhan/.env-list/mach-env/lib/python3.9/site-packages/keras/engine/base_layer.py?line=1164'>1165</a>\u001b[0m                      \u001b[39m'\u001b[39m\u001b[39mTensor or a list of Tensors, not None \u001b[39m\u001b[39m'\u001b[39m\n\u001b[1;32m   <a href='file:///home/codevardhan/.env-list/mach-env/lib/python3.9/site-packages/keras/engine/base_layer.py?line=1165'>1166</a>\u001b[0m                      \u001b[39m'\u001b[39m\u001b[39m(layer: \u001b[39m\u001b[39m'\u001b[39m \u001b[39m+\u001b[39m \u001b[39mself\u001b[39m\u001b[39m.\u001b[39mname \u001b[39m+\u001b[39m \u001b[39m'\u001b[39m\u001b[39m).\u001b[39m\u001b[39m'\u001b[39m)\n",
            "File \u001b[0;32m~/.env-list/mach-env/lib/python3.9/site-packages/keras/engine/base_layer.py:885\u001b[0m, in \u001b[0;36mLayer._keras_tensor_symbolic_call\u001b[0;34m(self, inputs, input_masks, args, kwargs)\u001b[0m\n\u001b[1;32m    <a href='file:///home/codevardhan/.env-list/mach-env/lib/python3.9/site-packages/keras/engine/base_layer.py?line=882'>883</a>\u001b[0m   \u001b[39mreturn\u001b[39;00m tf\u001b[39m.\u001b[39mnest\u001b[39m.\u001b[39mmap_structure(keras_tensor\u001b[39m.\u001b[39mKerasTensor, output_signature)\n\u001b[1;32m    <a href='file:///home/codevardhan/.env-list/mach-env/lib/python3.9/site-packages/keras/engine/base_layer.py?line=883'>884</a>\u001b[0m \u001b[39melse\u001b[39;00m:\n\u001b[0;32m--> <a href='file:///home/codevardhan/.env-list/mach-env/lib/python3.9/site-packages/keras/engine/base_layer.py?line=884'>885</a>\u001b[0m   \u001b[39mreturn\u001b[39;00m \u001b[39mself\u001b[39;49m\u001b[39m.\u001b[39;49m_infer_output_signature(inputs, args, kwargs, input_masks)\n",
            "File \u001b[0;32m~/.env-list/mach-env/lib/python3.9/site-packages/keras/engine/base_layer.py:928\u001b[0m, in \u001b[0;36mLayer._infer_output_signature\u001b[0;34m(self, inputs, args, kwargs, input_masks)\u001b[0m\n\u001b[1;32m    <a href='file:///home/codevardhan/.env-list/mach-env/lib/python3.9/site-packages/keras/engine/base_layer.py?line=921'>922</a>\u001b[0m \u001b[39mwith\u001b[39;00m backend\u001b[39m.\u001b[39mname_scope(\u001b[39mself\u001b[39m\u001b[39m.\u001b[39m_name_scope()):  \u001b[39m# pylint: disable=not-callable\u001b[39;00m\n\u001b[1;32m    <a href='file:///home/codevardhan/.env-list/mach-env/lib/python3.9/site-packages/keras/engine/base_layer.py?line=922'>923</a>\u001b[0m   \u001b[39mwith\u001b[39;00m autocast_variable\u001b[39m.\u001b[39menable_auto_cast_variables(\n\u001b[1;32m    <a href='file:///home/codevardhan/.env-list/mach-env/lib/python3.9/site-packages/keras/engine/base_layer.py?line=923'>924</a>\u001b[0m       \u001b[39mself\u001b[39m\u001b[39m.\u001b[39m_compute_dtype_object):\n\u001b[1;32m    <a href='file:///home/codevardhan/.env-list/mach-env/lib/python3.9/site-packages/keras/engine/base_layer.py?line=924'>925</a>\u001b[0m     \u001b[39m# Build layer if applicable (if the `build` method has been\u001b[39;00m\n\u001b[1;32m    <a href='file:///home/codevardhan/.env-list/mach-env/lib/python3.9/site-packages/keras/engine/base_layer.py?line=925'>926</a>\u001b[0m     \u001b[39m# overridden).\u001b[39;00m\n\u001b[1;32m    <a href='file:///home/codevardhan/.env-list/mach-env/lib/python3.9/site-packages/keras/engine/base_layer.py?line=926'>927</a>\u001b[0m     \u001b[39m# TODO(kaftan): do we maybe_build here, or have we already done it?\u001b[39;00m\n\u001b[0;32m--> <a href='file:///home/codevardhan/.env-list/mach-env/lib/python3.9/site-packages/keras/engine/base_layer.py?line=927'>928</a>\u001b[0m     \u001b[39mself\u001b[39;49m\u001b[39m.\u001b[39;49m_maybe_build(inputs)\n\u001b[1;32m    <a href='file:///home/codevardhan/.env-list/mach-env/lib/python3.9/site-packages/keras/engine/base_layer.py?line=928'>929</a>\u001b[0m     inputs \u001b[39m=\u001b[39m \u001b[39mself\u001b[39m\u001b[39m.\u001b[39m_maybe_cast_inputs(inputs)\n\u001b[1;32m    <a href='file:///home/codevardhan/.env-list/mach-env/lib/python3.9/site-packages/keras/engine/base_layer.py?line=929'>930</a>\u001b[0m     outputs \u001b[39m=\u001b[39m call_fn(inputs, \u001b[39m*\u001b[39margs, \u001b[39m*\u001b[39m\u001b[39m*\u001b[39mkwargs)\n",
            "File \u001b[0;32m~/.env-list/mach-env/lib/python3.9/site-packages/keras/engine/base_layer.py:2724\u001b[0m, in \u001b[0;36mLayer._maybe_build\u001b[0;34m(self, inputs)\u001b[0m\n\u001b[1;32m   <a href='file:///home/codevardhan/.env-list/mach-env/lib/python3.9/site-packages/keras/engine/base_layer.py?line=2718'>2719</a>\u001b[0m \u001b[39mif\u001b[39;00m \u001b[39mnot\u001b[39;00m \u001b[39mhasattr\u001b[39m(\u001b[39mself\u001b[39m\u001b[39m.\u001b[39mbuild, \u001b[39m'\u001b[39m\u001b[39m_is_default\u001b[39m\u001b[39m'\u001b[39m):\n\u001b[1;32m   <a href='file:///home/codevardhan/.env-list/mach-env/lib/python3.9/site-packages/keras/engine/base_layer.py?line=2719'>2720</a>\u001b[0m   \u001b[39m# Any setup work performed only once should happen in an `init_scope`\u001b[39;00m\n\u001b[1;32m   <a href='file:///home/codevardhan/.env-list/mach-env/lib/python3.9/site-packages/keras/engine/base_layer.py?line=2720'>2721</a>\u001b[0m   \u001b[39m# to avoid creating symbolic Tensors that will later pollute any eager\u001b[39;00m\n\u001b[1;32m   <a href='file:///home/codevardhan/.env-list/mach-env/lib/python3.9/site-packages/keras/engine/base_layer.py?line=2721'>2722</a>\u001b[0m   \u001b[39m# operations.\u001b[39;00m\n\u001b[1;32m   <a href='file:///home/codevardhan/.env-list/mach-env/lib/python3.9/site-packages/keras/engine/base_layer.py?line=2722'>2723</a>\u001b[0m   \u001b[39mwith\u001b[39;00m tf_utils\u001b[39m.\u001b[39mmaybe_init_scope(\u001b[39mself\u001b[39m):\n\u001b[0;32m-> <a href='file:///home/codevardhan/.env-list/mach-env/lib/python3.9/site-packages/keras/engine/base_layer.py?line=2723'>2724</a>\u001b[0m     \u001b[39mself\u001b[39;49m\u001b[39m.\u001b[39;49mbuild(input_shapes)  \u001b[39m# pylint:disable=not-callable\u001b[39;00m\n\u001b[1;32m   <a href='file:///home/codevardhan/.env-list/mach-env/lib/python3.9/site-packages/keras/engine/base_layer.py?line=2724'>2725</a>\u001b[0m \u001b[39m# We must set also ensure that the layer is marked as built, and the build\u001b[39;00m\n\u001b[1;32m   <a href='file:///home/codevardhan/.env-list/mach-env/lib/python3.9/site-packages/keras/engine/base_layer.py?line=2725'>2726</a>\u001b[0m \u001b[39m# shape is stored since user defined build functions may not be calling\u001b[39;00m\n\u001b[1;32m   <a href='file:///home/codevardhan/.env-list/mach-env/lib/python3.9/site-packages/keras/engine/base_layer.py?line=2726'>2727</a>\u001b[0m \u001b[39m# `super.build()`\u001b[39;00m\n\u001b[1;32m   <a href='file:///home/codevardhan/.env-list/mach-env/lib/python3.9/site-packages/keras/engine/base_layer.py?line=2727'>2728</a>\u001b[0m Layer\u001b[39m.\u001b[39mbuild(\u001b[39mself\u001b[39m, input_shapes)\n",
            "File \u001b[0;32m~/.env-list/mach-env/lib/python3.9/site-packages/keras/utils/tf_utils.py:296\u001b[0m, in \u001b[0;36mshape_type_conversion.<locals>.wrapper\u001b[0;34m(instance, input_shape)\u001b[0m\n\u001b[1;32m    <a href='file:///home/codevardhan/.env-list/mach-env/lib/python3.9/site-packages/keras/utils/tf_utils.py?line=293'>294</a>\u001b[0m \u001b[39mif\u001b[39;00m input_shape \u001b[39mis\u001b[39;00m \u001b[39mnot\u001b[39;00m \u001b[39mNone\u001b[39;00m:\n\u001b[1;32m    <a href='file:///home/codevardhan/.env-list/mach-env/lib/python3.9/site-packages/keras/utils/tf_utils.py?line=294'>295</a>\u001b[0m   input_shape \u001b[39m=\u001b[39m convert_shapes(input_shape, to_tuples\u001b[39m=\u001b[39m\u001b[39mTrue\u001b[39;00m)\n\u001b[0;32m--> <a href='file:///home/codevardhan/.env-list/mach-env/lib/python3.9/site-packages/keras/utils/tf_utils.py?line=295'>296</a>\u001b[0m output_shape \u001b[39m=\u001b[39m fn(instance, input_shape)\n\u001b[1;32m    <a href='file:///home/codevardhan/.env-list/mach-env/lib/python3.9/site-packages/keras/utils/tf_utils.py?line=296'>297</a>\u001b[0m \u001b[39m# Return shapes from `fn` as TensorShapes.\u001b[39;00m\n\u001b[1;32m    <a href='file:///home/codevardhan/.env-list/mach-env/lib/python3.9/site-packages/keras/utils/tf_utils.py?line=297'>298</a>\u001b[0m \u001b[39mif\u001b[39;00m output_shape \u001b[39mis\u001b[39;00m \u001b[39mnot\u001b[39;00m \u001b[39mNone\u001b[39;00m:\n",
            "File \u001b[0;32m~/.env-list/mach-env/lib/python3.9/site-packages/keras/layers/embeddings.py:149\u001b[0m, in \u001b[0;36mEmbedding.build\u001b[0;34m(self, input_shape)\u001b[0m\n\u001b[1;32m    <a href='file:///home/codevardhan/.env-list/mach-env/lib/python3.9/site-packages/keras/layers/embeddings.py?line=146'>147</a>\u001b[0m \u001b[39m@tf_utils\u001b[39m\u001b[39m.\u001b[39mshape_type_conversion\n\u001b[1;32m    <a href='file:///home/codevardhan/.env-list/mach-env/lib/python3.9/site-packages/keras/layers/embeddings.py?line=147'>148</a>\u001b[0m \u001b[39mdef\u001b[39;00m \u001b[39mbuild\u001b[39m(\u001b[39mself\u001b[39m, input_shape\u001b[39m=\u001b[39m\u001b[39mNone\u001b[39;00m):\n\u001b[0;32m--> <a href='file:///home/codevardhan/.env-list/mach-env/lib/python3.9/site-packages/keras/layers/embeddings.py?line=148'>149</a>\u001b[0m   \u001b[39mself\u001b[39m\u001b[39m.\u001b[39membeddings \u001b[39m=\u001b[39m \u001b[39mself\u001b[39;49m\u001b[39m.\u001b[39;49madd_weight(\n\u001b[1;32m    <a href='file:///home/codevardhan/.env-list/mach-env/lib/python3.9/site-packages/keras/layers/embeddings.py?line=149'>150</a>\u001b[0m       shape\u001b[39m=\u001b[39;49m(\u001b[39mself\u001b[39;49m\u001b[39m.\u001b[39;49minput_dim, \u001b[39mself\u001b[39;49m\u001b[39m.\u001b[39;49moutput_dim),\n\u001b[1;32m    <a href='file:///home/codevardhan/.env-list/mach-env/lib/python3.9/site-packages/keras/layers/embeddings.py?line=150'>151</a>\u001b[0m       initializer\u001b[39m=\u001b[39;49m\u001b[39mself\u001b[39;49m\u001b[39m.\u001b[39;49membeddings_initializer,\n\u001b[1;32m    <a href='file:///home/codevardhan/.env-list/mach-env/lib/python3.9/site-packages/keras/layers/embeddings.py?line=151'>152</a>\u001b[0m       name\u001b[39m=\u001b[39;49m\u001b[39m'\u001b[39;49m\u001b[39membeddings\u001b[39;49m\u001b[39m'\u001b[39;49m,\n\u001b[1;32m    <a href='file:///home/codevardhan/.env-list/mach-env/lib/python3.9/site-packages/keras/layers/embeddings.py?line=152'>153</a>\u001b[0m       regularizer\u001b[39m=\u001b[39;49m\u001b[39mself\u001b[39;49m\u001b[39m.\u001b[39;49membeddings_regularizer,\n\u001b[1;32m    <a href='file:///home/codevardhan/.env-list/mach-env/lib/python3.9/site-packages/keras/layers/embeddings.py?line=153'>154</a>\u001b[0m       constraint\u001b[39m=\u001b[39;49m\u001b[39mself\u001b[39;49m\u001b[39m.\u001b[39;49membeddings_constraint,\n\u001b[1;32m    <a href='file:///home/codevardhan/.env-list/mach-env/lib/python3.9/site-packages/keras/layers/embeddings.py?line=154'>155</a>\u001b[0m       experimental_autocast\u001b[39m=\u001b[39;49m\u001b[39mFalse\u001b[39;49;00m)\n\u001b[1;32m    <a href='file:///home/codevardhan/.env-list/mach-env/lib/python3.9/site-packages/keras/layers/embeddings.py?line=155'>156</a>\u001b[0m   \u001b[39mself\u001b[39m\u001b[39m.\u001b[39mbuilt \u001b[39m=\u001b[39m \u001b[39mTrue\u001b[39;00m\n",
            "File \u001b[0;32m~/.env-list/mach-env/lib/python3.9/site-packages/keras/engine/base_layer.py:666\u001b[0m, in \u001b[0;36mLayer.add_weight\u001b[0;34m(self, name, shape, dtype, initializer, regularizer, trainable, constraint, use_resource, synchronization, aggregation, **kwargs)\u001b[0m\n\u001b[1;32m    <a href='file:///home/codevardhan/.env-list/mach-env/lib/python3.9/site-packages/keras/engine/base_layer.py?line=660'>661</a>\u001b[0m     tf_logging\u001b[39m.\u001b[39mwarning(\n\u001b[1;32m    <a href='file:///home/codevardhan/.env-list/mach-env/lib/python3.9/site-packages/keras/engine/base_layer.py?line=661'>662</a>\u001b[0m         \u001b[39m'\u001b[39m\u001b[39m`caching_device` does not work with mixed precision API. Ignoring \u001b[39m\u001b[39m'\u001b[39m\n\u001b[1;32m    <a href='file:///home/codevardhan/.env-list/mach-env/lib/python3.9/site-packages/keras/engine/base_layer.py?line=662'>663</a>\u001b[0m         \u001b[39m'\u001b[39m\u001b[39muser specified `caching_device`.\u001b[39m\u001b[39m'\u001b[39m)\n\u001b[1;32m    <a href='file:///home/codevardhan/.env-list/mach-env/lib/python3.9/site-packages/keras/engine/base_layer.py?line=663'>664</a>\u001b[0m     caching_device \u001b[39m=\u001b[39m \u001b[39mNone\u001b[39;00m\n\u001b[0;32m--> <a href='file:///home/codevardhan/.env-list/mach-env/lib/python3.9/site-packages/keras/engine/base_layer.py?line=665'>666</a>\u001b[0m variable \u001b[39m=\u001b[39m \u001b[39mself\u001b[39;49m\u001b[39m.\u001b[39;49m_add_variable_with_custom_getter(\n\u001b[1;32m    <a href='file:///home/codevardhan/.env-list/mach-env/lib/python3.9/site-packages/keras/engine/base_layer.py?line=666'>667</a>\u001b[0m     name\u001b[39m=\u001b[39;49mname,\n\u001b[1;32m    <a href='file:///home/codevardhan/.env-list/mach-env/lib/python3.9/site-packages/keras/engine/base_layer.py?line=667'>668</a>\u001b[0m     shape\u001b[39m=\u001b[39;49mshape,\n\u001b[1;32m    <a href='file:///home/codevardhan/.env-list/mach-env/lib/python3.9/site-packages/keras/engine/base_layer.py?line=668'>669</a>\u001b[0m     \u001b[39m# TODO(allenl): a `make_variable` equivalent should be added as a\u001b[39;49;00m\n\u001b[1;32m    <a href='file:///home/codevardhan/.env-list/mach-env/lib/python3.9/site-packages/keras/engine/base_layer.py?line=669'>670</a>\u001b[0m     \u001b[39m# `Trackable` method.\u001b[39;49;00m\n\u001b[1;32m    <a href='file:///home/codevardhan/.env-list/mach-env/lib/python3.9/site-packages/keras/engine/base_layer.py?line=670'>671</a>\u001b[0m     getter\u001b[39m=\u001b[39;49mgetter,\n\u001b[1;32m    <a href='file:///home/codevardhan/.env-list/mach-env/lib/python3.9/site-packages/keras/engine/base_layer.py?line=671'>672</a>\u001b[0m     \u001b[39m# Manage errors in Layer rather than Trackable.\u001b[39;49;00m\n\u001b[1;32m    <a href='file:///home/codevardhan/.env-list/mach-env/lib/python3.9/site-packages/keras/engine/base_layer.py?line=672'>673</a>\u001b[0m     overwrite\u001b[39m=\u001b[39;49m\u001b[39mTrue\u001b[39;49;00m,\n\u001b[1;32m    <a href='file:///home/codevardhan/.env-list/mach-env/lib/python3.9/site-packages/keras/engine/base_layer.py?line=673'>674</a>\u001b[0m     initializer\u001b[39m=\u001b[39;49minitializer,\n\u001b[1;32m    <a href='file:///home/codevardhan/.env-list/mach-env/lib/python3.9/site-packages/keras/engine/base_layer.py?line=674'>675</a>\u001b[0m     dtype\u001b[39m=\u001b[39;49mdtype,\n\u001b[1;32m    <a href='file:///home/codevardhan/.env-list/mach-env/lib/python3.9/site-packages/keras/engine/base_layer.py?line=675'>676</a>\u001b[0m     constraint\u001b[39m=\u001b[39;49mconstraint,\n\u001b[1;32m    <a href='file:///home/codevardhan/.env-list/mach-env/lib/python3.9/site-packages/keras/engine/base_layer.py?line=676'>677</a>\u001b[0m     trainable\u001b[39m=\u001b[39;49mtrainable,\n\u001b[1;32m    <a href='file:///home/codevardhan/.env-list/mach-env/lib/python3.9/site-packages/keras/engine/base_layer.py?line=677'>678</a>\u001b[0m     use_resource\u001b[39m=\u001b[39;49muse_resource,\n\u001b[1;32m    <a href='file:///home/codevardhan/.env-list/mach-env/lib/python3.9/site-packages/keras/engine/base_layer.py?line=678'>679</a>\u001b[0m     collections\u001b[39m=\u001b[39;49mcollections_arg,\n\u001b[1;32m    <a href='file:///home/codevardhan/.env-list/mach-env/lib/python3.9/site-packages/keras/engine/base_layer.py?line=679'>680</a>\u001b[0m     synchronization\u001b[39m=\u001b[39;49msynchronization,\n\u001b[1;32m    <a href='file:///home/codevardhan/.env-list/mach-env/lib/python3.9/site-packages/keras/engine/base_layer.py?line=680'>681</a>\u001b[0m     aggregation\u001b[39m=\u001b[39;49maggregation,\n\u001b[1;32m    <a href='file:///home/codevardhan/.env-list/mach-env/lib/python3.9/site-packages/keras/engine/base_layer.py?line=681'>682</a>\u001b[0m     caching_device\u001b[39m=\u001b[39;49mcaching_device)\n\u001b[1;32m    <a href='file:///home/codevardhan/.env-list/mach-env/lib/python3.9/site-packages/keras/engine/base_layer.py?line=682'>683</a>\u001b[0m \u001b[39mif\u001b[39;00m regularizer \u001b[39mis\u001b[39;00m \u001b[39mnot\u001b[39;00m \u001b[39mNone\u001b[39;00m:\n\u001b[1;32m    <a href='file:///home/codevardhan/.env-list/mach-env/lib/python3.9/site-packages/keras/engine/base_layer.py?line=683'>684</a>\u001b[0m   \u001b[39m# TODO(fchollet): in the future, this should be handled at the\u001b[39;00m\n\u001b[1;32m    <a href='file:///home/codevardhan/.env-list/mach-env/lib/python3.9/site-packages/keras/engine/base_layer.py?line=684'>685</a>\u001b[0m   \u001b[39m# level of variable creation, and weight regularization losses\u001b[39;00m\n\u001b[1;32m    <a href='file:///home/codevardhan/.env-list/mach-env/lib/python3.9/site-packages/keras/engine/base_layer.py?line=685'>686</a>\u001b[0m   \u001b[39m# should be variable attributes.\u001b[39;00m\n\u001b[1;32m    <a href='file:///home/codevardhan/.env-list/mach-env/lib/python3.9/site-packages/keras/engine/base_layer.py?line=686'>687</a>\u001b[0m   name_in_scope \u001b[39m=\u001b[39m variable\u001b[39m.\u001b[39mname[:variable\u001b[39m.\u001b[39mname\u001b[39m.\u001b[39mfind(\u001b[39m'\u001b[39m\u001b[39m:\u001b[39m\u001b[39m'\u001b[39m)]\n",
            "File \u001b[0;32m~/.env-list/mach-env/lib/python3.9/site-packages/tensorflow/python/training/tracking/base.py:816\u001b[0m, in \u001b[0;36mTrackable._add_variable_with_custom_getter\u001b[0;34m(self, name, shape, dtype, initializer, getter, overwrite, **kwargs_for_getter)\u001b[0m\n\u001b[1;32m    <a href='file:///home/codevardhan/.env-list/mach-env/lib/python3.9/site-packages/tensorflow/python/training/tracking/base.py?line=805'>806</a>\u001b[0m   \u001b[39mif\u001b[39;00m (checkpoint_initializer \u001b[39mis\u001b[39;00m \u001b[39mnot\u001b[39;00m \u001b[39mNone\u001b[39;00m \u001b[39mand\u001b[39;00m\n\u001b[1;32m    <a href='file:///home/codevardhan/.env-list/mach-env/lib/python3.9/site-packages/tensorflow/python/training/tracking/base.py?line=806'>807</a>\u001b[0m       \u001b[39mnot\u001b[39;00m (\u001b[39misinstance\u001b[39m(initializer, CheckpointInitialValueCallable) \u001b[39mand\u001b[39;00m\n\u001b[1;32m    <a href='file:///home/codevardhan/.env-list/mach-env/lib/python3.9/site-packages/tensorflow/python/training/tracking/base.py?line=807'>808</a>\u001b[0m            (initializer\u001b[39m.\u001b[39mrestore_uid \u001b[39m>\u001b[39m checkpoint_initializer\u001b[39m.\u001b[39mrestore_uid))):\n\u001b[0;32m   (...)\u001b[0m\n\u001b[1;32m    <a href='file:///home/codevardhan/.env-list/mach-env/lib/python3.9/site-packages/tensorflow/python/training/tracking/base.py?line=812'>813</a>\u001b[0m     \u001b[39m# then we'll catch that when we call _track_trackable. So this is\u001b[39;00m\n\u001b[1;32m    <a href='file:///home/codevardhan/.env-list/mach-env/lib/python3.9/site-packages/tensorflow/python/training/tracking/base.py?line=813'>814</a>\u001b[0m     \u001b[39m# \"best effort\" to set the initializer with the highest restore UID.\u001b[39;00m\n\u001b[1;32m    <a href='file:///home/codevardhan/.env-list/mach-env/lib/python3.9/site-packages/tensorflow/python/training/tracking/base.py?line=814'>815</a>\u001b[0m     initializer \u001b[39m=\u001b[39m checkpoint_initializer\n\u001b[0;32m--> <a href='file:///home/codevardhan/.env-list/mach-env/lib/python3.9/site-packages/tensorflow/python/training/tracking/base.py?line=815'>816</a>\u001b[0m new_variable \u001b[39m=\u001b[39m getter(\n\u001b[1;32m    <a href='file:///home/codevardhan/.env-list/mach-env/lib/python3.9/site-packages/tensorflow/python/training/tracking/base.py?line=816'>817</a>\u001b[0m     name\u001b[39m=\u001b[39;49mname,\n\u001b[1;32m    <a href='file:///home/codevardhan/.env-list/mach-env/lib/python3.9/site-packages/tensorflow/python/training/tracking/base.py?line=817'>818</a>\u001b[0m     shape\u001b[39m=\u001b[39;49mshape,\n\u001b[1;32m    <a href='file:///home/codevardhan/.env-list/mach-env/lib/python3.9/site-packages/tensorflow/python/training/tracking/base.py?line=818'>819</a>\u001b[0m     dtype\u001b[39m=\u001b[39;49mdtype,\n\u001b[1;32m    <a href='file:///home/codevardhan/.env-list/mach-env/lib/python3.9/site-packages/tensorflow/python/training/tracking/base.py?line=819'>820</a>\u001b[0m     initializer\u001b[39m=\u001b[39;49minitializer,\n\u001b[1;32m    <a href='file:///home/codevardhan/.env-list/mach-env/lib/python3.9/site-packages/tensorflow/python/training/tracking/base.py?line=820'>821</a>\u001b[0m     \u001b[39m*\u001b[39;49m\u001b[39m*\u001b[39;49mkwargs_for_getter)\n\u001b[1;32m    <a href='file:///home/codevardhan/.env-list/mach-env/lib/python3.9/site-packages/tensorflow/python/training/tracking/base.py?line=822'>823</a>\u001b[0m \u001b[39m# If we set an initializer and the variable processed it, tracking will not\u001b[39;00m\n\u001b[1;32m    <a href='file:///home/codevardhan/.env-list/mach-env/lib/python3.9/site-packages/tensorflow/python/training/tracking/base.py?line=823'>824</a>\u001b[0m \u001b[39m# assign again. It will add this variable to our dependencies, and if there\u001b[39;00m\n\u001b[1;32m    <a href='file:///home/codevardhan/.env-list/mach-env/lib/python3.9/site-packages/tensorflow/python/training/tracking/base.py?line=824'>825</a>\u001b[0m \u001b[39m# is a non-trivial restoration queued, it will handle that. This also\u001b[39;00m\n\u001b[1;32m    <a href='file:///home/codevardhan/.env-list/mach-env/lib/python3.9/site-packages/tensorflow/python/training/tracking/base.py?line=825'>826</a>\u001b[0m \u001b[39m# handles slot variables.\u001b[39;00m\n\u001b[1;32m    <a href='file:///home/codevardhan/.env-list/mach-env/lib/python3.9/site-packages/tensorflow/python/training/tracking/base.py?line=826'>827</a>\u001b[0m \u001b[39mif\u001b[39;00m \u001b[39mnot\u001b[39;00m overwrite \u001b[39mor\u001b[39;00m \u001b[39misinstance\u001b[39m(new_variable, Trackable):\n",
            "File \u001b[0;32m~/.env-list/mach-env/lib/python3.9/site-packages/keras/engine/base_layer_utils.py:117\u001b[0m, in \u001b[0;36mmake_variable\u001b[0;34m(name, shape, dtype, initializer, trainable, caching_device, validate_shape, constraint, use_resource, collections, synchronization, aggregation, partitioner)\u001b[0m\n\u001b[1;32m    <a href='file:///home/codevardhan/.env-list/mach-env/lib/python3.9/site-packages/keras/engine/base_layer_utils.py?line=111'>112</a>\u001b[0m   use_resource \u001b[39m=\u001b[39m \u001b[39mTrue\u001b[39;00m\n\u001b[1;32m    <a href='file:///home/codevardhan/.env-list/mach-env/lib/python3.9/site-packages/keras/engine/base_layer_utils.py?line=112'>113</a>\u001b[0m \u001b[39m# In theory, in `use_resource` is True and `collections` is empty\u001b[39;00m\n\u001b[1;32m    <a href='file:///home/codevardhan/.env-list/mach-env/lib/python3.9/site-packages/keras/engine/base_layer_utils.py?line=113'>114</a>\u001b[0m \u001b[39m# (that is to say, in TF2), we can use tf.Variable.\u001b[39;00m\n\u001b[1;32m    <a href='file:///home/codevardhan/.env-list/mach-env/lib/python3.9/site-packages/keras/engine/base_layer_utils.py?line=114'>115</a>\u001b[0m \u001b[39m# However, this breaks legacy (Estimator) checkpoints\u001b[39;00m\n\u001b[1;32m    <a href='file:///home/codevardhan/.env-list/mach-env/lib/python3.9/site-packages/keras/engine/base_layer_utils.py?line=115'>116</a>\u001b[0m \u001b[39m# because it changes variable names. Remove this when V1 is fully deprecated.\u001b[39;00m\n\u001b[0;32m--> <a href='file:///home/codevardhan/.env-list/mach-env/lib/python3.9/site-packages/keras/engine/base_layer_utils.py?line=116'>117</a>\u001b[0m \u001b[39mreturn\u001b[39;00m tf\u001b[39m.\u001b[39;49mcompat\u001b[39m.\u001b[39;49mv1\u001b[39m.\u001b[39;49mVariable(\n\u001b[1;32m    <a href='file:///home/codevardhan/.env-list/mach-env/lib/python3.9/site-packages/keras/engine/base_layer_utils.py?line=117'>118</a>\u001b[0m     initial_value\u001b[39m=\u001b[39;49minit_val,\n\u001b[1;32m    <a href='file:///home/codevardhan/.env-list/mach-env/lib/python3.9/site-packages/keras/engine/base_layer_utils.py?line=118'>119</a>\u001b[0m     name\u001b[39m=\u001b[39;49mname,\n\u001b[1;32m    <a href='file:///home/codevardhan/.env-list/mach-env/lib/python3.9/site-packages/keras/engine/base_layer_utils.py?line=119'>120</a>\u001b[0m     trainable\u001b[39m=\u001b[39;49mtrainable,\n\u001b[1;32m    <a href='file:///home/codevardhan/.env-list/mach-env/lib/python3.9/site-packages/keras/engine/base_layer_utils.py?line=120'>121</a>\u001b[0m     caching_device\u001b[39m=\u001b[39;49mcaching_device,\n\u001b[1;32m    <a href='file:///home/codevardhan/.env-list/mach-env/lib/python3.9/site-packages/keras/engine/base_layer_utils.py?line=121'>122</a>\u001b[0m     dtype\u001b[39m=\u001b[39;49mvariable_dtype,\n\u001b[1;32m    <a href='file:///home/codevardhan/.env-list/mach-env/lib/python3.9/site-packages/keras/engine/base_layer_utils.py?line=122'>123</a>\u001b[0m     validate_shape\u001b[39m=\u001b[39;49mvalidate_shape,\n\u001b[1;32m    <a href='file:///home/codevardhan/.env-list/mach-env/lib/python3.9/site-packages/keras/engine/base_layer_utils.py?line=123'>124</a>\u001b[0m     constraint\u001b[39m=\u001b[39;49mconstraint,\n\u001b[1;32m    <a href='file:///home/codevardhan/.env-list/mach-env/lib/python3.9/site-packages/keras/engine/base_layer_utils.py?line=124'>125</a>\u001b[0m     use_resource\u001b[39m=\u001b[39;49muse_resource,\n\u001b[1;32m    <a href='file:///home/codevardhan/.env-list/mach-env/lib/python3.9/site-packages/keras/engine/base_layer_utils.py?line=125'>126</a>\u001b[0m     collections\u001b[39m=\u001b[39;49mcollections,\n\u001b[1;32m    <a href='file:///home/codevardhan/.env-list/mach-env/lib/python3.9/site-packages/keras/engine/base_layer_utils.py?line=126'>127</a>\u001b[0m     synchronization\u001b[39m=\u001b[39;49msynchronization,\n\u001b[1;32m    <a href='file:///home/codevardhan/.env-list/mach-env/lib/python3.9/site-packages/keras/engine/base_layer_utils.py?line=127'>128</a>\u001b[0m     aggregation\u001b[39m=\u001b[39;49maggregation,\n\u001b[1;32m    <a href='file:///home/codevardhan/.env-list/mach-env/lib/python3.9/site-packages/keras/engine/base_layer_utils.py?line=128'>129</a>\u001b[0m     shape\u001b[39m=\u001b[39;49mvariable_shape \u001b[39mif\u001b[39;49;00m variable_shape \u001b[39melse\u001b[39;49;00m \u001b[39mNone\u001b[39;49;00m)\n",
            "File \u001b[0;32m~/.env-list/mach-env/lib/python3.9/site-packages/tensorflow/python/util/traceback_utils.py:150\u001b[0m, in \u001b[0;36mfilter_traceback.<locals>.error_handler\u001b[0;34m(*args, **kwargs)\u001b[0m\n\u001b[1;32m    <a href='file:///home/codevardhan/.env-list/mach-env/lib/python3.9/site-packages/tensorflow/python/util/traceback_utils.py?line=147'>148</a>\u001b[0m filtered_tb \u001b[39m=\u001b[39m \u001b[39mNone\u001b[39;00m\n\u001b[1;32m    <a href='file:///home/codevardhan/.env-list/mach-env/lib/python3.9/site-packages/tensorflow/python/util/traceback_utils.py?line=148'>149</a>\u001b[0m \u001b[39mtry\u001b[39;00m:\n\u001b[0;32m--> <a href='file:///home/codevardhan/.env-list/mach-env/lib/python3.9/site-packages/tensorflow/python/util/traceback_utils.py?line=149'>150</a>\u001b[0m   \u001b[39mreturn\u001b[39;00m fn(\u001b[39m*\u001b[39;49margs, \u001b[39m*\u001b[39;49m\u001b[39m*\u001b[39;49mkwargs)\n\u001b[1;32m    <a href='file:///home/codevardhan/.env-list/mach-env/lib/python3.9/site-packages/tensorflow/python/util/traceback_utils.py?line=150'>151</a>\u001b[0m \u001b[39mexcept\u001b[39;00m \u001b[39mException\u001b[39;00m \u001b[39mas\u001b[39;00m e:\n\u001b[1;32m    <a href='file:///home/codevardhan/.env-list/mach-env/lib/python3.9/site-packages/tensorflow/python/util/traceback_utils.py?line=151'>152</a>\u001b[0m   filtered_tb \u001b[39m=\u001b[39m _process_traceback_frames(e\u001b[39m.\u001b[39m__traceback__)\n",
            "File \u001b[0;32m~/.env-list/mach-env/lib/python3.9/site-packages/tensorflow/python/ops/variables.py:268\u001b[0m, in \u001b[0;36mVariableMetaclass.__call__\u001b[0;34m(cls, *args, **kwargs)\u001b[0m\n\u001b[1;32m    <a href='file:///home/codevardhan/.env-list/mach-env/lib/python3.9/site-packages/tensorflow/python/ops/variables.py?line=264'>265</a>\u001b[0m \u001b[39m@traceback_utils\u001b[39m\u001b[39m.\u001b[39mfilter_traceback\n\u001b[1;32m    <a href='file:///home/codevardhan/.env-list/mach-env/lib/python3.9/site-packages/tensorflow/python/ops/variables.py?line=265'>266</a>\u001b[0m \u001b[39mdef\u001b[39;00m \u001b[39m__call__\u001b[39m(\u001b[39mcls\u001b[39m, \u001b[39m*\u001b[39margs, \u001b[39m*\u001b[39m\u001b[39m*\u001b[39mkwargs):\n\u001b[1;32m    <a href='file:///home/codevardhan/.env-list/mach-env/lib/python3.9/site-packages/tensorflow/python/ops/variables.py?line=266'>267</a>\u001b[0m   \u001b[39mif\u001b[39;00m \u001b[39mcls\u001b[39m \u001b[39mis\u001b[39;00m VariableV1:\n\u001b[0;32m--> <a href='file:///home/codevardhan/.env-list/mach-env/lib/python3.9/site-packages/tensorflow/python/ops/variables.py?line=267'>268</a>\u001b[0m     \u001b[39mreturn\u001b[39;00m \u001b[39mcls\u001b[39;49m\u001b[39m.\u001b[39;49m_variable_v1_call(\u001b[39m*\u001b[39;49margs, \u001b[39m*\u001b[39;49m\u001b[39m*\u001b[39;49mkwargs)\n\u001b[1;32m    <a href='file:///home/codevardhan/.env-list/mach-env/lib/python3.9/site-packages/tensorflow/python/ops/variables.py?line=268'>269</a>\u001b[0m   \u001b[39melif\u001b[39;00m \u001b[39mcls\u001b[39m \u001b[39mis\u001b[39;00m Variable:\n\u001b[1;32m    <a href='file:///home/codevardhan/.env-list/mach-env/lib/python3.9/site-packages/tensorflow/python/ops/variables.py?line=269'>270</a>\u001b[0m     \u001b[39mreturn\u001b[39;00m \u001b[39mcls\u001b[39m\u001b[39m.\u001b[39m_variable_v2_call(\u001b[39m*\u001b[39margs, \u001b[39m*\u001b[39m\u001b[39m*\u001b[39mkwargs)\n",
            "File \u001b[0;32m~/.env-list/mach-env/lib/python3.9/site-packages/tensorflow/python/ops/variables.py:213\u001b[0m, in \u001b[0;36mVariableMetaclass._variable_v1_call\u001b[0;34m(cls, initial_value, trainable, collections, validate_shape, caching_device, name, variable_def, dtype, expected_shape, import_scope, constraint, use_resource, synchronization, aggregation, shape)\u001b[0m\n\u001b[1;32m    <a href='file:///home/codevardhan/.env-list/mach-env/lib/python3.9/site-packages/tensorflow/python/ops/variables.py?line=210'>211</a>\u001b[0m \u001b[39mif\u001b[39;00m aggregation \u001b[39mis\u001b[39;00m \u001b[39mNone\u001b[39;00m:\n\u001b[1;32m    <a href='file:///home/codevardhan/.env-list/mach-env/lib/python3.9/site-packages/tensorflow/python/ops/variables.py?line=211'>212</a>\u001b[0m   aggregation \u001b[39m=\u001b[39m VariableAggregation\u001b[39m.\u001b[39mNONE\n\u001b[0;32m--> <a href='file:///home/codevardhan/.env-list/mach-env/lib/python3.9/site-packages/tensorflow/python/ops/variables.py?line=212'>213</a>\u001b[0m \u001b[39mreturn\u001b[39;00m previous_getter(\n\u001b[1;32m    <a href='file:///home/codevardhan/.env-list/mach-env/lib/python3.9/site-packages/tensorflow/python/ops/variables.py?line=213'>214</a>\u001b[0m     initial_value\u001b[39m=\u001b[39;49minitial_value,\n\u001b[1;32m    <a href='file:///home/codevardhan/.env-list/mach-env/lib/python3.9/site-packages/tensorflow/python/ops/variables.py?line=214'>215</a>\u001b[0m     trainable\u001b[39m=\u001b[39;49mtrainable,\n\u001b[1;32m    <a href='file:///home/codevardhan/.env-list/mach-env/lib/python3.9/site-packages/tensorflow/python/ops/variables.py?line=215'>216</a>\u001b[0m     collections\u001b[39m=\u001b[39;49mcollections,\n\u001b[1;32m    <a href='file:///home/codevardhan/.env-list/mach-env/lib/python3.9/site-packages/tensorflow/python/ops/variables.py?line=216'>217</a>\u001b[0m     validate_shape\u001b[39m=\u001b[39;49mvalidate_shape,\n\u001b[1;32m    <a href='file:///home/codevardhan/.env-list/mach-env/lib/python3.9/site-packages/tensorflow/python/ops/variables.py?line=217'>218</a>\u001b[0m     caching_device\u001b[39m=\u001b[39;49mcaching_device,\n\u001b[1;32m    <a href='file:///home/codevardhan/.env-list/mach-env/lib/python3.9/site-packages/tensorflow/python/ops/variables.py?line=218'>219</a>\u001b[0m     name\u001b[39m=\u001b[39;49mname,\n\u001b[1;32m    <a href='file:///home/codevardhan/.env-list/mach-env/lib/python3.9/site-packages/tensorflow/python/ops/variables.py?line=219'>220</a>\u001b[0m     variable_def\u001b[39m=\u001b[39;49mvariable_def,\n\u001b[1;32m    <a href='file:///home/codevardhan/.env-list/mach-env/lib/python3.9/site-packages/tensorflow/python/ops/variables.py?line=220'>221</a>\u001b[0m     dtype\u001b[39m=\u001b[39;49mdtype,\n\u001b[1;32m    <a href='file:///home/codevardhan/.env-list/mach-env/lib/python3.9/site-packages/tensorflow/python/ops/variables.py?line=221'>222</a>\u001b[0m     expected_shape\u001b[39m=\u001b[39;49mexpected_shape,\n\u001b[1;32m    <a href='file:///home/codevardhan/.env-list/mach-env/lib/python3.9/site-packages/tensorflow/python/ops/variables.py?line=222'>223</a>\u001b[0m     import_scope\u001b[39m=\u001b[39;49mimport_scope,\n\u001b[1;32m    <a href='file:///home/codevardhan/.env-list/mach-env/lib/python3.9/site-packages/tensorflow/python/ops/variables.py?line=223'>224</a>\u001b[0m     constraint\u001b[39m=\u001b[39;49mconstraint,\n\u001b[1;32m    <a href='file:///home/codevardhan/.env-list/mach-env/lib/python3.9/site-packages/tensorflow/python/ops/variables.py?line=224'>225</a>\u001b[0m     use_resource\u001b[39m=\u001b[39;49muse_resource,\n\u001b[1;32m    <a href='file:///home/codevardhan/.env-list/mach-env/lib/python3.9/site-packages/tensorflow/python/ops/variables.py?line=225'>226</a>\u001b[0m     synchronization\u001b[39m=\u001b[39;49msynchronization,\n\u001b[1;32m    <a href='file:///home/codevardhan/.env-list/mach-env/lib/python3.9/site-packages/tensorflow/python/ops/variables.py?line=226'>227</a>\u001b[0m     aggregation\u001b[39m=\u001b[39;49maggregation,\n\u001b[1;32m    <a href='file:///home/codevardhan/.env-list/mach-env/lib/python3.9/site-packages/tensorflow/python/ops/variables.py?line=227'>228</a>\u001b[0m     shape\u001b[39m=\u001b[39;49mshape)\n",
            "File \u001b[0;32m~/.env-list/mach-env/lib/python3.9/site-packages/tensorflow/python/ops/variables.py:206\u001b[0m, in \u001b[0;36mVariableMetaclass._variable_v1_call.<locals>.<lambda>\u001b[0;34m(**kwargs)\u001b[0m\n\u001b[1;32m    <a href='file:///home/codevardhan/.env-list/mach-env/lib/python3.9/site-packages/tensorflow/python/ops/variables.py?line=188'>189</a>\u001b[0m \u001b[39mdef\u001b[39;00m \u001b[39m_variable_v1_call\u001b[39m(\u001b[39mcls\u001b[39m,\n\u001b[1;32m    <a href='file:///home/codevardhan/.env-list/mach-env/lib/python3.9/site-packages/tensorflow/python/ops/variables.py?line=189'>190</a>\u001b[0m                       initial_value\u001b[39m=\u001b[39m\u001b[39mNone\u001b[39;00m,\n\u001b[1;32m    <a href='file:///home/codevardhan/.env-list/mach-env/lib/python3.9/site-packages/tensorflow/python/ops/variables.py?line=190'>191</a>\u001b[0m                       trainable\u001b[39m=\u001b[39m\u001b[39mNone\u001b[39;00m,\n\u001b[0;32m   (...)\u001b[0m\n\u001b[1;32m    <a href='file:///home/codevardhan/.env-list/mach-env/lib/python3.9/site-packages/tensorflow/python/ops/variables.py?line=202'>203</a>\u001b[0m                       aggregation\u001b[39m=\u001b[39mVariableAggregation\u001b[39m.\u001b[39mNONE,\n\u001b[1;32m    <a href='file:///home/codevardhan/.env-list/mach-env/lib/python3.9/site-packages/tensorflow/python/ops/variables.py?line=203'>204</a>\u001b[0m                       shape\u001b[39m=\u001b[39m\u001b[39mNone\u001b[39;00m):\n\u001b[1;32m    <a href='file:///home/codevardhan/.env-list/mach-env/lib/python3.9/site-packages/tensorflow/python/ops/variables.py?line=204'>205</a>\u001b[0m   \u001b[39m\"\"\"Call on Variable class. Useful to force the signature.\"\"\"\u001b[39;00m\n\u001b[0;32m--> <a href='file:///home/codevardhan/.env-list/mach-env/lib/python3.9/site-packages/tensorflow/python/ops/variables.py?line=205'>206</a>\u001b[0m   previous_getter \u001b[39m=\u001b[39m \u001b[39mlambda\u001b[39;00m \u001b[39m*\u001b[39m\u001b[39m*\u001b[39mkwargs: default_variable_creator(\u001b[39mNone\u001b[39;49;00m, \u001b[39m*\u001b[39;49m\u001b[39m*\u001b[39;49mkwargs)\n\u001b[1;32m    <a href='file:///home/codevardhan/.env-list/mach-env/lib/python3.9/site-packages/tensorflow/python/ops/variables.py?line=206'>207</a>\u001b[0m   \u001b[39mfor\u001b[39;00m _, getter \u001b[39min\u001b[39;00m ops\u001b[39m.\u001b[39mget_default_graph()\u001b[39m.\u001b[39m_variable_creator_stack:  \u001b[39m# pylint: disable=protected-access\u001b[39;00m\n\u001b[1;32m    <a href='file:///home/codevardhan/.env-list/mach-env/lib/python3.9/site-packages/tensorflow/python/ops/variables.py?line=207'>208</a>\u001b[0m     previous_getter \u001b[39m=\u001b[39m _make_getter(getter, previous_getter)\n",
            "File \u001b[0;32m~/.env-list/mach-env/lib/python3.9/site-packages/tensorflow/python/ops/variable_scope.py:2612\u001b[0m, in \u001b[0;36mdefault_variable_creator\u001b[0;34m(next_creator, **kwargs)\u001b[0m\n\u001b[1;32m   <a href='file:///home/codevardhan/.env-list/mach-env/lib/python3.9/site-packages/tensorflow/python/ops/variable_scope.py?line=2609'>2610</a>\u001b[0m \u001b[39mif\u001b[39;00m use_resource:\n\u001b[1;32m   <a href='file:///home/codevardhan/.env-list/mach-env/lib/python3.9/site-packages/tensorflow/python/ops/variable_scope.py?line=2610'>2611</a>\u001b[0m   distribute_strategy \u001b[39m=\u001b[39m kwargs\u001b[39m.\u001b[39mget(\u001b[39m\"\u001b[39m\u001b[39mdistribute_strategy\u001b[39m\u001b[39m\"\u001b[39m, \u001b[39mNone\u001b[39;00m)\n\u001b[0;32m-> <a href='file:///home/codevardhan/.env-list/mach-env/lib/python3.9/site-packages/tensorflow/python/ops/variable_scope.py?line=2611'>2612</a>\u001b[0m   \u001b[39mreturn\u001b[39;00m resource_variable_ops\u001b[39m.\u001b[39;49mResourceVariable(\n\u001b[1;32m   <a href='file:///home/codevardhan/.env-list/mach-env/lib/python3.9/site-packages/tensorflow/python/ops/variable_scope.py?line=2612'>2613</a>\u001b[0m       initial_value\u001b[39m=\u001b[39;49minitial_value,\n\u001b[1;32m   <a href='file:///home/codevardhan/.env-list/mach-env/lib/python3.9/site-packages/tensorflow/python/ops/variable_scope.py?line=2613'>2614</a>\u001b[0m       trainable\u001b[39m=\u001b[39;49mtrainable,\n\u001b[1;32m   <a href='file:///home/codevardhan/.env-list/mach-env/lib/python3.9/site-packages/tensorflow/python/ops/variable_scope.py?line=2614'>2615</a>\u001b[0m       collections\u001b[39m=\u001b[39;49mcollections,\n\u001b[1;32m   <a href='file:///home/codevardhan/.env-list/mach-env/lib/python3.9/site-packages/tensorflow/python/ops/variable_scope.py?line=2615'>2616</a>\u001b[0m       validate_shape\u001b[39m=\u001b[39;49mvalidate_shape,\n\u001b[1;32m   <a href='file:///home/codevardhan/.env-list/mach-env/lib/python3.9/site-packages/tensorflow/python/ops/variable_scope.py?line=2616'>2617</a>\u001b[0m       caching_device\u001b[39m=\u001b[39;49mcaching_device,\n\u001b[1;32m   <a href='file:///home/codevardhan/.env-list/mach-env/lib/python3.9/site-packages/tensorflow/python/ops/variable_scope.py?line=2617'>2618</a>\u001b[0m       name\u001b[39m=\u001b[39;49mname,\n\u001b[1;32m   <a href='file:///home/codevardhan/.env-list/mach-env/lib/python3.9/site-packages/tensorflow/python/ops/variable_scope.py?line=2618'>2619</a>\u001b[0m       dtype\u001b[39m=\u001b[39;49mdtype,\n\u001b[1;32m   <a href='file:///home/codevardhan/.env-list/mach-env/lib/python3.9/site-packages/tensorflow/python/ops/variable_scope.py?line=2619'>2620</a>\u001b[0m       constraint\u001b[39m=\u001b[39;49mconstraint,\n\u001b[1;32m   <a href='file:///home/codevardhan/.env-list/mach-env/lib/python3.9/site-packages/tensorflow/python/ops/variable_scope.py?line=2620'>2621</a>\u001b[0m       variable_def\u001b[39m=\u001b[39;49mvariable_def,\n\u001b[1;32m   <a href='file:///home/codevardhan/.env-list/mach-env/lib/python3.9/site-packages/tensorflow/python/ops/variable_scope.py?line=2621'>2622</a>\u001b[0m       import_scope\u001b[39m=\u001b[39;49mimport_scope,\n\u001b[1;32m   <a href='file:///home/codevardhan/.env-list/mach-env/lib/python3.9/site-packages/tensorflow/python/ops/variable_scope.py?line=2622'>2623</a>\u001b[0m       distribute_strategy\u001b[39m=\u001b[39;49mdistribute_strategy,\n\u001b[1;32m   <a href='file:///home/codevardhan/.env-list/mach-env/lib/python3.9/site-packages/tensorflow/python/ops/variable_scope.py?line=2623'>2624</a>\u001b[0m       synchronization\u001b[39m=\u001b[39;49msynchronization,\n\u001b[1;32m   <a href='file:///home/codevardhan/.env-list/mach-env/lib/python3.9/site-packages/tensorflow/python/ops/variable_scope.py?line=2624'>2625</a>\u001b[0m       aggregation\u001b[39m=\u001b[39;49maggregation,\n\u001b[1;32m   <a href='file:///home/codevardhan/.env-list/mach-env/lib/python3.9/site-packages/tensorflow/python/ops/variable_scope.py?line=2625'>2626</a>\u001b[0m       shape\u001b[39m=\u001b[39;49mshape)\n\u001b[1;32m   <a href='file:///home/codevardhan/.env-list/mach-env/lib/python3.9/site-packages/tensorflow/python/ops/variable_scope.py?line=2626'>2627</a>\u001b[0m \u001b[39melse\u001b[39;00m:\n\u001b[1;32m   <a href='file:///home/codevardhan/.env-list/mach-env/lib/python3.9/site-packages/tensorflow/python/ops/variable_scope.py?line=2627'>2628</a>\u001b[0m   \u001b[39mreturn\u001b[39;00m variables\u001b[39m.\u001b[39mRefVariable(\n\u001b[1;32m   <a href='file:///home/codevardhan/.env-list/mach-env/lib/python3.9/site-packages/tensorflow/python/ops/variable_scope.py?line=2628'>2629</a>\u001b[0m       initial_value\u001b[39m=\u001b[39minitial_value,\n\u001b[1;32m   <a href='file:///home/codevardhan/.env-list/mach-env/lib/python3.9/site-packages/tensorflow/python/ops/variable_scope.py?line=2629'>2630</a>\u001b[0m       trainable\u001b[39m=\u001b[39mtrainable,\n\u001b[0;32m   (...)\u001b[0m\n\u001b[1;32m   <a href='file:///home/codevardhan/.env-list/mach-env/lib/python3.9/site-packages/tensorflow/python/ops/variable_scope.py?line=2640'>2641</a>\u001b[0m       aggregation\u001b[39m=\u001b[39maggregation,\n\u001b[1;32m   <a href='file:///home/codevardhan/.env-list/mach-env/lib/python3.9/site-packages/tensorflow/python/ops/variable_scope.py?line=2641'>2642</a>\u001b[0m       shape\u001b[39m=\u001b[39mshape)\n",
            "File \u001b[0;32m~/.env-list/mach-env/lib/python3.9/site-packages/tensorflow/python/util/traceback_utils.py:150\u001b[0m, in \u001b[0;36mfilter_traceback.<locals>.error_handler\u001b[0;34m(*args, **kwargs)\u001b[0m\n\u001b[1;32m    <a href='file:///home/codevardhan/.env-list/mach-env/lib/python3.9/site-packages/tensorflow/python/util/traceback_utils.py?line=147'>148</a>\u001b[0m filtered_tb \u001b[39m=\u001b[39m \u001b[39mNone\u001b[39;00m\n\u001b[1;32m    <a href='file:///home/codevardhan/.env-list/mach-env/lib/python3.9/site-packages/tensorflow/python/util/traceback_utils.py?line=148'>149</a>\u001b[0m \u001b[39mtry\u001b[39;00m:\n\u001b[0;32m--> <a href='file:///home/codevardhan/.env-list/mach-env/lib/python3.9/site-packages/tensorflow/python/util/traceback_utils.py?line=149'>150</a>\u001b[0m   \u001b[39mreturn\u001b[39;00m fn(\u001b[39m*\u001b[39;49margs, \u001b[39m*\u001b[39;49m\u001b[39m*\u001b[39;49mkwargs)\n\u001b[1;32m    <a href='file:///home/codevardhan/.env-list/mach-env/lib/python3.9/site-packages/tensorflow/python/util/traceback_utils.py?line=150'>151</a>\u001b[0m \u001b[39mexcept\u001b[39;00m \u001b[39mException\u001b[39;00m \u001b[39mas\u001b[39;00m e:\n\u001b[1;32m    <a href='file:///home/codevardhan/.env-list/mach-env/lib/python3.9/site-packages/tensorflow/python/util/traceback_utils.py?line=151'>152</a>\u001b[0m   filtered_tb \u001b[39m=\u001b[39m _process_traceback_frames(e\u001b[39m.\u001b[39m__traceback__)\n",
            "File \u001b[0;32m~/.env-list/mach-env/lib/python3.9/site-packages/tensorflow/python/ops/variables.py:272\u001b[0m, in \u001b[0;36mVariableMetaclass.__call__\u001b[0;34m(cls, *args, **kwargs)\u001b[0m\n\u001b[1;32m    <a href='file:///home/codevardhan/.env-list/mach-env/lib/python3.9/site-packages/tensorflow/python/ops/variables.py?line=269'>270</a>\u001b[0m   \u001b[39mreturn\u001b[39;00m \u001b[39mcls\u001b[39m\u001b[39m.\u001b[39m_variable_v2_call(\u001b[39m*\u001b[39margs, \u001b[39m*\u001b[39m\u001b[39m*\u001b[39mkwargs)\n\u001b[1;32m    <a href='file:///home/codevardhan/.env-list/mach-env/lib/python3.9/site-packages/tensorflow/python/ops/variables.py?line=270'>271</a>\u001b[0m \u001b[39melse\u001b[39;00m:\n\u001b[0;32m--> <a href='file:///home/codevardhan/.env-list/mach-env/lib/python3.9/site-packages/tensorflow/python/ops/variables.py?line=271'>272</a>\u001b[0m   \u001b[39mreturn\u001b[39;00m \u001b[39msuper\u001b[39;49m(VariableMetaclass, \u001b[39mcls\u001b[39;49m)\u001b[39m.\u001b[39;49m\u001b[39m__call__\u001b[39;49m(\u001b[39m*\u001b[39;49margs, \u001b[39m*\u001b[39;49m\u001b[39m*\u001b[39;49mkwargs)\n",
            "File \u001b[0;32m~/.env-list/mach-env/lib/python3.9/site-packages/tensorflow/python/ops/resource_variable_ops.py:1630\u001b[0m, in \u001b[0;36mResourceVariable.__init__\u001b[0;34m(self, initial_value, trainable, collections, validate_shape, caching_device, name, dtype, variable_def, import_scope, constraint, distribute_strategy, synchronization, aggregation, shape)\u001b[0m\n\u001b[1;32m   <a href='file:///home/codevardhan/.env-list/mach-env/lib/python3.9/site-packages/tensorflow/python/ops/resource_variable_ops.py?line=1627'>1628</a>\u001b[0m   \u001b[39mself\u001b[39m\u001b[39m.\u001b[39m_init_from_proto(variable_def, import_scope\u001b[39m=\u001b[39mimport_scope)\n\u001b[1;32m   <a href='file:///home/codevardhan/.env-list/mach-env/lib/python3.9/site-packages/tensorflow/python/ops/resource_variable_ops.py?line=1628'>1629</a>\u001b[0m \u001b[39melse\u001b[39;00m:\n\u001b[0;32m-> <a href='file:///home/codevardhan/.env-list/mach-env/lib/python3.9/site-packages/tensorflow/python/ops/resource_variable_ops.py?line=1629'>1630</a>\u001b[0m   \u001b[39mself\u001b[39;49m\u001b[39m.\u001b[39;49m_init_from_args(\n\u001b[1;32m   <a href='file:///home/codevardhan/.env-list/mach-env/lib/python3.9/site-packages/tensorflow/python/ops/resource_variable_ops.py?line=1630'>1631</a>\u001b[0m       initial_value\u001b[39m=\u001b[39;49minitial_value,\n\u001b[1;32m   <a href='file:///home/codevardhan/.env-list/mach-env/lib/python3.9/site-packages/tensorflow/python/ops/resource_variable_ops.py?line=1631'>1632</a>\u001b[0m       trainable\u001b[39m=\u001b[39;49mtrainable,\n\u001b[1;32m   <a href='file:///home/codevardhan/.env-list/mach-env/lib/python3.9/site-packages/tensorflow/python/ops/resource_variable_ops.py?line=1632'>1633</a>\u001b[0m       collections\u001b[39m=\u001b[39;49mcollections,\n\u001b[1;32m   <a href='file:///home/codevardhan/.env-list/mach-env/lib/python3.9/site-packages/tensorflow/python/ops/resource_variable_ops.py?line=1633'>1634</a>\u001b[0m       caching_device\u001b[39m=\u001b[39;49mcaching_device,\n\u001b[1;32m   <a href='file:///home/codevardhan/.env-list/mach-env/lib/python3.9/site-packages/tensorflow/python/ops/resource_variable_ops.py?line=1634'>1635</a>\u001b[0m       name\u001b[39m=\u001b[39;49mname,\n\u001b[1;32m   <a href='file:///home/codevardhan/.env-list/mach-env/lib/python3.9/site-packages/tensorflow/python/ops/resource_variable_ops.py?line=1635'>1636</a>\u001b[0m       dtype\u001b[39m=\u001b[39;49mdtype,\n\u001b[1;32m   <a href='file:///home/codevardhan/.env-list/mach-env/lib/python3.9/site-packages/tensorflow/python/ops/resource_variable_ops.py?line=1636'>1637</a>\u001b[0m       constraint\u001b[39m=\u001b[39;49mconstraint,\n\u001b[1;32m   <a href='file:///home/codevardhan/.env-list/mach-env/lib/python3.9/site-packages/tensorflow/python/ops/resource_variable_ops.py?line=1637'>1638</a>\u001b[0m       synchronization\u001b[39m=\u001b[39;49msynchronization,\n\u001b[1;32m   <a href='file:///home/codevardhan/.env-list/mach-env/lib/python3.9/site-packages/tensorflow/python/ops/resource_variable_ops.py?line=1638'>1639</a>\u001b[0m       aggregation\u001b[39m=\u001b[39;49maggregation,\n\u001b[1;32m   <a href='file:///home/codevardhan/.env-list/mach-env/lib/python3.9/site-packages/tensorflow/python/ops/resource_variable_ops.py?line=1639'>1640</a>\u001b[0m       shape\u001b[39m=\u001b[39;49mshape,\n\u001b[1;32m   <a href='file:///home/codevardhan/.env-list/mach-env/lib/python3.9/site-packages/tensorflow/python/ops/resource_variable_ops.py?line=1640'>1641</a>\u001b[0m       distribute_strategy\u001b[39m=\u001b[39;49mdistribute_strategy)\n",
            "File \u001b[0;32m~/.env-list/mach-env/lib/python3.9/site-packages/tensorflow/python/ops/resource_variable_ops.py:1776\u001b[0m, in \u001b[0;36mResourceVariable._init_from_args\u001b[0;34m(self, initial_value, trainable, collections, caching_device, name, dtype, constraint, synchronization, aggregation, distribute_strategy, shape)\u001b[0m\n\u001b[1;32m   <a href='file:///home/codevardhan/.env-list/mach-env/lib/python3.9/site-packages/tensorflow/python/ops/resource_variable_ops.py?line=1773'>1774</a>\u001b[0m \u001b[39mwith\u001b[39;00m ops\u001b[39m.\u001b[39mname_scope(\u001b[39m\"\u001b[39m\u001b[39mInitializer\u001b[39m\u001b[39m\"\u001b[39m), device_context_manager(\u001b[39mNone\u001b[39;00m):\n\u001b[1;32m   <a href='file:///home/codevardhan/.env-list/mach-env/lib/python3.9/site-packages/tensorflow/python/ops/resource_variable_ops.py?line=1774'>1775</a>\u001b[0m   \u001b[39mif\u001b[39;00m init_from_fn:\n\u001b[0;32m-> <a href='file:///home/codevardhan/.env-list/mach-env/lib/python3.9/site-packages/tensorflow/python/ops/resource_variable_ops.py?line=1775'>1776</a>\u001b[0m     initial_value \u001b[39m=\u001b[39m initial_value()\n\u001b[1;32m   <a href='file:///home/codevardhan/.env-list/mach-env/lib/python3.9/site-packages/tensorflow/python/ops/resource_variable_ops.py?line=1776'>1777</a>\u001b[0m   \u001b[39mif\u001b[39;00m \u001b[39misinstance\u001b[39m(initial_value, trackable\u001b[39m.\u001b[39mCheckpointInitialValue):\n\u001b[1;32m   <a href='file:///home/codevardhan/.env-list/mach-env/lib/python3.9/site-packages/tensorflow/python/ops/resource_variable_ops.py?line=1777'>1778</a>\u001b[0m     \u001b[39mself\u001b[39m\u001b[39m.\u001b[39m_maybe_initialize_trackable()\n",
            "File \u001b[0;32m~/.env-list/mach-env/lib/python3.9/site-packages/keras/initializers/initializers_v2.py:287\u001b[0m, in \u001b[0;36mRandomUniform.__call__\u001b[0;34m(self, shape, dtype, **kwargs)\u001b[0m\n\u001b[1;32m    <a href='file:///home/codevardhan/.env-list/mach-env/lib/python3.9/site-packages/keras/initializers/initializers_v2.py?line=284'>285</a>\u001b[0m \u001b[39mif\u001b[39;00m _PARTITION_SHAPE \u001b[39min\u001b[39;00m kwargs:\n\u001b[1;32m    <a href='file:///home/codevardhan/.env-list/mach-env/lib/python3.9/site-packages/keras/initializers/initializers_v2.py?line=285'>286</a>\u001b[0m   shape \u001b[39m=\u001b[39m kwargs[_PARTITION_SHAPE]\n\u001b[0;32m--> <a href='file:///home/codevardhan/.env-list/mach-env/lib/python3.9/site-packages/keras/initializers/initializers_v2.py?line=286'>287</a>\u001b[0m \u001b[39mreturn\u001b[39;00m \u001b[39mself\u001b[39;49m\u001b[39m.\u001b[39;49m_random_generator\u001b[39m.\u001b[39;49mrandom_uniform(shape, \u001b[39mself\u001b[39;49m\u001b[39m.\u001b[39;49mminval,\n\u001b[1;32m    <a href='file:///home/codevardhan/.env-list/mach-env/lib/python3.9/site-packages/keras/initializers/initializers_v2.py?line=287'>288</a>\u001b[0m                                              \u001b[39mself\u001b[39;49m\u001b[39m.\u001b[39;49mmaxval, dtype)\n",
            "File \u001b[0;32m~/.env-list/mach-env/lib/python3.9/site-packages/keras/backend.py:1831\u001b[0m, in \u001b[0;36mRandomGenerator.random_uniform\u001b[0;34m(self, shape, minval, maxval, dtype)\u001b[0m\n\u001b[1;32m   <a href='file:///home/codevardhan/.env-list/mach-env/lib/python3.9/site-packages/keras/backend.py?line=1827'>1828</a>\u001b[0m \u001b[39mif\u001b[39;00m \u001b[39mself\u001b[39m\u001b[39m.\u001b[39m_generator:\n\u001b[1;32m   <a href='file:///home/codevardhan/.env-list/mach-env/lib/python3.9/site-packages/keras/backend.py?line=1828'>1829</a>\u001b[0m   \u001b[39mreturn\u001b[39;00m \u001b[39mself\u001b[39m\u001b[39m.\u001b[39m_generator\u001b[39m.\u001b[39muniform(\n\u001b[1;32m   <a href='file:///home/codevardhan/.env-list/mach-env/lib/python3.9/site-packages/keras/backend.py?line=1829'>1830</a>\u001b[0m       shape\u001b[39m=\u001b[39mshape, minval\u001b[39m=\u001b[39mminval, maxval\u001b[39m=\u001b[39mmaxval, dtype\u001b[39m=\u001b[39mdtype)\n\u001b[0;32m-> <a href='file:///home/codevardhan/.env-list/mach-env/lib/python3.9/site-packages/keras/backend.py?line=1830'>1831</a>\u001b[0m \u001b[39mreturn\u001b[39;00m tf\u001b[39m.\u001b[39;49mrandom\u001b[39m.\u001b[39;49muniform(\n\u001b[1;32m   <a href='file:///home/codevardhan/.env-list/mach-env/lib/python3.9/site-packages/keras/backend.py?line=1831'>1832</a>\u001b[0m     shape\u001b[39m=\u001b[39;49mshape, minval\u001b[39m=\u001b[39;49mminval, maxval\u001b[39m=\u001b[39;49mmaxval, dtype\u001b[39m=\u001b[39;49mdtype,\n\u001b[1;32m   <a href='file:///home/codevardhan/.env-list/mach-env/lib/python3.9/site-packages/keras/backend.py?line=1832'>1833</a>\u001b[0m     seed\u001b[39m=\u001b[39;49m\u001b[39mself\u001b[39;49m\u001b[39m.\u001b[39;49mmake_legacy_seed())\n",
            "File \u001b[0;32m~/.env-list/mach-env/lib/python3.9/site-packages/tensorflow/python/util/traceback_utils.py:150\u001b[0m, in \u001b[0;36mfilter_traceback.<locals>.error_handler\u001b[0;34m(*args, **kwargs)\u001b[0m\n\u001b[1;32m    <a href='file:///home/codevardhan/.env-list/mach-env/lib/python3.9/site-packages/tensorflow/python/util/traceback_utils.py?line=147'>148</a>\u001b[0m filtered_tb \u001b[39m=\u001b[39m \u001b[39mNone\u001b[39;00m\n\u001b[1;32m    <a href='file:///home/codevardhan/.env-list/mach-env/lib/python3.9/site-packages/tensorflow/python/util/traceback_utils.py?line=148'>149</a>\u001b[0m \u001b[39mtry\u001b[39;00m:\n\u001b[0;32m--> <a href='file:///home/codevardhan/.env-list/mach-env/lib/python3.9/site-packages/tensorflow/python/util/traceback_utils.py?line=149'>150</a>\u001b[0m   \u001b[39mreturn\u001b[39;00m fn(\u001b[39m*\u001b[39;49margs, \u001b[39m*\u001b[39;49m\u001b[39m*\u001b[39;49mkwargs)\n\u001b[1;32m    <a href='file:///home/codevardhan/.env-list/mach-env/lib/python3.9/site-packages/tensorflow/python/util/traceback_utils.py?line=150'>151</a>\u001b[0m \u001b[39mexcept\u001b[39;00m \u001b[39mException\u001b[39;00m \u001b[39mas\u001b[39;00m e:\n\u001b[1;32m    <a href='file:///home/codevardhan/.env-list/mach-env/lib/python3.9/site-packages/tensorflow/python/util/traceback_utils.py?line=151'>152</a>\u001b[0m   filtered_tb \u001b[39m=\u001b[39m _process_traceback_frames(e\u001b[39m.\u001b[39m__traceback__)\n",
            "File \u001b[0;32m~/.env-list/mach-env/lib/python3.9/site-packages/tensorflow/python/util/dispatch.py:1096\u001b[0m, in \u001b[0;36madd_dispatch_support.<locals>.decorator.<locals>.op_dispatch_handler\u001b[0;34m(*args, **kwargs)\u001b[0m\n\u001b[1;32m   <a href='file:///home/codevardhan/.env-list/mach-env/lib/python3.9/site-packages/tensorflow/python/util/dispatch.py?line=1093'>1094</a>\u001b[0m \u001b[39m# Fallback dispatch system (dispatch v1):\u001b[39;00m\n\u001b[1;32m   <a href='file:///home/codevardhan/.env-list/mach-env/lib/python3.9/site-packages/tensorflow/python/util/dispatch.py?line=1094'>1095</a>\u001b[0m \u001b[39mtry\u001b[39;00m:\n\u001b[0;32m-> <a href='file:///home/codevardhan/.env-list/mach-env/lib/python3.9/site-packages/tensorflow/python/util/dispatch.py?line=1095'>1096</a>\u001b[0m   \u001b[39mreturn\u001b[39;00m dispatch_target(\u001b[39m*\u001b[39;49margs, \u001b[39m*\u001b[39;49m\u001b[39m*\u001b[39;49mkwargs)\n\u001b[1;32m   <a href='file:///home/codevardhan/.env-list/mach-env/lib/python3.9/site-packages/tensorflow/python/util/dispatch.py?line=1096'>1097</a>\u001b[0m \u001b[39mexcept\u001b[39;00m (\u001b[39mTypeError\u001b[39;00m, \u001b[39mValueError\u001b[39;00m):\n\u001b[1;32m   <a href='file:///home/codevardhan/.env-list/mach-env/lib/python3.9/site-packages/tensorflow/python/util/dispatch.py?line=1097'>1098</a>\u001b[0m   \u001b[39m# Note: convert_to_eager_tensor currently raises a ValueError, not a\u001b[39;00m\n\u001b[1;32m   <a href='file:///home/codevardhan/.env-list/mach-env/lib/python3.9/site-packages/tensorflow/python/util/dispatch.py?line=1098'>1099</a>\u001b[0m   \u001b[39m# TypeError, when given unexpected types.  So we need to catch both.\u001b[39;00m\n\u001b[1;32m   <a href='file:///home/codevardhan/.env-list/mach-env/lib/python3.9/site-packages/tensorflow/python/util/dispatch.py?line=1099'>1100</a>\u001b[0m   result \u001b[39m=\u001b[39m dispatch(op_dispatch_handler, args, kwargs)\n",
            "File \u001b[0;32m~/.env-list/mach-env/lib/python3.9/site-packages/tensorflow/python/ops/random_ops.py:317\u001b[0m, in \u001b[0;36mrandom_uniform\u001b[0;34m(shape, minval, maxval, dtype, seed, name)\u001b[0m\n\u001b[1;32m    <a href='file:///home/codevardhan/.env-list/mach-env/lib/python3.9/site-packages/tensorflow/python/ops/random_ops.py?line=314'>315</a>\u001b[0m       result \u001b[39m=\u001b[39m math_ops\u001b[39m.\u001b[39mmultiply(result, maxval)\n\u001b[1;32m    <a href='file:///home/codevardhan/.env-list/mach-env/lib/python3.9/site-packages/tensorflow/python/ops/random_ops.py?line=315'>316</a>\u001b[0m   \u001b[39melse\u001b[39;00m:\n\u001b[0;32m--> <a href='file:///home/codevardhan/.env-list/mach-env/lib/python3.9/site-packages/tensorflow/python/ops/random_ops.py?line=316'>317</a>\u001b[0m     result \u001b[39m=\u001b[39m math_ops\u001b[39m.\u001b[39;49madd(result \u001b[39m*\u001b[39;49m (maxval \u001b[39m-\u001b[39;49m minval), minval, name\u001b[39m=\u001b[39;49mname)\n\u001b[1;32m    <a href='file:///home/codevardhan/.env-list/mach-env/lib/python3.9/site-packages/tensorflow/python/ops/random_ops.py?line=317'>318</a>\u001b[0m \u001b[39m# TODO(b/132092188): C++ shape inference inside functional ops does not\u001b[39;00m\n\u001b[1;32m    <a href='file:///home/codevardhan/.env-list/mach-env/lib/python3.9/site-packages/tensorflow/python/ops/random_ops.py?line=318'>319</a>\u001b[0m \u001b[39m# cross FuncGraph boundaries since that information is only available in\u001b[39;00m\n\u001b[1;32m    <a href='file:///home/codevardhan/.env-list/mach-env/lib/python3.9/site-packages/tensorflow/python/ops/random_ops.py?line=319'>320</a>\u001b[0m \u001b[39m# python. So we manually get the static shape using\u001b[39;00m\n\u001b[1;32m    <a href='file:///home/codevardhan/.env-list/mach-env/lib/python3.9/site-packages/tensorflow/python/ops/random_ops.py?line=320'>321</a>\u001b[0m \u001b[39m# `constant_value_as_shape` which *does* cross function boundaries.\u001b[39;00m\n\u001b[1;32m    <a href='file:///home/codevardhan/.env-list/mach-env/lib/python3.9/site-packages/tensorflow/python/ops/random_ops.py?line=321'>322</a>\u001b[0m tensor_util\u001b[39m.\u001b[39mmaybe_set_static_shape(result, shape)\n",
            "File \u001b[0;32m~/.env-list/mach-env/lib/python3.9/site-packages/tensorflow/python/util/traceback_utils.py:150\u001b[0m, in \u001b[0;36mfilter_traceback.<locals>.error_handler\u001b[0;34m(*args, **kwargs)\u001b[0m\n\u001b[1;32m    <a href='file:///home/codevardhan/.env-list/mach-env/lib/python3.9/site-packages/tensorflow/python/util/traceback_utils.py?line=147'>148</a>\u001b[0m filtered_tb \u001b[39m=\u001b[39m \u001b[39mNone\u001b[39;00m\n\u001b[1;32m    <a href='file:///home/codevardhan/.env-list/mach-env/lib/python3.9/site-packages/tensorflow/python/util/traceback_utils.py?line=148'>149</a>\u001b[0m \u001b[39mtry\u001b[39;00m:\n\u001b[0;32m--> <a href='file:///home/codevardhan/.env-list/mach-env/lib/python3.9/site-packages/tensorflow/python/util/traceback_utils.py?line=149'>150</a>\u001b[0m   \u001b[39mreturn\u001b[39;00m fn(\u001b[39m*\u001b[39;49margs, \u001b[39m*\u001b[39;49m\u001b[39m*\u001b[39;49mkwargs)\n\u001b[1;32m    <a href='file:///home/codevardhan/.env-list/mach-env/lib/python3.9/site-packages/tensorflow/python/util/traceback_utils.py?line=150'>151</a>\u001b[0m \u001b[39mexcept\u001b[39;00m \u001b[39mException\u001b[39;00m \u001b[39mas\u001b[39;00m e:\n\u001b[1;32m    <a href='file:///home/codevardhan/.env-list/mach-env/lib/python3.9/site-packages/tensorflow/python/util/traceback_utils.py?line=151'>152</a>\u001b[0m   filtered_tb \u001b[39m=\u001b[39m _process_traceback_frames(e\u001b[39m.\u001b[39m__traceback__)\n",
            "File \u001b[0;32m~/.env-list/mach-env/lib/python3.9/site-packages/tensorflow/python/util/dispatch.py:1096\u001b[0m, in \u001b[0;36madd_dispatch_support.<locals>.decorator.<locals>.op_dispatch_handler\u001b[0;34m(*args, **kwargs)\u001b[0m\n\u001b[1;32m   <a href='file:///home/codevardhan/.env-list/mach-env/lib/python3.9/site-packages/tensorflow/python/util/dispatch.py?line=1093'>1094</a>\u001b[0m \u001b[39m# Fallback dispatch system (dispatch v1):\u001b[39;00m\n\u001b[1;32m   <a href='file:///home/codevardhan/.env-list/mach-env/lib/python3.9/site-packages/tensorflow/python/util/dispatch.py?line=1094'>1095</a>\u001b[0m \u001b[39mtry\u001b[39;00m:\n\u001b[0;32m-> <a href='file:///home/codevardhan/.env-list/mach-env/lib/python3.9/site-packages/tensorflow/python/util/dispatch.py?line=1095'>1096</a>\u001b[0m   \u001b[39mreturn\u001b[39;00m dispatch_target(\u001b[39m*\u001b[39;49margs, \u001b[39m*\u001b[39;49m\u001b[39m*\u001b[39;49mkwargs)\n\u001b[1;32m   <a href='file:///home/codevardhan/.env-list/mach-env/lib/python3.9/site-packages/tensorflow/python/util/dispatch.py?line=1096'>1097</a>\u001b[0m \u001b[39mexcept\u001b[39;00m (\u001b[39mTypeError\u001b[39;00m, \u001b[39mValueError\u001b[39;00m):\n\u001b[1;32m   <a href='file:///home/codevardhan/.env-list/mach-env/lib/python3.9/site-packages/tensorflow/python/util/dispatch.py?line=1097'>1098</a>\u001b[0m   \u001b[39m# Note: convert_to_eager_tensor currently raises a ValueError, not a\u001b[39;00m\n\u001b[1;32m   <a href='file:///home/codevardhan/.env-list/mach-env/lib/python3.9/site-packages/tensorflow/python/util/dispatch.py?line=1098'>1099</a>\u001b[0m   \u001b[39m# TypeError, when given unexpected types.  So we need to catch both.\u001b[39;00m\n\u001b[1;32m   <a href='file:///home/codevardhan/.env-list/mach-env/lib/python3.9/site-packages/tensorflow/python/util/dispatch.py?line=1099'>1100</a>\u001b[0m   result \u001b[39m=\u001b[39m dispatch(op_dispatch_handler, args, kwargs)\n",
            "File \u001b[0;32m~/.env-list/mach-env/lib/python3.9/site-packages/tensorflow/python/ops/math_ops.py:3990\u001b[0m, in \u001b[0;36madd\u001b[0;34m(x, y, name)\u001b[0m\n\u001b[1;32m   <a href='file:///home/codevardhan/.env-list/mach-env/lib/python3.9/site-packages/tensorflow/python/ops/math_ops.py?line=3987'>3988</a>\u001b[0m   \u001b[39mreturn\u001b[39;00m gen_math_ops\u001b[39m.\u001b[39madd(x, y, name\u001b[39m=\u001b[39mname)\n\u001b[1;32m   <a href='file:///home/codevardhan/.env-list/mach-env/lib/python3.9/site-packages/tensorflow/python/ops/math_ops.py?line=3988'>3989</a>\u001b[0m \u001b[39melse\u001b[39;00m:\n\u001b[0;32m-> <a href='file:///home/codevardhan/.env-list/mach-env/lib/python3.9/site-packages/tensorflow/python/ops/math_ops.py?line=3989'>3990</a>\u001b[0m   \u001b[39mreturn\u001b[39;00m gen_math_ops\u001b[39m.\u001b[39;49madd_v2(x, y, name\u001b[39m=\u001b[39;49mname)\n",
            "File \u001b[0;32m~/.env-list/mach-env/lib/python3.9/site-packages/tensorflow/python/ops/gen_math_ops.py:462\u001b[0m, in \u001b[0;36madd_v2\u001b[0;34m(x, y, name)\u001b[0m\n\u001b[1;32m    <a href='file:///home/codevardhan/.env-list/mach-env/lib/python3.9/site-packages/tensorflow/python/ops/gen_math_ops.py?line=459'>460</a>\u001b[0m \u001b[39mif\u001b[39;00m tld\u001b[39m.\u001b[39mis_eager:\n\u001b[1;32m    <a href='file:///home/codevardhan/.env-list/mach-env/lib/python3.9/site-packages/tensorflow/python/ops/gen_math_ops.py?line=460'>461</a>\u001b[0m   \u001b[39mtry\u001b[39;00m:\n\u001b[0;32m--> <a href='file:///home/codevardhan/.env-list/mach-env/lib/python3.9/site-packages/tensorflow/python/ops/gen_math_ops.py?line=461'>462</a>\u001b[0m     _result \u001b[39m=\u001b[39m pywrap_tfe\u001b[39m.\u001b[39;49mTFE_Py_FastPathExecute(\n\u001b[1;32m    <a href='file:///home/codevardhan/.env-list/mach-env/lib/python3.9/site-packages/tensorflow/python/ops/gen_math_ops.py?line=462'>463</a>\u001b[0m       _ctx, \u001b[39m\"\u001b[39;49m\u001b[39mAddV2\u001b[39;49m\u001b[39m\"\u001b[39;49m, name, x, y)\n\u001b[1;32m    <a href='file:///home/codevardhan/.env-list/mach-env/lib/python3.9/site-packages/tensorflow/python/ops/gen_math_ops.py?line=463'>464</a>\u001b[0m     \u001b[39mreturn\u001b[39;00m _result\n\u001b[1;32m    <a href='file:///home/codevardhan/.env-list/mach-env/lib/python3.9/site-packages/tensorflow/python/ops/gen_math_ops.py?line=464'>465</a>\u001b[0m   \u001b[39mexcept\u001b[39;00m _core\u001b[39m.\u001b[39m_NotOkStatusException \u001b[39mas\u001b[39;00m e:\n",
            "\u001b[0;31mKeyboardInterrupt\u001b[0m: "
          ]
        }
      ],
      "source": [
        "sec_data[\"sentiment\"] = sec_data[\"data\"].apply(lambda x: get_score(x))\n",
        "sec_data.head()"
      ]
    },
    {
      "cell_type": "code",
      "execution_count": null,
      "metadata": {},
      "outputs": [],
      "source": [
        "# rescaling the sentiment scores to be between -1 and 1\n",
        "def rescale(val):\n",
        "    o1 = 0\n",
        "    o2 = 1\n",
        "    n1 = -1\n",
        "    n2 = 1\n",
        "\n",
        "    val = ( (val - o1) / (o2 - o1) ) * (n2 - n1) + n1\n",
        "    return val\n",
        "\n",
        "sec_data[\"sentiment\"]=sec_data[\"sentiment\"].apply(lambda x: rescale(x))\n",
        "sec_data.head()\n"
      ]
    },
    {
      "cell_type": "code",
      "execution_count": null,
      "metadata": {},
      "outputs": [],
      "source": [
        "# sec_data.to_csv('output/sec_sentiment_data.csv', index=False)"
      ]
    },
    {
      "cell_type": "code",
      "execution_count": 11,
      "metadata": {},
      "outputs": [
        {
          "data": {
            "text/html": [
              "<div>\n",
              "<style scoped>\n",
              "    .dataframe tbody tr th:only-of-type {\n",
              "        vertical-align: middle;\n",
              "    }\n",
              "\n",
              "    .dataframe tbody tr th {\n",
              "        vertical-align: top;\n",
              "    }\n",
              "\n",
              "    .dataframe thead th {\n",
              "        text-align: right;\n",
              "    }\n",
              "</style>\n",
              "<table border=\"1\" class=\"dataframe\">\n",
              "  <thead>\n",
              "    <tr style=\"text-align: right;\">\n",
              "      <th></th>\n",
              "      <th>dates</th>\n",
              "      <th>data</th>\n",
              "      <th>sentiment</th>\n",
              "    </tr>\n",
              "  </thead>\n",
              "  <tbody>\n",
              "    <tr>\n",
              "      <th>0</th>\n",
              "      <td>2022-04-28</td>\n",
              "      <td>k amzn htm k amzn of contentsunited statessecu...</td>\n",
              "      <td>-0.061694</td>\n",
              "    </tr>\n",
              "    <tr>\n",
              "      <th>1</th>\n",
              "      <td>2022-04-14</td>\n",
              "      <td>k htm form k false inc usd xbrli shares usd xb...</td>\n",
              "      <td>0.379136</td>\n",
              "    </tr>\n",
              "    <tr>\n",
              "      <th>2</th>\n",
              "      <td>2022-04-13</td>\n",
              "      <td>k htm k k false united states securities and e...</td>\n",
              "      <td>0.273134</td>\n",
              "    </tr>\n",
              "    <tr>\n",
              "      <th>3</th>\n",
              "      <td>2022-03-09</td>\n",
              "      <td>k amzn htm k amzn of contentsunited statessecu...</td>\n",
              "      <td>0.374390</td>\n",
              "    </tr>\n",
              "    <tr>\n",
              "      <th>4</th>\n",
              "      <td>2022-02-03</td>\n",
              "      <td>k amzn htm k amzn of contentsunited statessecu...</td>\n",
              "      <td>-0.430636</td>\n",
              "    </tr>\n",
              "  </tbody>\n",
              "</table>\n",
              "</div>"
            ],
            "text/plain": [
              "        dates                                               data  sentiment\n",
              "0  2022-04-28  k amzn htm k amzn of contentsunited statessecu...  -0.061694\n",
              "1  2022-04-14  k htm form k false inc usd xbrli shares usd xb...   0.379136\n",
              "2  2022-04-13  k htm k k false united states securities and e...   0.273134\n",
              "3  2022-03-09  k amzn htm k amzn of contentsunited statessecu...   0.374390\n",
              "4  2022-02-03  k amzn htm k amzn of contentsunited statessecu...  -0.430636"
            ]
          },
          "execution_count": 11,
          "metadata": {},
          "output_type": "execute_result"
        }
      ],
      "source": [
        "sec_data = pd.read_csv('output/sec_sentiment_data.csv')\n",
        "sec_data.head()"
      ]
    },
    {
      "cell_type": "code",
      "execution_count": 13,
      "metadata": {},
      "outputs": [],
      "source": [
        "df_new = pd.DataFrame(columns=['Date', 'Close', 'Sentiment'])\n",
        "\n",
        "df = pd.read_csv('./data/AMZN.csv')\n",
        "\n",
        "for i, row in df.iterrows():\n",
        "    sentiment = 0\n",
        "    for idx, row2 in sec_data.iterrows():\n",
        "        if row['Date'] == row2['dates']:\n",
        "            sentiment = row2['sentiment']\n",
        "    \n",
        "    df_new.loc[i] = [row['Date'], row['Close'], sentiment]"
      ]
    },
    {
      "cell_type": "code",
      "execution_count": 14,
      "metadata": {},
      "outputs": [
        {
          "data": {
            "text/html": [
              "<div>\n",
              "<style scoped>\n",
              "    .dataframe tbody tr th:only-of-type {\n",
              "        vertical-align: middle;\n",
              "    }\n",
              "\n",
              "    .dataframe tbody tr th {\n",
              "        vertical-align: top;\n",
              "    }\n",
              "\n",
              "    .dataframe thead th {\n",
              "        text-align: right;\n",
              "    }\n",
              "</style>\n",
              "<table border=\"1\" class=\"dataframe\">\n",
              "  <thead>\n",
              "    <tr style=\"text-align: right;\">\n",
              "      <th></th>\n",
              "      <th>Date</th>\n",
              "      <th>Close</th>\n",
              "      <th>Sentiment</th>\n",
              "    </tr>\n",
              "  </thead>\n",
              "  <tbody>\n",
              "    <tr>\n",
              "      <th>0</th>\n",
              "      <td>2012-01-03</td>\n",
              "      <td>179.029999</td>\n",
              "      <td>0</td>\n",
              "    </tr>\n",
              "    <tr>\n",
              "      <th>1</th>\n",
              "      <td>2012-01-04</td>\n",
              "      <td>177.509995</td>\n",
              "      <td>0</td>\n",
              "    </tr>\n",
              "    <tr>\n",
              "      <th>2</th>\n",
              "      <td>2012-01-05</td>\n",
              "      <td>177.610001</td>\n",
              "      <td>0</td>\n",
              "    </tr>\n",
              "    <tr>\n",
              "      <th>3</th>\n",
              "      <td>2012-01-06</td>\n",
              "      <td>182.610001</td>\n",
              "      <td>0</td>\n",
              "    </tr>\n",
              "    <tr>\n",
              "      <th>4</th>\n",
              "      <td>2012-01-09</td>\n",
              "      <td>178.559998</td>\n",
              "      <td>0</td>\n",
              "    </tr>\n",
              "  </tbody>\n",
              "</table>\n",
              "</div>"
            ],
            "text/plain": [
              "         Date       Close Sentiment\n",
              "0  2012-01-03  179.029999         0\n",
              "1  2012-01-04  177.509995         0\n",
              "2  2012-01-05  177.610001         0\n",
              "3  2012-01-06  182.610001         0\n",
              "4  2012-01-09  178.559998         0"
            ]
          },
          "execution_count": 14,
          "metadata": {},
          "output_type": "execute_result"
        }
      ],
      "source": [
        "df_new.head()"
      ]
    },
    {
      "cell_type": "code",
      "execution_count": 15,
      "metadata": {},
      "outputs": [
        {
          "data": {
            "text/plain": [
              "array([0, -0.5625367164611816, 0.4611152410507202, -0.0324553847312927,\n",
              "       -0.6398483514785767, -0.1048037409782409, -0.3416502475738525,\n",
              "       -0.0085186958312988, -0.7438042759895325, -0.5424008369445801,\n",
              "       0.242497444152832, 0.199964165687561, 0.5491327047348022,\n",
              "       -0.1048862338066101, -0.7401959896087646, -0.5498631000518799,\n",
              "       0.3956751823425293, -0.0252444148063659, 0.580223560333252,\n",
              "       -0.2547135949134826, 0.1335667371749878, 0.6514997482299805,\n",
              "       0.0797326564788818, 0.6702210903167725, 0.4344052076339721,\n",
              "       -0.3402508497238159, -0.5089600086212158, -0.7306082844734192,\n",
              "       -0.5564051866531372, -0.5042034387588501, 0.363162636756897,\n",
              "       0.6332573890686035, -0.2069723010063171, -0.2682939767837524,\n",
              "       -0.7156701683998108, -0.5281744599342346, -0.6203857064247131,\n",
              "       0.1168383359909057, 0.4124402999877929, -0.2248092293739318,\n",
              "       0.5919485092163086, -0.2069534063339233, -0.1633265018463134,\n",
              "       -0.2688777446746826, -0.7107051610946655, -0.4639151692390442,\n",
              "       0.2587711811065674, 0.4126062393188476, 0.0753787755966186,\n",
              "       0.7043614387512207, 0.526146411895752, -0.2209903001785278,\n",
              "       0.665718674659729, 0.590451717376709, -0.6839550733566284,\n",
              "       0.3431470394134521, -0.1676383018493652, -0.2315120100975036,\n",
              "       0.0775226354598999, -0.5939744114875793, 0.4671525955200195,\n",
              "       0.0955244302749633, -0.0303334593772888, 0.0274231433868408,\n",
              "       0.7258920669555664, -0.1175113916397094, -0.7004356980323792,\n",
              "       0.4789192676544189, -0.016822874546051, 0.1209869384765625,\n",
              "       -0.0273960828781127, 0.2257885932922363, 0.7038042545318604,\n",
              "       -0.1185342073440551, -0.5602542757987976, -0.1349325180053711,\n",
              "       -0.5995020270347595, -0.6692402958869934, 0.5207078456878662,\n",
              "       0.3791525363922119, -0.033720314502716, 0.5902092456817627,\n",
              "       -0.0241242051124572, 0.5173536539077759, -0.0312542915344238,\n",
              "       0.2818033695220947, 0.189590573310852, -0.1352455615997314,\n",
              "       -0.4211481213569641, -0.3182715773582458, -0.1427188515663147,\n",
              "       0.3791123628616333, -0.0616935491561889, 0.2764879465103149,\n",
              "       0.6363691091537476, 0.1633890867233276, 0.1462085247039795,\n",
              "       -0.0508210062980651, -0.4306355118751526, -0.5636897683143616,\n",
              "       0.3743903636932373, 0.2731342315673828, 0.3791357278823852],\n",
              "      dtype=object)"
            ]
          },
          "execution_count": 15,
          "metadata": {},
          "output_type": "execute_result"
        }
      ],
      "source": [
        "df_new[\"Sentiment\"].unique()"
      ]
    },
    {
      "cell_type": "code",
      "execution_count": 86,
      "metadata": {},
      "outputs": [
        {
          "data": {
            "text/html": [
              "<div>\n",
              "<style scoped>\n",
              "    .dataframe tbody tr th:only-of-type {\n",
              "        vertical-align: middle;\n",
              "    }\n",
              "\n",
              "    .dataframe tbody tr th {\n",
              "        vertical-align: top;\n",
              "    }\n",
              "\n",
              "    .dataframe thead th {\n",
              "        text-align: right;\n",
              "    }\n",
              "</style>\n",
              "<table border=\"1\" class=\"dataframe\">\n",
              "  <thead>\n",
              "    <tr style=\"text-align: right;\">\n",
              "      <th></th>\n",
              "      <th>Close</th>\n",
              "      <th>sentiment</th>\n",
              "    </tr>\n",
              "    <tr>\n",
              "      <th>Date</th>\n",
              "      <th></th>\n",
              "      <th></th>\n",
              "    </tr>\n",
              "  </thead>\n",
              "  <tbody>\n",
              "    <tr>\n",
              "      <th>2012-01-03</th>\n",
              "      <td>179.029999</td>\n",
              "      <td>0</td>\n",
              "    </tr>\n",
              "    <tr>\n",
              "      <th>2012-01-04</th>\n",
              "      <td>177.509995</td>\n",
              "      <td>0</td>\n",
              "    </tr>\n",
              "    <tr>\n",
              "      <th>2012-01-05</th>\n",
              "      <td>177.610001</td>\n",
              "      <td>0</td>\n",
              "    </tr>\n",
              "    <tr>\n",
              "      <th>2012-01-06</th>\n",
              "      <td>182.610001</td>\n",
              "      <td>0</td>\n",
              "    </tr>\n",
              "    <tr>\n",
              "      <th>2012-01-09</th>\n",
              "      <td>178.559998</td>\n",
              "      <td>0</td>\n",
              "    </tr>\n",
              "  </tbody>\n",
              "</table>\n",
              "</div>"
            ],
            "text/plain": [
              "                 Close sentiment\n",
              "Date                            \n",
              "2012-01-03  179.029999         0\n",
              "2012-01-04  177.509995         0\n",
              "2012-01-05  177.610001         0\n",
              "2012-01-06  182.610001         0\n",
              "2012-01-09  178.559998         0"
            ]
          },
          "execution_count": 86,
          "metadata": {},
          "output_type": "execute_result"
        }
      ],
      "source": [
        "all_data['sentiment'] = df_new['Sentiment'].values\n",
        "sentiments = df_new['Sentiment'].values\n",
        "all_data.head()"
      ]
    },
    {
      "cell_type": "markdown",
      "metadata": {},
      "source": [
        "## Pre-processing Stock Data"
      ]
    },
    {
      "cell_type": "code",
      "execution_count": 131,
      "metadata": {
        "id": "QO-hyLkJrnZi"
      },
      "outputs": [],
      "source": [
        "dataset = close_data.values\n",
        "train = dataset[0:2000, :]\n",
        "valid = dataset[2000:, :]\n",
        "# print(dataset)"
      ]
    },
    {
      "cell_type": "code",
      "execution_count": 132,
      "metadata": {
        "id": "0CfxMyGcrttd"
      },
      "outputs": [],
      "source": [
        "scaler = MinMaxScaler(feature_range=(0, 1))\n",
        "scaled_data = scaler.fit_transform(dataset)\n"
      ]
    },
    {
      "cell_type": "code",
      "execution_count": 133,
      "metadata": {
        "id": "D1tt-6lTr1pw"
      },
      "outputs": [],
      "source": [
        "x_train, y_train = [], []\n",
        "for i in range(90,len(train)):\n",
        "    arr = scaled_data[i-90:i,0]\n",
        "    np.append(arr, sentiments[i])\n",
        "    x_train.append(arr)\n",
        "    y_train.append(scaled_data[i,0])\n",
        "\n",
        "x_train, y_train = np.array(x_train), np.array(y_train)"
      ]
    },
    {
      "cell_type": "code",
      "execution_count": 134,
      "metadata": {
        "id": "0YlDmqJMsiLI"
      },
      "outputs": [],
      "source": [
        "x_train = np.reshape(x_train, (x_train.shape[0], x_train.shape[1], 1))"
      ]
    },
    {
      "cell_type": "code",
      "execution_count": 143,
      "metadata": {
        "id": "ZOEfqN7FtvI8"
      },
      "outputs": [],
      "source": [
        "inputs = close_data[len(close_data) - len(valid)-90:].values\n",
        "inputs = inputs.reshape(-1,1)\n",
        "inputs = scaler.transform(inputs)\n",
        "inputs.shape\n",
        "sentiments_new = sentiments[len(close_data) - len(valid)-90:]\n",
        "X_test = []\n",
        "for i in range(90,inputs.shape[0]):\n",
        "    arr = inputs[i-90:i,0]\n",
        "    np.append(arr, sentiments_new[i])\n",
        "    X_test.append(arr)\n",
        "X_test = np.array(X_test)"
      ]
    },
    {
      "cell_type": "markdown",
      "metadata": {
        "id": "uJduV_KwtBOK"
      },
      "source": [
        "## Making the model"
      ]
    },
    {
      "cell_type": "markdown",
      "metadata": {},
      "source": [
        "\n",
        "Initializing the LSTM model and 2nd, 3rd and 4th LSTM layer each with a Dropout Layer. The layers contain 50 neurons and with a Dropout rate of 20%, twenty percent of 50 neurons will be ignored randomly during each iteration\n",
        "\n",
        "Finally, an output layer is added with 1 as an output dimension (as we are predicting the close price)\n",
        "\n",
        "\n",
        "We use Stochastic Gradient Descent algorithm to compile the model and use mean squared error ad loss function"
      ]
    },
    {
      "cell_type": "code",
      "execution_count": 127,
      "metadata": {
        "id": "Lx6jo8JEtFD6"
      },
      "outputs": [],
      "source": [
        "model = Sequential()\n",
        "model.add(LSTM(units=50, return_sequences=True, input_shape=(x_train.shape[1], 1)))\n",
        "model.add(Dropout(rate = 0.3))\n",
        "\n",
        "model.add(LSTM(units=50, return_sequences = True))\n",
        "model.add(Dropout(rate = 0.3))\n",
        "\n",
        "model.add(LSTM(units=50, return_sequences = True))\n",
        "model.add(Dropout(rate = 0.3))\n",
        "\n",
        "model.add(LSTM(units=50, return_sequences = False))\n",
        "model.add(Dropout(rate = 0.3))\n",
        "model.add(Dense(1))\n",
        "\n",
        "model.compile(loss='mean_squared_error', optimizer='adam')\n",
        "#we use standard adam's optimizer"
      ]
    },
    {
      "cell_type": "code",
      "execution_count": 128,
      "metadata": {},
      "outputs": [
        {
          "name": "stdout",
          "output_type": "stream",
          "text": [
            "Model: \"sequential_9\"\n",
            "_________________________________________________________________\n",
            " Layer (type)                Output Shape              Param #   \n",
            "=================================================================\n",
            " lstm_32 (LSTM)              (None, 90, 50)            10400     \n",
            "                                                                 \n",
            " dropout_32 (Dropout)        (None, 90, 50)            0         \n",
            "                                                                 \n",
            " lstm_33 (LSTM)              (None, 90, 50)            20200     \n",
            "                                                                 \n",
            " dropout_33 (Dropout)        (None, 90, 50)            0         \n",
            "                                                                 \n",
            " lstm_34 (LSTM)              (None, 90, 50)            20200     \n",
            "                                                                 \n",
            " dropout_34 (Dropout)        (None, 90, 50)            0         \n",
            "                                                                 \n",
            " lstm_35 (LSTM)              (None, 50)                20200     \n",
            "                                                                 \n",
            " dropout_35 (Dropout)        (None, 50)                0         \n",
            "                                                                 \n",
            " dense_8 (Dense)             (None, 1)                 51        \n",
            "                                                                 \n",
            "=================================================================\n",
            "Total params: 71,051\n",
            "Trainable params: 71,051\n",
            "Non-trainable params: 0\n",
            "_________________________________________________________________\n"
          ]
        }
      ],
      "source": [
        "model.summary()"
      ]
    },
    {
      "cell_type": "markdown",
      "metadata": {
        "id": "o-6aXIqotTL6"
      },
      "source": [
        "## Training the model"
      ]
    },
    {
      "cell_type": "code",
      "execution_count": 141,
      "metadata": {
        "colab": {
          "base_uri": "https://localhost:8080/"
        },
        "id": "yfHJ5kpNta-P",
        "outputId": "257b9d6d-152b-4864-9a21-6439c2f5a17d"
      },
      "outputs": [
        {
          "name": "stdout",
          "output_type": "stream",
          "text": [
            "Epoch 1/100\n",
            "15/15 [==============================] - 2s 135ms/step - loss: 0.0011\n",
            "Epoch 2/100\n",
            "15/15 [==============================] - 2s 121ms/step - loss: 9.6380e-04\n",
            "Epoch 3/100\n",
            "15/15 [==============================] - 2s 121ms/step - loss: 0.0011\n",
            "Epoch 4/100\n",
            "15/15 [==============================] - 2s 122ms/step - loss: 8.9908e-04\n",
            "Epoch 5/100\n",
            "15/15 [==============================] - 2s 125ms/step - loss: 9.0882e-04\n",
            "Epoch 6/100\n",
            "15/15 [==============================] - 2s 165ms/step - loss: 0.0010\n",
            "Epoch 7/100\n",
            "15/15 [==============================] - 2s 126ms/step - loss: 8.8190e-04\n",
            "Epoch 8/100\n",
            "15/15 [==============================] - 2s 131ms/step - loss: 9.0246e-04\n",
            "Epoch 9/100\n",
            "15/15 [==============================] - 2s 132ms/step - loss: 9.6340e-04\n",
            "Epoch 10/100\n",
            "15/15 [==============================] - 2s 138ms/step - loss: 8.6723e-04\n",
            "Epoch 11/100\n",
            "15/15 [==============================] - 2s 109ms/step - loss: 8.0527e-04\n",
            "Epoch 12/100\n",
            "15/15 [==============================] - 2s 124ms/step - loss: 7.6823e-04\n",
            "Epoch 13/100\n",
            "15/15 [==============================] - 2s 140ms/step - loss: 7.6318e-04\n",
            "Epoch 14/100\n",
            "15/15 [==============================] - 2s 122ms/step - loss: 8.0647e-04\n",
            "Epoch 15/100\n",
            "15/15 [==============================] - 2s 121ms/step - loss: 8.3871e-04\n",
            "Epoch 16/100\n",
            "15/15 [==============================] - 2s 128ms/step - loss: 7.1876e-04\n",
            "Epoch 17/100\n",
            "15/15 [==============================] - 2s 122ms/step - loss: 6.8797e-04\n",
            "Epoch 18/100\n",
            "15/15 [==============================] - 2s 122ms/step - loss: 7.3451e-04\n",
            "Epoch 19/100\n",
            "15/15 [==============================] - 2s 122ms/step - loss: 8.0664e-04\n",
            "Epoch 20/100\n",
            "15/15 [==============================] - 2s 120ms/step - loss: 7.2236e-04\n",
            "Epoch 21/100\n",
            "15/15 [==============================] - 3s 177ms/step - loss: 7.3764e-04\n",
            "Epoch 22/100\n",
            "15/15 [==============================] - 3s 213ms/step - loss: 8.1226e-04\n",
            "Epoch 23/100\n",
            "15/15 [==============================] - 3s 226ms/step - loss: 6.6672e-04\n",
            "Epoch 24/100\n",
            "15/15 [==============================] - 3s 230ms/step - loss: 7.2174e-04\n",
            "Epoch 25/100\n",
            "15/15 [==============================] - 3s 229ms/step - loss: 7.6526e-04\n",
            "Epoch 26/100\n",
            "15/15 [==============================] - 3s 207ms/step - loss: 7.3676e-04\n",
            "Epoch 27/100\n",
            "15/15 [==============================] - 3s 223ms/step - loss: 7.4833e-04\n",
            "Epoch 28/100\n",
            "15/15 [==============================] - 3s 220ms/step - loss: 7.0679e-04\n",
            "Epoch 29/100\n",
            "15/15 [==============================] - 3s 211ms/step - loss: 6.4943e-04\n",
            "Epoch 30/100\n",
            "15/15 [==============================] - 3s 228ms/step - loss: 6.4909e-04\n",
            "Epoch 31/100\n",
            "15/15 [==============================] - 3s 219ms/step - loss: 7.1161e-04\n",
            "Epoch 32/100\n",
            "15/15 [==============================] - 4s 236ms/step - loss: 6.8023e-04\n",
            "Epoch 33/100\n",
            "15/15 [==============================] - 3s 215ms/step - loss: 6.0225e-04\n",
            "Epoch 34/100\n",
            "15/15 [==============================] - 3s 222ms/step - loss: 6.6016e-04\n",
            "Epoch 35/100\n",
            "15/15 [==============================] - 3s 221ms/step - loss: 6.8480e-04\n",
            "Epoch 36/100\n",
            "15/15 [==============================] - 3s 216ms/step - loss: 6.4662e-04\n",
            "Epoch 37/100\n",
            "15/15 [==============================] - 4s 238ms/step - loss: 6.0007e-04\n",
            "Epoch 38/100\n",
            "15/15 [==============================] - 4s 240ms/step - loss: 7.0918e-04\n",
            "Epoch 39/100\n",
            "15/15 [==============================] - 3s 228ms/step - loss: 5.7869e-04\n",
            "Epoch 40/100\n",
            "15/15 [==============================] - 4s 241ms/step - loss: 6.3240e-04\n",
            "Epoch 41/100\n",
            "15/15 [==============================] - 3s 201ms/step - loss: 6.6932e-04\n",
            "Epoch 42/100\n",
            "15/15 [==============================] - 3s 231ms/step - loss: 6.1832e-04\n",
            "Epoch 43/100\n",
            "15/15 [==============================] - 3s 219ms/step - loss: 6.5419e-04\n",
            "Epoch 44/100\n",
            "15/15 [==============================] - 4s 253ms/step - loss: 6.1509e-04\n",
            "Epoch 45/100\n",
            "15/15 [==============================] - 3s 231ms/step - loss: 5.6813e-04\n",
            "Epoch 46/100\n",
            "15/15 [==============================] - 4s 238ms/step - loss: 5.7654e-04\n",
            "Epoch 47/100\n",
            "15/15 [==============================] - 4s 235ms/step - loss: 5.6804e-04\n",
            "Epoch 48/100\n",
            "15/15 [==============================] - 4s 235ms/step - loss: 6.1092e-04\n",
            "Epoch 49/100\n",
            "15/15 [==============================] - 3s 213ms/step - loss: 5.9872e-04\n",
            "Epoch 50/100\n",
            "15/15 [==============================] - 3s 218ms/step - loss: 5.7615e-04\n",
            "Epoch 51/100\n",
            "15/15 [==============================] - 3s 230ms/step - loss: 5.5820e-04\n",
            "Epoch 52/100\n",
            "15/15 [==============================] - 3s 223ms/step - loss: 5.7999e-04\n",
            "Epoch 53/100\n",
            "15/15 [==============================] - 3s 216ms/step - loss: 5.4240e-04\n",
            "Epoch 54/100\n",
            "15/15 [==============================] - 4s 264ms/step - loss: 5.5914e-04\n",
            "Epoch 55/100\n",
            "15/15 [==============================] - 4s 265ms/step - loss: 6.1201e-04\n",
            "Epoch 56/100\n",
            "15/15 [==============================] - 3s 228ms/step - loss: 7.2900e-04\n",
            "Epoch 57/100\n",
            "15/15 [==============================] - 3s 224ms/step - loss: 8.9145e-04\n",
            "Epoch 58/100\n",
            "15/15 [==============================] - 3s 228ms/step - loss: 6.1029e-04\n",
            "Epoch 59/100\n",
            "15/15 [==============================] - 3s 227ms/step - loss: 6.0431e-04\n",
            "Epoch 60/100\n",
            "15/15 [==============================] - 3s 230ms/step - loss: 5.6428e-04\n",
            "Epoch 61/100\n",
            "15/15 [==============================] - 4s 244ms/step - loss: 5.2150e-04\n",
            "Epoch 62/100\n",
            "15/15 [==============================] - 3s 229ms/step - loss: 5.5887e-04\n",
            "Epoch 63/100\n",
            "15/15 [==============================] - 3s 225ms/step - loss: 5.5826e-04\n",
            "Epoch 64/100\n",
            "15/15 [==============================] - 3s 231ms/step - loss: 5.5352e-04\n",
            "Epoch 65/100\n",
            "15/15 [==============================] - 3s 231ms/step - loss: 5.7534e-04\n",
            "Epoch 66/100\n",
            "15/15 [==============================] - 4s 244ms/step - loss: 5.6609e-04\n",
            "Epoch 67/100\n",
            "15/15 [==============================] - 3s 229ms/step - loss: 5.3750e-04\n",
            "Epoch 68/100\n",
            "15/15 [==============================] - 3s 227ms/step - loss: 5.0316e-04\n",
            "Epoch 69/100\n",
            "15/15 [==============================] - 3s 226ms/step - loss: 5.2220e-04\n",
            "Epoch 70/100\n",
            "15/15 [==============================] - 3s 232ms/step - loss: 5.4809e-04\n",
            "Epoch 71/100\n",
            "15/15 [==============================] - 3s 228ms/step - loss: 5.4504e-04\n",
            "Epoch 72/100\n",
            "15/15 [==============================] - 4s 244ms/step - loss: 5.2851e-04\n",
            "Epoch 73/100\n",
            "15/15 [==============================] - 3s 227ms/step - loss: 5.4512e-04\n",
            "Epoch 74/100\n",
            "15/15 [==============================] - 4s 231ms/step - loss: 5.1696e-04\n",
            "Epoch 75/100\n",
            "15/15 [==============================] - 4s 243ms/step - loss: 5.0592e-04\n",
            "Epoch 76/100\n",
            "15/15 [==============================] - 4s 250ms/step - loss: 5.6526e-04\n",
            "Epoch 77/100\n",
            "15/15 [==============================] - 4s 260ms/step - loss: 4.9416e-04\n",
            "Epoch 78/100\n",
            "15/15 [==============================] - 4s 236ms/step - loss: 5.1365e-04\n",
            "Epoch 79/100\n",
            "15/15 [==============================] - 4s 234ms/step - loss: 4.6305e-04\n",
            "Epoch 80/100\n",
            "15/15 [==============================] - 4s 234ms/step - loss: 4.6119e-04\n",
            "Epoch 81/100\n",
            "15/15 [==============================] - 4s 233ms/step - loss: 4.6358e-04\n",
            "Epoch 82/100\n",
            "15/15 [==============================] - 4s 256ms/step - loss: 4.8254e-04\n",
            "Epoch 83/100\n",
            "15/15 [==============================] - 4s 237ms/step - loss: 4.6362e-04\n",
            "Epoch 84/100\n",
            "15/15 [==============================] - 4s 236ms/step - loss: 5.2289e-04\n",
            "Epoch 85/100\n",
            "15/15 [==============================] - 4s 234ms/step - loss: 5.0328e-04\n",
            "Epoch 86/100\n",
            "15/15 [==============================] - 4s 235ms/step - loss: 5.3444e-04\n",
            "Epoch 87/100\n",
            "15/15 [==============================] - 3s 231ms/step - loss: 5.3321e-04\n",
            "Epoch 88/100\n",
            "15/15 [==============================] - 4s 240ms/step - loss: 4.8699e-04\n",
            "Epoch 89/100\n",
            "15/15 [==============================] - 4s 256ms/step - loss: 4.8132e-04\n",
            "Epoch 90/100\n",
            "15/15 [==============================] - 4s 254ms/step - loss: 4.8467e-04\n",
            "Epoch 91/100\n",
            "15/15 [==============================] - 4s 236ms/step - loss: 4.8621e-04\n",
            "Epoch 92/100\n",
            "15/15 [==============================] - 4s 255ms/step - loss: 4.8433e-04\n",
            "Epoch 93/100\n",
            "15/15 [==============================] - 4s 267ms/step - loss: 4.8949e-04\n",
            "Epoch 94/100\n",
            "15/15 [==============================] - 4s 238ms/step - loss: 4.7031e-04\n",
            "Epoch 95/100\n",
            "15/15 [==============================] - 4s 247ms/step - loss: 5.3449e-04\n",
            "Epoch 96/100\n",
            "15/15 [==============================] - 4s 260ms/step - loss: 4.9375e-04\n",
            "Epoch 97/100\n",
            "15/15 [==============================] - 4s 241ms/step - loss: 5.7406e-04\n",
            "Epoch 98/100\n",
            "15/15 [==============================] - 4s 245ms/step - loss: 4.8699e-04\n",
            "Epoch 99/100\n",
            "15/15 [==============================] - 4s 245ms/step - loss: 5.6645e-04\n",
            "Epoch 100/100\n",
            "15/15 [==============================] - 4s 245ms/step - loss: 4.9023e-04\n"
          ]
        },
        {
          "data": {
            "text/plain": [
              "<keras.callbacks.History at 0x7f7e2da48e20>"
            ]
          },
          "execution_count": 141,
          "metadata": {},
          "output_type": "execute_result"
        }
      ],
      "source": [
        "model.fit(x_train, y_train, epochs=100, batch_size=128, verbose=1)"
      ]
    },
    {
      "cell_type": "code",
      "execution_count": 144,
      "metadata": {
        "id": "wIsG10oOz4-d"
      },
      "outputs": [],
      "source": [
        "X_test = np.reshape(X_test, (X_test.shape[0],X_test.shape[1],1))\n",
        "preds = model.predict(X_test)\n",
        "preds = scaler.inverse_transform(preds)"
      ]
    },
    {
      "cell_type": "code",
      "execution_count": 145,
      "metadata": {
        "colab": {
          "base_uri": "https://localhost:8080/"
        },
        "id": "gfF0mZr10En5",
        "outputId": "fd33511a-d6d3-49b6-b43e-270dec4dd022"
      },
      "outputs": [
        {
          "name": "stdout",
          "output_type": "stream",
          "text": [
            "(603, 1)\n"
          ]
        }
      ],
      "source": [
        "print(preds.shape)"
      ]
    },
    {
      "cell_type": "code",
      "execution_count": 146,
      "metadata": {
        "colab": {
          "base_uri": "https://localhost:8080/"
        },
        "id": "8JKPb6Co2qXA",
        "outputId": "8d48b327-6ed5-4803-b7a9-417a6cba62f5"
      },
      "outputs": [
        {
          "name": "stdout",
          "output_type": "stream",
          "text": [
            "(603, 1)\n"
          ]
        }
      ],
      "source": [
        "print(valid.shape)"
      ]
    },
    {
      "cell_type": "code",
      "execution_count": 147,
      "metadata": {
        "colab": {
          "base_uri": "https://localhost:8080/"
        },
        "id": "OuTHrJImMSHp",
        "outputId": "803006ff-0e3e-48b2-996f-64654456240e"
      },
      "outputs": [
        {
          "name": "stdout",
          "output_type": "stream",
          "text": [
            "[2328.139893] [2597.1406]\n"
          ]
        }
      ],
      "source": [
        "print(valid[-1],preds[-1])"
      ]
    },
    {
      "cell_type": "markdown",
      "metadata": {},
      "source": [
        "## Results"
      ]
    },
    {
      "cell_type": "code",
      "execution_count": 153,
      "metadata": {
        "id": "F3Qa3Vv20gPQ"
      },
      "outputs": [],
      "source": [
        "rms=np.sqrt(np.mean(np.power((valid-preds),2)))\n",
        "# it is the standard deviation of the residuals (prediction errors)"
      ]
    },
    {
      "cell_type": "code",
      "execution_count": 155,
      "metadata": {},
      "outputs": [
        {
          "data": {
            "text/plain": [
              "301.6199384597253"
            ]
          },
          "execution_count": 155,
          "metadata": {},
          "output_type": "execute_result"
        }
      ],
      "source": [
        "rms"
      ]
    },
    {
      "cell_type": "code",
      "execution_count": 150,
      "metadata": {
        "colab": {
          "base_uri": "https://localhost:8080/",
          "height": 600
        },
        "id": "yyxx-IxC19to",
        "outputId": "b91cc3eb-f85c-4db2-aca9-be58d9f75a10"
      },
      "outputs": [
        {
          "name": "stderr",
          "output_type": "stream",
          "text": [
            "/tmp/ipykernel_28938/3457111147.py:3: SettingWithCopyWarning: \n",
            "A value is trying to be set on a copy of a slice from a DataFrame.\n",
            "Try using .loc[row_indexer,col_indexer] = value instead\n",
            "\n",
            "See the caveats in the documentation: https://pandas.pydata.org/pandas-docs/stable/user_guide/indexing.html#returning-a-view-versus-a-copy\n",
            "  valid['Predictions'] = preds\n"
          ]
        },
        {
          "data": {
            "image/png": "[encoded data removed]",
            "text/plain": [
              "<Figure size 1440x576 with 1 Axes>"
            ]
          },
          "metadata": {},
          "output_type": "display_data"
        }
      ],
      "source": [
        "train = all_data[0:2000]\n",
        "valid = all_data[2000:]\n",
        "valid['Predictions'] = preds\n",
        "plt.figure(figsize=(20,8))\n",
        "plt.plot(train['Close'])\n",
        "plt.plot(valid['Close'], color = 'blue', label = 'Real Price')\n",
        "plt.plot(valid['Predictions'], color = 'red', label = 'Predicted Price')\n",
        "plt.title('Amazon price prediction')\n",
        "plt.legend()\n",
        "plt.show()"
      ]
    },
    {
      "cell_type": "code",
      "execution_count": null,
      "metadata": {
        "id": "YxLDvotHXOcf"
      },
      "outputs": [],
      "source": [
        "from keras.models import load_model\n",
        "model.save('AMZN.h5')  # creates a HDF5 file "
      ]
    }
  ],
  "metadata": {
    "colab": {
      "authorship_tag": "ABX9TyMnx7F+rr7ym0L12246I+Di",
      "collapsed_sections": [],
      "include_colab_link": true,
      "name": "Stock Market.ipynb",
      "provenance": []
    },
    "kernelspec": {
      "display_name": "Python 3",
      "name": "python3"
    },
    "language_info": {
      "codemirror_mode": {
        "name": "ipython",
        "version": 3
      },
      "file_extension": ".py",
      "mimetype": "text/x-python",
      "name": "python",
      "nbconvert_exporter": "python",
      "pygments_lexer": "ipython3",
      "version": "3.9.5"
    }
  },
  "nbformat": 4,
  "nbformat_minor": 0
}
