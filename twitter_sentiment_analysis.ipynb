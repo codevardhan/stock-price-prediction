{
  "metadata": {
    "kernelspec": {
      "display_name": "Python 3",
      "language": "python",
      "name": "python3"
    },
    "language_info": {
      "name": "python",
      "version": "3.6.6",
      "mimetype": "text/x-python",
      "codemirror_mode": {
        "name": "ipython",
        "version": 3
      },
      "pygments_lexer": "ipython3",
      "nbconvert_exporter": "python",
      "file_extension": ".py"
    },
    "colab": {
      "name": "twitter-sentiment-analysis.ipynb",
      "provenance": [],
      "collapsed_sections": [
        "YM31OME3395A",
        "kJDi9fN-395C",
        "3ht7KrKM395E",
        "q41P_pai395G",
        "1eQnRXTv395H",
        "6TD_A-js395J",
        "l8MQYRrl395K",
        "WaD36G_T395M",
        "l4CvT9Ki395M",
        "VLCK8OnN395N",
        "lwfg9m33395N",
        "Cw46A4gY395R",
        "reDC2YKV395R"
      ]
    },
    "accelerator": "TPU"
  },
  "nbformat_minor": 0,
  "nbformat": 4,
  "cells": [
    {
      "cell_type": "markdown",
      "source": [
        "# Twitter Sentiment Analysis"
      ],
      "metadata": {
        "_uuid": "92b885dd147dac19bd0a33db3cd0da100bd5bc23",
        "id": "a5KqLmt73946"
      }
    },
    {
      "cell_type": "code",
      "source": [
        "# DataFrame\n",
        "import pandas as pd\n",
        "import tensorflow as tf\n",
        "# Matplot\n",
        "import matplotlib.pyplot as plt\n",
        "%matplotlib inline\n",
        "\n",
        "# Scikit-learn\n",
        "from sklearn.model_selection import train_test_split\n",
        "from sklearn.preprocessing import LabelEncoder\n",
        "from sklearn.metrics import confusion_matrix, classification_report, accuracy_score\n",
        "from sklearn.manifold import TSNE\n",
        "from sklearn.feature_extraction.text import TfidfVectorizer\n",
        "\n",
        "# Keras\n",
        "from keras.preprocessing.text import Tokenizer\n",
        "from keras.preprocessing.sequence import pad_sequences\n",
        "from keras.models import Sequential\n",
        "from keras.layers import Activation, Dense, Dropout, Embedding, Flatten, Conv1D, MaxPooling1D, LSTM\n",
        "from keras import utils\n",
        "from keras.callbacks import ReduceLROnPlateau, EarlyStopping\n",
        "\n",
        "# nltk\n",
        "import nltk\n",
        "from nltk.corpus import stopwords\n",
        "from  nltk.stem import SnowballStemmer\n",
        "\n",
        "# Word2vec\n",
        "import gensim\n",
        "\n",
        "# Utility\n",
        "import re\n",
        "import numpy as np\n",
        "import os\n",
        "from collections import Counter\n",
        "import logging\n",
        "import time\n",
        "import pickle\n",
        "import itertools\n",
        "\n",
        "# Set log\n",
        "logging.basicConfig(format='%(asctime)s : %(levelname)s : %(message)s', level=logging.INFO)"
      ],
      "metadata": {
        "_uuid": "303e72966af732ddef0bd8108a321095314e44af",
        "trusted": true,
        "id": "JvffmVvO3948"
      },
      "execution_count": 6,
      "outputs": []
    },
    {
      "cell_type": "code",
      "source": [
        "nltk.download('stopwords')"
      ],
      "metadata": {
        "_uuid": "35e1a89dead5fd160e4c9a024a21d2e569fc89ff",
        "trusted": true,
        "colab": {
          "base_uri": "https://localhost:8080/"
        },
        "id": "-J7i4HQ03949",
        "outputId": "1e200583-95f7-44c0-db0b-557835915f24"
      },
      "execution_count": 7,
      "outputs": [
        {
          "output_type": "stream",
          "name": "stdout",
          "text": [
            "[nltk_data] Downloading package stopwords to /root/nltk_data...\n",
            "[nltk_data]   Unzipping corpora/stopwords.zip.\n"
          ]
        },
        {
          "output_type": "execute_result",
          "data": {
            "text/plain": [
              "True"
            ]
          },
          "metadata": {},
          "execution_count": 7
        }
      ]
    },
    {
      "cell_type": "markdown",
      "source": [
        "### Settings"
      ],
      "metadata": {
        "_uuid": "e8b01a07df001e4abcc745900336c4db06e455f3",
        "id": "4qpZfdYq394-"
      }
    },
    {
      "cell_type": "code",
      "source": [
        "# DATASET\n",
        "DATASET_COLUMNS = [\"target\", \"ids\", \"date\", \"flag\", \"user\", \"text\"]\n",
        "DATASET_ENCODING = \"ISO-8859-1\"\n",
        "TRAIN_SIZE = 0.8\n",
        "\n",
        "# TEXT CLENAING\n",
        "TEXT_CLEANING_RE = \"@\\S+|https?:\\S+|http?:\\S|[^A-Za-z0-9]+\"\n",
        "\n",
        "# WORD2VEC \n",
        "W2V_SIZE = 300\n",
        "W2V_WINDOW = 7\n",
        "W2V_EPOCH = 32\n",
        "W2V_MIN_COUNT = 10\n",
        "\n",
        "# KERAS\n",
        "SEQUENCE_LENGTH = 300\n",
        "EPOCHS = 8\n",
        "BATCH_SIZE = 1024\n",
        "\n",
        "# SENTIMENT\n",
        "POSITIVE = \"POSITIVE\"\n",
        "NEGATIVE = \"NEGATIVE\"\n",
        "NEUTRAL = \"NEUTRAL\"\n",
        "SENTIMENT_THRESHOLDS = (0.4, 0.7)\n",
        "\n",
        "# EXPORT\n",
        "KERAS_MODEL = \"model.h5\"\n",
        "WORD2VEC_MODEL = \"model.w2v\"\n",
        "TOKENIZER_MODEL = \"tokenizer.pkl\"\n",
        "ENCODER_MODEL = \"encoder.pkl\""
      ],
      "metadata": {
        "_uuid": "180f0dd2a95419e4602b5c0229822b0111c826f6",
        "trusted": true,
        "id": "W1e0Q65W394-"
      },
      "execution_count": 8,
      "outputs": []
    },
    {
      "cell_type": "code",
      "source": [
        "resolver = tf.distribute.cluster_resolver.TPUClusterResolver(tpu='')\n",
        "tf.config.experimental_connect_to_cluster(resolver)\n",
        "# This is the TPU initialization code that has to be at the beginning.\n",
        "tf.tpu.experimental.initialize_tpu_system(resolver)\n",
        "print(\"All devices: \", tf.config.list_logical_devices('TPU'))"
      ],
      "metadata": {
        "colab": {
          "base_uri": "https://localhost:8080/"
        },
        "id": "6PT1ErVW8PRE",
        "outputId": "7a80e0f8-2857-44bb-b36e-40e141eaf022"
      },
      "execution_count": 9,
      "outputs": [
        {
          "output_type": "stream",
          "name": "stderr",
          "text": [
            "2022-05-05 15:58:25,218 : INFO : Entering into master device scope: /job:worker/replica:0/task:0/device:CPU:0\n"
          ]
        },
        {
          "output_type": "stream",
          "name": "stdout",
          "text": [
            "INFO:tensorflow:Deallocate tpu buffers before initializing tpu system.\n"
          ]
        },
        {
          "output_type": "stream",
          "name": "stderr",
          "text": [
            "2022-05-05 15:58:25,231 : INFO : Deallocate tpu buffers before initializing tpu system.\n"
          ]
        },
        {
          "output_type": "stream",
          "name": "stdout",
          "text": [
            "INFO:tensorflow:Initializing the TPU system: grpc://10.117.128.210:8470\n"
          ]
        },
        {
          "output_type": "stream",
          "name": "stderr",
          "text": [
            "2022-05-05 15:58:25,810 : INFO : Initializing the TPU system: grpc://10.117.128.210:8470\n"
          ]
        },
        {
          "output_type": "stream",
          "name": "stdout",
          "text": [
            "INFO:tensorflow:Finished initializing TPU system.\n"
          ]
        },
        {
          "output_type": "stream",
          "name": "stderr",
          "text": [
            "2022-05-05 15:58:34,148 : INFO : Finished initializing TPU system.\n"
          ]
        },
        {
          "output_type": "stream",
          "name": "stdout",
          "text": [
            "All devices:  [LogicalDevice(name='/job:worker/replica:0/task:0/device:TPU:0', device_type='TPU'), LogicalDevice(name='/job:worker/replica:0/task:0/device:TPU:1', device_type='TPU'), LogicalDevice(name='/job:worker/replica:0/task:0/device:TPU:2', device_type='TPU'), LogicalDevice(name='/job:worker/replica:0/task:0/device:TPU:3', device_type='TPU'), LogicalDevice(name='/job:worker/replica:0/task:0/device:TPU:4', device_type='TPU'), LogicalDevice(name='/job:worker/replica:0/task:0/device:TPU:5', device_type='TPU'), LogicalDevice(name='/job:worker/replica:0/task:0/device:TPU:6', device_type='TPU'), LogicalDevice(name='/job:worker/replica:0/task:0/device:TPU:7', device_type='TPU')]\n"
          ]
        }
      ]
    },
    {
      "cell_type": "markdown",
      "source": [
        "### Read Dataset"
      ],
      "metadata": {
        "_uuid": "1c3beecc618be68480b3d4f0de08d9d863da1dc1",
        "id": "nM-6_bP2394_"
      }
    },
    {
      "cell_type": "markdown",
      "source": [
        "### Dataset details\n",
        "* **target**: the polarity of the tweet (0 = negative, 2 = neutral, 4 = positive)\n",
        "* **ids**: The id of the tweet ( 2087)\n",
        "* **date**: the date of the tweet (Sat May 16 23:58:44 UTC 2009)\n",
        "* **flag**: The query (lyx). If there is no query, then this value is NO_QUERY.\n",
        "* **user**: the user that tweeted (robotickilldozr)\n",
        "* **text**: the text of the tweet (Lyx is cool)"
      ],
      "metadata": {
        "_uuid": "563b3c44f1092dba0b853747b098e00509098cca",
        "id": "YM31OME3395A"
      }
    },
    {
      "cell_type": "code",
      "source": [
        "!mkdir /root/.kaggle/\n",
        "!mv ./kaggle.json /root/.kaggle/\n",
        "!chmod 600 /root/.kaggle/kaggle.json"
      ],
      "metadata": {
        "colab": {
          "base_uri": "https://localhost:8080/"
        },
        "id": "cptOsetT6rle",
        "outputId": "d1b1f823-35e3-4dd1-9fa8-7bd463a9f199"
      },
      "execution_count": 14,
      "outputs": [
        {
          "output_type": "stream",
          "name": "stdout",
          "text": [
            "mkdir: cannot create directory ‘/root/.kaggle/’: File exists\n"
          ]
        }
      ]
    },
    {
      "cell_type": "code",
      "source": [
        "!kaggle datasets download -d kazanova/sentiment140"
      ],
      "metadata": {
        "colab": {
          "base_uri": "https://localhost:8080/"
        },
        "id": "NpkpXyXJ7GQT",
        "outputId": "b5b28746-34f2-4121-b44f-31ac4b8419f3"
      },
      "execution_count": 15,
      "outputs": [
        {
          "output_type": "stream",
          "name": "stdout",
          "text": [
            "Downloading sentiment140.zip to /content\n",
            " 67% 54.0M/80.9M [00:00<00:00, 186MB/s]\n",
            "100% 80.9M/80.9M [00:00<00:00, 200MB/s]\n"
          ]
        }
      ]
    },
    {
      "cell_type": "code",
      "source": [
        "!unzip sentiment140.zip -d .\n"
      ],
      "metadata": {
        "colab": {
          "base_uri": "https://localhost:8080/"
        },
        "id": "aZBqvkUQ7H1e",
        "outputId": "8ac8cdae-cf29-4710-86dd-2cf5e924cf83"
      },
      "execution_count": 16,
      "outputs": [
        {
          "output_type": "stream",
          "name": "stdout",
          "text": [
            "Archive:  sentiment140.zip\n",
            "  inflating: ./training.1600000.processed.noemoticon.csv  \n"
          ]
        }
      ]
    },
    {
      "cell_type": "code",
      "source": [
        "# dataset_filename = os.listdir(\"./\")[0]\n",
        "# print(dataset_filename)\n",
        "dataset_path ='./training.1600000.processed.noemoticon.csv'\n",
        "print(\"Open file:\", dataset_path)\n",
        "df = pd.read_csv(dataset_path, encoding =DATASET_ENCODING , names=DATASET_COLUMNS)"
      ],
      "metadata": {
        "_uuid": "bba8f91cd70de4f5ea0fb0870ae2029b6e3dcc24",
        "trusted": true,
        "colab": {
          "base_uri": "https://localhost:8080/"
        },
        "id": "eSIV_P8P395A",
        "outputId": "e8dd8f6e-e4cc-47e0-c3d3-6bbdfd973b31"
      },
      "execution_count": 17,
      "outputs": [
        {
          "output_type": "stream",
          "name": "stdout",
          "text": [
            "Open file: ./training.1600000.processed.noemoticon.csv\n"
          ]
        }
      ]
    },
    {
      "cell_type": "code",
      "source": [
        "print(\"Dataset size:\", len(df))"
      ],
      "metadata": {
        "_uuid": "936d499c00c4f1648bc16ca9d283c3b39be7fb10",
        "trusted": true,
        "colab": {
          "base_uri": "https://localhost:8080/"
        },
        "id": "dJWO63oB395B",
        "outputId": "604df1e0-f120-4fb7-fcf1-da9aa6caa5f7"
      },
      "execution_count": 18,
      "outputs": [
        {
          "output_type": "stream",
          "name": "stdout",
          "text": [
            "Dataset size: 1600000\n"
          ]
        }
      ]
    },
    {
      "cell_type": "code",
      "source": [
        "df.head(5)"
      ],
      "metadata": {
        "_uuid": "7486ed895b813c5246f97b31b6162b0f65ff763b",
        "trusted": true,
        "colab": {
          "base_uri": "https://localhost:8080/",
          "height": 206
        },
        "id": "e68QGDSb395B",
        "outputId": "99410e34-e782-43aa-dcdc-59c13ddc5767"
      },
      "execution_count": 19,
      "outputs": [
        {
          "output_type": "execute_result",
          "data": {
            "text/plain": [
              "   target         ids                          date      flag  \\\n",
              "0       0  1467810369  Mon Apr 06 22:19:45 PDT 2009  NO_QUERY   \n",
              "1       0  1467810672  Mon Apr 06 22:19:49 PDT 2009  NO_QUERY   \n",
              "2       0  1467810917  Mon Apr 06 22:19:53 PDT 2009  NO_QUERY   \n",
              "3       0  1467811184  Mon Apr 06 22:19:57 PDT 2009  NO_QUERY   \n",
              "4       0  1467811193  Mon Apr 06 22:19:57 PDT 2009  NO_QUERY   \n",
              "\n",
              "              user                                               text  \n",
              "0  _TheSpecialOne_  @switchfoot http://twitpic.com/2y1zl - Awww, t...  \n",
              "1    scotthamilton  is upset that he can't update his Facebook by ...  \n",
              "2         mattycus  @Kenichan I dived many times for the ball. Man...  \n",
              "3          ElleCTF    my whole body feels itchy and like its on fire   \n",
              "4           Karoli  @nationwideclass no, it's not behaving at all....  "
            ],
            "text/html": [
              "\n",
              "  <div id=\"df-9f3e2e10-2dbb-4691-b6c6-0f0f2a9f8d53\">\n",
              "    <div class=\"colab-df-container\">\n",
              "      <div>\n",
              "<style scoped>\n",
              "    .dataframe tbody tr th:only-of-type {\n",
              "        vertical-align: middle;\n",
              "    }\n",
              "\n",
              "    .dataframe tbody tr th {\n",
              "        vertical-align: top;\n",
              "    }\n",
              "\n",
              "    .dataframe thead th {\n",
              "        text-align: right;\n",
              "    }\n",
              "</style>\n",
              "<table border=\"1\" class=\"dataframe\">\n",
              "  <thead>\n",
              "    <tr style=\"text-align: right;\">\n",
              "      <th></th>\n",
              "      <th>target</th>\n",
              "      <th>ids</th>\n",
              "      <th>date</th>\n",
              "      <th>flag</th>\n",
              "      <th>user</th>\n",
              "      <th>text</th>\n",
              "    </tr>\n",
              "  </thead>\n",
              "  <tbody>\n",
              "    <tr>\n",
              "      <th>0</th>\n",
              "      <td>0</td>\n",
              "      <td>1467810369</td>\n",
              "      <td>Mon Apr 06 22:19:45 PDT 2009</td>\n",
              "      <td>NO_QUERY</td>\n",
              "      <td>_TheSpecialOne_</td>\n",
              "      <td>@switchfoot http://twitpic.com/2y1zl - Awww, t...</td>\n",
              "    </tr>\n",
              "    <tr>\n",
              "      <th>1</th>\n",
              "      <td>0</td>\n",
              "      <td>1467810672</td>\n",
              "      <td>Mon Apr 06 22:19:49 PDT 2009</td>\n",
              "      <td>NO_QUERY</td>\n",
              "      <td>scotthamilton</td>\n",
              "      <td>is upset that he can't update his Facebook by ...</td>\n",
              "    </tr>\n",
              "    <tr>\n",
              "      <th>2</th>\n",
              "      <td>0</td>\n",
              "      <td>1467810917</td>\n",
              "      <td>Mon Apr 06 22:19:53 PDT 2009</td>\n",
              "      <td>NO_QUERY</td>\n",
              "      <td>mattycus</td>\n",
              "      <td>@Kenichan I dived many times for the ball. Man...</td>\n",
              "    </tr>\n",
              "    <tr>\n",
              "      <th>3</th>\n",
              "      <td>0</td>\n",
              "      <td>1467811184</td>\n",
              "      <td>Mon Apr 06 22:19:57 PDT 2009</td>\n",
              "      <td>NO_QUERY</td>\n",
              "      <td>ElleCTF</td>\n",
              "      <td>my whole body feels itchy and like its on fire</td>\n",
              "    </tr>\n",
              "    <tr>\n",
              "      <th>4</th>\n",
              "      <td>0</td>\n",
              "      <td>1467811193</td>\n",
              "      <td>Mon Apr 06 22:19:57 PDT 2009</td>\n",
              "      <td>NO_QUERY</td>\n",
              "      <td>Karoli</td>\n",
              "      <td>@nationwideclass no, it's not behaving at all....</td>\n",
              "    </tr>\n",
              "  </tbody>\n",
              "</table>\n",
              "</div>\n",
              "      <button class=\"colab-df-convert\" onclick=\"convertToInteractive('df-9f3e2e10-2dbb-4691-b6c6-0f0f2a9f8d53')\"\n",
              "              title=\"Convert this dataframe to an interactive table.\"\n",
              "              style=\"display:none;\">\n",
              "        \n",
              "  <svg xmlns=\"http://www.w3.org/2000/svg\" height=\"24px\"viewBox=\"0 0 24 24\"\n",
              "       width=\"24px\">\n",
              "    <path d=\"M0 0h24v24H0V0z\" fill=\"none\"/>\n",
              "    <path d=\"M18.56 5.44l.94 2.06.94-2.06 2.06-.94-2.06-.94-.94-2.06-.94 2.06-2.06.94zm-11 1L8.5 8.5l.94-2.06 2.06-.94-2.06-.94L8.5 2.5l-.94 2.06-2.06.94zm10 10l.94 2.06.94-2.06 2.06-.94-2.06-.94-.94-2.06-.94 2.06-2.06.94z\"/><path d=\"M17.41 7.96l-1.37-1.37c-.4-.4-.92-.59-1.43-.59-.52 0-1.04.2-1.43.59L10.3 9.45l-7.72 7.72c-.78.78-.78 2.05 0 2.83L4 21.41c.39.39.9.59 1.41.59.51 0 1.02-.2 1.41-.59l7.78-7.78 2.81-2.81c.8-.78.8-2.07 0-2.86zM5.41 20L4 18.59l7.72-7.72 1.47 1.35L5.41 20z\"/>\n",
              "  </svg>\n",
              "      </button>\n",
              "      \n",
              "  <style>\n",
              "    .colab-df-container {\n",
              "      display:flex;\n",
              "      flex-wrap:wrap;\n",
              "      gap: 12px;\n",
              "    }\n",
              "\n",
              "    .colab-df-convert {\n",
              "      background-color: #E8F0FE;\n",
              "      border: none;\n",
              "      border-radius: 50%;\n",
              "      cursor: pointer;\n",
              "      display: none;\n",
              "      fill: #1967D2;\n",
              "      height: 32px;\n",
              "      padding: 0 0 0 0;\n",
              "      width: 32px;\n",
              "    }\n",
              "\n",
              "    .colab-df-convert:hover {\n",
              "      background-color: #E2EBFA;\n",
              "      box-shadow: 0px 1px 2px rgba(60, 64, 67, 0.3), 0px 1px 3px 1px rgba(60, 64, 67, 0.15);\n",
              "      fill: #174EA6;\n",
              "    }\n",
              "\n",
              "    [theme=dark] .colab-df-convert {\n",
              "      background-color: #3B4455;\n",
              "      fill: #D2E3FC;\n",
              "    }\n",
              "\n",
              "    [theme=dark] .colab-df-convert:hover {\n",
              "      background-color: #434B5C;\n",
              "      box-shadow: 0px 1px 3px 1px rgba(0, 0, 0, 0.15);\n",
              "      filter: drop-shadow(0px 1px 2px rgba(0, 0, 0, 0.3));\n",
              "      fill: #FFFFFF;\n",
              "    }\n",
              "  </style>\n",
              "\n",
              "      <script>\n",
              "        const buttonEl =\n",
              "          document.querySelector('#df-9f3e2e10-2dbb-4691-b6c6-0f0f2a9f8d53 button.colab-df-convert');\n",
              "        buttonEl.style.display =\n",
              "          google.colab.kernel.accessAllowed ? 'block' : 'none';\n",
              "\n",
              "        async function convertToInteractive(key) {\n",
              "          const element = document.querySelector('#df-9f3e2e10-2dbb-4691-b6c6-0f0f2a9f8d53');\n",
              "          const dataTable =\n",
              "            await google.colab.kernel.invokeFunction('convertToInteractive',\n",
              "                                                     [key], {});\n",
              "          if (!dataTable) return;\n",
              "\n",
              "          const docLinkHtml = 'Like what you see? Visit the ' +\n",
              "            '<a target=\"_blank\" href=https://colab.research.google.com/notebooks/data_table.ipynb>data table notebook</a>'\n",
              "            + ' to learn more about interactive tables.';\n",
              "          element.innerHTML = '';\n",
              "          dataTable['output_type'] = 'display_data';\n",
              "          await google.colab.output.renderOutput(dataTable, element);\n",
              "          const docLink = document.createElement('div');\n",
              "          docLink.innerHTML = docLinkHtml;\n",
              "          element.appendChild(docLink);\n",
              "        }\n",
              "      </script>\n",
              "    </div>\n",
              "  </div>\n",
              "  "
            ]
          },
          "metadata": {},
          "execution_count": 19
        }
      ]
    },
    {
      "cell_type": "markdown",
      "source": [
        "### Map target label to String\n",
        "* **0** -> **NEGATIVE**\n",
        "* **2** -> **NEUTRAL**\n",
        "* **4** -> **POSITIVE**"
      ],
      "metadata": {
        "_uuid": "3f9a7bb129e184967b13261fb5d253af451c75c5",
        "id": "kJDi9fN-395C"
      }
    },
    {
      "cell_type": "code",
      "source": [
        "decode_map = {0: \"NEGATIVE\", 2: \"NEUTRAL\", 4: \"POSITIVE\"}\n",
        "def decode_sentiment(label):\n",
        "    return decode_map[int(label)]"
      ],
      "metadata": {
        "_uuid": "14074b59106cb9550440839e48b832223fc9502f",
        "trusted": true,
        "id": "02BdU6sq395C"
      },
      "execution_count": 20,
      "outputs": []
    },
    {
      "cell_type": "code",
      "source": [
        "%%time\n",
        "df.target = df.target.apply(lambda x: decode_sentiment(x))"
      ],
      "metadata": {
        "_uuid": "4449d473187f647a195a6ac6986b009da32a7f4b",
        "trusted": true,
        "colab": {
          "base_uri": "https://localhost:8080/"
        },
        "id": "IBUIMR2y395D",
        "outputId": "00858aa9-9aa9-4fbb-9d07-01663555e44b"
      },
      "execution_count": 21,
      "outputs": [
        {
          "output_type": "stream",
          "name": "stdout",
          "text": [
            "CPU times: user 511 ms, sys: 1.21 ms, total: 512 ms\n",
            "Wall time: 521 ms\n"
          ]
        }
      ]
    },
    {
      "cell_type": "code",
      "source": [
        "target_cnt = Counter(df.target)\n",
        "\n",
        "plt.figure(figsize=(16,8))\n",
        "plt.bar(target_cnt.keys(), target_cnt.values())\n",
        "plt.title(\"Dataset labels distribuition\")"
      ],
      "metadata": {
        "_uuid": "19eb327803192f31cce3512aacb232f4d6b38715",
        "trusted": true,
        "colab": {
          "base_uri": "https://localhost:8080/",
          "height": 516
        },
        "id": "2hlHWw30395D",
        "outputId": "0a35a63b-8861-44d8-b5d8-241596a5588e"
      },
      "execution_count": 22,
      "outputs": [
        {
          "output_type": "execute_result",
          "data": {
            "text/plain": [
              "Text(0.5, 1.0, 'Dataset labels distribuition')"
            ]
          },
          "metadata": {},
          "execution_count": 22
        },
        {
          "output_type": "display_data",
          "data": {
            "text/plain": [
              "<Figure size 1152x576 with 1 Axes>"
            ],
            "image/png": "[encoded data removed]"
          },
          "metadata": {
            "needs_background": "light"
          }
        }
      ]
    },
    {
      "cell_type": "markdown",
      "source": [
        "### Pre-Process dataset"
      ],
      "metadata": {
        "_uuid": "4329b1573518b03e497213efa7676220734ebb4b",
        "id": "3ht7KrKM395E"
      }
    },
    {
      "cell_type": "code",
      "source": [
        "stop_words = stopwords.words(\"english\")\n",
        "stemmer = SnowballStemmer(\"english\")"
      ],
      "metadata": {
        "_uuid": "8aeee8b7b9ea11b749c7f91cd4787a7b50ed1a91",
        "trusted": true,
        "id": "GpOx-bqu395E"
      },
      "execution_count": 23,
      "outputs": []
    },
    {
      "cell_type": "code",
      "source": [
        "def preprocess(text, stem=False):\n",
        "    # Remove link,user and special characters\n",
        "    text = re.sub(TEXT_CLEANING_RE, ' ', str(text).lower()).strip()\n",
        "    tokens = []\n",
        "    for token in text.split():\n",
        "        if token not in stop_words:\n",
        "            if stem:\n",
        "                tokens.append(stemmer.stem(token))\n",
        "            else:\n",
        "                tokens.append(token)\n",
        "    return \" \".join(tokens)"
      ],
      "metadata": {
        "_uuid": "649ebcb97969b9ac4301138783704bb3d7846a49",
        "trusted": true,
        "id": "r-N-lNJb395F"
      },
      "execution_count": 24,
      "outputs": []
    },
    {
      "cell_type": "code",
      "source": [
        "%%time\n",
        "df.text = df.text.apply(lambda x: preprocess(x))"
      ],
      "metadata": {
        "_uuid": "f7f3e77ab9291d14687c49e71ba9b2b1e3323432",
        "trusted": true,
        "colab": {
          "base_uri": "https://localhost:8080/"
        },
        "id": "LTGMDUuN395F",
        "outputId": "1e568acc-8c4e-4858-acb7-4fc9aed2e3ed"
      },
      "execution_count": 25,
      "outputs": [
        {
          "output_type": "stream",
          "name": "stdout",
          "text": [
            "CPU times: user 1min 3s, sys: 399 ms, total: 1min 3s\n",
            "Wall time: 1min 7s\n"
          ]
        }
      ]
    },
    {
      "cell_type": "markdown",
      "source": [
        "### Split train and test"
      ],
      "metadata": {
        "_uuid": "f5f9714a8507409bbe780eebf2855a33e8e6ba37",
        "trusted": true,
        "id": "q41P_pai395G"
      }
    },
    {
      "cell_type": "code",
      "source": [
        "df_train, df_test = train_test_split(df, test_size=1-TRAIN_SIZE, random_state=42)\n",
        "print(\"TRAIN size:\", len(df_train))\n",
        "print(\"TEST size:\", len(df_test))"
      ],
      "metadata": {
        "_uuid": "d2b1179c968e3f3910c790ecf0c5b2cbb34b0e68",
        "trusted": true,
        "colab": {
          "base_uri": "https://localhost:8080/"
        },
        "id": "-kfd0QWM395G",
        "outputId": "c6465708-8e31-47ea-ea6b-24a391fa1d7f"
      },
      "execution_count": 26,
      "outputs": [
        {
          "output_type": "stream",
          "name": "stdout",
          "text": [
            "TRAIN size: 1280000\n",
            "TEST size: 320000\n"
          ]
        }
      ]
    },
    {
      "cell_type": "markdown",
      "source": [
        "### Word2Vec "
      ],
      "metadata": {
        "_uuid": "f08a28aab2c3d16d8b9681a7d5d07587153a1cd6",
        "id": "1eQnRXTv395H"
      }
    },
    {
      "cell_type": "code",
      "source": [
        "%%time\n",
        "documents = [_text.split() for _text in df_train.text] "
      ],
      "metadata": {
        "_uuid": "2461bf564de1b4414841933d0c1d1bee5f5cc5a6",
        "trusted": true,
        "colab": {
          "base_uri": "https://localhost:8080/"
        },
        "id": "2XyjfVXL395H",
        "outputId": "c0477e2d-a989-4725-ad6b-d72a9be025ec"
      },
      "execution_count": 29,
      "outputs": [
        {
          "output_type": "stream",
          "name": "stdout",
          "text": [
            "CPU times: user 4.68 s, sys: 708 ms, total: 5.39 s\n",
            "Wall time: 8 s\n"
          ]
        }
      ]
    },
    {
      "cell_type": "code",
      "source": [
        "w2v_model = gensim.models.word2vec.Word2Vec(vector_size=W2V_SIZE, \n",
        "                                            window=W2V_WINDOW, \n",
        "                                            min_count=W2V_MIN_COUNT, \n",
        "                                            workers=8)"
      ],
      "metadata": {
        "_uuid": "8e19b9f25801ba86420decc266d2b3e6fb44f1ea",
        "trusted": true,
        "colab": {
          "base_uri": "https://localhost:8080/"
        },
        "id": "UxespGtV395H",
        "outputId": "515d7f00-f6ef-4771-cb48-74586abf8884"
      },
      "execution_count": 30,
      "outputs": [
        {
          "output_type": "stream",
          "name": "stderr",
          "text": [
            "2022-05-05 16:01:55,122 : INFO : Word2Vec lifecycle event {'params': 'Word2Vec<vocab=0, vector_size=300, alpha=0.025>', 'datetime': '2022-05-05T16:01:55.122346', 'gensim': '4.2.0', 'python': '3.7.13 (default, Apr 24 2022, 01:04:09) \\n[GCC 7.5.0]', 'platform': 'Linux-5.4.188+-x86_64-with-Ubuntu-18.04-bionic', 'event': 'created'}\n"
          ]
        }
      ]
    },
    {
      "cell_type": "code",
      "source": [
        "w2v_model.build_vocab(documents)"
      ],
      "metadata": {
        "_uuid": "58d655af07653c594bec6bebcfb302a973b0ad9c",
        "trusted": true,
        "colab": {
          "base_uri": "https://localhost:8080/"
        },
        "id": "Da-jatEL395I",
        "outputId": "4ba56e33-fd9c-486d-8358-61b92b172fa7"
      },
      "execution_count": 31,
      "outputs": [
        {
          "output_type": "stream",
          "name": "stderr",
          "text": [
            "2022-05-05 16:01:55,162 : INFO : collecting all words and their counts\n",
            "2022-05-05 16:01:55,175 : INFO : PROGRESS: at sentence #0, processed 0 words, keeping 0 word types\n",
            "2022-05-05 16:01:55,297 : INFO : PROGRESS: at sentence #10000, processed 72565 words, keeping 14005 word types\n",
            "2022-05-05 16:01:55,409 : INFO : PROGRESS: at sentence #20000, processed 144393 words, keeping 21587 word types\n",
            "2022-05-05 16:01:55,501 : INFO : PROGRESS: at sentence #30000, processed 215826 words, keeping 27541 word types\n",
            "2022-05-05 16:01:55,583 : INFO : PROGRESS: at sentence #40000, processed 288271 words, keeping 32764 word types\n",
            "2022-05-05 16:01:55,680 : INFO : PROGRESS: at sentence #50000, processed 359772 words, keeping 37587 word types\n",
            "2022-05-05 16:01:55,780 : INFO : PROGRESS: at sentence #60000, processed 431431 words, keeping 42198 word types\n",
            "2022-05-05 16:01:55,877 : INFO : PROGRESS: at sentence #70000, processed 503103 words, keeping 46458 word types\n",
            "2022-05-05 16:01:55,935 : INFO : PROGRESS: at sentence #80000, processed 575709 words, keeping 50476 word types\n",
            "2022-05-05 16:01:55,983 : INFO : PROGRESS: at sentence #90000, processed 647100 words, keeping 54140 word types\n",
            "2022-05-05 16:01:56,130 : INFO : PROGRESS: at sentence #100000, processed 718681 words, keeping 57777 word types\n",
            "2022-05-05 16:01:56,201 : INFO : PROGRESS: at sentence #110000, processed 790696 words, keeping 61207 word types\n",
            "2022-05-05 16:01:56,253 : INFO : PROGRESS: at sentence #120000, processed 863134 words, keeping 64583 word types\n",
            "2022-05-05 16:01:56,323 : INFO : PROGRESS: at sentence #130000, processed 935111 words, keeping 67865 word types\n",
            "2022-05-05 16:01:56,419 : INFO : PROGRESS: at sentence #140000, processed 1006668 words, keeping 70966 word types\n",
            "2022-05-05 16:01:56,499 : INFO : PROGRESS: at sentence #150000, processed 1078512 words, keeping 74119 word types\n",
            "2022-05-05 16:01:56,605 : INFO : PROGRESS: at sentence #160000, processed 1149914 words, keeping 77187 word types\n",
            "2022-05-05 16:01:56,807 : INFO : PROGRESS: at sentence #170000, processed 1222145 words, keeping 80267 word types\n",
            "2022-05-05 16:01:56,867 : INFO : PROGRESS: at sentence #180000, processed 1294708 words, keeping 83393 word types\n",
            "2022-05-05 16:01:57,045 : INFO : PROGRESS: at sentence #190000, processed 1367608 words, keeping 86329 word types\n",
            "2022-05-05 16:01:57,205 : INFO : PROGRESS: at sentence #200000, processed 1439469 words, keeping 89103 word types\n",
            "2022-05-05 16:01:57,287 : INFO : PROGRESS: at sentence #210000, processed 1512099 words, keeping 91840 word types\n",
            "2022-05-05 16:01:57,353 : INFO : PROGRESS: at sentence #220000, processed 1584149 words, keeping 94636 word types\n",
            "2022-05-05 16:01:57,443 : INFO : PROGRESS: at sentence #230000, processed 1656354 words, keeping 97353 word types\n",
            "2022-05-05 16:01:57,539 : INFO : PROGRESS: at sentence #240000, processed 1728573 words, keeping 99975 word types\n",
            "2022-05-05 16:01:57,638 : INFO : PROGRESS: at sentence #250000, processed 1801102 words, keeping 102594 word types\n",
            "2022-05-05 16:01:57,764 : INFO : PROGRESS: at sentence #260000, processed 1873103 words, keeping 105162 word types\n",
            "2022-05-05 16:01:57,819 : INFO : PROGRESS: at sentence #270000, processed 1945245 words, keeping 107626 word types\n",
            "2022-05-05 16:01:57,921 : INFO : PROGRESS: at sentence #280000, processed 2017163 words, keeping 110141 word types\n",
            "2022-05-05 16:01:57,978 : INFO : PROGRESS: at sentence #290000, processed 2089574 words, keeping 112539 word types\n",
            "2022-05-05 16:01:58,054 : INFO : PROGRESS: at sentence #300000, processed 2160996 words, keeping 114893 word types\n",
            "2022-05-05 16:01:58,150 : INFO : PROGRESS: at sentence #310000, processed 2232913 words, keeping 117298 word types\n",
            "2022-05-05 16:01:58,220 : INFO : PROGRESS: at sentence #320000, processed 2305039 words, keeping 119693 word types\n",
            "2022-05-05 16:01:58,274 : INFO : PROGRESS: at sentence #330000, processed 2377119 words, keeping 122131 word types\n",
            "2022-05-05 16:01:58,325 : INFO : PROGRESS: at sentence #340000, processed 2449370 words, keeping 124416 word types\n",
            "2022-05-05 16:01:58,381 : INFO : PROGRESS: at sentence #350000, processed 2521564 words, keeping 126669 word types\n",
            "2022-05-05 16:01:58,439 : INFO : PROGRESS: at sentence #360000, processed 2593681 words, keeping 128912 word types\n",
            "2022-05-05 16:01:58,503 : INFO : PROGRESS: at sentence #370000, processed 2665692 words, keeping 131135 word types\n",
            "2022-05-05 16:01:58,578 : INFO : PROGRESS: at sentence #380000, processed 2737859 words, keeping 133403 word types\n",
            "2022-05-05 16:01:58,636 : INFO : PROGRESS: at sentence #390000, processed 2809848 words, keeping 135551 word types\n",
            "2022-05-05 16:01:58,693 : INFO : PROGRESS: at sentence #400000, processed 2882438 words, keeping 137742 word types\n",
            "2022-05-05 16:01:58,742 : INFO : PROGRESS: at sentence #410000, processed 2954075 words, keeping 139909 word types\n",
            "2022-05-05 16:01:58,804 : INFO : PROGRESS: at sentence #420000, processed 3026247 words, keeping 142144 word types\n",
            "2022-05-05 16:01:58,897 : INFO : PROGRESS: at sentence #430000, processed 3098659 words, keeping 144364 word types\n",
            "2022-05-05 16:01:59,020 : INFO : PROGRESS: at sentence #440000, processed 3170663 words, keeping 146439 word types\n",
            "2022-05-05 16:01:59,104 : INFO : PROGRESS: at sentence #450000, processed 3243344 words, keeping 148526 word types\n",
            "2022-05-05 16:01:59,172 : INFO : PROGRESS: at sentence #460000, processed 3315466 words, keeping 150610 word types\n",
            "2022-05-05 16:01:59,272 : INFO : PROGRESS: at sentence #470000, processed 3388295 words, keeping 152737 word types\n",
            "2022-05-05 16:01:59,349 : INFO : PROGRESS: at sentence #480000, processed 3460120 words, keeping 154757 word types\n",
            "2022-05-05 16:01:59,403 : INFO : PROGRESS: at sentence #490000, processed 3531883 words, keeping 156825 word types\n",
            "2022-05-05 16:01:59,455 : INFO : PROGRESS: at sentence #500000, processed 3604217 words, keeping 158859 word types\n",
            "2022-05-05 16:01:59,506 : INFO : PROGRESS: at sentence #510000, processed 3676427 words, keeping 160852 word types\n",
            "2022-05-05 16:01:59,576 : INFO : PROGRESS: at sentence #520000, processed 3749045 words, keeping 162863 word types\n",
            "2022-05-05 16:01:59,696 : INFO : PROGRESS: at sentence #530000, processed 3821622 words, keeping 164929 word types\n",
            "2022-05-05 16:01:59,751 : INFO : PROGRESS: at sentence #540000, processed 3893627 words, keeping 166840 word types\n",
            "2022-05-05 16:01:59,847 : INFO : PROGRESS: at sentence #550000, processed 3965477 words, keeping 168799 word types\n",
            "2022-05-05 16:01:59,897 : INFO : PROGRESS: at sentence #560000, processed 4038050 words, keeping 170802 word types\n",
            "2022-05-05 16:01:59,959 : INFO : PROGRESS: at sentence #570000, processed 4110296 words, keeping 172760 word types\n",
            "2022-05-05 16:02:00,035 : INFO : PROGRESS: at sentence #580000, processed 4182385 words, keeping 174635 word types\n",
            "2022-05-05 16:02:00,115 : INFO : PROGRESS: at sentence #590000, processed 4254632 words, keeping 176470 word types\n",
            "2022-05-05 16:02:00,174 : INFO : PROGRESS: at sentence #600000, processed 4326859 words, keeping 178350 word types\n",
            "2022-05-05 16:02:00,250 : INFO : PROGRESS: at sentence #610000, processed 4399183 words, keeping 180290 word types\n",
            "2022-05-05 16:02:00,307 : INFO : PROGRESS: at sentence #620000, processed 4471343 words, keeping 182129 word types\n",
            "2022-05-05 16:02:00,386 : INFO : PROGRESS: at sentence #630000, processed 4543286 words, keeping 184005 word types\n",
            "2022-05-05 16:02:00,478 : INFO : PROGRESS: at sentence #640000, processed 4615780 words, keeping 185835 word types\n",
            "2022-05-05 16:02:00,580 : INFO : PROGRESS: at sentence #650000, processed 4688481 words, keeping 187705 word types\n",
            "2022-05-05 16:02:00,682 : INFO : PROGRESS: at sentence #660000, processed 4760481 words, keeping 189439 word types\n",
            "2022-05-05 16:02:00,759 : INFO : PROGRESS: at sentence #670000, processed 4833024 words, keeping 191232 word types\n",
            "2022-05-05 16:02:00,827 : INFO : PROGRESS: at sentence #680000, processed 4904516 words, keeping 193177 word types\n",
            "2022-05-05 16:02:00,900 : INFO : PROGRESS: at sentence #690000, processed 4976968 words, keeping 194960 word types\n",
            "2022-05-05 16:02:00,975 : INFO : PROGRESS: at sentence #700000, processed 5049412 words, keeping 196725 word types\n",
            "2022-05-05 16:02:01,048 : INFO : PROGRESS: at sentence #710000, processed 5121976 words, keeping 198516 word types\n",
            "2022-05-05 16:02:01,117 : INFO : PROGRESS: at sentence #720000, processed 5193881 words, keeping 200325 word types\n",
            "2022-05-05 16:02:01,191 : INFO : PROGRESS: at sentence #730000, processed 5265467 words, keeping 202133 word types\n",
            "2022-05-05 16:02:01,263 : INFO : PROGRESS: at sentence #740000, processed 5337518 words, keeping 203818 word types\n",
            "2022-05-05 16:02:01,372 : INFO : PROGRESS: at sentence #750000, processed 5409321 words, keeping 205535 word types\n",
            "2022-05-05 16:02:01,491 : INFO : PROGRESS: at sentence #760000, processed 5481512 words, keeping 207282 word types\n",
            "2022-05-05 16:02:01,599 : INFO : PROGRESS: at sentence #770000, processed 5554093 words, keeping 209076 word types\n",
            "2022-05-05 16:02:01,753 : INFO : PROGRESS: at sentence #780000, processed 5625382 words, keeping 210805 word types\n",
            "2022-05-05 16:02:01,835 : INFO : PROGRESS: at sentence #790000, processed 5698066 words, keeping 212618 word types\n",
            "2022-05-05 16:02:01,923 : INFO : PROGRESS: at sentence #800000, processed 5770880 words, keeping 214374 word types\n",
            "2022-05-05 16:02:02,033 : INFO : PROGRESS: at sentence #810000, processed 5843418 words, keeping 216009 word types\n",
            "2022-05-05 16:02:02,111 : INFO : PROGRESS: at sentence #820000, processed 5915628 words, keeping 217804 word types\n",
            "2022-05-05 16:02:02,215 : INFO : PROGRESS: at sentence #830000, processed 5987499 words, keeping 219585 word types\n",
            "2022-05-05 16:02:02,284 : INFO : PROGRESS: at sentence #840000, processed 6058973 words, keeping 221344 word types\n",
            "2022-05-05 16:02:02,345 : INFO : PROGRESS: at sentence #850000, processed 6131125 words, keeping 223002 word types\n",
            "2022-05-05 16:02:02,409 : INFO : PROGRESS: at sentence #860000, processed 6202951 words, keeping 224643 word types\n",
            "2022-05-05 16:02:02,489 : INFO : PROGRESS: at sentence #870000, processed 6275461 words, keeping 226362 word types\n",
            "2022-05-05 16:02:02,545 : INFO : PROGRESS: at sentence #880000, processed 6347661 words, keeping 227986 word types\n",
            "2022-05-05 16:02:02,606 : INFO : PROGRESS: at sentence #890000, processed 6419806 words, keeping 229634 word types\n",
            "2022-05-05 16:02:02,673 : INFO : PROGRESS: at sentence #900000, processed 6491644 words, keeping 231389 word types\n",
            "2022-05-05 16:02:02,936 : INFO : PROGRESS: at sentence #910000, processed 6564022 words, keeping 233050 word types\n",
            "2022-05-05 16:02:03,113 : INFO : PROGRESS: at sentence #920000, processed 6636228 words, keeping 234686 word types\n",
            "2022-05-05 16:02:03,251 : INFO : PROGRESS: at sentence #930000, processed 6708573 words, keeping 236393 word types\n",
            "2022-05-05 16:02:03,402 : INFO : PROGRESS: at sentence #940000, processed 6779956 words, keeping 238052 word types\n",
            "2022-05-05 16:02:03,551 : INFO : PROGRESS: at sentence #950000, processed 6852599 words, keeping 239716 word types\n",
            "2022-05-05 16:02:03,674 : INFO : PROGRESS: at sentence #960000, processed 6924717 words, keeping 241354 word types\n",
            "2022-05-05 16:02:03,755 : INFO : PROGRESS: at sentence #970000, processed 6996992 words, keeping 242980 word types\n",
            "2022-05-05 16:02:03,813 : INFO : PROGRESS: at sentence #980000, processed 7068402 words, keeping 244646 word types\n",
            "2022-05-05 16:02:03,862 : INFO : PROGRESS: at sentence #990000, processed 7140346 words, keeping 246186 word types\n",
            "2022-05-05 16:02:03,923 : INFO : PROGRESS: at sentence #1000000, processed 7211757 words, keeping 247726 word types\n",
            "2022-05-05 16:02:03,980 : INFO : PROGRESS: at sentence #1010000, processed 7283267 words, keeping 249288 word types\n",
            "2022-05-05 16:02:04,048 : INFO : PROGRESS: at sentence #1020000, processed 7355299 words, keeping 250860 word types\n",
            "2022-05-05 16:02:04,104 : INFO : PROGRESS: at sentence #1030000, processed 7426918 words, keeping 252366 word types\n",
            "2022-05-05 16:02:04,161 : INFO : PROGRESS: at sentence #1040000, processed 7498815 words, keeping 253930 word types\n",
            "2022-05-05 16:02:04,265 : INFO : PROGRESS: at sentence #1050000, processed 7570499 words, keeping 255471 word types\n",
            "2022-05-05 16:02:04,373 : INFO : PROGRESS: at sentence #1060000, processed 7643251 words, keeping 257035 word types\n",
            "2022-05-05 16:02:04,437 : INFO : PROGRESS: at sentence #1070000, processed 7714721 words, keeping 258509 word types\n",
            "2022-05-05 16:02:04,513 : INFO : PROGRESS: at sentence #1080000, processed 7787371 words, keeping 260071 word types\n",
            "2022-05-05 16:02:04,628 : INFO : PROGRESS: at sentence #1090000, processed 7859336 words, keeping 261683 word types\n",
            "2022-05-05 16:02:04,705 : INFO : PROGRESS: at sentence #1100000, processed 7932029 words, keeping 263278 word types\n",
            "2022-05-05 16:02:04,811 : INFO : PROGRESS: at sentence #1110000, processed 8004146 words, keeping 264800 word types\n",
            "2022-05-05 16:02:04,954 : INFO : PROGRESS: at sentence #1120000, processed 8075880 words, keeping 266309 word types\n",
            "2022-05-05 16:02:05,036 : INFO : PROGRESS: at sentence #1130000, processed 8148163 words, keeping 267826 word types\n",
            "2022-05-05 16:02:05,085 : INFO : PROGRESS: at sentence #1140000, processed 8220487 words, keeping 269391 word types\n",
            "2022-05-05 16:02:05,139 : INFO : PROGRESS: at sentence #1150000, processed 8292498 words, keeping 270894 word types\n",
            "2022-05-05 16:02:05,205 : INFO : PROGRESS: at sentence #1160000, processed 8363838 words, keeping 272400 word types\n",
            "2022-05-05 16:02:05,260 : INFO : PROGRESS: at sentence #1170000, processed 8435510 words, keeping 273970 word types\n",
            "2022-05-05 16:02:05,314 : INFO : PROGRESS: at sentence #1180000, processed 8507795 words, keeping 275521 word types\n",
            "2022-05-05 16:02:05,371 : INFO : PROGRESS: at sentence #1190000, processed 8579080 words, keeping 277007 word types\n",
            "2022-05-05 16:02:05,436 : INFO : PROGRESS: at sentence #1200000, processed 8650606 words, keeping 278457 word types\n",
            "2022-05-05 16:02:05,499 : INFO : PROGRESS: at sentence #1210000, processed 8721893 words, keeping 279959 word types\n",
            "2022-05-05 16:02:05,569 : INFO : PROGRESS: at sentence #1220000, processed 8793795 words, keeping 281427 word types\n",
            "2022-05-05 16:02:05,630 : INFO : PROGRESS: at sentence #1230000, processed 8865726 words, keeping 282981 word types\n",
            "2022-05-05 16:02:05,687 : INFO : PROGRESS: at sentence #1240000, processed 8938173 words, keeping 284542 word types\n",
            "2022-05-05 16:02:05,741 : INFO : PROGRESS: at sentence #1250000, processed 9010842 words, keeping 286064 word types\n",
            "2022-05-05 16:02:05,830 : INFO : PROGRESS: at sentence #1260000, processed 9083261 words, keeping 287521 word types\n",
            "2022-05-05 16:02:05,892 : INFO : PROGRESS: at sentence #1270000, processed 9155616 words, keeping 288987 word types\n",
            "2022-05-05 16:02:06,000 : INFO : collected 290418 word types from a corpus of 9227204 raw words and 1280000 sentences\n",
            "2022-05-05 16:02:06,007 : INFO : Creating a fresh vocabulary\n",
            "2022-05-05 16:02:07,442 : INFO : Word2Vec lifecycle event {'msg': 'effective_min_count=10 retains 30369 unique words (10.46% of original 290418, drops 260049)', 'datetime': '2022-05-05T16:02:07.442667', 'gensim': '4.2.0', 'python': '3.7.13 (default, Apr 24 2022, 01:04:09) \\n[GCC 7.5.0]', 'platform': 'Linux-5.4.188+-x86_64-with-Ubuntu-18.04-bionic', 'event': 'prepare_vocab'}\n",
            "2022-05-05 16:02:07,457 : INFO : Word2Vec lifecycle event {'msg': 'effective_min_count=10 leaves 8780739 word corpus (95.16% of original 9227204, drops 446465)', 'datetime': '2022-05-05T16:02:07.457681', 'gensim': '4.2.0', 'python': '3.7.13 (default, Apr 24 2022, 01:04:09) \\n[GCC 7.5.0]', 'platform': 'Linux-5.4.188+-x86_64-with-Ubuntu-18.04-bionic', 'event': 'prepare_vocab'}\n",
            "2022-05-05 16:02:08,107 : INFO : deleting the raw counts dictionary of 290418 items\n",
            "2022-05-05 16:02:08,120 : INFO : sample=0.001 downsamples 45 most-common words\n",
            "2022-05-05 16:02:08,122 : INFO : Word2Vec lifecycle event {'msg': 'downsampling leaves estimated 8222658.616429881 word corpus (93.6%% of prior 8780739)', 'datetime': '2022-05-05T16:02:08.122677', 'gensim': '4.2.0', 'python': '3.7.13 (default, Apr 24 2022, 01:04:09) \\n[GCC 7.5.0]', 'platform': 'Linux-5.4.188+-x86_64-with-Ubuntu-18.04-bionic', 'event': 'prepare_vocab'}\n",
            "2022-05-05 16:02:08,523 : INFO : estimated required memory for 30369 words and 300 dimensions: 88070100 bytes\n",
            "2022-05-05 16:02:08,535 : INFO : resetting layer weights\n",
            "2022-05-05 16:02:08,656 : INFO : Word2Vec lifecycle event {'update': False, 'trim_rule': 'None', 'datetime': '2022-05-05T16:02:08.656829', 'gensim': '4.2.0', 'python': '3.7.13 (default, Apr 24 2022, 01:04:09) \\n[GCC 7.5.0]', 'platform': 'Linux-5.4.188+-x86_64-with-Ubuntu-18.04-bionic', 'event': 'build_vocab'}\n"
          ]
        }
      ]
    },
    {
      "cell_type": "code",
      "source": [
        "%%time\n",
        "w2v_model.train(documents, total_examples=len(documents), epochs=W2V_EPOCH)"
      ],
      "metadata": {
        "_uuid": "68c3e4a5ba07cac3dee67f78ecdd1404c7f83f14",
        "trusted": true,
        "colab": {
          "base_uri": "https://localhost:8080/"
        },
        "id": "F3IOxRhe395I",
        "outputId": "be92af08-b6c0-4a6e-c4fa-1e18c6233681"
      },
      "execution_count": 33,
      "outputs": [
        {
          "output_type": "stream",
          "name": "stderr",
          "text": [
            "2022-05-05 16:02:29,664 : INFO : Word2Vec lifecycle event {'msg': 'training model with 8 workers on 30369 vocabulary and 300 features, using sg=0 hs=0 sample=0.001 negative=5 window=7 shrink_windows=True', 'datetime': '2022-05-05T16:02:29.664192', 'gensim': '4.2.0', 'python': '3.7.13 (default, Apr 24 2022, 01:04:09) \\n[GCC 7.5.0]', 'platform': 'Linux-5.4.188+-x86_64-with-Ubuntu-18.04-bionic', 'event': 'train'}\n",
            "2022-05-05 16:02:30,840 : INFO : EPOCH 0 - PROGRESS: at 2.50% examples, 194112 words/s, in_qsize 14, out_qsize 1\n",
            "2022-05-05 16:02:31,964 : INFO : EPOCH 0 - PROGRESS: at 5.00% examples, 187938 words/s, in_qsize 15, out_qsize 0\n",
            "2022-05-05 16:02:33,129 : INFO : EPOCH 0 - PROGRESS: at 7.60% examples, 186465 words/s, in_qsize 15, out_qsize 0\n",
            "2022-05-05 16:02:34,229 : INFO : EPOCH 0 - PROGRESS: at 9.77% examples, 180468 words/s, in_qsize 14, out_qsize 1\n",
            "2022-05-05 16:02:35,412 : INFO : EPOCH 0 - PROGRESS: at 12.39% examples, 180526 words/s, in_qsize 15, out_qsize 5\n",
            "2022-05-05 16:02:36,420 : INFO : EPOCH 0 - PROGRESS: at 15.19% examples, 187930 words/s, in_qsize 16, out_qsize 0\n",
            "2022-05-05 16:02:37,482 : INFO : EPOCH 0 - PROGRESS: at 17.78% examples, 189747 words/s, in_qsize 16, out_qsize 0\n",
            "2022-05-05 16:02:38,537 : INFO : EPOCH 0 - PROGRESS: at 20.48% examples, 192343 words/s, in_qsize 16, out_qsize 0\n",
            "2022-05-05 16:02:39,547 : INFO : EPOCH 0 - PROGRESS: at 22.98% examples, 193450 words/s, in_qsize 13, out_qsize 5\n",
            "2022-05-05 16:02:40,729 : INFO : EPOCH 0 - PROGRESS: at 26.56% examples, 199409 words/s, in_qsize 15, out_qsize 0\n",
            "2022-05-05 16:02:41,806 : INFO : EPOCH 0 - PROGRESS: at 29.59% examples, 202280 words/s, in_qsize 15, out_qsize 0\n",
            "2022-05-05 16:02:42,817 : INFO : EPOCH 0 - PROGRESS: at 32.62% examples, 205718 words/s, in_qsize 15, out_qsize 0\n",
            "2022-05-05 16:02:43,835 : INFO : EPOCH 0 - PROGRESS: at 36.07% examples, 211097 words/s, in_qsize 15, out_qsize 0\n",
            "2022-05-05 16:02:44,946 : INFO : EPOCH 0 - PROGRESS: at 39.11% examples, 212356 words/s, in_qsize 16, out_qsize 0\n",
            "2022-05-05 16:02:45,968 : INFO : EPOCH 0 - PROGRESS: at 42.03% examples, 213535 words/s, in_qsize 11, out_qsize 4\n",
            "2022-05-05 16:02:47,203 : INFO : EPOCH 0 - PROGRESS: at 45.70% examples, 215792 words/s, in_qsize 14, out_qsize 1\n",
            "2022-05-05 16:02:48,289 : INFO : EPOCH 0 - PROGRESS: at 48.83% examples, 217505 words/s, in_qsize 13, out_qsize 5\n",
            "2022-05-05 16:02:49,259 : INFO : EPOCH 0 - PROGRESS: at 52.18% examples, 220475 words/s, in_qsize 15, out_qsize 0\n",
            "2022-05-05 16:02:50,298 : INFO : EPOCH 0 - PROGRESS: at 55.00% examples, 220601 words/s, in_qsize 15, out_qsize 0\n",
            "2022-05-05 16:02:51,323 : INFO : EPOCH 0 - PROGRESS: at 57.81% examples, 220867 words/s, in_qsize 13, out_qsize 2\n",
            "2022-05-05 16:02:52,323 : INFO : EPOCH 0 - PROGRESS: at 60.85% examples, 222138 words/s, in_qsize 15, out_qsize 0\n",
            "2022-05-05 16:02:53,339 : INFO : EPOCH 0 - PROGRESS: at 64.08% examples, 223901 words/s, in_qsize 16, out_qsize 0\n",
            "2022-05-05 16:02:54,482 : INFO : EPOCH 0 - PROGRESS: at 67.45% examples, 224719 words/s, in_qsize 13, out_qsize 5\n",
            "2022-05-05 16:02:55,513 : INFO : EPOCH 0 - PROGRESS: at 70.48% examples, 225409 words/s, in_qsize 16, out_qsize 3\n",
            "2022-05-05 16:02:56,520 : INFO : EPOCH 0 - PROGRESS: at 73.73% examples, 226911 words/s, in_qsize 15, out_qsize 0\n",
            "2022-05-05 16:02:57,551 : INFO : EPOCH 0 - PROGRESS: at 76.33% examples, 226171 words/s, in_qsize 16, out_qsize 0\n",
            "2022-05-05 16:02:58,566 : INFO : EPOCH 0 - PROGRESS: at 79.49% examples, 227176 words/s, in_qsize 15, out_qsize 0\n",
            "2022-05-05 16:02:59,609 : INFO : EPOCH 0 - PROGRESS: at 81.88% examples, 225803 words/s, in_qsize 13, out_qsize 2\n",
            "2022-05-05 16:03:00,637 : INFO : EPOCH 0 - PROGRESS: at 85.02% examples, 226655 words/s, in_qsize 14, out_qsize 1\n",
            "2022-05-05 16:03:01,649 : INFO : EPOCH 0 - PROGRESS: at 87.94% examples, 226999 words/s, in_qsize 15, out_qsize 0\n",
            "2022-05-05 16:03:02,728 : INFO : EPOCH 0 - PROGRESS: at 90.87% examples, 226862 words/s, in_qsize 15, out_qsize 0\n",
            "2022-05-05 16:03:03,807 : INFO : EPOCH 0 - PROGRESS: at 93.81% examples, 226735 words/s, in_qsize 15, out_qsize 0\n",
            "2022-05-05 16:03:04,905 : INFO : EPOCH 0 - PROGRESS: at 96.53% examples, 225987 words/s, in_qsize 14, out_qsize 1\n",
            "2022-05-05 16:03:05,821 : INFO : EPOCH 0: training on 9227204 raw words (8222449 effective words) took 36.0s, 228174 effective words/s\n",
            "2022-05-05 16:03:06,897 : INFO : EPOCH 1 - PROGRESS: at 2.28% examples, 179291 words/s, in_qsize 15, out_qsize 0\n",
            "2022-05-05 16:03:07,948 : INFO : EPOCH 1 - PROGRESS: at 5.22% examples, 204138 words/s, in_qsize 15, out_qsize 0\n",
            "2022-05-05 16:03:08,968 : INFO : EPOCH 1 - PROGRESS: at 8.25% examples, 217410 words/s, in_qsize 13, out_qsize 2\n",
            "2022-05-05 16:03:09,976 : INFO : EPOCH 1 - PROGRESS: at 11.62% examples, 231321 words/s, in_qsize 15, out_qsize 0\n",
            "2022-05-05 16:03:11,003 : INFO : EPOCH 1 - PROGRESS: at 14.00% examples, 223224 words/s, in_qsize 15, out_qsize 0\n",
            "2022-05-05 16:03:12,038 : INFO : EPOCH 1 - PROGRESS: at 16.92% examples, 224717 words/s, in_qsize 13, out_qsize 2\n",
            "2022-05-05 16:03:13,074 : INFO : EPOCH 1 - PROGRESS: at 20.37% examples, 231957 words/s, in_qsize 15, out_qsize 1\n",
            "2022-05-05 16:03:14,074 : INFO : EPOCH 1 - PROGRESS: at 23.31% examples, 233020 words/s, in_qsize 15, out_qsize 0\n",
            "2022-05-05 16:03:15,103 : INFO : EPOCH 1 - PROGRESS: at 26.23% examples, 233109 words/s, in_qsize 11, out_qsize 3\n",
            "2022-05-05 16:03:16,251 : INFO : EPOCH 1 - PROGRESS: at 29.91% examples, 236515 words/s, in_qsize 16, out_qsize 1\n",
            "2022-05-05 16:03:17,253 : INFO : EPOCH 1 - PROGRESS: at 32.84% examples, 236826 words/s, in_qsize 15, out_qsize 0\n",
            "2022-05-05 16:03:18,256 : INFO : EPOCH 1 - PROGRESS: at 35.86% examples, 237772 words/s, in_qsize 14, out_qsize 1\n",
            "2022-05-05 16:03:19,286 : INFO : EPOCH 1 - PROGRESS: at 39.22% examples, 240105 words/s, in_qsize 16, out_qsize 0\n",
            "2022-05-05 16:03:20,340 : INFO : EPOCH 1 - PROGRESS: at 42.46% examples, 241083 words/s, in_qsize 15, out_qsize 0\n",
            "2022-05-05 16:03:21,411 : INFO : EPOCH 1 - PROGRESS: at 45.59% examples, 241082 words/s, in_qsize 12, out_qsize 3\n",
            "2022-05-05 16:03:22,525 : INFO : EPOCH 1 - PROGRESS: at 49.27% examples, 243711 words/s, in_qsize 16, out_qsize 2\n",
            "2022-05-05 16:03:23,513 : INFO : EPOCH 1 - PROGRESS: at 52.29% examples, 243704 words/s, in_qsize 15, out_qsize 0\n",
            "2022-05-05 16:03:24,524 : INFO : EPOCH 1 - PROGRESS: at 55.53% examples, 244831 words/s, in_qsize 15, out_qsize 1\n",
            "2022-05-05 16:03:25,579 : INFO : EPOCH 1 - PROGRESS: at 58.79% examples, 245280 words/s, in_qsize 14, out_qsize 1\n",
            "2022-05-05 16:03:26,590 : INFO : EPOCH 1 - PROGRESS: at 62.14% examples, 246646 words/s, in_qsize 16, out_qsize 0\n",
            "2022-05-05 16:03:27,595 : INFO : EPOCH 1 - PROGRESS: at 65.17% examples, 246705 words/s, in_qsize 15, out_qsize 0\n",
            "2022-05-05 16:03:28,603 : INFO : EPOCH 1 - PROGRESS: at 68.43% examples, 247528 words/s, in_qsize 16, out_qsize 2\n",
            "2022-05-05 16:03:29,612 : INFO : EPOCH 1 - PROGRESS: at 71.99% examples, 249393 words/s, in_qsize 16, out_qsize 0\n",
            "2022-05-05 16:03:30,684 : INFO : EPOCH 1 - PROGRESS: at 75.14% examples, 249021 words/s, in_qsize 15, out_qsize 0\n",
            "2022-05-05 16:03:31,712 : INFO : EPOCH 1 - PROGRESS: at 78.29% examples, 249103 words/s, in_qsize 15, out_qsize 0\n",
            "2022-05-05 16:03:32,735 : INFO : EPOCH 1 - PROGRESS: at 82.10% examples, 251234 words/s, in_qsize 16, out_qsize 0\n",
            "2022-05-05 16:03:33,742 : INFO : EPOCH 1 - PROGRESS: at 85.12% examples, 251099 words/s, in_qsize 15, out_qsize 0\n",
            "2022-05-05 16:03:34,755 : INFO : EPOCH 1 - PROGRESS: at 88.37% examples, 251540 words/s, in_qsize 15, out_qsize 0\n",
            "2022-05-05 16:03:35,876 : INFO : EPOCH 1 - PROGRESS: at 92.07% examples, 252223 words/s, in_qsize 15, out_qsize 0\n",
            "2022-05-05 16:03:36,977 : INFO : EPOCH 1 - PROGRESS: at 94.69% examples, 250166 words/s, in_qsize 15, out_qsize 0\n",
            "2022-05-05 16:03:38,046 : INFO : EPOCH 1 - PROGRESS: at 97.71% examples, 249728 words/s, in_qsize 15, out_qsize 0\n",
            "2022-05-05 16:03:38,494 : INFO : EPOCH 1: training on 9227204 raw words (8223494 effective words) took 32.6s, 251937 effective words/s\n",
            "2022-05-05 16:03:39,538 : INFO : EPOCH 2 - PROGRESS: at 3.25% examples, 261310 words/s, in_qsize 16, out_qsize 2\n",
            "2022-05-05 16:03:40,608 : INFO : EPOCH 2 - PROGRESS: at 7.06% examples, 276767 words/s, in_qsize 14, out_qsize 1\n",
            "2022-05-05 16:03:41,700 : INFO : EPOCH 2 - PROGRESS: at 11.19% examples, 288257 words/s, in_qsize 15, out_qsize 0\n",
            "2022-05-05 16:03:42,835 : INFO : EPOCH 2 - PROGRESS: at 15.19% examples, 288694 words/s, in_qsize 15, out_qsize 0\n",
            "2022-05-05 16:03:43,912 : INFO : EPOCH 2 - PROGRESS: at 19.40% examples, 296577 words/s, in_qsize 16, out_qsize 2\n",
            "2022-05-05 16:03:44,909 : INFO : EPOCH 2 - PROGRESS: at 23.31% examples, 299628 words/s, in_qsize 15, out_qsize 0\n",
            "2022-05-05 16:03:45,962 : INFO : EPOCH 2 - PROGRESS: at 27.32% examples, 301513 words/s, in_qsize 14, out_qsize 1\n",
            "2022-05-05 16:03:46,980 : INFO : EPOCH 2 - PROGRESS: at 31.32% examples, 304176 words/s, in_qsize 14, out_qsize 1\n",
            "2022-05-05 16:03:47,989 : INFO : EPOCH 2 - PROGRESS: at 35.42% examples, 307527 words/s, in_qsize 15, out_qsize 0\n",
            "2022-05-05 16:03:48,996 : INFO : EPOCH 2 - PROGRESS: at 38.78% examples, 304330 words/s, in_qsize 15, out_qsize 0\n",
            "2022-05-05 16:03:50,010 : INFO : EPOCH 2 - PROGRESS: at 42.57% examples, 304596 words/s, in_qsize 15, out_qsize 2\n",
            "2022-05-05 16:03:51,018 : INFO : EPOCH 2 - PROGRESS: at 46.35% examples, 304985 words/s, in_qsize 15, out_qsize 0\n",
            "2022-05-05 16:03:52,035 : INFO : EPOCH 2 - PROGRESS: at 50.35% examples, 306444 words/s, in_qsize 16, out_qsize 0\n",
            "2022-05-05 16:03:53,094 : INFO : EPOCH 2 - PROGRESS: at 54.03% examples, 304958 words/s, in_qsize 15, out_qsize 5\n",
            "2022-05-05 16:03:54,153 : INFO : EPOCH 2 - PROGRESS: at 58.69% examples, 308828 words/s, in_qsize 16, out_qsize 0\n",
            "2022-05-05 16:03:55,156 : INFO : EPOCH 2 - PROGRESS: at 62.57% examples, 309502 words/s, in_qsize 14, out_qsize 1\n",
            "2022-05-05 16:03:56,163 : INFO : EPOCH 2 - PROGRESS: at 66.58% examples, 310486 words/s, in_qsize 15, out_qsize 1\n",
            "2022-05-05 16:03:57,227 : INFO : EPOCH 2 - PROGRESS: at 70.37% examples, 310144 words/s, in_qsize 15, out_qsize 2\n",
            "2022-05-05 16:03:58,218 : INFO : EPOCH 2 - PROGRESS: at 74.48% examples, 311111 words/s, in_qsize 15, out_qsize 0\n",
            "2022-05-05 16:03:59,219 : INFO : EPOCH 2 - PROGRESS: at 78.29% examples, 311134 words/s, in_qsize 16, out_qsize 1\n",
            "2022-05-05 16:04:00,246 : INFO : EPOCH 2 - PROGRESS: at 82.53% examples, 312410 words/s, in_qsize 15, out_qsize 0\n",
            "2022-05-05 16:04:01,258 : INFO : EPOCH 2 - PROGRESS: at 86.21% examples, 311818 words/s, in_qsize 13, out_qsize 2\n",
            "2022-05-05 16:04:02,268 : INFO : EPOCH 2 - PROGRESS: at 90.00% examples, 311689 words/s, in_qsize 15, out_qsize 0\n",
            "2022-05-05 16:04:03,290 : INFO : EPOCH 2 - PROGRESS: at 93.59% examples, 310686 words/s, in_qsize 15, out_qsize 0\n",
            "2022-05-05 16:04:04,312 : INFO : EPOCH 2 - PROGRESS: at 97.71% examples, 311489 words/s, in_qsize 15, out_qsize 0\n",
            "2022-05-05 16:04:04,791 : INFO : EPOCH 2: training on 9227204 raw words (8223432 effective words) took 26.3s, 312976 effective words/s\n",
            "2022-05-05 16:04:05,813 : INFO : EPOCH 3 - PROGRESS: at 3.25% examples, 265650 words/s, in_qsize 15, out_qsize 0\n",
            "2022-05-05 16:04:06,849 : INFO : EPOCH 3 - PROGRESS: at 7.28% examples, 292046 words/s, in_qsize 15, out_qsize 0\n",
            "2022-05-05 16:04:07,877 : INFO : EPOCH 3 - PROGRESS: at 11.19% examples, 301215 words/s, in_qsize 15, out_qsize 0\n",
            "2022-05-05 16:04:08,866 : INFO : EPOCH 3 - PROGRESS: at 14.86% examples, 300653 words/s, in_qsize 15, out_qsize 0\n",
            "2022-05-05 16:04:09,869 : INFO : EPOCH 3 - PROGRESS: at 18.87% examples, 306181 words/s, in_qsize 15, out_qsize 0\n",
            "2022-05-05 16:04:10,939 : INFO : EPOCH 3 - PROGRESS: at 22.43% examples, 300713 words/s, in_qsize 15, out_qsize 2\n",
            "2022-05-05 16:04:11,994 : INFO : EPOCH 3 - PROGRESS: at 26.45% examples, 302460 words/s, in_qsize 16, out_qsize 1\n",
            "2022-05-05 16:04:13,026 : INFO : EPOCH 3 - PROGRESS: at 30.24% examples, 302407 words/s, in_qsize 15, out_qsize 1\n",
            "2022-05-05 16:04:14,099 : INFO : EPOCH 3 - PROGRESS: at 34.03% examples, 301867 words/s, in_qsize 15, out_qsize 3\n",
            "2022-05-05 16:04:15,084 : INFO : EPOCH 3 - PROGRESS: at 38.03% examples, 304251 words/s, in_qsize 16, out_qsize 0\n",
            "2022-05-05 16:04:16,129 : INFO : EPOCH 3 - PROGRESS: at 41.80% examples, 303732 words/s, in_qsize 15, out_qsize 0\n",
            "2022-05-05 16:04:17,150 : INFO : EPOCH 3 - PROGRESS: at 45.92% examples, 306029 words/s, in_qsize 15, out_qsize 0\n",
            "2022-05-05 16:04:18,200 : INFO : EPOCH 3 - PROGRESS: at 49.59% examples, 304667 words/s, in_qsize 13, out_qsize 2\n",
            "2022-05-05 16:04:19,204 : INFO : EPOCH 3 - PROGRESS: at 53.70% examples, 306962 words/s, in_qsize 16, out_qsize 1\n",
            "2022-05-05 16:04:20,216 : INFO : EPOCH 3 - PROGRESS: at 57.71% examples, 308214 words/s, in_qsize 15, out_qsize 0\n",
            "2022-05-05 16:04:21,251 : INFO : EPOCH 3 - PROGRESS: at 61.61% examples, 308316 words/s, in_qsize 14, out_qsize 1\n",
            "2022-05-05 16:04:22,316 : INFO : EPOCH 3 - PROGRESS: at 65.61% examples, 308397 words/s, in_qsize 15, out_qsize 0\n",
            "2022-05-05 16:04:23,412 : INFO : EPOCH 3 - PROGRESS: at 69.72% examples, 308429 words/s, in_qsize 15, out_qsize 0\n",
            "2022-05-05 16:04:24,538 : INFO : EPOCH 3 - PROGRESS: at 74.05% examples, 308874 words/s, in_qsize 15, out_qsize 0\n",
            "2022-05-05 16:04:25,591 : INFO : EPOCH 3 - PROGRESS: at 78.29% examples, 310127 words/s, in_qsize 15, out_qsize 1\n",
            "2022-05-05 16:04:26,587 : INFO : EPOCH 3 - PROGRESS: at 82.21% examples, 310484 words/s, in_qsize 16, out_qsize 0\n",
            "2022-05-05 16:04:27,587 : INFO : EPOCH 3 - PROGRESS: at 85.88% examples, 310141 words/s, in_qsize 15, out_qsize 0\n",
            "2022-05-05 16:04:28,611 : INFO : EPOCH 3 - PROGRESS: at 89.56% examples, 309510 words/s, in_qsize 16, out_qsize 0\n",
            "2022-05-05 16:04:29,630 : INFO : EPOCH 3 - PROGRESS: at 93.59% examples, 310080 words/s, in_qsize 15, out_qsize 0\n",
            "2022-05-05 16:04:30,645 : INFO : EPOCH 3 - PROGRESS: at 97.07% examples, 308919 words/s, in_qsize 16, out_qsize 0\n",
            "2022-05-05 16:04:31,197 : INFO : EPOCH 3: training on 9227204 raw words (8223670 effective words) took 26.4s, 311617 effective words/s\n",
            "2022-05-05 16:04:32,226 : INFO : EPOCH 4 - PROGRESS: at 3.25% examples, 262792 words/s, in_qsize 15, out_qsize 0\n",
            "2022-05-05 16:04:33,279 : INFO : EPOCH 4 - PROGRESS: at 7.27% examples, 290645 words/s, in_qsize 15, out_qsize 2\n",
            "2022-05-05 16:04:34,308 : INFO : EPOCH 4 - PROGRESS: at 11.51% examples, 304714 words/s, in_qsize 16, out_qsize 0\n",
            "2022-05-05 16:04:35,310 : INFO : EPOCH 4 - PROGRESS: at 15.52% examples, 310541 words/s, in_qsize 14, out_qsize 1\n",
            "2022-05-05 16:04:36,341 : INFO : EPOCH 4 - PROGRESS: at 19.08% examples, 305441 words/s, in_qsize 14, out_qsize 1\n",
            "2022-05-05 16:04:37,420 : INFO : EPOCH 4 - PROGRESS: at 23.41% examples, 309792 words/s, in_qsize 15, out_qsize 0\n",
            "2022-05-05 16:04:38,437 : INFO : EPOCH 4 - PROGRESS: at 27.32% examples, 310543 words/s, in_qsize 12, out_qsize 4\n",
            "2022-05-05 16:04:39,438 : INFO : EPOCH 4 - PROGRESS: at 31.21% examples, 311766 words/s, in_qsize 16, out_qsize 1\n",
            "2022-05-05 16:04:40,443 : INFO : EPOCH 4 - PROGRESS: at 35.32% examples, 314484 words/s, in_qsize 14, out_qsize 1\n",
            "2022-05-05 16:04:41,478 : INFO : EPOCH 4 - PROGRESS: at 39.32% examples, 314892 words/s, in_qsize 15, out_qsize 0\n",
            "2022-05-05 16:04:42,493 : INFO : EPOCH 4 - PROGRESS: at 43.43% examples, 316549 words/s, in_qsize 15, out_qsize 0\n",
            "2022-05-05 16:04:43,574 : INFO : EPOCH 4 - PROGRESS: at 47.21% examples, 314086 words/s, in_qsize 15, out_qsize 0\n",
            "2022-05-05 16:04:44,605 : INFO : EPOCH 4 - PROGRESS: at 51.43% examples, 315867 words/s, in_qsize 15, out_qsize 0\n",
            "2022-05-05 16:04:45,646 : INFO : EPOCH 4 - PROGRESS: at 55.53% examples, 316549 words/s, in_qsize 16, out_qsize 0\n",
            "2022-05-05 16:04:46,666 : INFO : EPOCH 4 - PROGRESS: at 59.55% examples, 316999 words/s, in_qsize 15, out_qsize 0\n",
            "2022-05-05 16:04:47,677 : INFO : EPOCH 4 - PROGRESS: at 63.22% examples, 315919 words/s, in_qsize 15, out_qsize 3\n",
            "2022-05-05 16:04:48,690 : INFO : EPOCH 4 - PROGRESS: at 67.02% examples, 315435 words/s, in_qsize 13, out_qsize 2\n",
            "2022-05-05 16:04:49,705 : INFO : EPOCH 4 - PROGRESS: at 71.24% examples, 316909 words/s, in_qsize 15, out_qsize 0\n",
            "2022-05-05 16:04:50,723 : INFO : EPOCH 4 - PROGRESS: at 75.14% examples, 316796 words/s, in_qsize 16, out_qsize 0\n",
            "2022-05-05 16:04:51,735 : INFO : EPOCH 4 - PROGRESS: at 79.05% examples, 316787 words/s, in_qsize 14, out_qsize 1\n",
            "2022-05-05 16:04:52,741 : INFO : EPOCH 4 - PROGRESS: at 82.85% examples, 316469 words/s, in_qsize 14, out_qsize 1\n",
            "2022-05-05 16:04:53,755 : INFO : EPOCH 4 - PROGRESS: at 87.07% examples, 317640 words/s, in_qsize 15, out_qsize 0\n",
            "2022-05-05 16:04:54,775 : INFO : EPOCH 4 - PROGRESS: at 90.98% examples, 317477 words/s, in_qsize 15, out_qsize 0\n",
            "2022-05-05 16:04:55,820 : INFO : EPOCH 4 - PROGRESS: at 95.23% examples, 318114 words/s, in_qsize 15, out_qsize 0\n",
            "2022-05-05 16:04:56,838 : INFO : EPOCH 4 - PROGRESS: at 99.01% examples, 317643 words/s, in_qsize 10, out_qsize 0\n",
            "2022-05-05 16:04:56,915 : INFO : EPOCH 4: training on 9227204 raw words (8222155 effective words) took 25.7s, 319841 effective words/s\n",
            "2022-05-05 16:04:57,934 : INFO : EPOCH 5 - PROGRESS: at 3.25% examples, 265692 words/s, in_qsize 15, out_qsize 0\n",
            "2022-05-05 16:04:58,944 : INFO : EPOCH 5 - PROGRESS: at 7.49% examples, 304920 words/s, in_qsize 14, out_qsize 0\n",
            "2022-05-05 16:05:00,028 : INFO : EPOCH 5 - PROGRESS: at 11.62% examples, 309210 words/s, in_qsize 15, out_qsize 1\n",
            "2022-05-05 16:05:01,109 : INFO : EPOCH 5 - PROGRESS: at 15.95% examples, 313188 words/s, in_qsize 16, out_qsize 0\n",
            "2022-05-05 16:05:02,156 : INFO : EPOCH 5 - PROGRESS: at 20.16% examples, 316889 words/s, in_qsize 15, out_qsize 0\n",
            "2022-05-05 16:05:03,212 : INFO : EPOCH 5 - PROGRESS: at 24.07% examples, 314710 words/s, in_qsize 15, out_qsize 2\n",
            "2022-05-05 16:05:04,226 : INFO : EPOCH 5 - PROGRESS: at 27.86% examples, 313732 words/s, in_qsize 14, out_qsize 1\n",
            "2022-05-05 16:05:34,354 : INFO : EPOCH 6 - PROGRESS: at 39.97% examples, 286889 words/s, in_qsize 15, out_qsize 0\n",
            "2022-05-05 16:05:35,360 : INFO : EPOCH 6 - PROGRESS: at 43.86% examples, 289472 words/s, in_qsize 15, out_qsize 0\n",
            "2022-05-05 16:05:36,402 : INFO : EPOCH 6 - PROGRESS: at 47.43% examples, 288900 words/s, in_qsize 15, out_qsize 0\n",
            "2022-05-05 16:05:37,468 : INFO : EPOCH 6 - PROGRESS: at 51.32% examples, 289792 words/s, in_qsize 15, out_qsize 0\n",
            "2022-05-05 16:05:38,519 : INFO : EPOCH 6 - PROGRESS: at 55.43% examples, 291979 words/s, in_qsize 13, out_qsize 2\n",
            "2022-05-05 16:05:39,528 : INFO : EPOCH 6 - PROGRESS: at 59.23% examples, 293021 words/s, in_qsize 11, out_qsize 4\n",
            "2022-05-05 16:05:40,596 : INFO : EPOCH 6 - PROGRESS: at 63.22% examples, 293968 words/s, in_qsize 15, out_qsize 0\n",
            "2022-05-05 16:05:41,615 : INFO : EPOCH 6 - PROGRESS: at 66.90% examples, 294397 words/s, in_qsize 15, out_qsize 2\n",
            "2022-05-05 16:05:42,634 : INFO : EPOCH 6 - PROGRESS: at 70.70% examples, 295033 words/s, in_qsize 15, out_qsize 0\n",
            "2022-05-05 16:05:43,719 : INFO : EPOCH 6 - PROGRESS: at 74.70% examples, 295437 words/s, in_qsize 16, out_qsize 2\n",
            "2022-05-05 16:05:44,711 : INFO : EPOCH 6 - PROGRESS: at 78.73% examples, 296886 words/s, in_qsize 15, out_qsize 0\n",
            "2022-05-05 16:05:45,757 : INFO : EPOCH 6 - PROGRESS: at 82.74% examples, 297725 words/s, in_qsize 14, out_qsize 1\n",
            "2022-05-05 16:05:46,850 : INFO : EPOCH 6 - PROGRESS: at 86.96% examples, 298635 words/s, in_qsize 15, out_qsize 0\n",
            "2022-05-05 16:05:47,862 : INFO : EPOCH 6 - PROGRESS: at 90.65% examples, 298653 words/s, in_qsize 16, out_qsize 1\n",
            "2022-05-05 16:05:48,886 : INFO : EPOCH 6 - PROGRESS: at 94.91% examples, 300235 words/s, in_qsize 15, out_qsize 0\n",
            "2022-05-05 16:05:49,980 : INFO : EPOCH 6 - PROGRESS: at 99.01% examples, 300614 words/s, in_qsize 9, out_qsize 1\n",
            "2022-05-05 16:05:50,074 : INFO : EPOCH 6: training on 9227204 raw words (8222754 effective words) took 27.2s, 302552 effective words/s\n",
            "2022-05-05 16:05:51,117 : INFO : EPOCH 7 - PROGRESS: at 3.25% examples, 259520 words/s, in_qsize 15, out_qsize 0\n",
            "2022-05-05 16:05:52,177 : INFO : EPOCH 7 - PROGRESS: at 7.38% examples, 289768 words/s, in_qsize 15, out_qsize 0\n",
            "2022-05-05 16:05:53,198 : INFO : EPOCH 7 - PROGRESS: at 11.62% examples, 306381 words/s, in_qsize 14, out_qsize 1\n",
            "2022-05-05 16:05:54,239 : INFO : EPOCH 7 - PROGRESS: at 15.84% examples, 313095 words/s, in_qsize 16, out_qsize 1\n",
            "2022-05-05 16:05:55,295 : INFO : EPOCH 7 - PROGRESS: at 19.94% examples, 314632 words/s, in_qsize 14, out_qsize 1\n",
            "2022-05-05 16:05:56,340 : INFO : EPOCH 7 - PROGRESS: at 24.17% examples, 317632 words/s, in_qsize 15, out_qsize 0\n",
            "2022-05-05 16:05:57,348 : INFO : EPOCH 7 - PROGRESS: at 28.07% examples, 317713 words/s, in_qsize 15, out_qsize 0\n",
            "2022-05-05 16:05:58,355 : INFO : EPOCH 7 - PROGRESS: at 31.86% examples, 316797 words/s, in_qsize 15, out_qsize 2\n",
            "2022-05-05 16:05:59,370 : INFO : EPOCH 7 - PROGRESS: at 35.64% examples, 315746 words/s, in_qsize 14, out_qsize 3\n",
            "2022-05-05 16:06:00,375 : INFO : EPOCH 7 - PROGRESS: at 39.86% examples, 318611 words/s, in_qsize 15, out_qsize 0\n",
            "2022-05-05 16:06:01,396 : INFO : EPOCH 7 - PROGRESS: at 43.54% examples, 316644 words/s, in_qsize 16, out_qsize 0\n",
            "2022-05-05 16:06:02,429 : INFO : EPOCH 7 - PROGRESS: at 47.32% examples, 315392 words/s, in_qsize 14, out_qsize 1\n",
            "2022-05-05 16:06:03,433 : INFO : EPOCH 7 - PROGRESS: at 51.32% examples, 316362 words/s, in_qsize 14, out_qsize 1\n",
            "2022-05-05 16:06:04,514 : INFO : EPOCH 7 - PROGRESS: at 55.42% examples, 316157 words/s, in_qsize 16, out_qsize 0\n",
            "2022-05-05 16:06:05,547 : INFO : EPOCH 7 - PROGRESS: at 59.34% examples, 315769 words/s, in_qsize 15, out_qsize 2\n",
            "2022-05-05 16:06:06,567 : INFO : EPOCH 7 - PROGRESS: at 63.11% examples, 315146 words/s, in_qsize 12, out_qsize 3\n",
            "2022-05-05 16:06:07,670 : INFO : EPOCH 7 - PROGRESS: at 67.45% examples, 315626 words/s, in_qsize 13, out_qsize 2\n",
            "2022-05-05 16:06:08,698 : INFO : EPOCH 7 - PROGRESS: at 71.67% examples, 316860 words/s, in_qsize 15, out_qsize 0\n",
            "2022-05-05 16:06:09,752 : INFO : EPOCH 7 - PROGRESS: at 75.78% examples, 317101 words/s, in_qsize 15, out_qsize 0\n",
            "2022-05-05 16:06:10,884 : INFO : EPOCH 7 - PROGRESS: at 79.92% examples, 316101 words/s, in_qsize 15, out_qsize 0\n",
            "2022-05-05 16:06:11,897 : INFO : EPOCH 7 - PROGRESS: at 84.04% examples, 316956 words/s, in_qsize 15, out_qsize 0\n",
            "2022-05-05 16:06:12,930 : INFO : EPOCH 7 - PROGRESS: at 87.94% examples, 316650 words/s, in_qsize 16, out_qsize 0\n",
            "2022-05-05 16:06:13,979 : INFO : EPOCH 7 - PROGRESS: at 91.85% examples, 316142 words/s, in_qsize 15, out_qsize 0\n",
            "2022-05-05 16:06:15,052 : INFO : EPOCH 7 - PROGRESS: at 95.88% examples, 316145 words/s, in_qsize 15, out_qsize 1\n",
            "2022-05-05 16:06:15,904 : INFO : EPOCH 7: training on 9227204 raw words (8222666 effective words) took 25.8s, 318490 effective words/s\n",
            "2022-05-05 16:06:16,937 : INFO : EPOCH 8 - PROGRESS: at 3.14% examples, 254178 words/s, in_qsize 15, out_qsize 0\n",
            "2022-05-05 16:06:17,957 : INFO : EPOCH 8 - PROGRESS: at 7.17% examples, 288813 words/s, in_qsize 15, out_qsize 0\n",
            "2022-05-05 16:06:18,996 : INFO : EPOCH 8 - PROGRESS: at 10.97% examples, 294353 words/s, in_qsize 15, out_qsize 1\n",
            "2022-05-05 16:06:20,007 : INFO : EPOCH 8 - PROGRESS: at 14.97% examples, 300894 words/s, in_qsize 15, out_qsize 0\n",
            "2022-05-05 16:06:21,029 : INFO : EPOCH 8 - PROGRESS: at 18.97% examples, 305846 words/s, in_qsize 16, out_qsize 1\n",
            "2022-05-05 16:06:22,074 : INFO : EPOCH 8 - PROGRESS: at 23.09% examples, 308375 words/s, in_qsize 13, out_qsize 2\n",
            "2022-05-05 16:06:23,126 : INFO : EPOCH 8 - PROGRESS: at 27.32% examples, 311576 words/s, in_qsize 15, out_qsize 0\n",
            "2022-05-05 16:06:24,128 : INFO : EPOCH 8 - PROGRESS: at 31.43% examples, 314812 words/s, in_qsize 15, out_qsize 0\n",
            "2022-05-05 16:06:25,140 : INFO : EPOCH 8 - PROGRESS: at 35.00% examples, 312112 words/s, in_qsize 16, out_qsize 1\n",
            "2022-05-05 16:06:26,163 : INFO : EPOCH 8 - PROGRESS: at 38.89% examples, 312262 words/s, in_qsize 13, out_qsize 2\n",
            "2022-05-05 16:06:27,171 : INFO : EPOCH 8 - PROGRESS: at 42.57% examples, 311183 words/s, in_qsize 13, out_qsize 5\n",
            "2022-05-05 16:06:28,199 : INFO : EPOCH 8 - PROGRESS: at 46.67% examples, 312719 words/s, in_qsize 15, out_qsize 0\n",
            "2022-05-05 16:06:29,248 : INFO : EPOCH 8 - PROGRESS: at 50.45% examples, 311538 words/s, in_qsize 16, out_qsize 3\n",
            "2022-05-05 16:06:30,313 : INFO : EPOCH 8 - PROGRESS: at 54.67% examples, 312620 words/s, in_qsize 16, out_qsize 2\n",
            "2022-05-05 16:06:31,415 : INFO : EPOCH 8 - PROGRESS: at 58.79% examples, 312233 words/s, in_qsize 16, out_qsize 0\n",
            "2022-05-05 16:06:32,433 : INFO : EPOCH 8 - PROGRESS: at 62.68% examples, 312414 words/s, in_qsize 15, out_qsize 0\n",
            "2022-05-05 16:06:33,473 : INFO : EPOCH 8 - PROGRESS: at 66.58% examples, 312155 words/s, in_qsize 10, out_qsize 5\n",
            "2022-05-05 16:06:34,497 : INFO : EPOCH 8 - PROGRESS: at 70.48% examples, 312221 words/s, in_qsize 12, out_qsize 3\n",
            "2022-05-05 16:06:35,565 : INFO : EPOCH 8 - PROGRESS: at 74.59% examples, 312803 words/s, in_qsize 15, out_qsize 0\n",
            "2022-05-05 16:06:36,549 : INFO : EPOCH 8 - PROGRESS: at 78.40% examples, 312676 words/s, in_qsize 15, out_qsize 0\n",
            "2022-05-05 16:06:37,549 : INFO : EPOCH 8 - PROGRESS: at 81.99% examples, 311803 words/s, in_qsize 16, out_qsize 0\n",
            "2022-05-05 16:06:38,563 : INFO : EPOCH 8 - PROGRESS: at 85.99% examples, 312386 words/s, in_qsize 15, out_qsize 0\n",
            "2022-05-05 16:06:39,613 : INFO : EPOCH 8 - PROGRESS: at 89.89% examples, 312052 words/s, in_qsize 15, out_qsize 0\n",
            "2022-05-05 16:06:40,623 : INFO : EPOCH 8 - PROGRESS: at 93.48% examples, 311171 words/s, in_qsize 15, out_qsize 0\n",
            "2022-05-05 16:06:41,640 : INFO : EPOCH 8 - PROGRESS: at 97.18% examples, 310638 words/s, in_qsize 15, out_qsize 1\n",
            "2022-05-05 16:06:42,317 : INFO : EPOCH 8: training on 9227204 raw words (8222332 effective words) took 26.4s, 311485 effective words/s\n",
            "2022-05-05 16:06:43,434 : INFO : EPOCH 9 - PROGRESS: at 3.47% examples, 258555 words/s, in_qsize 15, out_qsize 0\n",
            "2022-05-05 16:06:44,514 : INFO : EPOCH 9 - PROGRESS: at 7.60% examples, 285679 words/s, in_qsize 11, out_qsize 4\n",
            "2022-05-05 16:06:45,605 : INFO : EPOCH 9 - PROGRESS: at 11.84% examples, 296761 words/s, in_qsize 15, out_qsize 0\n",
            "2022-05-05 16:06:46,612 : INFO : EPOCH 9 - PROGRESS: at 16.05% examples, 308064 words/s, in_qsize 14, out_qsize 0\n",
            "2022-05-05 16:06:47,613 : INFO : EPOCH 9 - PROGRESS: at 19.73% examples, 306980 words/s, in_qsize 15, out_qsize 0\n",
            "2022-05-05 16:06:48,638 : INFO : EPOCH 9 - PROGRESS: at 23.52% examples, 306564 words/s, in_qsize 13, out_qsize 2\n",
            "2022-05-05 16:06:49,713 : INFO : EPOCH 9 - PROGRESS: at 27.32% examples, 304138 words/s, in_qsize 14, out_qsize 1\n",
            "2022-05-05 16:06:50,878 : INFO : EPOCH 9 - PROGRESS: at 31.65% examples, 304388 words/s, in_qsize 13, out_qsize 2\n",
            "2022-05-05 16:06:51,914 : INFO : EPOCH 9 - PROGRESS: at 35.86% examples, 307736 words/s, in_qsize 16, out_qsize 0\n",
            "2022-05-05 16:06:52,947 : INFO : EPOCH 9 - PROGRESS: at 39.76% examples, 307991 words/s, in_qsize 15, out_qsize 0\n",
            "2022-05-05 16:06:53,957 : INFO : EPOCH 9 - PROGRESS: at 43.54% examples, 308051 words/s, in_qsize 14, out_qsize 0\n",
            "2022-05-05 16:06:55,005 : INFO : EPOCH 9 - PROGRESS: at 46.99% examples, 305068 words/s, in_qsize 15, out_qsize 0\n",
            "2022-05-05 16:06:56,012 : INFO : EPOCH 9 - PROGRESS: at 49.38% examples, 296945 words/s, in_qsize 15, out_qsize 2\n",
            "2022-05-05 16:06:57,033 : INFO : EPOCH 9 - PROGRESS: at 52.29% examples, 292699 words/s, in_qsize 15, out_qsize 0\n",
            "2022-05-05 16:06:58,046 : INFO : EPOCH 9 - PROGRESS: at 55.97% examples, 293110 words/s, in_qsize 15, out_qsize 0\n",
            "2022-05-05 16:06:59,072 : INFO : EPOCH 9 - PROGRESS: at 59.98% examples, 294834 words/s, in_qsize 16, out_qsize 0\n",
            "2022-05-05 16:07:00,156 : INFO : EPOCH 9 - PROGRESS: at 64.08% examples, 295871 words/s, in_qsize 15, out_qsize 0\n",
            "2022-05-05 16:07:01,181 : INFO : EPOCH 9 - PROGRESS: at 68.21% examples, 297745 words/s, in_qsize 16, out_qsize 0\n",
            "2022-05-05 16:07:02,197 : INFO : EPOCH 9 - PROGRESS: at 72.10% examples, 298655 words/s, in_qsize 16, out_qsize 0\n",
            "2022-05-05 16:07:03,241 : INFO : EPOCH 9 - PROGRESS: at 76.00% examples, 299075 words/s, in_qsize 15, out_qsize 0\n",
            "2022-05-05 16:07:04,347 : INFO : EPOCH 9 - PROGRESS: at 79.70% examples, 298460 words/s, in_qsize 16, out_qsize 6\n",
            "2022-05-05 16:07:05,377 : INFO : EPOCH 9 - PROGRESS: at 83.83% examples, 299191 words/s, in_qsize 16, out_qsize 1\n",
            "2022-05-05 16:07:06,457 : INFO : EPOCH 9 - PROGRESS: at 88.16% examples, 300550 words/s, in_qsize 15, out_qsize 0\n",
            "2022-05-05 16:07:07,490 : INFO : EPOCH 9 - PROGRESS: at 92.07% examples, 300998 words/s, in_qsize 15, out_qsize 2\n",
            "2022-05-05 16:07:08,488 : INFO : EPOCH 9 - PROGRESS: at 95.99% examples, 301722 words/s, in_qsize 16, out_qsize 0\n",
            "2022-05-05 16:07:09,398 : INFO : EPOCH 9: training on 9227204 raw words (8222351 effective words) took 27.1s, 303780 effective words/s\n",
            "2022-05-05 16:07:10,423 : INFO : EPOCH 10 - PROGRESS: at 3.14% examples, 255850 words/s, in_qsize 15, out_qsize 0\n",
            "2022-05-05 16:07:11,499 : INFO : EPOCH 10 - PROGRESS: at 6.95% examples, 273412 words/s, in_qsize 15, out_qsize 1\n",
            "2022-05-05 16:07:12,502 : INFO : EPOCH 10 - PROGRESS: at 10.86% examples, 288543 words/s, in_qsize 14, out_qsize 1\n",
            "2022-05-05 16:07:13,533 : INFO : EPOCH 10 - PROGRESS: at 15.08% examples, 300582 words/s, in_qsize 15, out_qsize 0\n",
            "2022-05-05 16:07:14,542 : INFO : EPOCH 10 - PROGRESS: at 18.76% examples, 300448 words/s, in_qsize 16, out_qsize 0\n",
            "2022-05-05 16:07:15,563 : INFO : EPOCH 10 - PROGRESS: at 22.77% examples, 304248 words/s, in_qsize 16, out_qsize 0\n",
            "2022-05-05 16:07:16,575 : INFO : EPOCH 10 - PROGRESS: at 26.56% examples, 304795 words/s, in_qsize 16, out_qsize 0\n",
            "2022-05-05 16:07:17,602 : INFO : EPOCH 10 - PROGRESS: at 30.78% examples, 309037 words/s, in_qsize 15, out_qsize 0\n",
            "2022-05-05 16:07:18,658 : INFO : EPOCH 10 - PROGRESS: at 34.57% examples, 307421 words/s, in_qsize 15, out_qsize 0\n",
            "2022-05-05 16:07:19,711 : INFO : EPOCH 10 - PROGRESS: at 38.57% examples, 307985 words/s, in_qsize 15, out_qsize 0\n",
            "2022-05-05 16:07:20,828 : INFO : EPOCH 10 - PROGRESS: at 42.46% examples, 306436 words/s, in_qsize 15, out_qsize 3\n",
            "2022-05-05 16:07:21,840 : INFO : EPOCH 10 - PROGRESS: at 46.46% examples, 307557 words/s, in_qsize 15, out_qsize 0\n",
            "2022-05-05 16:07:22,893 : INFO : EPOCH 10 - PROGRESS: at 50.56% examples, 308645 words/s, in_qsize 15, out_qsize 0\n",
            "2022-05-05 16:07:23,908 : INFO : EPOCH 10 - PROGRESS: at 54.35% examples, 308567 words/s, in_qsize 15, out_qsize 1\n",
            "2022-05-05 16:07:24,911 : INFO : EPOCH 10 - PROGRESS: at 58.25% examples, 309282 words/s, in_qsize 15, out_qsize 0\n",
            "2022-05-05 16:07:25,953 : INFO : EPOCH 10 - PROGRESS: at 62.14% examples, 309209 words/s, in_qsize 16, out_qsize 0\n",
            "2022-05-05 16:07:26,986 : INFO : EPOCH 10 - PROGRESS: at 66.04% examples, 309270 words/s, in_qsize 16, out_qsize 1\n",
            "2022-05-05 16:07:28,026 : INFO : EPOCH 10 - PROGRESS: at 69.83% examples, 308740 words/s, in_qsize 15, out_qsize 0\n",
            "2022-05-05 16:07:29,065 : INFO : EPOCH 10 - PROGRESS: at 73.83% examples, 309185 words/s, in_qsize 16, out_qsize 0\n",
            "2022-05-05 16:07:30,125 : INFO : EPOCH 10 - PROGRESS: at 77.63% examples, 308386 words/s, in_qsize 13, out_qsize 2\n",
            "2022-05-05 16:07:31,175 : INFO : EPOCH 10 - PROGRESS: at 81.66% examples, 308731 words/s, in_qsize 14, out_qsize 2\n",
            "2022-05-05 16:07:32,174 : INFO : EPOCH 10 - PROGRESS: at 85.55% examples, 309204 words/s, in_qsize 15, out_qsize 0\n",
            "2022-05-05 16:07:33,272 : INFO : EPOCH 10 - PROGRESS: at 89.34% examples, 308028 words/s, in_qsize 15, out_qsize 0\n",
            "2022-05-05 16:07:34,282 : INFO : EPOCH 10 - PROGRESS: at 93.15% examples, 308030 words/s, in_qsize 15, out_qsize 0\n",
            "2022-05-05 16:07:35,309 : INFO : EPOCH 10 - PROGRESS: at 96.75% examples, 307173 words/s, in_qsize 15, out_qsize 0\n",
            "2022-05-05 16:07:36,021 : INFO : EPOCH 10: training on 9227204 raw words (8222864 effective words) took 26.6s, 309040 effective words/s\n",
            "2022-05-05 16:07:37,126 : INFO : EPOCH 11 - PROGRESS: at 3.36% examples, 252995 words/s, in_qsize 15, out_qsize 0\n",
            "2022-05-05 16:07:38,149 : INFO : EPOCH 11 - PROGRESS: at 7.49% examples, 290716 words/s, in_qsize 15, out_qsize 0\n",
            "2022-05-05 16:07:39,180 : INFO : EPOCH 11 - PROGRESS: at 11.40% examples, 297493 words/s, in_qsize 13, out_qsize 2\n",
            "2022-05-05 16:07:40,211 : INFO : EPOCH 11 - PROGRESS: at 15.19% examples, 298728 words/s, in_qsize 14, out_qsize 1\n",
            "2022-05-05 16:07:41,240 : INFO : EPOCH 11 - PROGRESS: at 19.40% examples, 306340 words/s, in_qsize 15, out_qsize 0\n",
            "2022-05-05 16:07:42,301 : INFO : EPOCH 11 - PROGRESS: at 23.31% examples, 307302 words/s, in_qsize 16, out_qsize 1\n",
            "2022-05-05 16:07:43,275 : INFO : EPOCH 11 - PROGRESS: at 27.20% examples, 308859 words/s, in_qsize 16, out_qsize 0\n",
            "2022-05-05 16:07:44,283 : INFO : EPOCH 11 - PROGRESS: at 30.89% examples, 307840 words/s, in_qsize 15, out_qsize 0\n",
            "2022-05-05 16:07:45,323 : INFO : EPOCH 11 - PROGRESS: at 34.89% examples, 308884 words/s, in_qsize 12, out_qsize 2\n",
            "2022-05-05 16:07:46,360 : INFO : EPOCH 11 - PROGRESS: at 38.78% examples, 308939 words/s, in_qsize 16, out_qsize 0\n",
            "2022-05-05 16:07:47,395 : INFO : EPOCH 11 - PROGRESS: at 42.46% examples, 307434 words/s, in_qsize 14, out_qsize 1\n",
            "2022-05-05 16:07:48,476 : INFO : EPOCH 11 - PROGRESS: at 46.35% examples, 306515 words/s, in_qsize 13, out_qsize 2\n",
            "2022-05-05 16:07:49,541 : INFO : EPOCH 11 - PROGRESS: at 50.57% examples, 308073 words/s, in_qsize 15, out_qsize 1\n",
            "2022-05-05 16:07:50,559 : INFO : EPOCH 11 - PROGRESS: at 54.46% examples, 308579 words/s, in_qsize 15, out_qsize 0\n",
            "2022-05-05 16:07:51,614 : INFO : EPOCH 11 - PROGRESS: at 58.04% examples, 306565 words/s, in_qsize 13, out_qsize 2\n",
            "2022-05-05 16:07:52,677 : INFO : EPOCH 11 - PROGRESS: at 62.03% examples, 306795 words/s, in_qsize 15, out_qsize 0\n",
            "2022-05-05 16:07:53,736 : INFO : EPOCH 11 - PROGRESS: at 66.15% examples, 308071 words/s, in_qsize 16, out_qsize 0\n",
            "2022-05-05 16:07:54,750 : INFO : EPOCH 11 - PROGRESS: at 70.05% examples, 308037 words/s, in_qsize 15, out_qsize 0\n",
            "2022-05-05 16:07:55,776 : INFO : EPOCH 11 - PROGRESS: at 73.51% examples, 306809 words/s, in_qsize 15, out_qsize 2\n",
            "2022-05-05 16:07:56,817 : INFO : EPOCH 11 - PROGRESS: at 77.20% examples, 305658 words/s, in_qsize 16, out_qsize 0\n",
            "2022-05-05 16:07:57,863 : INFO : EPOCH 11 - PROGRESS: at 81.01% examples, 305306 words/s, in_qsize 16, out_qsize 1\n",
            "2022-05-05 16:07:58,894 : INFO : EPOCH 11 - PROGRESS: at 84.59% examples, 304641 words/s, in_qsize 16, out_qsize 3\n",
            "2022-05-05 16:07:59,945 : INFO : EPOCH 11 - PROGRESS: at 88.48% examples, 304419 words/s, in_qsize 14, out_qsize 1\n",
            "2022-05-05 16:08:00,948 : INFO : EPOCH 11 - PROGRESS: at 92.39% examples, 305023 words/s, in_qsize 16, out_qsize 0\n",
            "2022-05-05 16:08:01,957 : INFO : EPOCH 11 - PROGRESS: at 95.77% examples, 303793 words/s, in_qsize 15, out_qsize 0\n",
            "2022-05-05 16:08:02,868 : INFO : EPOCH 11: training on 9227204 raw words (8223636 effective words) took 26.8s, 306468 effective words/s\n",
            "2022-05-05 16:08:03,888 : INFO : EPOCH 12 - PROGRESS: at 3.47% examples, 283197 words/s, in_qsize 15, out_qsize 0\n",
            "2022-05-05 16:08:04,891 : INFO : EPOCH 12 - PROGRESS: at 6.62% examples, 270329 words/s, in_qsize 16, out_qsize 0\n",
            "2022-05-05 16:08:05,897 : INFO : EPOCH 12 - PROGRESS: at 10.53% examples, 286573 words/s, in_qsize 15, out_qsize 0\n",
            "2022-05-05 16:08:06,925 : INFO : EPOCH 12 - PROGRESS: at 14.11% examples, 286383 words/s, in_qsize 15, out_qsize 0\n",
            "2022-05-05 16:08:07,928 : INFO : EPOCH 12 - PROGRESS: at 17.57% examples, 285880 words/s, in_qsize 15, out_qsize 0\n",
            "2022-05-05 16:08:08,948 : INFO : EPOCH 12 - PROGRESS: at 21.25% examples, 287795 words/s, in_qsize 14, out_qsize 1\n",
            "2022-05-05 16:08:09,955 : INFO : EPOCH 12 - PROGRESS: at 24.94% examples, 289661 words/s, in_qsize 15, out_qsize 2\n",
            "2022-05-05 16:08:10,980 : INFO : EPOCH 12 - PROGRESS: at 29.05% examples, 294824 words/s, in_qsize 16, out_qsize 0\n",
            "2022-05-05 16:08:11,989 : INFO : EPOCH 12 - PROGRESS: at 32.51% examples, 293459 words/s, in_qsize 15, out_qsize 0\n",
            "2022-05-05 16:08:13,037 : INFO : EPOCH 12 - PROGRESS: at 36.40% examples, 294742 words/s, in_qsize 16, out_qsize 0\n",
            "2022-05-05 16:08:14,130 : INFO : EPOCH 12 - PROGRESS: at 40.51% examples, 296217 words/s, in_qsize 16, out_qsize 0\n",
            "2022-05-05 16:08:15,164 : INFO : EPOCH 12 - PROGRESS: at 44.07% examples, 295216 words/s, in_qsize 15, out_qsize 1\n",
            "2022-05-05 16:08:16,253 : INFO : EPOCH 12 - PROGRESS: at 47.86% examples, 294472 words/s, in_qsize 12, out_qsize 3\n",
            "2022-05-05 16:08:17,319 : INFO : EPOCH 12 - PROGRESS: at 51.86% examples, 295591 words/s, in_qsize 15, out_qsize 0\n",
            "2022-05-05 16:08:18,347 : INFO : EPOCH 12 - PROGRESS: at 55.64% examples, 296102 words/s, in_qsize 15, out_qsize 0\n",
            "2022-05-05 16:08:19,363 : INFO : EPOCH 12 - PROGRESS: at 59.12% examples, 295161 words/s, in_qsize 15, out_qsize 0\n",
            "2022-05-05 16:08:20,411 : INFO : EPOCH 12 - PROGRESS: at 63.22% examples, 296835 words/s, in_qsize 15, out_qsize 0\n",
            "2022-05-05 16:08:21,429 : INFO : EPOCH 12 - PROGRESS: at 66.58% examples, 295416 words/s, in_qsize 14, out_qsize 3\n",
            "2022-05-05 16:08:22,446 : INFO : EPOCH 12 - PROGRESS: at 70.48% examples, 296451 words/s, in_qsize 15, out_qsize 0\n",
            "2022-05-05 16:08:23,476 : INFO : EPOCH 12 - PROGRESS: at 73.94% examples, 295447 words/s, in_qsize 15, out_qsize 0\n",
            "2022-05-05 16:08:24,509 : INFO : EPOCH 12 - PROGRESS: at 77.96% examples, 296565 words/s, in_qsize 15, out_qsize 0\n",
            "2022-05-05 16:08:25,545 : INFO : EPOCH 12 - PROGRESS: at 81.56% examples, 295978 words/s, in_qsize 15, out_qsize 0\n",
            "2022-05-05 16:08:26,568 : INFO : EPOCH 12 - PROGRESS: at 85.02% examples, 295232 words/s, in_qsize 16, out_qsize 1\n",
            "2022-05-05 16:08:27,609 : INFO : EPOCH 12 - PROGRESS: at 88.48% examples, 294331 words/s, in_qsize 13, out_qsize 2\n",
            "2022-05-05 16:08:28,612 : INFO : EPOCH 12 - PROGRESS: at 92.61% examples, 296002 words/s, in_qsize 16, out_qsize 0\n",
            "2022-05-05 16:08:29,628 : INFO : EPOCH 12 - PROGRESS: at 96.20% examples, 295745 words/s, in_qsize 16, out_qsize 0\n",
            "2022-05-05 16:08:30,514 : INFO : EPOCH 12: training on 9227204 raw words (8223017 effective words) took 27.6s, 297583 effective words/s\n",
            "2022-05-05 16:08:31,549 : INFO : EPOCH 13 - PROGRESS: at 3.25% examples, 262265 words/s, in_qsize 15, out_qsize 0\n",
            "2022-05-05 16:08:32,612 : INFO : EPOCH 13 - PROGRESS: at 6.51% examples, 256749 words/s, in_qsize 15, out_qsize 2\n",
            "2022-05-05 16:08:33,701 : INFO : EPOCH 13 - PROGRESS: at 10.21% examples, 266830 words/s, in_qsize 14, out_qsize 4\n",
            "2022-05-05 16:08:34,674 : INFO : EPOCH 13 - PROGRESS: at 13.47% examples, 266580 words/s, in_qsize 15, out_qsize 0\n",
            "2022-05-05 16:08:35,680 : INFO : EPOCH 13 - PROGRESS: at 17.13% examples, 273275 words/s, in_qsize 16, out_qsize 0\n",
            "2022-05-05 16:08:36,751 : INFO : EPOCH 13 - PROGRESS: at 20.81% examples, 275770 words/s, in_qsize 15, out_qsize 0\n",
            "2022-05-05 16:08:37,771 : INFO : EPOCH 13 - PROGRESS: at 24.83% examples, 281781 words/s, in_qsize 14, out_qsize 1\n",
            "2022-05-05 16:08:38,847 : INFO : EPOCH 13 - PROGRESS: at 28.07% examples, 277468 words/s, in_qsize 16, out_qsize 0\n",
            "2022-05-05 16:08:39,850 : INFO : EPOCH 13 - PROGRESS: at 32.08% examples, 282998 words/s, in_qsize 14, out_qsize 1\n",
            "2022-05-05 16:08:40,863 : INFO : EPOCH 13 - PROGRESS: at 35.75% examples, 284533 words/s, in_qsize 16, out_qsize 1\n",
            "2022-05-05 16:08:41,908 : INFO : EPOCH 13 - PROGRESS: at 39.54% examples, 285815 words/s, in_qsize 14, out_qsize 1\n",
            "2022-05-05 16:08:42,933 : INFO : EPOCH 13 - PROGRESS: at 43.54% examples, 288746 words/s, in_qsize 16, out_qsize 1\n",
            "2022-05-05 16:08:43,983 : INFO : EPOCH 13 - PROGRESS: at 46.79% examples, 286083 words/s, in_qsize 14, out_qsize 1\n",
            "2022-05-05 16:08:45,008 : INFO : EPOCH 13 - PROGRESS: at 50.67% examples, 287987 words/s, in_qsize 15, out_qsize 0\n",
            "2022-05-05 16:08:46,014 : INFO : EPOCH 13 - PROGRESS: at 54.24% examples, 288278 words/s, in_qsize 10, out_qsize 5\n",
            "2022-05-05 16:08:47,046 : INFO : EPOCH 13 - PROGRESS: at 58.25% examples, 290222 words/s, in_qsize 12, out_qsize 3\n",
            "2022-05-05 16:08:48,050 : INFO : EPOCH 13 - PROGRESS: at 61.93% examples, 290871 words/s, in_qsize 14, out_qsize 1\n",
            "2022-05-05 16:08:49,071 : INFO : EPOCH 13 - PROGRESS: at 65.50% examples, 290690 words/s, in_qsize 15, out_qsize 0\n",
            "2022-05-05 16:08:50,094 : INFO : EPOCH 13 - PROGRESS: at 69.29% examples, 291437 words/s, in_qsize 13, out_qsize 2\n",
            "2022-05-05 16:08:51,122 : INFO : EPOCH 13 - PROGRESS: at 73.19% examples, 292449 words/s, in_qsize 15, out_qsize 0\n",
            "2022-05-05 16:08:52,186 : INFO : EPOCH 13 - PROGRESS: at 77.09% examples, 292871 words/s, in_qsize 16, out_qsize 0\n",
            "2022-05-05 16:08:53,206 : INFO : EPOCH 13 - PROGRESS: at 81.23% examples, 294638 words/s, in_qsize 16, out_qsize 2\n",
            "2022-05-05 16:08:54,239 : INFO : EPOCH 13 - PROGRESS: at 85.12% examples, 295331 words/s, in_qsize 15, out_qsize 0\n",
            "2022-05-05 16:08:55,263 : INFO : EPOCH 13 - PROGRESS: at 89.23% examples, 296775 words/s, in_qsize 14, out_qsize 1\n",
            "2022-05-05 16:08:56,274 : INFO : EPOCH 13 - PROGRESS: at 93.15% examples, 297562 words/s, in_qsize 15, out_qsize 0\n",
            "2022-05-05 16:08:57,286 : INFO : EPOCH 13 - PROGRESS: at 96.96% examples, 297954 words/s, in_qsize 16, out_qsize 1\n",
            "2022-05-05 16:08:57,922 : INFO : EPOCH 13: training on 9227204 raw words (8222629 effective words) took 27.4s, 300184 effective words/s\n",
            "2022-05-05 16:08:59,028 : INFO : EPOCH 14 - PROGRESS: at 3.36% examples, 253372 words/s, in_qsize 12, out_qsize 3\n",
            "2022-05-05 16:09:00,061 : INFO : EPOCH 14 - PROGRESS: at 7.49% examples, 289482 words/s, in_qsize 15, out_qsize 0\n",
            "2022-05-05 16:09:01,090 : INFO : EPOCH 14 - PROGRESS: at 11.51% examples, 299708 words/s, in_qsize 16, out_qsize 0\n",
            "2022-05-05 16:09:02,098 : INFO : EPOCH 14 - PROGRESS: at 15.08% examples, 297661 words/s, in_qsize 16, out_qsize 0\n",
            "2022-05-05 16:09:03,119 : INFO : EPOCH 14 - PROGRESS: at 19.08% examples, 302557 words/s, in_qsize 16, out_qsize 0\n",
            "2022-05-05 16:09:04,191 : INFO : EPOCH 14 - PROGRESS: at 23.20% examples, 304826 words/s, in_qsize 15, out_qsize 0\n",
            "2022-05-05 16:09:05,228 : INFO : EPOCH 14 - PROGRESS: at 27.20% examples, 306655 words/s, in_qsize 13, out_qsize 2\n",
            "2022-05-05 16:09:06,293 : INFO : EPOCH 14 - PROGRESS: at 31.21% examples, 307042 words/s, in_qsize 12, out_qsize 3\n",
            "2022-05-05 16:09:07,339 : INFO : EPOCH 14 - PROGRESS: at 35.43% examples, 309828 words/s, in_qsize 15, out_qsize 0\n",
            "2022-05-05 16:09:08,342 : INFO : EPOCH 14 - PROGRESS: at 39.43% examples, 311634 words/s, in_qsize 15, out_qsize 0\n",
            "2022-05-05 16:09:09,374 : INFO : EPOCH 14 - PROGRESS: at 43.54% examples, 313795 words/s, in_qsize 15, out_qsize 1\n",
            "2022-05-05 16:09:10,506 : INFO : EPOCH 14 - PROGRESS: at 47.54% examples, 311118 words/s, in_qsize 16, out_qsize 0\n",
            "2022-05-05 16:09:11,567 : INFO : EPOCH 14 - PROGRESS: at 51.75% examples, 312408 words/s, in_qsize 15, out_qsize 0\n",
            "2022-05-05 16:09:12,568 : INFO : EPOCH 14 - PROGRESS: at 55.53% examples, 312359 words/s, in_qsize 16, out_qsize 0\n",
            "2022-05-05 16:09:13,595 : INFO : EPOCH 14 - PROGRESS: at 59.44% examples, 312368 words/s, in_qsize 14, out_qsize 4\n",
            "2022-05-05 16:09:14,606 : INFO : EPOCH 14 - PROGRESS: at 63.54% examples, 313744 words/s, in_qsize 15, out_qsize 0\n",
            "2022-05-05 16:09:15,684 : INFO : EPOCH 14 - PROGRESS: at 67.34% examples, 312245 words/s, in_qsize 14, out_qsize 4\n",
            "2022-05-05 16:09:16,694 : INFO : EPOCH 14 - PROGRESS: at 71.45% examples, 313475 words/s, in_qsize 12, out_qsize 3\n",
            "2022-05-05 16:09:17,746 : INFO : EPOCH 14 - PROGRESS: at 75.35% examples, 313012 words/s, in_qsize 15, out_qsize 0\n",
            "2022-05-05 16:09:18,782 : INFO : EPOCH 14 - PROGRESS: at 79.38% examples, 313252 words/s, in_qsize 15, out_qsize 0\n",
            "2022-05-05 16:09:19,790 : INFO : EPOCH 14 - PROGRESS: at 83.07% examples, 312675 words/s, in_qsize 14, out_qsize 1\n",
            "2022-05-05 16:09:20,802 : INFO : EPOCH 14 - PROGRESS: at 86.64% examples, 311683 words/s, in_qsize 15, out_qsize 0\n",
            "2022-05-05 16:09:21,889 : INFO : EPOCH 14 - PROGRESS: at 90.65% examples, 311293 words/s, in_qsize 16, out_qsize 1\n",
            "2022-05-05 16:09:22,905 : INFO : EPOCH 14 - PROGRESS: at 94.58% examples, 311455 words/s, in_qsize 15, out_qsize 0\n",
            "2022-05-05 16:09:23,978 : INFO : EPOCH 14 - PROGRESS: at 98.58% examples, 311272 words/s, in_qsize 13, out_qsize 1\n",
            "2022-05-05 16:09:24,186 : INFO : EPOCH 14: training on 9227204 raw words (8222547 effective words) took 26.2s, 313260 effective words/s\n",
            "2022-05-05 16:09:25,242 : INFO : EPOCH 15 - PROGRESS: at 3.36% examples, 265088 words/s, in_qsize 14, out_qsize 1\n",
            "2022-05-05 16:09:26,260 : INFO : EPOCH 15 - PROGRESS: at 7.38% examples, 293850 words/s, in_qsize 13, out_qsize 2\n",
            "2022-05-05 16:09:27,287 : INFO : EPOCH 15 - PROGRESS: at 11.40% examples, 303031 words/s, in_qsize 15, out_qsize 0\n",
            "2022-05-05 16:09:28,342 : INFO : EPOCH 15 - PROGRESS: at 15.41% examples, 305321 words/s, in_qsize 15, out_qsize 0\n",
            "2022-05-05 16:09:29,398 : INFO : EPOCH 15 - PROGRESS: at 19.51% examples, 308399 words/s, in_qsize 15, out_qsize 0\n",
            "2022-05-05 16:09:30,466 : INFO : EPOCH 15 - PROGRESS: at 23.63% examples, 309871 words/s, in_qsize 15, out_qsize 0\n",
            "2022-05-05 16:09:31,469 : INFO : EPOCH 15 - PROGRESS: at 27.96% examples, 316165 words/s, in_qsize 15, out_qsize 0\n",
            "2022-05-05 16:09:32,520 : INFO : EPOCH 15 - PROGRESS: at 31.54% examples, 311560 words/s, in_qsize 13, out_qsize 2\n",
            "2022-05-05 16:09:33,600 : INFO : EPOCH 15 - PROGRESS: at 35.54% examples, 310833 words/s, in_qsize 12, out_qsize 4\n",
            "2022-05-05 16:09:34,620 : INFO : EPOCH 15 - PROGRESS: at 39.65% examples, 312872 words/s, in_qsize 14, out_qsize 5\n",
            "2022-05-05 16:09:35,622 : INFO : EPOCH 15 - PROGRESS: at 43.32% examples, 311954 words/s, in_qsize 14, out_qsize 1\n",
            "2022-05-05 16:09:36,665 : INFO : EPOCH 15 - PROGRESS: at 47.21% examples, 311571 words/s, in_qsize 13, out_qsize 5\n",
            "2022-05-05 16:09:37,670 : INFO : EPOCH 15 - PROGRESS: at 51.21% examples, 312805 words/s, in_qsize 15, out_qsize 4\n",
            "2022-05-05 16:09:38,691 : INFO : EPOCH 15 - PROGRESS: at 55.21% examples, 313552 words/s, in_qsize 15, out_qsize 0\n",
            "2022-05-05 16:09:39,711 : INFO : EPOCH 15 - PROGRESS: at 58.90% examples, 312467 words/s, in_qsize 16, out_qsize 2\n",
            "2022-05-05 16:09:40,747 : INFO : EPOCH 15 - PROGRESS: at 62.89% examples, 312823 words/s, in_qsize 15, out_qsize 0\n",
            "2022-05-05 16:09:41,834 : INFO : EPOCH 15 - PROGRESS: at 66.91% examples, 312227 words/s, in_qsize 14, out_qsize 3\n",
            "2022-05-05 16:09:42,886 : INFO : EPOCH 15 - PROGRESS: at 71.13% examples, 313244 words/s, in_qsize 15, out_qsize 0\n",
            "2022-05-05 16:09:43,901 : INFO : EPOCH 15 - PROGRESS: at 75.14% examples, 313808 words/s, in_qsize 16, out_qsize 0\n",
            "2022-05-05 16:09:44,965 : INFO : EPOCH 15 - PROGRESS: at 79.16% examples, 313604 words/s, in_qsize 15, out_qsize 0\n",
            "2022-05-05 16:09:46,028 : INFO : EPOCH 15 - PROGRESS: at 83.18% examples, 313432 words/s, in_qsize 15, out_qsize 2\n",
            "2022-05-05 16:09:47,034 : INFO : EPOCH 15 - PROGRESS: at 87.40% examples, 314833 words/s, in_qsize 15, out_qsize 0\n",
            "2022-05-05 16:09:48,056 : INFO : EPOCH 15 - PROGRESS: at 91.09% examples, 314019 words/s, in_qsize 14, out_qsize 1\n",
            "2022-05-05 16:09:49,088 : INFO : EPOCH 15 - PROGRESS: at 95.23% examples, 314600 words/s, in_qsize 15, out_qsize 0\n",
            "2022-05-05 16:09:50,090 : INFO : EPOCH 15 - PROGRESS: at 99.45% examples, 315876 words/s, in_qsize 5, out_qsize 1\n",
            "2022-05-05 16:09:50,158 : INFO : EPOCH 15: training on 9227204 raw words (8222422 effective words) took 26.0s, 316766 effective words/s\n",
            "2022-05-05 16:09:51,199 : INFO : EPOCH 16 - PROGRESS: at 3.25% examples, 260166 words/s, in_qsize 15, out_qsize 1\n",
            "2022-05-05 16:09:52,302 : INFO : EPOCH 16 - PROGRESS: at 7.49% examples, 288494 words/s, in_qsize 15, out_qsize 0\n",
            "2022-05-05 16:09:53,308 : INFO : EPOCH 16 - PROGRESS: at 11.62% examples, 303995 words/s, in_qsize 15, out_qsize 0\n",
            "2022-05-05 16:09:54,323 : INFO : EPOCH 16 - PROGRESS: at 15.19% examples, 300383 words/s, in_qsize 13, out_qsize 2\n",
            "2022-05-05 16:09:55,365 : INFO : EPOCH 16 - PROGRESS: at 19.08% examples, 301785 words/s, in_qsize 12, out_qsize 3\n",
            "2022-05-05 16:09:56,381 : INFO : EPOCH 16 - PROGRESS: at 23.20% examples, 306957 words/s, in_qsize 15, out_qsize 0\n",
            "2022-05-05 16:09:57,392 : INFO : EPOCH 16 - PROGRESS: at 26.99% examples, 307174 words/s, in_qsize 13, out_qsize 2\n",
            "2022-05-05 16:09:58,410 : INFO : EPOCH 16 - PROGRESS: at 30.99% examples, 309223 words/s, in_qsize 15, out_qsize 0\n",
            "2022-05-05 16:09:59,412 : INFO : EPOCH 16 - PROGRESS: at 34.78% examples, 309421 words/s, in_qsize 15, out_qsize 0\n",
            "2022-05-05 16:10:00,472 : INFO : EPOCH 16 - PROGRESS: at 38.24% examples, 306657 words/s, in_qsize 15, out_qsize 6\n",
            "2022-05-05 16:10:01,436 : INFO : EPOCH 16 - PROGRESS: at 42.24% examples, 308380 words/s, in_qsize 15, out_qsize 0\n",
            "2022-05-05 16:10:02,461 : INFO : EPOCH 16 - PROGRESS: at 46.02% examples, 308041 words/s, in_qsize 16, out_qsize 0\n",
            "2022-05-05 16:10:03,471 : INFO : EPOCH 16 - PROGRESS: at 49.27% examples, 304737 words/s, in_qsize 16, out_qsize 0\n",
            "2022-05-05 16:10:04,551 : INFO : EPOCH 16 - PROGRESS: at 53.16% examples, 304154 words/s, in_qsize 15, out_qsize 0\n",
            "2022-05-05 16:10:05,580 : INFO : EPOCH 16 - PROGRESS: at 57.16% examples, 305752 words/s, in_qsize 15, out_qsize 0\n",
            "2022-05-05 16:10:06,625 : INFO : EPOCH 16 - PROGRESS: at 60.63% examples, 303206 words/s, in_qsize 15, out_qsize 0\n",
            "2022-05-05 16:10:07,702 : INFO : EPOCH 16 - PROGRESS: at 64.30% examples, 301842 words/s, in_qsize 15, out_qsize 0\n",
            "2022-05-05 16:10:08,703 : INFO : EPOCH 16 - PROGRESS: at 68.10% examples, 302362 words/s, in_qsize 15, out_qsize 0\n",
            "2022-05-05 16:10:09,813 : INFO : EPOCH 16 - PROGRESS: at 71.89% examples, 301396 words/s, in_qsize 15, out_qsize 2\n",
            "2022-05-05 16:10:10,917 : INFO : EPOCH 16 - PROGRESS: at 76.00% examples, 301433 words/s, in_qsize 15, out_qsize 0\n",
            "2022-05-05 16:10:11,957 : INFO : EPOCH 16 - PROGRESS: at 79.71% examples, 300948 words/s, in_qsize 15, out_qsize 0\n",
            "2022-05-05 16:10:13,001 : INFO : EPOCH 16 - PROGRESS: at 83.51% examples, 300839 words/s, in_qsize 14, out_qsize 2\n",
            "2022-05-05 16:10:14,049 : INFO : EPOCH 16 - PROGRESS: at 87.18% examples, 300322 words/s, in_qsize 15, out_qsize 0\n",
            "2022-05-05 16:10:15,127 : INFO : EPOCH 16 - PROGRESS: at 91.09% examples, 300579 words/s, in_qsize 15, out_qsize 1\n",
            "2022-05-05 16:10:16,113 : INFO : EPOCH 16 - PROGRESS: at 95.34% examples, 302158 words/s, in_qsize 15, out_qsize 0\n",
            "2022-05-05 16:10:17,130 : INFO : EPOCH 16 - PROGRESS: at 99.22% examples, 302648 words/s, in_qsize 8, out_qsize 0\n",
            "2022-05-05 16:10:17,233 : INFO : EPOCH 16: training on 9227204 raw words (8222540 effective words) took 27.1s, 303843 effective words/s\n",
            "2022-05-05 16:10:18,264 : INFO : EPOCH 17 - PROGRESS: at 3.36% examples, 271972 words/s, in_qsize 15, out_qsize 0\n",
            "2022-05-05 16:10:19,273 : INFO : EPOCH 17 - PROGRESS: at 6.95% examples, 281682 words/s, in_qsize 15, out_qsize 0\n",
            "2022-05-05 16:10:20,325 : INFO : EPOCH 17 - PROGRESS: at 10.75% examples, 286761 words/s, in_qsize 14, out_qsize 3\n",
            "2022-05-05 16:10:21,363 : INFO : EPOCH 17 - PROGRESS: at 14.54% examples, 290141 words/s, in_qsize 16, out_qsize 3\n",
            "2022-05-05 16:10:22,474 : INFO : EPOCH 17 - PROGRESS: at 18.76% examples, 294921 words/s, in_qsize 16, out_qsize 0\n",
            "2022-05-05 16:10:23,537 : INFO : EPOCH 17 - PROGRESS: at 22.76% examples, 297487 words/s, in_qsize 15, out_qsize 0\n",
            "2022-05-05 16:10:24,580 : INFO : EPOCH 17 - PROGRESS: at 26.88% examples, 301346 words/s, in_qsize 16, out_qsize 0\n",
            "2022-05-05 16:10:25,593 : INFO : EPOCH 17 - PROGRESS: at 30.24% examples, 297837 words/s, in_qsize 15, out_qsize 0\n",
            "2022-05-05 16:10:26,602 : INFO : EPOCH 17 - PROGRESS: at 34.13% examples, 300062 words/s, in_qsize 16, out_qsize 1\n",
            "2022-05-05 16:10:27,632 : INFO : EPOCH 17 - PROGRESS: at 37.92% examples, 300255 words/s, in_qsize 15, out_qsize 0\n",
            "2022-05-05 16:10:28,673 : INFO : EPOCH 17 - PROGRESS: at 42.02% examples, 302508 words/s, in_qsize 15, out_qsize 0\n",
            "2022-05-05 16:10:29,693 : INFO : EPOCH 17 - PROGRESS: at 45.81% examples, 302744 words/s, in_qsize 16, out_qsize 0\n",
            "2022-05-05 16:10:30,777 : INFO : EPOCH 17 - PROGRESS: at 49.81% examples, 302862 words/s, in_qsize 15, out_qsize 0\n",
            "2022-05-05 16:10:31,792 : INFO : EPOCH 17 - PROGRESS: at 53.70% examples, 303793 words/s, in_qsize 15, out_qsize 0\n",
            "2022-05-05 16:10:32,837 : INFO : EPOCH 17 - PROGRESS: at 57.49% examples, 303444 words/s, in_qsize 15, out_qsize 0\n",
            "2022-05-05 16:10:33,941 : INFO : EPOCH 17 - PROGRESS: at 61.71% examples, 304196 words/s, in_qsize 16, out_qsize 0\n",
            "2022-05-05 16:10:34,989 : INFO : EPOCH 17 - PROGRESS: at 65.82% examples, 305673 words/s, in_qsize 14, out_qsize 0\n",
            "2022-05-05 16:10:36,037 : INFO : EPOCH 17 - PROGRESS: at 69.72% examples, 305344 words/s, in_qsize 14, out_qsize 1\n",
            "2022-05-05 16:10:37,071 : INFO : EPOCH 17 - PROGRESS: at 74.05% examples, 307384 words/s, in_qsize 16, out_qsize 0\n",
            "2022-05-05 16:10:38,077 : INFO : EPOCH 17 - PROGRESS: at 77.42% examples, 305785 words/s, in_qsize 12, out_qsize 3\n",
            "2022-05-05 16:10:39,109 : INFO : EPOCH 17 - PROGRESS: at 81.55% examples, 306844 words/s, in_qsize 15, out_qsize 0\n",
            "2022-05-05 16:10:40,129 : INFO : EPOCH 17 - PROGRESS: at 85.23% examples, 306443 words/s, in_qsize 15, out_qsize 1\n",
            "2022-05-05 16:10:41,198 : INFO : EPOCH 17 - PROGRESS: at 89.34% examples, 306834 words/s, in_qsize 16, out_qsize 0\n",
            "2022-05-05 16:10:42,233 : INFO : EPOCH 17 - PROGRESS: at 93.26% examples, 306954 words/s, in_qsize 15, out_qsize 0\n",
            "2022-05-05 16:10:43,294 : INFO : EPOCH 17 - PROGRESS: at 97.28% examples, 307084 words/s, in_qsize 14, out_qsize 4\n",
            "2022-05-05 16:10:43,801 : INFO : EPOCH 17: training on 9227204 raw words (8221875 effective words) took 26.6s, 309648 effective words/s\n",
            "2022-05-05 16:10:44,862 : INFO : EPOCH 18 - PROGRESS: at 3.36% examples, 263822 words/s, in_qsize 14, out_qsize 1\n",
            "2022-05-05 16:10:45,898 : INFO : EPOCH 18 - PROGRESS: at 7.17% examples, 282186 words/s, in_qsize 12, out_qsize 3\n",
            "2022-05-05 16:10:46,959 : INFO : EPOCH 18 - PROGRESS: at 11.08% examples, 291190 words/s, in_qsize 15, out_qsize 4\n",
            "2022-05-05 16:10:47,942 : INFO : EPOCH 18 - PROGRESS: at 14.97% examples, 297872 words/s, in_qsize 12, out_qsize 3\n",
            "2022-05-05 16:10:48,952 : INFO : EPOCH 18 - PROGRESS: at 19.40% examples, 310298 words/s, in_qsize 15, out_qsize 0\n",
            "2022-05-05 16:10:50,044 : INFO : EPOCH 18 - PROGRESS: at 23.09% examples, 305646 words/s, in_qsize 14, out_qsize 3\n",
            "2022-05-05 16:10:51,031 : INFO : EPOCH 18 - PROGRESS: at 27.32% examples, 311090 words/s, in_qsize 15, out_qsize 0\n",
            "2022-05-05 16:10:52,039 : INFO : EPOCH 18 - PROGRESS: at 31.43% examples, 314152 words/s, in_qsize 13, out_qsize 1\n",
            "2022-05-05 16:10:53,062 : INFO : EPOCH 18 - PROGRESS: at 35.32% examples, 314070 words/s, in_qsize 14, out_qsize 0\n",
            "2022-05-05 16:10:54,104 : INFO : EPOCH 18 - PROGRESS: at 39.22% examples, 313445 words/s, in_qsize 16, out_qsize 1\n",
            "2022-05-05 16:10:55,115 : INFO : EPOCH 18 - PROGRESS: at 42.89% examples, 312494 words/s, in_qsize 15, out_qsize 5\n",
            "2022-05-05 16:10:56,120 : INFO : EPOCH 18 - PROGRESS: at 47.11% examples, 314929 words/s, in_qsize 13, out_qsize 2\n",
            "2022-05-05 16:10:57,146 : INFO : EPOCH 18 - PROGRESS: at 51.10% examples, 315435 words/s, in_qsize 16, out_qsize 1\n",
            "2022-05-05 16:10:58,160 : INFO : EPOCH 18 - PROGRESS: at 55.10% examples, 316126 words/s, in_qsize 14, out_qsize 2\n",
            "2022-05-05 16:10:59,174 : INFO : EPOCH 18 - PROGRESS: at 58.90% examples, 315805 words/s, in_qsize 15, out_qsize 1\n",
            "2022-05-05 16:11:00,272 : INFO : EPOCH 18 - PROGRESS: at 63.33% examples, 316696 words/s, in_qsize 15, out_qsize 0\n",
            "2022-05-05 16:11:01,287 : INFO : EPOCH 18 - PROGRESS: at 67.56% examples, 318159 words/s, in_qsize 16, out_qsize 0\n",
            "2022-05-05 16:11:02,294 : INFO : EPOCH 18 - PROGRESS: at 71.02% examples, 316251 words/s, in_qsize 14, out_qsize 1\n",
            "2022-05-05 16:11:03,309 : INFO : EPOCH 18 - PROGRESS: at 75.02% examples, 316701 words/s, in_qsize 15, out_qsize 0\n",
            "2022-05-05 16:11:04,346 : INFO : EPOCH 18 - PROGRESS: at 78.73% examples, 315437 words/s, in_qsize 12, out_qsize 6\n",
            "2022-05-05 16:11:05,352 : INFO : EPOCH 18 - PROGRESS: at 82.96% examples, 316847 words/s, in_qsize 16, out_qsize 0\n",
            "2022-05-05 16:11:06,394 : INFO : EPOCH 18 - PROGRESS: at 86.53% examples, 315241 words/s, in_qsize 15, out_qsize 0\n",
            "2022-05-05 16:11:07,463 : INFO : EPOCH 18 - PROGRESS: at 90.33% examples, 314170 words/s, in_qsize 15, out_qsize 0\n",
            "2022-05-05 16:11:08,505 : INFO : EPOCH 18 - PROGRESS: at 94.46% examples, 314610 words/s, in_qsize 15, out_qsize 0\n",
            "2022-05-05 16:11:09,545 : INFO : EPOCH 18 - PROGRESS: at 98.36% examples, 314351 words/s, in_qsize 15, out_qsize 0\n",
            "2022-05-05 16:11:09,845 : INFO : EPOCH 18: training on 9227204 raw words (8223004 effective words) took 26.0s, 315908 effective words/s\n",
            "2022-05-05 16:11:10,874 : INFO : EPOCH 19 - PROGRESS: at 3.25% examples, 263136 words/s, in_qsize 15, out_qsize 0\n",
            "2022-05-05 16:11:11,883 : INFO : EPOCH 19 - PROGRESS: at 6.62% examples, 268245 words/s, in_qsize 14, out_qsize 1\n",
            "2022-05-05 16:11:12,888 : INFO : EPOCH 19 - PROGRESS: at 10.21% examples, 276430 words/s, in_qsize 15, out_qsize 0\n",
            "2022-05-05 16:11:13,889 : INFO : EPOCH 19 - PROGRESS: at 14.22% examples, 289485 words/s, in_qsize 15, out_qsize 0\n",
            "2022-05-05 16:11:14,943 : INFO : EPOCH 19 - PROGRESS: at 18.00% examples, 290750 words/s, in_qsize 15, out_qsize 2\n",
            "2022-05-05 16:11:16,057 : INFO : EPOCH 19 - PROGRESS: at 22.22% examples, 294572 words/s, in_qsize 16, out_qsize 1\n",
            "2022-05-05 16:11:17,106 : INFO : EPOCH 19 - PROGRESS: at 26.56% examples, 301111 words/s, in_qsize 15, out_qsize 0\n",
            "2022-05-05 16:11:18,159 : INFO : EPOCH 19 - PROGRESS: at 30.13% examples, 298357 words/s, in_qsize 16, out_qsize 1\n",
            "2022-05-05 16:11:19,180 : INFO : EPOCH 19 - PROGRESS: at 34.03% examples, 300076 words/s, in_qsize 15, out_qsize 0\n",
            "2022-05-05 16:11:20,235 : INFO : EPOCH 19 - PROGRESS: at 37.92% examples, 300843 words/s, in_qsize 15, out_qsize 1\n",
            "2022-05-05 16:11:21,241 : INFO : EPOCH 19 - PROGRESS: at 41.80% examples, 302076 words/s, in_qsize 14, out_qsize 1\n",
            "2022-05-05 16:11:22,246 : INFO : EPOCH 19 - PROGRESS: at 45.81% examples, 304176 words/s, in_qsize 15, out_qsize 0\n",
            "2022-05-05 16:11:23,261 : INFO : EPOCH 19 - PROGRESS: at 49.70% examples, 305058 words/s, in_qsize 15, out_qsize 0\n",
            "2022-05-05 16:11:24,276 : INFO : EPOCH 19 - PROGRESS: at 53.59% examples, 305829 words/s, in_qsize 15, out_qsize 0\n",
            "2022-05-05 16:11:25,293 : INFO : EPOCH 19 - PROGRESS: at 57.27% examples, 305310 words/s, in_qsize 15, out_qsize 3\n",
            "2022-05-05 16:11:26,331 : INFO : EPOCH 19 - PROGRESS: at 61.17% examples, 305538 words/s, in_qsize 15, out_qsize 0\n",
            "2022-05-05 16:11:27,333 : INFO : EPOCH 19 - PROGRESS: at 64.51% examples, 303808 words/s, in_qsize 13, out_qsize 2\n",
            "2022-05-05 16:11:28,361 : INFO : EPOCH 19 - PROGRESS: at 68.42% examples, 304262 words/s, in_qsize 15, out_qsize 0\n",
            "2022-05-05 16:11:29,394 : INFO : EPOCH 19 - PROGRESS: at 72.21% examples, 304121 words/s, in_qsize 15, out_qsize 4\n",
            "2022-05-05 16:11:30,416 : INFO : EPOCH 19 - PROGRESS: at 76.22% examples, 305032 words/s, in_qsize 12, out_qsize 3\n",
            "2022-05-05 16:11:31,416 : INFO : EPOCH 19 - PROGRESS: at 79.81% examples, 304507 words/s, in_qsize 15, out_qsize 4\n",
            "2022-05-05 16:11:32,462 : INFO : EPOCH 19 - PROGRESS: at 83.72% examples, 304613 words/s, in_qsize 15, out_qsize 0\n",
            "2022-05-05 16:11:33,483 : INFO : EPOCH 19 - PROGRESS: at 87.40% examples, 304260 words/s, in_qsize 15, out_qsize 0\n",
            "2022-05-05 16:11:34,550 : INFO : EPOCH 19 - PROGRESS: at 90.98% examples, 303010 words/s, in_qsize 14, out_qsize 3\n",
            "2022-05-05 16:11:35,552 : INFO : EPOCH 19 - PROGRESS: at 95.01% examples, 304001 words/s, in_qsize 14, out_qsize 1\n",
            "2022-05-05 16:11:36,563 : INFO : EPOCH 19 - PROGRESS: at 99.00% examples, 304847 words/s, in_qsize 10, out_qsize 0\n",
            "2022-05-05 16:11:36,699 : INFO : EPOCH 19: training on 9227204 raw words (8222023 effective words) took 26.8s, 306324 effective words/s\n",
            "2022-05-05 16:11:37,721 : INFO : EPOCH 20 - PROGRESS: at 3.36% examples, 274091 words/s, in_qsize 15, out_qsize 0\n",
            "2022-05-05 16:11:38,755 : INFO : EPOCH 20 - PROGRESS: at 7.27% examples, 292228 words/s, in_qsize 15, out_qsize 0\n",
            "2022-05-05 16:11:39,791 : INFO : EPOCH 20 - PROGRESS: at 11.51% examples, 306778 words/s, in_qsize 15, out_qsize 0\n",
            "2022-05-05 16:11:40,815 : INFO : EPOCH 20 - PROGRESS: at 15.52% examples, 310489 words/s, in_qsize 15, out_qsize 0\n",
            "2022-05-05 16:11:41,832 : INFO : EPOCH 20 - PROGRESS: at 19.19% examples, 307914 words/s, in_qsize 13, out_qsize 3\n",
            "2022-05-05 16:11:42,947 : INFO : EPOCH 20 - PROGRESS: at 23.63% examples, 311507 words/s, in_qsize 15, out_qsize 0\n",
            "2022-05-05 16:11:44,042 : INFO : EPOCH 20 - PROGRESS: at 27.64% examples, 309972 words/s, in_qsize 14, out_qsize 4\n",
            "2022-05-05 16:11:45,049 : INFO : EPOCH 20 - PROGRESS: at 31.54% examples, 311015 words/s, in_qsize 15, out_qsize 0\n",
            "2022-05-05 16:11:46,091 : INFO : EPOCH 20 - PROGRESS: at 35.43% examples, 311155 words/s, in_qsize 16, out_qsize 3\n",
            "2022-05-05 16:11:47,166 : INFO : EPOCH 20 - PROGRESS: at 39.97% examples, 314467 words/s, in_qsize 14, out_qsize 1\n",
            "2022-05-05 16:11:48,209 : INFO : EPOCH 20 - PROGRESS: at 44.18% examples, 316172 words/s, in_qsize 15, out_qsize 0\n",
            "2022-05-05 16:11:49,213 : INFO : EPOCH 20 - PROGRESS: at 48.08% examples, 316445 words/s, in_qsize 14, out_qsize 1\n",
            "2022-05-05 16:11:50,213 : INFO : EPOCH 20 - PROGRESS: at 52.07% examples, 317436 words/s, in_qsize 15, out_qsize 0\n",
            "2022-05-05 16:11:51,310 : INFO : EPOCH 20 - PROGRESS: at 56.08% examples, 316803 words/s, in_qsize 15, out_qsize 3\n",
            "2022-05-05 16:11:52,332 : INFO : EPOCH 20 - PROGRESS: at 60.30% examples, 317725 words/s, in_qsize 15, out_qsize 0\n",
            "2022-05-05 16:11:53,363 : INFO : EPOCH 20 - PROGRESS: at 64.30% examples, 317844 words/s, in_qsize 14, out_qsize 1\n",
            "2022-05-05 16:11:54,388 : INFO : EPOCH 20 - PROGRESS: at 68.09% examples, 317062 words/s, in_qsize 14, out_qsize 1\n",
            "2022-05-05 16:11:55,405 : INFO : EPOCH 20 - PROGRESS: at 72.21% examples, 317906 words/s, in_qsize 15, out_qsize 0\n",
            "2022-05-05 16:11:56,448 : INFO : EPOCH 20 - PROGRESS: at 75.78% examples, 316001 words/s, in_qsize 16, out_qsize 1\n",
            "2022-05-05 16:11:57,481 : INFO : EPOCH 20 - PROGRESS: at 79.82% examples, 316399 words/s, in_qsize 16, out_qsize 1\n",
            "2022-05-05 16:11:58,473 : INFO : EPOCH 20 - PROGRESS: at 83.61% examples, 316070 words/s, in_qsize 14, out_qsize 1\n",
            "2022-05-05 16:11:59,573 : INFO : EPOCH 20 - PROGRESS: at 87.40% examples, 314475 words/s, in_qsize 12, out_qsize 6\n",
            "2022-05-05 16:12:00,586 : INFO : EPOCH 20 - PROGRESS: at 91.52% examples, 315285 words/s, in_qsize 16, out_qsize 0\n",
            "2022-05-05 16:12:01,621 : INFO : EPOCH 20 - PROGRESS: at 95.66% examples, 315771 words/s, in_qsize 15, out_qsize 0\n",
            "2022-05-05 16:12:02,668 : INFO : EPOCH 20 - PROGRESS: at 99.45% examples, 315084 words/s, in_qsize 5, out_qsize 1\n",
            "2022-05-05 16:12:02,696 : INFO : EPOCH 20: training on 9227204 raw words (8222258 effective words) took 26.0s, 316458 effective words/s\n",
            "2022-05-05 16:12:03,741 : INFO : EPOCH 21 - PROGRESS: at 3.47% examples, 279826 words/s, in_qsize 15, out_qsize 3\n",
            "2022-05-05 16:12:04,743 : INFO : EPOCH 21 - PROGRESS: at 7.49% examples, 304087 words/s, in_qsize 14, out_qsize 1\n",
            "2022-05-05 16:12:05,769 : INFO : EPOCH 21 - PROGRESS: at 11.40% examples, 307148 words/s, in_qsize 16, out_qsize 0\n",
            "2022-05-05 16:12:06,798 : INFO : EPOCH 21 - PROGRESS: at 15.30% examples, 308138 words/s, in_qsize 16, out_qsize 1\n",
            "2022-05-05 16:12:07,883 : INFO : EPOCH 21 - PROGRESS: at 19.41% examples, 310104 words/s, in_qsize 15, out_qsize 4\n",
            "2022-05-05 16:12:08,868 : INFO : EPOCH 21 - PROGRESS: at 23.52% examples, 314557 words/s, in_qsize 15, out_qsize 0\n",
            "2022-05-05 16:12:10,010 : INFO : EPOCH 21 - PROGRESS: at 27.75% examples, 312921 words/s, in_qsize 15, out_qsize 0\n",
            "2022-05-05 16:12:11,086 : INFO : EPOCH 21 - PROGRESS: at 31.75% examples, 312095 words/s, in_qsize 16, out_qsize 0\n",
            "2022-05-05 16:12:12,121 : INFO : EPOCH 21 - PROGRESS: at 35.75% examples, 312788 words/s, in_qsize 15, out_qsize 0\n",
            "2022-05-05 16:12:13,131 : INFO : EPOCH 21 - PROGRESS: at 39.86% examples, 314921 words/s, in_qsize 15, out_qsize 0\n",
            "2022-05-05 16:12:14,133 : INFO : EPOCH 21 - PROGRESS: at 43.75% examples, 315357 words/s, in_qsize 16, out_qsize 0\n",
            "2022-05-05 16:12:15,134 : INFO : EPOCH 21 - PROGRESS: at 47.75% examples, 316472 words/s, in_qsize 15, out_qsize 0\n",
            "2022-05-05 16:12:16,155 : INFO : EPOCH 21 - PROGRESS: at 51.75% examples, 316962 words/s, in_qsize 15, out_qsize 0\n",
            "2022-05-05 16:12:17,225 : INFO : EPOCH 21 - PROGRESS: at 55.64% examples, 315701 words/s, in_qsize 16, out_qsize 2\n",
            "2022-05-05 16:12:18,234 : INFO : EPOCH 21 - PROGRESS: at 59.55% examples, 315841 words/s, in_qsize 15, out_qsize 0\n",
            "2022-05-05 16:12:19,259 : INFO : EPOCH 21 - PROGRESS: at 63.65% examples, 316735 words/s, in_qsize 16, out_qsize 0\n",
            "2022-05-05 16:12:20,278 : INFO : EPOCH 21 - PROGRESS: at 67.23% examples, 315097 words/s, in_qsize 14, out_qsize 4\n",
            "2022-05-05 16:12:21,315 : INFO : EPOCH 21 - PROGRESS: at 71.34% examples, 315724 words/s, in_qsize 15, out_qsize 0\n",
            "2022-05-05 16:12:22,359 : INFO : EPOCH 21 - PROGRESS: at 75.46% examples, 316180 words/s, in_qsize 15, out_qsize 0\n",
            "2022-05-05 16:12:23,419 : INFO : EPOCH 21 - PROGRESS: at 79.27% examples, 315509 words/s, in_qsize 15, out_qsize 2\n",
            "2022-05-05 16:12:24,433 : INFO : EPOCH 21 - PROGRESS: at 83.18% examples, 315110 words/s, in_qsize 16, out_qsize 1\n",
            "2022-05-05 16:12:25,506 : INFO : EPOCH 21 - PROGRESS: at 87.29% examples, 315115 words/s, in_qsize 15, out_qsize 0\n",
            "2022-05-05 16:12:26,544 : INFO : EPOCH 21 - PROGRESS: at 91.09% examples, 314469 words/s, in_qsize 14, out_qsize 1\n",
            "2022-05-05 16:12:27,616 : INFO : EPOCH 21 - PROGRESS: at 94.80% examples, 313461 words/s, in_qsize 16, out_qsize 3\n",
            "2022-05-05 16:12:28,591 : INFO : EPOCH 21 - PROGRESS: at 98.69% examples, 313665 words/s, in_qsize 13, out_qsize 0\n",
            "2022-05-05 16:12:28,800 : INFO : EPOCH 21: training on 9227204 raw words (8221691 effective words) took 26.1s, 315287 effective words/s\n",
            "2022-05-05 16:12:29,882 : INFO : EPOCH 22 - PROGRESS: at 3.25% examples, 250025 words/s, in_qsize 15, out_qsize 0\n",
            "2022-05-05 16:12:30,942 : INFO : EPOCH 22 - PROGRESS: at 7.38% examples, 284430 words/s, in_qsize 15, out_qsize 0\n",
            "2022-05-05 16:12:32,008 : INFO : EPOCH 22 - PROGRESS: at 11.40% examples, 292765 words/s, in_qsize 15, out_qsize 0\n",
            "2022-05-05 16:12:33,034 : INFO : EPOCH 22 - PROGRESS: at 15.41% examples, 299575 words/s, in_qsize 13, out_qsize 3\n",
            "2022-05-05 16:12:34,079 : INFO : EPOCH 22 - PROGRESS: at 19.51% examples, 304379 words/s, in_qsize 15, out_qsize 0\n",
            "2022-05-05 16:12:35,185 : INFO : EPOCH 22 - PROGRESS: at 23.96% examples, 310255 words/s, in_qsize 16, out_qsize 0\n",
            "2022-05-05 16:12:36,159 : INFO : EPOCH 22 - PROGRESS: at 28.07% examples, 314073 words/s, in_qsize 16, out_qsize 0\n",
            "2022-05-05 16:12:37,215 : INFO : EPOCH 22 - PROGRESS: at 32.08% examples, 313839 words/s, in_qsize 15, out_qsize 0\n",
            "2022-05-05 16:12:38,258 : INFO : EPOCH 22 - PROGRESS: at 35.97% examples, 313123 words/s, in_qsize 15, out_qsize 0\n",
            "2022-05-05 16:12:39,305 : INFO : EPOCH 22 - PROGRESS: at 40.08% examples, 314130 words/s, in_qsize 15, out_qsize 0\n",
            "2022-05-05 16:12:40,336 : INFO : EPOCH 22 - PROGRESS: at 43.75% examples, 312319 words/s, in_qsize 15, out_qsize 2\n",
            "2022-05-05 16:12:41,360 : INFO : EPOCH 22 - PROGRESS: at 47.75% examples, 313095 words/s, in_qsize 16, out_qsize 1\n",
            "2022-05-05 16:12:42,369 : INFO : EPOCH 22 - PROGRESS: at 51.64% examples, 313454 words/s, in_qsize 15, out_qsize 0\n",
            "2022-05-05 16:12:43,392 : INFO : EPOCH 22 - PROGRESS: at 55.86% examples, 315311 words/s, in_qsize 15, out_qsize 0\n",
            "2022-05-05 16:12:44,415 : INFO : EPOCH 22 - PROGRESS: at 59.44% examples, 313501 words/s, in_qsize 15, out_qsize 0\n",
            "2022-05-05 16:12:45,434 : INFO : EPOCH 22 - PROGRESS: at 63.33% examples, 313548 words/s, in_qsize 15, out_qsize 0\n",
            "2022-05-05 16:12:46,537 : INFO : EPOCH 22 - PROGRESS: at 67.34% examples, 312626 words/s, in_qsize 15, out_qsize 0\n",
            "2022-05-05 16:12:47,622 : INFO : EPOCH 22 - PROGRESS: at 71.35% examples, 312119 words/s, in_qsize 15, out_qsize 0\n",
            "2022-05-05 16:12:48,670 : INFO : EPOCH 22 - PROGRESS: at 75.13% examples, 311345 words/s, in_qsize 14, out_qsize 1\n",
            "2022-05-05 16:12:49,723 : INFO : EPOCH 22 - PROGRESS: at 79.16% examples, 311407 words/s, in_qsize 15, out_qsize 0\n",
            "2022-05-05 16:12:50,756 : INFO : EPOCH 22 - PROGRESS: at 83.07% examples, 311361 words/s, in_qsize 15, out_qsize 0\n",
            "2022-05-05 16:12:51,795 : INFO : EPOCH 22 - PROGRESS: at 87.18% examples, 311999 words/s, in_qsize 15, out_qsize 0\n",
            "2022-05-05 16:12:52,806 : INFO : EPOCH 22 - PROGRESS: at 90.87% examples, 311470 words/s, in_qsize 15, out_qsize 0\n",
            "2022-05-05 16:12:53,905 : INFO : EPOCH 22 - PROGRESS: at 94.79% examples, 310645 words/s, in_qsize 15, out_qsize 2\n",
            "2022-05-05 16:12:54,916 : INFO : EPOCH 22 - PROGRESS: at 98.79% examples, 311199 words/s, in_qsize 12, out_qsize 0\n",
            "2022-05-05 16:12:55,066 : INFO : EPOCH 22: training on 9227204 raw words (8222200 effective words) took 26.3s, 313187 effective words/s\n",
            "2022-05-05 16:12:56,180 : INFO : EPOCH 23 - PROGRESS: at 3.58% examples, 268265 words/s, in_qsize 15, out_qsize 0\n",
            "2022-05-05 16:12:57,184 : INFO : EPOCH 23 - PROGRESS: at 7.50% examples, 292737 words/s, in_qsize 15, out_qsize 0\n",
            "2022-05-05 16:12:58,191 : INFO : EPOCH 23 - PROGRESS: at 10.75% examples, 283940 words/s, in_qsize 15, out_qsize 0\n",
            "2022-05-05 16:12:59,196 : INFO : EPOCH 23 - PROGRESS: at 14.65% examples, 292510 words/s, in_qsize 16, out_qsize 0\n",
            "2022-05-05 16:13:00,311 : INFO : EPOCH 23 - PROGRESS: at 18.54% examples, 291378 words/s, in_qsize 16, out_qsize 0\n",
            "2022-05-05 16:13:01,315 : INFO : EPOCH 23 - PROGRESS: at 22.44% examples, 295927 words/s, in_qsize 16, out_qsize 0\n",
            "2022-05-05 16:13:02,383 : INFO : EPOCH 23 - PROGRESS: at 26.34% examples, 296587 words/s, in_qsize 15, out_qsize 0\n",
            "2022-05-05 16:13:03,427 : INFO : EPOCH 23 - PROGRESS: at 30.35% examples, 299016 words/s, in_qsize 16, out_qsize 2\n",
            "2022-05-05 16:13:04,438 : INFO : EPOCH 23 - PROGRESS: at 34.46% examples, 302885 words/s, in_qsize 16, out_qsize 0\n",
            "2022-05-05 16:13:05,453 : INFO : EPOCH 23 - PROGRESS: at 37.81% examples, 299858 words/s, in_qsize 16, out_qsize 0\n",
            "2022-05-05 16:13:06,481 : INFO : EPOCH 23 - PROGRESS: at 41.92% examples, 302508 words/s, in_qsize 16, out_qsize 0\n",
            "2022-05-05 16:13:07,485 : INFO : EPOCH 23 - PROGRESS: at 45.81% examples, 303879 words/s, in_qsize 16, out_qsize 0\n",
            "2022-05-05 16:13:08,522 : INFO : EPOCH 23 - PROGRESS: at 48.95% examples, 299649 words/s, in_qsize 10, out_qsize 5\n",
            "2022-05-05 16:13:09,589 : INFO : EPOCH 23 - PROGRESS: at 53.05% examples, 300964 words/s, in_qsize 16, out_qsize 1\n",
            "2022-05-05 16:13:10,621 : INFO : EPOCH 23 - PROGRESS: at 56.95% examples, 301626 words/s, in_qsize 15, out_qsize 0\n",
            "2022-05-05 16:13:11,699 : INFO : EPOCH 23 - PROGRESS: at 61.07% examples, 302449 words/s, in_qsize 15, out_qsize 0\n",
            "2022-05-05 16:13:12,701 : INFO : EPOCH 23 - PROGRESS: at 64.95% examples, 303443 words/s, in_qsize 15, out_qsize 1\n",
            "2022-05-05 16:13:13,800 : INFO : EPOCH 23 - PROGRESS: at 68.53% examples, 301339 words/s, in_qsize 15, out_qsize 0\n",
            "2022-05-05 16:13:14,805 : INFO : EPOCH 23 - PROGRESS: at 72.54% examples, 302666 words/s, in_qsize 15, out_qsize 0\n",
            "2022-05-05 16:13:15,901 : INFO : EPOCH 23 - PROGRESS: at 76.44% examples, 302532 words/s, in_qsize 15, out_qsize 0\n",
            "2022-05-05 16:13:16,943 : INFO : EPOCH 23 - PROGRESS: at 80.47% examples, 302809 words/s, in_qsize 13, out_qsize 2\n",
            "2022-05-05 16:13:18,024 : INFO : EPOCH 23 - PROGRESS: at 84.59% examples, 303294 words/s, in_qsize 15, out_qsize 0\n",
            "2022-05-05 16:13:19,048 : INFO : EPOCH 23 - PROGRESS: at 88.48% examples, 303924 words/s, in_qsize 15, out_qsize 1\n",
            "2022-05-05 16:13:20,126 : INFO : EPOCH 23 - PROGRESS: at 92.39% examples, 303436 words/s, in_qsize 14, out_qsize 1\n",
            "2022-05-05 16:13:21,178 : INFO : EPOCH 23 - PROGRESS: at 96.31% examples, 303476 words/s, in_qsize 14, out_qsize 1\n",
            "2022-05-05 16:13:21,982 : INFO : EPOCH 23: training on 9227204 raw words (8222823 effective words) took 26.9s, 305702 effective words/s\n",
            "2022-05-05 16:13:23,032 : INFO : EPOCH 24 - PROGRESS: at 3.47% examples, 275017 words/s, in_qsize 15, out_qsize 0\n",
            "2022-05-05 16:13:24,069 : INFO : EPOCH 24 - PROGRESS: at 6.95% examples, 274992 words/s, in_qsize 16, out_qsize 0\n",
            "2022-05-05 16:13:25,173 : INFO : EPOCH 24 - PROGRESS: at 11.08% examples, 286021 words/s, in_qsize 15, out_qsize 0\n",
            "2022-05-05 16:13:26,180 : INFO : EPOCH 24 - PROGRESS: at 14.75% examples, 289496 words/s, in_qsize 14, out_qsize 0\n",
            "2022-05-05 16:13:27,189 : INFO : EPOCH 24 - PROGRESS: at 18.22% examples, 288055 words/s, in_qsize 16, out_qsize 0\n",
            "2022-05-05 16:13:28,238 : INFO : EPOCH 24 - PROGRESS: at 21.68% examples, 285339 words/s, in_qsize 16, out_qsize 0\n",
            "2022-05-05 16:13:29,310 : INFO : EPOCH 24 - PROGRESS: at 24.94% examples, 280095 words/s, in_qsize 15, out_qsize 0\n",
            "2022-05-05 16:13:30,367 : INFO : EPOCH 24 - PROGRESS: at 28.29% examples, 278453 words/s, in_qsize 16, out_qsize 5\n",
            "2022-05-05 16:13:31,360 : INFO : EPOCH 24 - PROGRESS: at 32.19% examples, 282515 words/s, in_qsize 15, out_qsize 0\n",
            "2022-05-05 16:13:32,364 : INFO : EPOCH 24 - PROGRESS: at 35.43% examples, 280917 words/s, in_qsize 14, out_qsize 2\n",
            "2022-05-05 16:13:33,421 : INFO : EPOCH 24 - PROGRESS: at 39.32% examples, 282984 words/s, in_qsize 14, out_qsize 1\n",
            "2022-05-05 16:13:34,489 : INFO : EPOCH 24 - PROGRESS: at 43.21% examples, 284464 words/s, in_qsize 15, out_qsize 0\n",
            "2022-05-05 16:13:35,548 : INFO : EPOCH 24 - PROGRESS: at 47.21% examples, 286552 words/s, in_qsize 15, out_qsize 0\n",
            "2022-05-05 16:13:36,567 : INFO : EPOCH 24 - PROGRESS: at 50.99% examples, 287912 words/s, in_qsize 15, out_qsize 0\n",
            "2022-05-05 16:13:37,569 : INFO : EPOCH 24 - PROGRESS: at 54.99% examples, 290570 words/s, in_qsize 15, out_qsize 0\n",
            "2022-05-05 16:13:38,578 : INFO : EPOCH 24 - PROGRESS: at 58.79% examples, 291699 words/s, in_qsize 15, out_qsize 0\n",
            "2022-05-05 16:13:39,591 : INFO : EPOCH 24 - PROGRESS: at 62.46% examples, 292124 words/s, in_qsize 15, out_qsize 0\n",
            "2022-05-05 16:13:40,672 : INFO : EPOCH 24 - PROGRESS: at 66.25% examples, 291914 words/s, in_qsize 15, out_qsize 0\n",
            "2022-05-05 16:13:41,752 : INFO : EPOCH 24 - PROGRESS: at 70.16% examples, 292194 words/s, in_qsize 15, out_qsize 1\n",
            "2022-05-05 16:13:42,767 : INFO : EPOCH 24 - PROGRESS: at 73.73% examples, 292051 words/s, in_qsize 16, out_qsize 3\n",
            "2022-05-05 16:13:43,808 : INFO : EPOCH 24 - PROGRESS: at 77.85% examples, 293631 words/s, in_qsize 15, out_qsize 2\n",
            "2022-05-05 16:13:44,885 : INFO : EPOCH 24 - PROGRESS: at 82.20% examples, 295376 words/s, in_qsize 16, out_qsize 0\n",
            "2022-05-05 16:13:45,894 : INFO : EPOCH 24 - PROGRESS: at 85.77% examples, 295206 words/s, in_qsize 15, out_qsize 2\n",
            "2022-05-05 16:13:46,896 : INFO : EPOCH 24 - PROGRESS: at 89.78% examples, 296554 words/s, in_qsize 16, out_qsize 0\n",
            "2022-05-05 16:13:47,961 : INFO : EPOCH 24 - PROGRESS: at 93.92% examples, 297410 words/s, in_qsize 15, out_qsize 0\n",
            "2022-05-05 16:13:49,012 : INFO : EPOCH 24 - PROGRESS: at 97.71% examples, 297376 words/s, in_qsize 15, out_qsize 0\n",
            "2022-05-05 16:13:49,472 : INFO : EPOCH 24: training on 9227204 raw words (8222139 effective words) took 27.5s, 299246 effective words/s\n",
            "2022-05-05 16:13:50,503 : INFO : EPOCH 25 - PROGRESS: at 3.25% examples, 263177 words/s, in_qsize 15, out_qsize 0\n",
            "2022-05-05 16:13:51,584 : INFO : EPOCH 25 - PROGRESS: at 7.60% examples, 297492 words/s, in_qsize 15, out_qsize 0\n",
            "2022-05-05 16:13:52,596 : INFO : EPOCH 25 - PROGRESS: at 11.62% examples, 306793 words/s, in_qsize 15, out_qsize 0\n",
            "2022-05-05 16:13:53,601 : INFO : EPOCH 25 - PROGRESS: at 14.97% examples, 298880 words/s, in_qsize 14, out_qsize 1\n",
            "2022-05-05 16:13:54,659 : INFO : EPOCH 25 - PROGRESS: at 19.08% examples, 303344 words/s, in_qsize 16, out_qsize 1\n",
            "2022-05-05 16:13:55,686 : INFO : EPOCH 25 - PROGRESS: at 23.09% examples, 306150 words/s, in_qsize 14, out_qsize 1\n",
            "2022-05-05 16:13:56,716 : INFO : EPOCH 25 - PROGRESS: at 26.99% examples, 306886 words/s, in_qsize 15, out_qsize 0\n",
            "2022-05-05 16:13:57,788 : INFO : EPOCH 25 - PROGRESS: at 31.10% examples, 308083 words/s, in_qsize 15, out_qsize 0\n",
            "2022-05-05 16:13:58,808 : INFO : EPOCH 25 - PROGRESS: at 35.10% examples, 309713 words/s, in_qsize 16, out_qsize 1\n",
            "2022-05-05 16:13:59,830 : INFO : EPOCH 25 - PROGRESS: at 38.46% examples, 305827 words/s, in_qsize 16, out_qsize 4\n",
            "2022-05-05 16:14:00,834 : INFO : EPOCH 25 - PROGRESS: at 42.24% examples, 306226 words/s, in_qsize 15, out_qsize 0\n",
            "2022-05-05 16:14:01,870 : INFO : EPOCH 25 - PROGRESS: at 46.24% examples, 307235 words/s, in_qsize 15, out_qsize 0\n",
            "2022-05-05 16:14:02,875 : INFO : EPOCH 25 - PROGRESS: at 50.45% examples, 310127 words/s, in_qsize 15, out_qsize 0\n",
            "2022-05-05 16:14:03,888 : INFO : EPOCH 25 - PROGRESS: at 53.70% examples, 306878 words/s, in_qsize 15, out_qsize 0\n",
            "2022-05-05 16:14:04,919 : INFO : EPOCH 25 - PROGRESS: at 57.49% examples, 306594 words/s, in_qsize 16, out_qsize 1\n",
            "2022-05-05 16:14:05,952 : INFO : EPOCH 25 - PROGRESS: at 61.39% examples, 306849 words/s, in_qsize 16, out_qsize 0\n",
            "2022-05-05 16:14:07,016 : INFO : EPOCH 25 - PROGRESS: at 64.95% examples, 304985 words/s, in_qsize 15, out_qsize 0\n",
            "2022-05-05 16:14:08,046 : INFO : EPOCH 25 - PROGRESS: at 69.07% examples, 306306 words/s, in_qsize 15, out_qsize 0\n",
            "2022-05-05 16:14:09,061 : INFO : EPOCH 25 - PROGRESS: at 72.65% examples, 305429 words/s, in_qsize 16, out_qsize 0\n",
            "2022-05-05 16:14:10,107 : INFO : EPOCH 25 - PROGRESS: at 76.66% examples, 305917 words/s, in_qsize 16, out_qsize 0\n",
            "2022-05-05 16:14:11,145 : INFO : EPOCH 25 - PROGRESS: at 80.68% examples, 306463 words/s, in_qsize 15, out_qsize 0\n",
            "2022-05-05 16:14:12,260 : INFO : EPOCH 25 - PROGRESS: at 84.47% examples, 305154 words/s, in_qsize 14, out_qsize 1\n",
            "2022-05-05 16:14:13,388 : INFO : EPOCH 25 - PROGRESS: at 88.59% examples, 304902 words/s, in_qsize 14, out_qsize 1\n",
            "2022-05-05 16:14:14,558 : INFO : EPOCH 25 - PROGRESS: at 92.50% examples, 303455 words/s, in_qsize 14, out_qsize 5\n",
            "2022-05-05 16:14:15,573 : INFO : EPOCH 25 - PROGRESS: at 96.53% examples, 304286 words/s, in_qsize 15, out_qsize 0\n",
            "2022-05-05 16:14:16,281 : INFO : EPOCH 25: training on 9227204 raw words (8223576 effective words) took 26.8s, 306925 effective words/s\n",
            "2022-05-05 16:14:17,323 : INFO : EPOCH 26 - PROGRESS: at 3.36% examples, 271603 words/s, in_qsize 15, out_qsize 0\n",
            "2022-05-05 16:14:18,396 : INFO : EPOCH 26 - PROGRESS: at 7.17% examples, 281264 words/s, in_qsize 15, out_qsize 0\n",
            "2022-05-05 16:14:19,484 : INFO : EPOCH 26 - PROGRESS: at 11.29% examples, 291601 words/s, in_qsize 15, out_qsize 0\n",
            "2022-05-05 16:14:20,494 : INFO : EPOCH 26 - PROGRESS: at 15.19% examples, 297757 words/s, in_qsize 15, out_qsize 0\n",
            "2022-05-05 16:14:21,586 : INFO : EPOCH 26 - PROGRESS: at 19.19% examples, 298575 words/s, in_qsize 14, out_qsize 2\n",
            "2022-05-05 16:14:22,614 : INFO : EPOCH 26 - PROGRESS: at 22.98% examples, 299395 words/s, in_qsize 15, out_qsize 0\n",
            "2022-05-05 16:14:23,630 : INFO : EPOCH 26 - PROGRESS: at 26.77% examples, 300400 words/s, in_qsize 15, out_qsize 1\n",
            "2022-05-05 16:14:24,664 : INFO : EPOCH 26 - PROGRESS: at 30.67% examples, 301619 words/s, in_qsize 15, out_qsize 0\n",
            "2022-05-05 16:14:25,719 : INFO : EPOCH 26 - PROGRESS: at 34.57% examples, 302437 words/s, in_qsize 15, out_qsize 0\n",
            "2022-05-05 16:14:26,732 : INFO : EPOCH 26 - PROGRESS: at 38.35% examples, 302394 words/s, in_qsize 14, out_qsize 1\n",
            "2022-05-05 16:14:27,772 : INFO : EPOCH 26 - PROGRESS: at 42.46% examples, 304484 words/s, in_qsize 15, out_qsize 0\n",
            "2022-05-05 16:14:28,788 : INFO : EPOCH 26 - PROGRESS: at 46.24% examples, 304677 words/s, in_qsize 16, out_qsize 1\n",
            "2022-05-05 16:14:29,798 : INFO : EPOCH 26 - PROGRESS: at 50.35% examples, 306976 words/s, in_qsize 15, out_qsize 0\n",
            "2022-05-05 16:14:30,805 : INFO : EPOCH 26 - PROGRESS: at 54.14% examples, 307161 words/s, in_qsize 15, out_qsize 1\n",
            "2022-05-05 16:14:31,827 : INFO : EPOCH 26 - PROGRESS: at 57.81% examples, 306466 words/s, in_qsize 15, out_qsize 0\n",
            "2022-05-05 16:14:32,909 : INFO : EPOCH 26 - PROGRESS: at 61.93% examples, 306868 words/s, in_qsize 16, out_qsize 0\n",
            "2022-05-05 16:14:33,909 : INFO : EPOCH 26 - PROGRESS: at 65.39% examples, 305623 words/s, in_qsize 15, out_qsize 0\n",
            "2022-05-05 16:14:35,003 : INFO : EPOCH 26 - PROGRESS: at 69.61% examples, 306329 words/s, in_qsize 15, out_qsize 0\n",
            "2022-05-05 16:14:36,017 : INFO : EPOCH 26 - PROGRESS: at 73.62% examples, 307269 words/s, in_qsize 16, out_qsize 0\n",
            "2022-05-05 16:14:37,030 : INFO : EPOCH 26 - PROGRESS: at 77.53% examples, 307732 words/s, in_qsize 15, out_qsize 0\n",
            "2022-05-05 16:14:38,082 : INFO : EPOCH 26 - PROGRESS: at 81.45% examples, 307591 words/s, in_qsize 15, out_qsize 0\n",
            "2022-05-05 16:14:39,120 : INFO : EPOCH 26 - PROGRESS: at 85.23% examples, 307252 words/s, in_qsize 15, out_qsize 0\n",
            "2022-05-05 16:14:40,140 : INFO : EPOCH 26 - PROGRESS: at 89.34% examples, 308309 words/s, in_qsize 14, out_qsize 0\n",
            "2022-05-05 16:14:41,160 : INFO : EPOCH 26 - PROGRESS: at 93.04% examples, 307835 words/s, in_qsize 14, out_qsize 1\n",
            "2022-05-05 16:14:42,197 : INFO : EPOCH 26 - PROGRESS: at 97.07% examples, 308232 words/s, in_qsize 13, out_qsize 2\n",
            "2022-05-05 16:14:42,807 : INFO : EPOCH 26: training on 9227204 raw words (8222231 effective words) took 26.5s, 310258 effective words/s\n",
            "2022-05-05 16:14:43,852 : INFO : EPOCH 27 - PROGRESS: at 3.25% examples, 260179 words/s, in_qsize 15, out_qsize 0\n",
            "2022-05-05 16:14:44,899 : INFO : EPOCH 27 - PROGRESS: at 7.50% examples, 296302 words/s, in_qsize 16, out_qsize 0\n",
            "2022-05-05 16:14:45,913 : INFO : EPOCH 27 - PROGRESS: at 11.62% examples, 308644 words/s, in_qsize 15, out_qsize 0\n",
            "2022-05-05 16:14:47,007 : INFO : EPOCH 27 - PROGRESS: at 15.73% examples, 308730 words/s, in_qsize 15, out_qsize 0\n",
            "2022-05-05 16:14:48,060 : INFO : EPOCH 27 - PROGRESS: at 19.62% examples, 309801 words/s, in_qsize 15, out_qsize 2\n",
            "2022-05-05 16:14:49,039 : INFO : EPOCH 27 - PROGRESS: at 23.52% examples, 311033 words/s, in_qsize 15, out_qsize 0\n",
            "2022-05-05 16:14:50,178 : INFO : EPOCH 27 - PROGRESS: at 27.64% examples, 308893 words/s, in_qsize 15, out_qsize 0\n",
            "2022-05-05 16:14:51,210 : INFO : EPOCH 27 - PROGRESS: at 31.64% examples, 310234 words/s, in_qsize 15, out_qsize 0\n",
            "2022-05-05 16:14:52,252 : INFO : EPOCH 27 - PROGRESS: at 35.86% examples, 312751 words/s, in_qsize 14, out_qsize 1\n",
            "2022-05-05 16:14:53,267 : INFO : EPOCH 27 - PROGRESS: at 39.86% examples, 313937 words/s, in_qsize 15, out_qsize 0\n",
            "2022-05-05 16:14:54,281 : INFO : EPOCH 27 - PROGRESS: at 43.86% examples, 314908 words/s, in_qsize 16, out_qsize 0\n",
            "2022-05-05 16:14:55,362 : INFO : EPOCH 27 - PROGRESS: at 47.97% examples, 314776 words/s, in_qsize 15, out_qsize 0\n",
            "2022-05-05 16:14:56,379 : INFO : EPOCH 27 - PROGRESS: at 52.18% examples, 316797 words/s, in_qsize 16, out_qsize 0\n",
            "2022-05-05 16:14:57,409 : INFO : EPOCH 27 - PROGRESS: at 56.07% examples, 316438 words/s, in_qsize 15, out_qsize 0\n",
            "2022-05-05 16:14:58,437 : INFO : EPOCH 27 - PROGRESS: at 59.98% examples, 316145 words/s, in_qsize 15, out_qsize 0\n",
            "2022-05-05 16:14:59,456 : INFO : EPOCH 27 - PROGRESS: at 63.97% examples, 316577 words/s, in_qsize 15, out_qsize 0\n",
            "2022-05-05 16:15:00,508 : INFO : EPOCH 27 - PROGRESS: at 68.21% examples, 317393 words/s, in_qsize 15, out_qsize 0\n",
            "2022-05-05 16:15:01,544 : INFO : EPOCH 27 - PROGRESS: at 72.21% examples, 317429 words/s, in_qsize 15, out_qsize 0\n",
            "2022-05-05 16:15:02,595 : INFO : EPOCH 27 - PROGRESS: at 76.33% examples, 317663 words/s, in_qsize 15, out_qsize 0\n",
            "2022-05-05 16:15:03,608 : INFO : EPOCH 27 - PROGRESS: at 80.14% examples, 317185 words/s, in_qsize 13, out_qsize 5\n",
            "2022-05-05 16:15:04,648 : INFO : EPOCH 27 - PROGRESS: at 84.37% examples, 318005 words/s, in_qsize 15, out_qsize 1\n",
            "2022-05-05 16:15:05,664 : INFO : EPOCH 27 - PROGRESS: at 88.48% examples, 318665 words/s, in_qsize 15, out_qsize 1\n",
            "2022-05-05 16:15:06,673 : INFO : EPOCH 27 - PROGRESS: at 92.28% examples, 318248 words/s, in_qsize 16, out_qsize 3\n",
            "2022-05-05 16:15:07,688 : INFO : EPOCH 27 - PROGRESS: at 96.42% examples, 318861 words/s, in_qsize 15, out_qsize 0\n",
            "2022-05-05 16:15:08,377 : INFO : EPOCH 27: training on 9227204 raw words (8222529 effective words) took 25.6s, 321802 effective words/s\n",
            "2022-05-05 16:15:09,456 : INFO : EPOCH 28 - PROGRESS: at 3.25% examples, 251394 words/s, in_qsize 14, out_qsize 1\n",
            "2022-05-05 16:15:10,478 : INFO : EPOCH 28 - PROGRESS: at 7.17% examples, 283269 words/s, in_qsize 14, out_qsize 6\n",
            "2022-05-05 16:15:11,488 : INFO : EPOCH 28 - PROGRESS: at 11.51% examples, 305142 words/s, in_qsize 15, out_qsize 0\n",
            "2022-05-05 16:15:12,494 : INFO : EPOCH 28 - PROGRESS: at 15.41% examples, 308402 words/s, in_qsize 15, out_qsize 1\n",
            "2022-05-05 16:15:13,512 : INFO : EPOCH 28 - PROGRESS: at 19.19% examples, 308548 words/s, in_qsize 15, out_qsize 2\n",
            "2022-05-05 16:15:14,512 : INFO : EPOCH 28 - PROGRESS: at 23.09% examples, 310094 words/s, in_qsize 15, out_qsize 0\n",
            "2022-05-05 16:15:15,529 : INFO : EPOCH 28 - PROGRESS: at 27.32% examples, 314561 words/s, in_qsize 14, out_qsize 0\n",
            "2022-05-05 16:15:16,597 : INFO : EPOCH 28 - PROGRESS: at 31.42% examples, 314916 words/s, in_qsize 15, out_qsize 0\n",
            "2022-05-05 16:15:17,623 : INFO : EPOCH 28 - PROGRESS: at 35.32% examples, 314651 words/s, in_qsize 15, out_qsize 0\n",
            "2022-05-05 16:15:18,660 : INFO : EPOCH 28 - PROGRESS: at 39.22% examples, 314113 words/s, in_qsize 16, out_qsize 0\n",
            "2022-05-05 16:15:19,709 : INFO : EPOCH 28 - PROGRESS: at 43.32% examples, 314887 words/s, in_qsize 13, out_qsize 3\n",
            "2022-05-05 16:15:20,712 : INFO : EPOCH 28 - PROGRESS: at 47.10% examples, 314560 words/s, in_qsize 15, out_qsize 2\n",
            "2022-05-05 16:15:21,761 : INFO : EPOCH 28 - PROGRESS: at 51.10% examples, 314541 words/s, in_qsize 12, out_qsize 3\n",
            "2022-05-05 16:15:22,769 : INFO : EPOCH 28 - PROGRESS: at 55.21% examples, 316052 words/s, in_qsize 14, out_qsize 1\n",
            "2022-05-05 16:15:23,780 : INFO : EPOCH 28 - PROGRESS: at 59.34% examples, 317282 words/s, in_qsize 16, out_qsize 0\n",
            "2022-05-05 16:15:24,879 : INFO : EPOCH 28 - PROGRESS: at 63.22% examples, 315576 words/s, in_qsize 15, out_qsize 2\n",
            "2022-05-05 16:15:25,934 : INFO : EPOCH 28 - PROGRESS: at 67.34% examples, 315883 words/s, in_qsize 15, out_qsize 0\n",
            "2022-05-05 16:15:26,996 : INFO : EPOCH 28 - PROGRESS: at 71.24% examples, 315098 words/s, in_qsize 15, out_qsize 2\n",
            "2022-05-05 16:15:28,000 : INFO : EPOCH 28 - PROGRESS: at 75.24% examples, 315786 words/s, in_qsize 15, out_qsize 0\n",
            "2022-05-05 16:15:29,060 : INFO : EPOCH 28 - PROGRESS: at 79.27% examples, 315524 words/s, in_qsize 15, out_qsize 0\n",
            "2022-05-05 16:15:30,075 : INFO : EPOCH 28 - PROGRESS: at 83.07% examples, 315286 words/s, in_qsize 15, out_qsize 1\n",
            "2022-05-05 16:15:31,124 : INFO : EPOCH 28 - PROGRESS: at 86.96% examples, 314688 words/s, in_qsize 15, out_qsize 0\n",
            "2022-05-05 16:15:32,133 : INFO : EPOCH 28 - PROGRESS: at 90.76% examples, 314441 words/s, in_qsize 15, out_qsize 0\n",
            "2022-05-05 16:15:33,154 : INFO : EPOCH 28 - PROGRESS: at 94.58% examples, 314057 words/s, in_qsize 15, out_qsize 0\n",
            "2022-05-05 16:15:34,254 : INFO : EPOCH 28 - PROGRESS: at 98.15% examples, 312061 words/s, in_qsize 15, out_qsize 0\n",
            "2022-05-05 16:15:34,588 : INFO : EPOCH 28: training on 9227204 raw words (8223495 effective words) took 26.2s, 313920 effective words/s\n",
            "2022-05-05 16:15:35,607 : INFO : EPOCH 29 - PROGRESS: at 3.14% examples, 257368 words/s, in_qsize 16, out_qsize 0\n",
            "2022-05-05 16:15:36,609 : INFO : EPOCH 29 - PROGRESS: at 6.62% examples, 270795 words/s, in_qsize 15, out_qsize 0\n",
            "2022-05-05 16:15:37,611 : INFO : EPOCH 29 - PROGRESS: at 9.88% examples, 269614 words/s, in_qsize 10, out_qsize 5\n",
            "2022-05-05 16:15:38,617 : INFO : EPOCH 29 - PROGRESS: at 14.11% examples, 288473 words/s, in_qsize 15, out_qsize 0\n",
            "2022-05-05 16:15:39,623 : INFO : EPOCH 29 - PROGRESS: at 18.00% examples, 294457 words/s, in_qsize 16, out_qsize 0\n",
            "2022-05-05 16:15:40,652 : INFO : EPOCH 29 - PROGRESS: at 21.24% examples, 289623 words/s, in_qsize 16, out_qsize 6\n",
            "2022-05-05 16:15:41,640 : INFO : EPOCH 29 - PROGRESS: at 25.26% examples, 294977 words/s, in_qsize 15, out_qsize 0\n",
            "2022-05-05 16:15:42,703 : INFO : EPOCH 29 - PROGRESS: at 29.27% examples, 296985 words/s, in_qsize 14, out_qsize 1\n",
            "2022-05-05 16:15:43,721 : INFO : EPOCH 29 - PROGRESS: at 33.27% examples, 299947 words/s, in_qsize 15, out_qsize 0\n",
            "2022-05-05 16:15:44,874 : INFO : EPOCH 29 - PROGRESS: at 37.59% examples, 300957 words/s, in_qsize 14, out_qsize 1\n",
            "2022-05-05 16:15:46,025 : INFO : EPOCH 29 - PROGRESS: at 42.03% examples, 302618 words/s, in_qsize 15, out_qsize 0\n",
            "2022-05-05 16:15:47,100 : INFO : EPOCH 29 - PROGRESS: at 46.02% examples, 302944 words/s, in_qsize 14, out_qsize 1\n",
            "2022-05-05 16:15:48,161 : INFO : EPOCH 29 - PROGRESS: at 50.13% examples, 304234 words/s, in_qsize 15, out_qsize 0\n",
            "2022-05-05 16:15:49,219 : INFO : EPOCH 29 - PROGRESS: at 54.03% examples, 304176 words/s, in_qsize 15, out_qsize 0\n",
            "2022-05-05 16:15:50,228 : INFO : EPOCH 29 - PROGRESS: at 58.03% examples, 305657 words/s, in_qsize 16, out_qsize 0\n",
            "2022-05-05 16:15:51,249 : INFO : EPOCH 29 - PROGRESS: at 61.93% examples, 306164 words/s, in_qsize 16, out_qsize 0\n",
            "2022-05-05 16:15:52,274 : INFO : EPOCH 29 - PROGRESS: at 65.93% examples, 307033 words/s, in_qsize 15, out_qsize 0\n",
            "2022-05-05 16:15:53,307 : INFO : EPOCH 29 - PROGRESS: at 70.05% examples, 308459 words/s, in_qsize 15, out_qsize 1\n",
            "2022-05-05 16:15:54,380 : INFO : EPOCH 29 - PROGRESS: at 74.05% examples, 308245 words/s, in_qsize 16, out_qsize 3\n",
            "2022-05-05 16:15:55,384 : INFO : EPOCH 29 - PROGRESS: at 78.07% examples, 309079 words/s, in_qsize 16, out_qsize 1\n",
            "2022-05-05 16:15:56,509 : INFO : EPOCH 29 - PROGRESS: at 82.64% examples, 310280 words/s, in_qsize 15, out_qsize 0\n",
            "2022-05-05 16:15:57,511 : INFO : EPOCH 29 - PROGRESS: at 87.07% examples, 312638 words/s, in_qsize 15, out_qsize 0\n",
            "2022-05-05 16:15:58,548 : INFO : EPOCH 29 - PROGRESS: at 90.54% examples, 311161 words/s, in_qsize 16, out_qsize 3\n",
            "2022-05-05 16:15:59,536 : INFO : EPOCH 29 - PROGRESS: at 94.47% examples, 311514 words/s, in_qsize 15, out_qsize 3\n",
            "2022-05-05 16:16:00,582 : INFO : EPOCH 29 - PROGRESS: at 98.69% examples, 312343 words/s, in_qsize 13, out_qsize 0\n",
            "2022-05-05 16:16:00,796 : INFO : EPOCH 29: training on 9227204 raw words (8222182 effective words) took 26.2s, 313912 effective words/s\n",
            "2022-05-05 16:16:01,846 : INFO : EPOCH 30 - PROGRESS: at 3.36% examples, 266503 words/s, in_qsize 16, out_qsize 0\n",
            "2022-05-05 16:16:02,857 : INFO : EPOCH 30 - PROGRESS: at 7.38% examples, 295830 words/s, in_qsize 15, out_qsize 0\n",
            "2022-05-05 16:16:03,902 : INFO : EPOCH 30 - PROGRESS: at 11.51% examples, 305461 words/s, in_qsize 15, out_qsize 0\n",
            "2022-05-05 16:16:04,920 : INFO : EPOCH 30 - PROGRESS: at 14.97% examples, 299158 words/s, in_qsize 16, out_qsize 2\n",
            "2022-05-05 16:16:05,921 : INFO : EPOCH 30 - PROGRESS: at 18.86% examples, 303286 words/s, in_qsize 14, out_qsize 1\n",
            "2022-05-05 16:16:06,933 : INFO : EPOCH 30 - PROGRESS: at 23.09% examples, 309975 words/s, in_qsize 15, out_qsize 0\n",
            "2022-05-05 16:16:07,977 : INFO : EPOCH 30 - PROGRESS: at 26.88% examples, 308310 words/s, in_qsize 15, out_qsize 0\n",
            "2022-05-05 16:16:09,023 : INFO : EPOCH 30 - PROGRESS: at 30.89% examples, 309213 words/s, in_qsize 16, out_qsize 0\n",
            "2022-05-05 16:16:10,068 : INFO : EPOCH 30 - PROGRESS: at 34.78% examples, 308897 words/s, in_qsize 16, out_qsize 1\n",
            "2022-05-05 16:16:11,163 : INFO : EPOCH 30 - PROGRESS: at 38.89% examples, 308945 words/s, in_qsize 14, out_qsize 1\n",
            "2022-05-05 16:16:12,224 : INFO : EPOCH 30 - PROGRESS: at 43.00% examples, 309856 words/s, in_qsize 16, out_qsize 1\n",
            "2022-05-05 16:16:13,245 : INFO : EPOCH 30 - PROGRESS: at 46.89% examples, 310223 words/s, in_qsize 16, out_qsize 0\n",
            "2022-05-05 16:16:14,279 : INFO : EPOCH 30 - PROGRESS: at 50.46% examples, 308785 words/s, in_qsize 12, out_qsize 4\n",
            "2022-05-05 16:16:15,352 : INFO : EPOCH 30 - PROGRESS: at 54.56% examples, 308804 words/s, in_qsize 15, out_qsize 0\n",
            "2022-05-05 16:16:16,390 : INFO : EPOCH 30 - PROGRESS: at 58.47% examples, 308819 words/s, in_qsize 15, out_qsize 0\n",
            "2022-05-05 16:16:17,395 : INFO : EPOCH 30 - PROGRESS: at 62.25% examples, 308888 words/s, in_qsize 15, out_qsize 0\n",
            "2022-05-05 16:16:18,417 : INFO : EPOCH 30 - PROGRESS: at 66.15% examples, 309170 words/s, in_qsize 14, out_qsize 1\n",
            "2022-05-05 16:16:19,434 : INFO : EPOCH 30 - PROGRESS: at 70.05% examples, 309527 words/s, in_qsize 15, out_qsize 0\n",
            "2022-05-05 16:16:20,436 : INFO : EPOCH 30 - PROGRESS: at 73.62% examples, 308690 words/s, in_qsize 16, out_qsize 0\n",
            "2022-05-05 16:16:21,466 : INFO : EPOCH 30 - PROGRESS: at 77.20% examples, 307667 words/s, in_qsize 15, out_qsize 1\n",
            "2022-05-05 16:16:22,485 : INFO : EPOCH 30 - PROGRESS: at 81.12% examples, 307863 words/s, in_qsize 15, out_qsize 0\n",
            "2022-05-05 16:16:23,502 : INFO : EPOCH 30 - PROGRESS: at 85.13% examples, 308591 words/s, in_qsize 14, out_qsize 2\n",
            "2022-05-05 16:16:24,518 : INFO : EPOCH 30 - PROGRESS: at 89.23% examples, 309638 words/s, in_qsize 15, out_qsize 0\n",
            "2022-05-05 16:16:25,552 : INFO : EPOCH 30 - PROGRESS: at 92.61% examples, 307854 words/s, in_qsize 16, out_qsize 1\n",
            "2022-05-05 16:16:26,599 : INFO : EPOCH 30 - PROGRESS: at 96.74% examples, 308726 words/s, in_qsize 15, out_qsize 2\n",
            "2022-05-05 16:16:27,291 : INFO : EPOCH 30: training on 9227204 raw words (8223495 effective words) took 26.5s, 310538 effective words/s\n",
            "2022-05-05 16:16:28,316 : INFO : EPOCH 31 - PROGRESS: at 3.14% examples, 255933 words/s, in_qsize 13, out_qsize 2\n",
            "2022-05-05 16:16:29,347 : INFO : EPOCH 31 - PROGRESS: at 6.95% examples, 279459 words/s, in_qsize 15, out_qsize 0\n",
            "2022-05-05 16:16:30,382 : INFO : EPOCH 31 - PROGRESS: at 10.64% examples, 284004 words/s, in_qsize 15, out_qsize 0\n",
            "2022-05-05 16:16:31,411 : INFO : EPOCH 31 - PROGRESS: at 14.65% examples, 293042 words/s, in_qsize 15, out_qsize 0\n",
            "2022-05-05 16:16:32,434 : INFO : EPOCH 31 - PROGRESS: at 18.43% examples, 295316 words/s, in_qsize 16, out_qsize 2\n",
            "2022-05-05 16:16:33,460 : INFO : EPOCH 31 - PROGRESS: at 22.76% examples, 304054 words/s, in_qsize 13, out_qsize 0\n",
            "2022-05-05 16:16:34,498 : INFO : EPOCH 31 - PROGRESS: at 26.23% examples, 299785 words/s, in_qsize 15, out_qsize 1\n",
            "2022-05-05 16:16:35,597 : INFO : EPOCH 31 - PROGRESS: at 30.56% examples, 303037 words/s, in_qsize 15, out_qsize 0\n",
            "2022-05-05 16:16:36,613 : INFO : EPOCH 31 - PROGRESS: at 34.03% examples, 301010 words/s, in_qsize 14, out_qsize 6\n",
            "2022-05-05 16:16:37,614 : INFO : EPOCH 31 - PROGRESS: at 38.13% examples, 304244 words/s, in_qsize 16, out_qsize 0\n",
            "2022-05-05 16:16:38,723 : INFO : EPOCH 31 - PROGRESS: at 42.35% examples, 305098 words/s, in_qsize 14, out_qsize 1\n",
            "2022-05-05 16:16:39,739 : INFO : EPOCH 31 - PROGRESS: at 46.35% examples, 306645 words/s, in_qsize 16, out_qsize 0\n",
            "2022-05-05 16:16:40,792 : INFO : EPOCH 31 - PROGRESS: at 50.46% examples, 307817 words/s, in_qsize 13, out_qsize 2\n",
            "2022-05-05 16:16:41,851 : INFO : EPOCH 31 - PROGRESS: at 54.46% examples, 308099 words/s, in_qsize 15, out_qsize 1\n",
            "2022-05-05 16:16:42,902 : INFO : EPOCH 31 - PROGRESS: at 58.36% examples, 307924 words/s, in_qsize 16, out_qsize 2\n",
            "2022-05-05 16:16:43,955 : INFO : EPOCH 31 - PROGRESS: at 62.25% examples, 307699 words/s, in_qsize 14, out_qsize 4\n",
            "2022-05-05 16:16:45,008 : INFO : EPOCH 31 - PROGRESS: at 66.36% examples, 308496 words/s, in_qsize 14, out_qsize 1\n",
            "2022-05-05 16:16:46,070 : INFO : EPOCH 31 - PROGRESS: at 70.37% examples, 308606 words/s, in_qsize 15, out_qsize 0\n",
            "2022-05-05 16:16:47,099 : INFO : EPOCH 31 - PROGRESS: at 74.48% examples, 309665 words/s, in_qsize 15, out_qsize 0\n",
            "2022-05-05 16:16:48,113 : INFO : EPOCH 31 - PROGRESS: at 78.29% examples, 309559 words/s, in_qsize 15, out_qsize 0\n",
            "2022-05-05 16:16:49,121 : INFO : EPOCH 31 - PROGRESS: at 82.42% examples, 310765 words/s, in_qsize 16, out_qsize 1\n",
            "2022-05-05 16:16:50,123 : INFO : EPOCH 31 - PROGRESS: at 86.21% examples, 310769 words/s, in_qsize 15, out_qsize 0\n",
            "2022-05-05 16:16:51,174 : INFO : EPOCH 31 - PROGRESS: at 90.22% examples, 310879 words/s, in_qsize 16, out_qsize 1\n",
            "2022-05-05 16:16:52,251 : INFO : EPOCH 31 - PROGRESS: at 94.69% examples, 312078 words/s, in_qsize 16, out_qsize 0\n",
            "2022-05-05 16:16:53,272 : INFO : EPOCH 31 - PROGRESS: at 98.58% examples, 312163 words/s, in_qsize 14, out_qsize 0\n",
            "2022-05-05 16:16:53,529 : INFO : EPOCH 31: training on 9227204 raw words (8222355 effective words) took 26.2s, 313557 effective words/s\n",
            "2022-05-05 16:16:53,531 : INFO : Word2Vec lifecycle event {'msg': 'training on 295270528 raw words (263124915 effective words) took 863.9s, 304594 effective words/s', 'datetime': '2022-05-05T16:16:53.531166', 'gensim': '4.2.0', 'python': '3.7.13 (default, Apr 24 2022, 01:04:09) \\n[GCC 7.5.0]', 'platform': 'Linux-5.4.188+-x86_64-with-Ubuntu-18.04-bionic', 'event': 'train'}\n"
          ]
        },
        {
          "output_type": "stream",
          "name": "stdout",
          "text": [
            "CPU times: user 27min 15s, sys: 8.15 s, total: 27min 23s\n",
            "Wall time: 14min 23s\n"
          ]
        },
        {
          "output_type": "execute_result",
          "data": {
            "text/plain": [
              "(263124915, 295270528)"
            ]
          },
          "metadata": {},
          "execution_count": 33
        }
      ]
    },
    {
      "cell_type": "markdown",
      "source": [
        "### Tokenize Text"
      ],
      "metadata": {
        "_uuid": "e13563644468037258598637b49373ca96b9b879",
        "id": "6TD_A-js395J"
      }
    },
    {
      "cell_type": "code",
      "source": [
        "%%time\n",
        "tokenizer = Tokenizer()\n",
        "tokenizer.fit_on_texts(df_train.text)\n",
        "\n",
        "vocab_size = len(tokenizer.word_index) + 1\n",
        "print(\"Total words\", vocab_size)"
      ],
      "metadata": {
        "_uuid": "6852bc709a7cd20173cbeeb218505078f8f37c57",
        "trusted": true,
        "colab": {
          "base_uri": "https://localhost:8080/"
        },
        "id": "yeCZh_To395J",
        "outputId": "ae400828-8854-419d-9f3f-fda00c11c5f3"
      },
      "execution_count": 35,
      "outputs": [
        {
          "output_type": "stream",
          "name": "stdout",
          "text": [
            "Total words 290419\n",
            "CPU times: user 20.9 s, sys: 251 ms, total: 21.2 s\n",
            "Wall time: 21.2 s\n"
          ]
        }
      ]
    },
    {
      "cell_type": "code",
      "source": [
        "%%time\n",
        "x_train = pad_sequences(tokenizer.texts_to_sequences(df_train.text), maxlen=SEQUENCE_LENGTH)\n",
        "x_test = pad_sequences(tokenizer.texts_to_sequences(df_test.text), maxlen=SEQUENCE_LENGTH)"
      ],
      "metadata": {
        "_uuid": "45de439df3015030c71f84c2d170346936a1d68f",
        "trusted": true,
        "colab": {
          "base_uri": "https://localhost:8080/"
        },
        "id": "5wNklBCL395K",
        "outputId": "485193a4-ad3e-4270-a25c-eb342269ab95"
      },
      "execution_count": 36,
      "outputs": [
        {
          "output_type": "stream",
          "name": "stdout",
          "text": [
            "CPU times: user 27.6 s, sys: 1.25 s, total: 28.8 s\n",
            "Wall time: 28.7 s\n"
          ]
        }
      ]
    },
    {
      "cell_type": "markdown",
      "source": [
        "### Label Encoder "
      ],
      "metadata": {
        "_uuid": "03b35903fc6260e190d6928d240ef7432de117fc",
        "id": "l8MQYRrl395K"
      }
    },
    {
      "cell_type": "code",
      "source": [
        "labels = df_train.target.unique().tolist()\n",
        "labels.append(NEUTRAL)\n",
        "labels"
      ],
      "metadata": {
        "_uuid": "33676e0efa39e97d89bd650b8b4eae933a22fbf0",
        "trusted": true,
        "colab": {
          "base_uri": "https://localhost:8080/"
        },
        "id": "13-7Uxfn395K",
        "outputId": "22fb5c73-95c3-4c02-e7d4-a895668a3866"
      },
      "execution_count": 37,
      "outputs": [
        {
          "output_type": "execute_result",
          "data": {
            "text/plain": [
              "['POSITIVE', 'NEGATIVE', 'NEUTRAL']"
            ]
          },
          "metadata": {},
          "execution_count": 37
        }
      ]
    },
    {
      "cell_type": "code",
      "source": [
        "encoder = LabelEncoder()\n",
        "encoder.fit(df_train.target.tolist())\n",
        "\n",
        "y_train = encoder.transform(df_train.target.tolist())\n",
        "y_test = encoder.transform(df_test.target.tolist())\n",
        "\n",
        "y_train = y_train.reshape(-1,1)\n",
        "y_test = y_test.reshape(-1,1)\n",
        "\n",
        "print(\"y_train\",y_train.shape)\n",
        "print(\"y_test\",y_test.shape)"
      ],
      "metadata": {
        "_uuid": "04239a9bef76e7922fd86098a5601dfde8ee4665",
        "trusted": true,
        "colab": {
          "base_uri": "https://localhost:8080/"
        },
        "id": "Io0oehGF395L",
        "outputId": "1a18cee2-b54c-4352-8b2c-da20c5ef975a"
      },
      "execution_count": 38,
      "outputs": [
        {
          "output_type": "stream",
          "name": "stdout",
          "text": [
            "y_train (1280000, 1)\n",
            "y_test (320000, 1)\n"
          ]
        }
      ]
    },
    {
      "cell_type": "code",
      "source": [
        "print(\"x_train\", x_train.shape)\n",
        "print(\"y_train\", y_train.shape)\n",
        "print()\n",
        "print(\"x_test\", x_test.shape)\n",
        "print(\"y_test\", y_test.shape)"
      ],
      "metadata": {
        "_uuid": "04299c886911ca135583ab64878f213939a2990c",
        "trusted": true,
        "colab": {
          "base_uri": "https://localhost:8080/"
        },
        "id": "9-iNIRd7395L",
        "outputId": "35f81071-9b39-4aa0-a780-97fdc49dbafb"
      },
      "execution_count": 39,
      "outputs": [
        {
          "output_type": "stream",
          "name": "stdout",
          "text": [
            "x_train (1280000, 300)\n",
            "y_train (1280000, 1)\n",
            "\n",
            "x_test (320000, 300)\n",
            "y_test (320000, 1)\n"
          ]
        }
      ]
    },
    {
      "cell_type": "code",
      "source": [
        "y_train[:10]"
      ],
      "metadata": {
        "_uuid": "232533fb27b7be99d9b8c2f8fb22c9c6bf121a6f",
        "trusted": true,
        "colab": {
          "base_uri": "https://localhost:8080/"
        },
        "id": "DaWfx4Hc395L",
        "outputId": "01e9bd97-90c9-49a2-b000-d03973bd20f9"
      },
      "execution_count": 40,
      "outputs": [
        {
          "output_type": "execute_result",
          "data": {
            "text/plain": [
              "array([[1],\n",
              "       [1],\n",
              "       [1],\n",
              "       [0],\n",
              "       [1],\n",
              "       [1],\n",
              "       [1],\n",
              "       [1],\n",
              "       [1],\n",
              "       [1]])"
            ]
          },
          "metadata": {},
          "execution_count": 40
        }
      ]
    },
    {
      "cell_type": "markdown",
      "source": [
        "### Embedding layer"
      ],
      "metadata": {
        "_uuid": "233c0ea94055a03e2e7df3e2a13d036ec963484f",
        "id": "WaD36G_T395M"
      }
    },
    {
      "cell_type": "code",
      "source": [
        "embedding_matrix = np.zeros((vocab_size, W2V_SIZE))\n",
        "for word, i in tokenizer.word_index.items():\n",
        "  if word in w2v_model.wv:\n",
        "    embedding_matrix[i] = w2v_model.wv[word]\n",
        "print(embedding_matrix.shape)"
      ],
      "metadata": {
        "_uuid": "9ab488374b59e3f30f8b1ea92767d853c4846bac",
        "trusted": true,
        "colab": {
          "base_uri": "https://localhost:8080/"
        },
        "id": "m2HczDFq395M",
        "outputId": "cf14c91c-f24b-45c7-e617-bd6de614f74c"
      },
      "execution_count": 41,
      "outputs": [
        {
          "output_type": "stream",
          "name": "stdout",
          "text": [
            "(290419, 300)\n"
          ]
        }
      ]
    },
    {
      "cell_type": "code",
      "source": [
        "embedding_layer = Embedding(vocab_size, W2V_SIZE, weights=[embedding_matrix], input_length=SEQUENCE_LENGTH, trainable=False)"
      ],
      "metadata": {
        "_uuid": "833279d91e4286065968237fb5f2a0c2dd4d246c",
        "trusted": true,
        "id": "LHY_Aile395M"
      },
      "execution_count": 42,
      "outputs": []
    },
    {
      "cell_type": "markdown",
      "source": [
        "### Build Model"
      ],
      "metadata": {
        "_uuid": "b299ef78f94c2085942c993a2d58753a7476305a",
        "id": "l4CvT9Ki395M"
      }
    },
    {
      "cell_type": "code",
      "source": [
        "model = Sequential()\n",
        "model.add(embedding_layer)\n",
        "model.add(Dropout(0.5))\n",
        "model.add(LSTM(100, dropout=0.2, recurrent_dropout=0.2))\n",
        "model.add(Dense(1, activation='sigmoid'))\n",
        "\n",
        "model.summary()"
      ],
      "metadata": {
        "_uuid": "e775ef4f1b74e6412457181383c39f2df554ef3f",
        "trusted": true,
        "colab": {
          "base_uri": "https://localhost:8080/"
        },
        "id": "tKFdPVdO395N",
        "outputId": "d696da72-4d8a-4506-f13d-73236d8312e7"
      },
      "execution_count": 43,
      "outputs": [
        {
          "output_type": "stream",
          "name": "stdout",
          "text": [
            "Model: \"sequential\"\n",
            "_________________________________________________________________\n",
            " Layer (type)                Output Shape              Param #   \n",
            "=================================================================\n",
            " embedding (Embedding)       (None, 300, 300)          87125700  \n",
            "                                                                 \n",
            " dropout (Dropout)           (None, 300, 300)          0         \n",
            "                                                                 \n",
            " lstm (LSTM)                 (None, 100)               160400    \n",
            "                                                                 \n",
            " dense (Dense)               (None, 1)                 101       \n",
            "                                                                 \n",
            "=================================================================\n",
            "Total params: 87,286,201\n",
            "Trainable params: 160,501\n",
            "Non-trainable params: 87,125,700\n",
            "_________________________________________________________________\n"
          ]
        }
      ]
    },
    {
      "cell_type": "markdown",
      "source": [
        "### Compile model"
      ],
      "metadata": {
        "_uuid": "28d22eafd0c7d798dcf3d742bc92fb8577939e6c",
        "id": "VLCK8OnN395N"
      }
    },
    {
      "cell_type": "code",
      "source": [
        "model.compile(loss='binary_crossentropy',\n",
        "              optimizer=\"adam\",\n",
        "              metrics=['accuracy'])"
      ],
      "metadata": {
        "_uuid": "1331e08d590bb2aa2033706c8faca217afc0f1c3",
        "trusted": true,
        "id": "uGZIXtSN395N"
      },
      "execution_count": 44,
      "outputs": []
    },
    {
      "cell_type": "markdown",
      "source": [
        "### Callbacks"
      ],
      "metadata": {
        "_uuid": "c7733127cb8b380e0c807268903bf4d03ef92542",
        "id": "lwfg9m33395N"
      }
    },
    {
      "cell_type": "code",
      "source": [
        "callbacks = [ ReduceLROnPlateau(monitor='val_loss', patience=5, cooldown=0),\n",
        "              EarlyStopping(monitor='val_accuracy', min_delta=1e-4, patience=5)]"
      ],
      "metadata": {
        "_uuid": "a688df590386f5748da6fe00b01904fe6c71619e",
        "trusted": true,
        "id": "fmuAya-2395O"
      },
      "execution_count": 45,
      "outputs": []
    },
    {
      "cell_type": "markdown",
      "source": [
        "### Train"
      ],
      "metadata": {
        "_uuid": "8d0873633dd49179c8cae17377641b97d323ef3b",
        "id": "1mGZnZKF395O"
      }
    },
    {
      "cell_type": "code",
      "source": [
        "%%time\n",
        "history = model.fit(x_train, y_train,\n",
        "                    batch_size=BATCH_SIZE,\n",
        "                    epochs=EPOCHS,\n",
        "                    validation_split=0.1,\n",
        "                    verbose=1,\n",
        "                    callbacks=callbacks)"
      ],
      "metadata": {
        "_uuid": "2b659d390c6577dc5cdb6b6297934279b4e801d5",
        "trusted": true,
        "colab": {
          "base_uri": "https://localhost:8080/"
        },
        "id": "NxqMoRo_395O",
        "outputId": "5464814b-9619-472c-ca45-450f7c91d409"
      },
      "execution_count": 46,
      "outputs": [
        {
          "output_type": "stream",
          "name": "stdout",
          "text": [
            "Epoch 1/8\n",
            "1125/1125 [==============================] - ETA: 0s - loss: 0.5034 - accuracy: 0.7505WARNING:tensorflow:Early stopping conditioned on metric `val_acc` which is not available. Available metrics are: loss,accuracy,val_loss,val_accuracy,lr\n"
          ]
        },
        {
          "output_type": "stream",
          "name": "stderr",
          "text": [
            "2022-05-05 17:12:44,749 : WARNING : Early stopping conditioned on metric `val_acc` which is not available. Available metrics are: loss,accuracy,val_loss,val_accuracy,lr\n"
          ]
        },
        {
          "output_type": "stream",
          "name": "stdout",
          "text": [
            "\b\b\b\b\b\b\b\b\b\b\b\b\b\b\b\b\b\b\b\b\b\b\b\b\b\b\b\b\b\b\b\b\b\b\b\b\b\b\b\b\b\b\b\b\b\b\b\b\b\b\b\b\b\b\b\b\b\b\b\b\b\b\b\b\b\b\b\b\b\b\b\b\b\b\b\b\b\b\b\b\b\b\b\b\b\b\r1125/1125 [==============================] - 1931s 2s/step - loss: 0.5034 - accuracy: 0.7505 - val_loss: 0.4645 - val_accuracy: 0.7797 - lr: 0.0010\n",
            "Epoch 2/8\n",
            "1125/1125 [==============================] - ETA: 0s - loss: 0.4780 - accuracy: 0.7679WARNING:tensorflow:Early stopping conditioned on metric `val_acc` which is not available. Available metrics are: loss,accuracy,val_loss,val_accuracy,lr\n"
          ]
        },
        {
          "output_type": "stream",
          "name": "stderr",
          "text": [
            "2022-05-05 17:44:20,040 : WARNING : Early stopping conditioned on metric `val_acc` which is not available. Available metrics are: loss,accuracy,val_loss,val_accuracy,lr\n"
          ]
        },
        {
          "output_type": "stream",
          "name": "stdout",
          "text": [
            "\b\b\b\b\b\b\b\b\b\b\b\b\b\b\b\b\b\b\b\b\b\b\b\b\b\b\b\b\b\b\b\b\b\b\b\b\b\b\b\b\b\b\b\b\b\b\b\b\b\b\b\b\b\b\b\b\b\b\b\b\b\b\b\b\b\b\b\b\b\b\b\b\b\b\b\b\b\b\b\b\b\b\b\b\b\b\r1125/1125 [==============================] - 1895s 2s/step - loss: 0.4780 - accuracy: 0.7679 - val_loss: 0.4574 - val_accuracy: 0.7849 - lr: 0.0010\n",
            "Epoch 3/8\n",
            "1125/1125 [==============================] - ETA: 0s - loss: 0.4712 - accuracy: 0.7726WARNING:tensorflow:Early stopping conditioned on metric `val_acc` which is not available. Available metrics are: loss,accuracy,val_loss,val_accuracy,lr\n"
          ]
        },
        {
          "output_type": "stream",
          "name": "stderr",
          "text": [
            "2022-05-05 18:15:17,448 : WARNING : Early stopping conditioned on metric `val_acc` which is not available. Available metrics are: loss,accuracy,val_loss,val_accuracy,lr\n"
          ]
        },
        {
          "output_type": "stream",
          "name": "stdout",
          "text": [
            "\b\b\b\b\b\b\b\b\b\b\b\b\b\b\b\b\b\b\b\b\b\b\b\b\b\b\b\b\b\b\b\b\b\b\b\b\b\b\b\b\b\b\b\b\b\b\b\b\b\b\b\b\b\b\b\b\b\b\b\b\b\b\b\b\b\b\b\b\b\b\b\b\b\b\b\b\b\b\b\b\b\b\b\b\b\b\r1125/1125 [==============================] - 1857s 2s/step - loss: 0.4712 - accuracy: 0.7726 - val_loss: 0.4531 - val_accuracy: 0.7869 - lr: 0.0010\n",
            "Epoch 4/8\n",
            "1125/1125 [==============================] - ETA: 0s - loss: 0.4671 - accuracy: 0.7745WARNING:tensorflow:Early stopping conditioned on metric `val_acc` which is not available. Available metrics are: loss,accuracy,val_loss,val_accuracy,lr\n"
          ]
        },
        {
          "output_type": "stream",
          "name": "stderr",
          "text": [
            "2022-05-05 18:45:43,557 : WARNING : Early stopping conditioned on metric `val_acc` which is not available. Available metrics are: loss,accuracy,val_loss,val_accuracy,lr\n"
          ]
        },
        {
          "output_type": "stream",
          "name": "stdout",
          "text": [
            "\b\b\b\b\b\b\b\b\b\b\b\b\b\b\b\b\b\b\b\b\b\b\b\b\b\b\b\b\b\b\b\b\b\b\b\b\b\b\b\b\b\b\b\b\b\b\b\b\b\b\b\b\b\b\b\b\b\b\b\b\b\b\b\b\b\b\b\b\b\b\b\b\b\b\b\b\b\b\b\b\b\b\b\b\b\b\r1125/1125 [==============================] - 1826s 2s/step - loss: 0.4671 - accuracy: 0.7745 - val_loss: 0.4516 - val_accuracy: 0.7882 - lr: 0.0010\n",
            "Epoch 5/8\n",
            "1125/1125 [==============================] - ETA: 0s - loss: 0.4650 - accuracy: 0.7764WARNING:tensorflow:Early stopping conditioned on metric `val_acc` which is not available. Available metrics are: loss,accuracy,val_loss,val_accuracy,lr\n"
          ]
        },
        {
          "output_type": "stream",
          "name": "stderr",
          "text": [
            "2022-05-05 19:15:45,602 : WARNING : Early stopping conditioned on metric `val_acc` which is not available. Available metrics are: loss,accuracy,val_loss,val_accuracy,lr\n"
          ]
        },
        {
          "output_type": "stream",
          "name": "stdout",
          "text": [
            "\b\b\b\b\b\b\b\b\b\b\b\b\b\b\b\b\b\b\b\b\b\b\b\b\b\b\b\b\b\b\b\b\b\b\b\b\b\b\b\b\b\b\b\b\b\b\b\b\b\b\b\b\b\b\b\b\b\b\b\b\b\b\b\b\b\b\b\b\b\b\b\b\b\b\b\b\b\b\b\b\b\b\b\b\b\b\r1125/1125 [==============================] - 1802s 2s/step - loss: 0.4650 - accuracy: 0.7764 - val_loss: 0.4797 - val_accuracy: 0.7700 - lr: 0.0010\n",
            "Epoch 6/8\n",
            "1125/1125 [==============================] - ETA: 0s - loss: 0.4639 - accuracy: 0.7772WARNING:tensorflow:Early stopping conditioned on metric `val_acc` which is not available. Available metrics are: loss,accuracy,val_loss,val_accuracy,lr\n"
          ]
        },
        {
          "output_type": "stream",
          "name": "stderr",
          "text": [
            "2022-05-05 19:45:22,245 : WARNING : Early stopping conditioned on metric `val_acc` which is not available. Available metrics are: loss,accuracy,val_loss,val_accuracy,lr\n"
          ]
        },
        {
          "output_type": "stream",
          "name": "stdout",
          "text": [
            "\b\b\b\b\b\b\b\b\b\b\b\b\b\b\b\b\b\b\b\b\b\b\b\b\b\b\b\b\b\b\b\b\b\b\b\b\b\b\b\b\b\b\b\b\b\b\b\b\b\b\b\b\b\b\b\b\b\b\b\b\b\b\b\b\b\b\b\b\b\b\b\b\b\b\b\b\b\b\b\b\b\b\b\b\b\b\r1125/1125 [==============================] - 1777s 2s/step - loss: 0.4639 - accuracy: 0.7772 - val_loss: 0.4493 - val_accuracy: 0.7891 - lr: 0.0010\n",
            "Epoch 7/8\n",
            "1125/1125 [==============================] - ETA: 0s - loss: 0.4620 - accuracy: 0.7780WARNING:tensorflow:Early stopping conditioned on metric `val_acc` which is not available. Available metrics are: loss,accuracy,val_loss,val_accuracy,lr\n"
          ]
        },
        {
          "output_type": "stream",
          "name": "stderr",
          "text": [
            "2022-05-05 20:14:25,636 : WARNING : Early stopping conditioned on metric `val_acc` which is not available. Available metrics are: loss,accuracy,val_loss,val_accuracy,lr\n"
          ]
        },
        {
          "output_type": "stream",
          "name": "stdout",
          "text": [
            "\b\b\b\b\b\b\b\b\b\b\b\b\b\b\b\b\b\b\b\b\b\b\b\b\b\b\b\b\b\b\b\b\b\b\b\b\b\b\b\b\b\b\b\b\b\b\b\b\b\b\b\b\b\b\b\b\b\b\b\b\b\b\b\b\b\b\b\b\b\b\b\b\b\b\b\b\b\b\b\b\b\b\b\b\b\b\r1125/1125 [==============================] - 1743s 2s/step - loss: 0.4620 - accuracy: 0.7780 - val_loss: 0.4481 - val_accuracy: 0.7902 - lr: 0.0010\n",
            "Epoch 8/8\n",
            "1125/1125 [==============================] - ETA: 0s - loss: 0.4612 - accuracy: 0.7782WARNING:tensorflow:Early stopping conditioned on metric `val_acc` which is not available. Available metrics are: loss,accuracy,val_loss,val_accuracy,lr\n"
          ]
        },
        {
          "output_type": "stream",
          "name": "stderr",
          "text": [
            "2022-05-05 20:43:13,120 : WARNING : Early stopping conditioned on metric `val_acc` which is not available. Available metrics are: loss,accuracy,val_loss,val_accuracy,lr\n"
          ]
        },
        {
          "output_type": "stream",
          "name": "stdout",
          "text": [
            "\b\b\b\b\b\b\b\b\b\b\b\b\b\b\b\b\b\b\b\b\b\b\b\b\b\b\b\b\b\b\b\b\b\b\b\b\b\b\b\b\b\b\b\b\b\b\b\b\b\b\b\b\b\b\b\b\b\b\b\b\b\b\b\b\b\b\b\b\b\b\b\b\b\b\b\b\b\b\b\b\b\b\b\b\b\b\r1125/1125 [==============================] - 1727s 2s/step - loss: 0.4612 - accuracy: 0.7782 - val_loss: 0.4454 - val_accuracy: 0.7907 - lr: 0.0010\n",
            "CPU times: user 2min 38s, sys: 33.5 s, total: 3min 11s\n",
            "Wall time: 4h 3min 1s\n"
          ]
        }
      ]
    },
    {
      "cell_type": "markdown",
      "source": [
        "### Evaluate"
      ],
      "metadata": {
        "_uuid": "267258196d96796ac69a7b8c466314bcf5d6ee42",
        "id": "q-0keayd395O"
      }
    },
    {
      "cell_type": "code",
      "source": [
        "%%time\n",
        "score = model.evaluate(x_test, y_test, batch_size=BATCH_SIZE)\n",
        "print()\n",
        "print(\"ACCURACY:\",score[1])\n",
        "print(\"LOSS:\",score[0])"
      ],
      "metadata": {
        "_uuid": "98ecd8f1b8b74594c3ea775dd68a094e92458022",
        "trusted": true,
        "colab": {
          "base_uri": "https://localhost:8080/"
        },
        "id": "DF75_UQh395O",
        "outputId": "f85bcff8-c297-4e75-ceb3-fe9afdfc3ace"
      },
      "execution_count": 47,
      "outputs": [
        {
          "output_type": "stream",
          "name": "stdout",
          "text": [
            "313/313 [==============================] - 150s 479ms/step - loss: 0.4442 - accuracy: 0.7911\n",
            "\n",
            "ACCURACY: 0.7910812497138977\n",
            "LOSS: 0.44416025280952454\n",
            "CPU times: user 4.26 s, sys: 1.65 s, total: 5.9 s\n",
            "Wall time: 2min 35s\n"
          ]
        }
      ]
    },
    {
      "cell_type": "code",
      "source": [
        "acc = history.history['accuracy']\n",
        "val_acc = history.history['val_accuracy']\n",
        "loss = history.history['loss']\n",
        "val_loss = history.history['val_loss']\n",
        " \n",
        "epochs = range(len(acc))\n",
        " \n",
        "plt.plot(epochs, acc, 'b', label='Training acc')\n",
        "plt.plot(epochs, val_acc, 'r', label='Validation acc')\n",
        "plt.title('Training and validation accuracy')\n",
        "plt.legend()\n",
        " \n",
        "plt.figure()\n",
        " \n",
        "plt.plot(epochs, loss, 'b', label='Training loss')\n",
        "plt.plot(epochs, val_loss, 'r', label='Validation loss')\n",
        "plt.title('Training and validation loss')\n",
        "plt.legend()\n",
        " \n",
        "plt.show()"
      ],
      "metadata": {
        "_uuid": "40c72cd1e9d6c4fd799cbba7c813765ac4039dfc",
        "trusted": true,
        "colab": {
          "base_uri": "https://localhost:8080/",
          "height": 545
        },
        "id": "1dM5NXyd395P",
        "outputId": "98b239a6-a4b9-4396-fe46-338a4add620f"
      },
      "execution_count": 50,
      "outputs": [
        {
          "output_type": "display_data",
          "data": {
            "text/plain": [
              "<Figure size 432x288 with 1 Axes>"
            ],
            "image/png": "[encoded data removed]"
          },
          "metadata": {
            "needs_background": "light"
          }
        },
        {
          "output_type": "display_data",
          "data": {
            "text/plain": [
              "<Figure size 432x288 with 1 Axes>"
            ],
            "image/png": "[encoded data removed]"
          },
          "metadata": {
            "needs_background": "light"
          }
        }
      ]
    },
    {
      "cell_type": "markdown",
      "source": [
        "### Predict"
      ],
      "metadata": {
        "_uuid": "6bdfc0f6a6af5bebc0271d83dd7432c91001409b",
        "id": "Hr1MY_7i395P"
      }
    },
    {
      "cell_type": "code",
      "source": [
        "def decode_sentiment(score, include_neutral=True):\n",
        "    if include_neutral:        \n",
        "        label = NEUTRAL\n",
        "        if score <= SENTIMENT_THRESHOLDS[0]:\n",
        "            label = NEGATIVE\n",
        "        elif score >= SENTIMENT_THRESHOLDS[1]:\n",
        "            label = POSITIVE\n",
        "\n",
        "        return label\n",
        "    else:\n",
        "        return NEGATIVE if score < 0.5 else POSITIVE"
      ],
      "metadata": {
        "_uuid": "f0b0fa3d4b1bb14b3f5e3d169a369f3ebef29ae1",
        "trusted": true,
        "id": "QwWN_wo5395P"
      },
      "execution_count": 51,
      "outputs": []
    },
    {
      "cell_type": "code",
      "source": [
        "def predict(text, include_neutral=True):\n",
        "    start_at = time.time()\n",
        "    # Tokenize text\n",
        "    x_test = pad_sequences(tokenizer.texts_to_sequences([text]), maxlen=SEQUENCE_LENGTH)\n",
        "    # Predict\n",
        "    score = model.predict([x_test])[0]\n",
        "    # Decode sentiment\n",
        "    label = decode_sentiment(score, include_neutral=include_neutral)\n",
        "\n",
        "    return {\"label\": label, \"score\": float(score),\n",
        "       \"elapsed_time\": time.time()-start_at}  "
      ],
      "metadata": {
        "_uuid": "ed4086d651f2f8cbed11d3c909a8873607d29a06",
        "trusted": true,
        "id": "aXWg3DM4395P"
      },
      "execution_count": 52,
      "outputs": []
    },
    {
      "cell_type": "code",
      "source": [
        "predict(\"I love the music\")"
      ],
      "metadata": {
        "_uuid": "ca38b1e6c9b5acfed7467de2cf02a78333108872",
        "trusted": true,
        "colab": {
          "base_uri": "https://localhost:8080/"
        },
        "id": "Jt2LEZAR395P",
        "outputId": "91b6fd18-21f2-44a0-a449-747d098559fa"
      },
      "execution_count": 53,
      "outputs": [
        {
          "output_type": "execute_result",
          "data": {
            "text/plain": [
              "{'elapsed_time': 0.41016340255737305,\n",
              " 'label': 'POSITIVE',\n",
              " 'score': 0.9756371974945068}"
            ]
          },
          "metadata": {},
          "execution_count": 53
        }
      ]
    },
    {
      "cell_type": "code",
      "source": [
        "predict(\"I hate the rain\")"
      ],
      "metadata": {
        "_uuid": "0e5fe647533be0148850de349fea6ef6f71303d1",
        "trusted": true,
        "colab": {
          "base_uri": "https://localhost:8080/"
        },
        "id": "z_JDZUqe395Q",
        "outputId": "344fc0a2-b8ae-4f89-a619-dd9f959518bb"
      },
      "execution_count": 54,
      "outputs": [
        {
          "output_type": "execute_result",
          "data": {
            "text/plain": [
              "{'elapsed_time': 0.10173869132995605,\n",
              " 'label': 'NEGATIVE',\n",
              " 'score': 0.012355595827102661}"
            ]
          },
          "metadata": {},
          "execution_count": 54
        }
      ]
    },
    {
      "cell_type": "code",
      "source": [
        "predict(\"i don't know what i'm doing\")"
      ],
      "metadata": {
        "_uuid": "37064dffcc8920d34ccd54fac7c8b50e583a8269",
        "trusted": true,
        "colab": {
          "base_uri": "https://localhost:8080/"
        },
        "id": "X2f_gszl395Q",
        "outputId": "35f6ed3d-47f9-446a-e8d8-4981e2531b04"
      },
      "execution_count": 55,
      "outputs": [
        {
          "output_type": "execute_result",
          "data": {
            "text/plain": [
              "{'elapsed_time': 0.11623907089233398,\n",
              " 'label': 'NEGATIVE',\n",
              " 'score': 0.27960580587387085}"
            ]
          },
          "metadata": {},
          "execution_count": 55
        }
      ]
    },
    {
      "cell_type": "markdown",
      "source": [
        "### Confusion Matrix"
      ],
      "metadata": {
        "_uuid": "3ee72e47f84b6dbc32e02a783de5ec1661f157e1",
        "id": "elP1lj16395Q"
      }
    },
    {
      "cell_type": "code",
      "source": [
        "%%time\n",
        "y_pred_1d = []\n",
        "y_test_1d = list(df_test.target)\n",
        "scores = model.predict(x_test, verbose=1, batch_size=8000)\n",
        "y_pred_1d = [decode_sentiment(score, include_neutral=False) for score in scores]"
      ],
      "metadata": {
        "_uuid": "0e920173eb05f04aecdd735bc5dff0f5be5f8d15",
        "trusted": true,
        "colab": {
          "base_uri": "https://localhost:8080/"
        },
        "id": "VZWfE-X2395Q",
        "outputId": "2b8a4330-a2cb-422c-a55b-dee81f204352"
      },
      "execution_count": 56,
      "outputs": [
        {
          "output_type": "stream",
          "name": "stdout",
          "text": [
            "40/40 [==============================] - 132s 3s/step\n",
            "CPU times: user 2.05 s, sys: 864 ms, total: 2.92 s\n",
            "Wall time: 2min 17s\n"
          ]
        }
      ]
    },
    {
      "cell_type": "code",
      "source": [
        "def plot_confusion_matrix(cm, classes,\n",
        "                          title='Confusion matrix',\n",
        "                          cmap=plt.cm.Blues):\n",
        "    \"\"\"\n",
        "    This function prints and plots the confusion matrix.\n",
        "    Normalization can be applied by setting `normalize=True`.\n",
        "    \"\"\"\n",
        "\n",
        "    cm = cm.astype('float') / cm.sum(axis=1)[:, np.newaxis]\n",
        "\n",
        "    plt.imshow(cm, interpolation='nearest', cmap=cmap)\n",
        "    plt.title(title, fontsize=30)\n",
        "    plt.colorbar()\n",
        "    tick_marks = np.arange(len(classes))\n",
        "    plt.xticks(tick_marks, classes, rotation=90, fontsize=22)\n",
        "    plt.yticks(tick_marks, classes, fontsize=22)\n",
        "\n",
        "    fmt = '.2f'\n",
        "    thresh = cm.max() / 2.\n",
        "    for i, j in itertools.product(range(cm.shape[0]), range(cm.shape[1])):\n",
        "        plt.text(j, i, format(cm[i, j], fmt),\n",
        "                 horizontalalignment=\"center\",\n",
        "                 color=\"white\" if cm[i, j] > thresh else \"black\")\n",
        "\n",
        "    plt.ylabel('True label', fontsize=25)\n",
        "    plt.xlabel('Predicted label', fontsize=25)"
      ],
      "metadata": {
        "_uuid": "b3575191bb425ab871f3f41e83812ee84bb7e595",
        "trusted": true,
        "id": "qhDHeFZE395Q"
      },
      "execution_count": 57,
      "outputs": []
    },
    {
      "cell_type": "code",
      "source": [
        "%%time\n",
        "\n",
        "cnf_matrix = confusion_matrix(y_test_1d, y_pred_1d)\n",
        "plt.figure(figsize=(12,12))\n",
        "plot_confusion_matrix(cnf_matrix, classes=df_train.target.unique(), title=\"Confusion matrix\")\n",
        "plt.show()"
      ],
      "metadata": {
        "_uuid": "a57dc6f6211c144491a70f533225edfa95a2dc66",
        "trusted": true,
        "colab": {
          "base_uri": "https://localhost:8080/",
          "height": 804
        },
        "id": "UAn_-wlN395Q",
        "outputId": "36fc9b57-04a6-4b81-9058-a3575037b8ae"
      },
      "execution_count": 58,
      "outputs": [
        {
          "output_type": "display_data",
          "data": {
            "text/plain": [
              "<Figure size 864x864 with 2 Axes>"
            ],
            "image/png": "[encoded data removed]"
          },
          "metadata": {
            "needs_background": "light"
          }
        },
        {
          "output_type": "stream",
          "name": "stdout",
          "text": [
            "CPU times: user 1.48 s, sys: 52.1 ms, total: 1.53 s\n",
            "Wall time: 1.53 s\n"
          ]
        }
      ]
    },
    {
      "cell_type": "markdown",
      "source": [
        "### Classification Report"
      ],
      "metadata": {
        "_uuid": "e23b957348dcc084249d3cc7538b972da471c2cd",
        "id": "Cw46A4gY395R"
      }
    },
    {
      "cell_type": "code",
      "source": [
        "print(classification_report(y_test_1d, y_pred_1d))"
      ],
      "metadata": {
        "_uuid": "a7fe05b7caa1c984ff1deb0be2f7c6bc043df9f5",
        "trusted": true,
        "colab": {
          "base_uri": "https://localhost:8080/"
        },
        "id": "fAZlJeKv395R",
        "outputId": "ec4af94b-fd80-47ba-bca2-a0d3c417dac5"
      },
      "execution_count": 59,
      "outputs": [
        {
          "output_type": "stream",
          "name": "stdout",
          "text": [
            "              precision    recall  f1-score   support\n",
            "\n",
            "    NEGATIVE       0.79      0.78      0.79    159494\n",
            "    POSITIVE       0.79      0.80      0.79    160506\n",
            "\n",
            "    accuracy                           0.79    320000\n",
            "   macro avg       0.79      0.79      0.79    320000\n",
            "weighted avg       0.79      0.79      0.79    320000\n",
            "\n"
          ]
        }
      ]
    },
    {
      "cell_type": "markdown",
      "source": [
        "### Accuracy Score"
      ],
      "metadata": {
        "_uuid": "4eb300f0c6693a618587c7dcf32f77f5416cbfb9",
        "id": "reDC2YKV395R"
      }
    },
    {
      "cell_type": "code",
      "source": [
        "accuracy_score(y_test_1d, y_pred_1d)"
      ],
      "metadata": {
        "_uuid": "5cf76e6e09f8a60ed25947932b94c772eda44d23",
        "trusted": true,
        "colab": {
          "base_uri": "https://localhost:8080/"
        },
        "id": "zzyWfmkh395R",
        "outputId": "0a2f2d74-80eb-4c7a-db24-377772312651"
      },
      "execution_count": 60,
      "outputs": [
        {
          "output_type": "execute_result",
          "data": {
            "text/plain": [
              "0.79108125"
            ]
          },
          "metadata": {},
          "execution_count": 60
        }
      ]
    },
    {
      "cell_type": "markdown",
      "source": [
        "### Save model"
      ],
      "metadata": {
        "_uuid": "4f014c32f3833db282e1a075c526604f34e3158c",
        "id": "YZlPhSU2395R"
      }
    },
    {
      "cell_type": "code",
      "source": [
        "model.save(KERAS_MODEL)\n",
        "w2v_model.save(WORD2VEC_MODEL)\n",
        "pickle.dump(tokenizer, open(TOKENIZER_MODEL, \"wb\"), protocol=0)\n",
        "pickle.dump(encoder, open(ENCODER_MODEL, \"wb\"), protocol=0)"
      ],
      "metadata": {
        "_uuid": "3b2b3ad5b592977b404acfa1c9ad303a62837255",
        "trusted": true,
        "colab": {
          "base_uri": "https://localhost:8080/"
        },
        "id": "iZ0mFdSw395S",
        "outputId": "1c5a29fc-286b-440b-9c06-902b9cb46909"
      },
      "execution_count": 75,
      "outputs": [
        {
          "output_type": "stream",
          "name": "stderr",
          "text": [
            "2022-05-05 21:09:03,052 : INFO : Word2Vec lifecycle event {'fname_or_handle': 'model.w2v', 'separately': 'None', 'sep_limit': 10485760, 'ignore': frozenset(), 'datetime': '2022-05-05T21:09:03.052528', 'gensim': '4.2.0', 'python': '3.7.13 (default, Apr 24 2022, 01:04:09) \\n[GCC 7.5.0]', 'platform': 'Linux-5.4.188+-x86_64-with-Ubuntu-18.04-bionic', 'event': 'saving'}\n",
            "2022-05-05 21:09:03,060 : INFO : not storing attribute cum_table\n",
            "2022-05-05 21:09:03,288 : INFO : saved model.w2v\n"
          ]
        }
      ]
    },
    {
      "cell_type": "code",
      "source": [
        ""
      ],
      "metadata": {
        "id": "3rtA3rdLDiZu"
      },
      "execution_count": null,
      "outputs": []
    }
  ]
}