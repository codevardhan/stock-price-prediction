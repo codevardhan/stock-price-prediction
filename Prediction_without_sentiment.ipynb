{
  "cells": [
    {
      "cell_type": "markdown",
      "metadata": {},
      "source": [
        "## Import Libraries\n"
      ]
    },
    {
      "cell_type": "code",
      "execution_count": 17,
      "metadata": {
        "id": "_fHYbsgACOU2"
      },
      "outputs": [],
      "source": [
        "import numpy as np \n",
        "import pandas as pd \n",
        "import os\n",
        "\n",
        "import datetime as dt\n",
        "from datetime import datetime\n",
        "\n",
        "import matplotlib.pyplot as plt\n",
        "plt.style.use('ggplot')\n",
        "\n",
        "import numpy as np\n",
        "\n",
        "from sklearn.preprocessing import MinMaxScaler\n",
        "\n",
        "### Create the Stacked LSTM model\n",
        "from tensorflow.keras.models import Sequential\n",
        "from tensorflow.keras.layers import Dense\n",
        "from tensorflow.keras.layers import LSTM\n",
        "from keras.layers import Dropout"
      ]
    },
    {
      "cell_type": "markdown",
      "metadata": {},
      "source": [
        "## Loading Stock Data"
      ]
    },
    {
      "cell_type": "code",
      "execution_count": 18,
      "metadata": {
        "id": "FmXZfUymqmo9"
      },
      "outputs": [],
      "source": [
        "data = './data/AMZN.csv'"
      ]
    },
    {
      "cell_type": "code",
      "execution_count": 19,
      "metadata": {
        "colab": {
          "base_uri": "https://localhost:8080/",
          "height": 206
        },
        "id": "sg8IEYzgpk1n",
        "outputId": "df5a6ff1-d9f6-4fd2-ea3f-96176dc34cde"
      },
      "outputs": [
        {
          "data": {
            "text/html": [
              "<div>\n",
              "<style scoped>\n",
              "    .dataframe tbody tr th:only-of-type {\n",
              "        vertical-align: middle;\n",
              "    }\n",
              "\n",
              "    .dataframe tbody tr th {\n",
              "        vertical-align: top;\n",
              "    }\n",
              "\n",
              "    .dataframe thead th {\n",
              "        text-align: right;\n",
              "    }\n",
              "</style>\n",
              "<table border=\"1\" class=\"dataframe\">\n",
              "  <thead>\n",
              "    <tr style=\"text-align: right;\">\n",
              "      <th></th>\n",
              "      <th>Date</th>\n",
              "      <th>Open</th>\n",
              "      <th>High</th>\n",
              "      <th>Low</th>\n",
              "      <th>Close</th>\n",
              "      <th>Adj Close</th>\n",
              "      <th>Volume</th>\n",
              "    </tr>\n",
              "  </thead>\n",
              "  <tbody>\n",
              "    <tr>\n",
              "      <th>0</th>\n",
              "      <td>2012-01-03</td>\n",
              "      <td>175.889999</td>\n",
              "      <td>179.479996</td>\n",
              "      <td>175.550003</td>\n",
              "      <td>179.029999</td>\n",
              "      <td>179.029999</td>\n",
              "      <td>5110800</td>\n",
              "    </tr>\n",
              "    <tr>\n",
              "      <th>1</th>\n",
              "      <td>2012-01-04</td>\n",
              "      <td>179.210007</td>\n",
              "      <td>180.500000</td>\n",
              "      <td>176.070007</td>\n",
              "      <td>177.509995</td>\n",
              "      <td>177.509995</td>\n",
              "      <td>4205200</td>\n",
              "    </tr>\n",
              "    <tr>\n",
              "      <th>2</th>\n",
              "      <td>2012-01-05</td>\n",
              "      <td>175.940002</td>\n",
              "      <td>178.250000</td>\n",
              "      <td>174.050003</td>\n",
              "      <td>177.610001</td>\n",
              "      <td>177.610001</td>\n",
              "      <td>3809100</td>\n",
              "    </tr>\n",
              "    <tr>\n",
              "      <th>3</th>\n",
              "      <td>2012-01-06</td>\n",
              "      <td>178.070007</td>\n",
              "      <td>184.649994</td>\n",
              "      <td>177.500000</td>\n",
              "      <td>182.610001</td>\n",
              "      <td>182.610001</td>\n",
              "      <td>7008400</td>\n",
              "    </tr>\n",
              "    <tr>\n",
              "      <th>4</th>\n",
              "      <td>2012-01-09</td>\n",
              "      <td>182.759995</td>\n",
              "      <td>184.369995</td>\n",
              "      <td>177.000000</td>\n",
              "      <td>178.559998</td>\n",
              "      <td>178.559998</td>\n",
              "      <td>5056900</td>\n",
              "    </tr>\n",
              "  </tbody>\n",
              "</table>\n",
              "</div>"
            ],
            "text/plain": [
              "         Date        Open        High         Low       Close   Adj Close  \\\n",
              "0  2012-01-03  175.889999  179.479996  175.550003  179.029999  179.029999   \n",
              "1  2012-01-04  179.210007  180.500000  176.070007  177.509995  177.509995   \n",
              "2  2012-01-05  175.940002  178.250000  174.050003  177.610001  177.610001   \n",
              "3  2012-01-06  178.070007  184.649994  177.500000  182.610001  182.610001   \n",
              "4  2012-01-09  182.759995  184.369995  177.000000  178.559998  178.559998   \n",
              "\n",
              "    Volume  \n",
              "0  5110800  \n",
              "1  4205200  \n",
              "2  3809100  \n",
              "3  7008400  \n",
              "4  5056900  "
            ]
          },
          "execution_count": 19,
          "metadata": {},
          "output_type": "execute_result"
        }
      ],
      "source": [
        "df = pd.read_csv(data)\n",
        "df.head()"
      ]
    },
    {
      "cell_type": "code",
      "execution_count": 20,
      "metadata": {
        "colab": {
          "base_uri": "https://localhost:8080/",
          "height": 496
        },
        "id": "U5OE4RCUqPfB",
        "outputId": "fd9c2e9d-53b2-4d68-eeb4-6a8fd9760ce1"
      },
      "outputs": [
        {
          "data": {
            "text/plain": [
              "<matplotlib.legend.Legend at 0x7f7a94117f40>"
            ]
          },
          "execution_count": 20,
          "metadata": {},
          "output_type": "execute_result"
        },
        {
          "data": {
            "image/png": "[encoded data removed]",
            "text/plain": [
              "<Figure size 1440x576 with 1 Axes>"
            ]
          },
          "metadata": {},
          "output_type": "display_data"
        }
      ],
      "source": [
        "df['Date'] = pd.to_datetime(df.Date,format='%Y-%m-%d')\n",
        "df.index = df['Date']\n",
        "plt.figure(figsize=(20,8))\n",
        "plt.plot(df['Close'], label='Close Price')\n",
        "plt.xlabel('Year')\n",
        "plt.ylabel('Close Price') \n",
        "plt.title('Close Price')\n",
        "plt.legend() "
      ]
    },
    {
      "cell_type": "code",
      "execution_count": 21,
      "metadata": {
        "colab": {
          "base_uri": "https://localhost:8080/"
        },
        "id": "jEfp7Vqrq-_h",
        "outputId": "d67d150e-cde9-401d-a096-611641cef9d6"
      },
      "outputs": [
        {
          "name": "stderr",
          "output_type": "stream",
          "text": [
            "/home/codevardhan/.env-list/mach-env/lib/python3.9/site-packages/pandas/core/frame.py:4906: SettingWithCopyWarning: \n",
            "A value is trying to be set on a copy of a slice from a DataFrame\n",
            "\n",
            "See the caveats in the documentation: https://pandas.pydata.org/pandas-docs/stable/user_guide/indexing.html#returning-a-view-versus-a-copy\n",
            "  return super().drop(\n"
          ]
        }
      ],
      "source": [
        "features = [\"Date\", \"Close\"]\n",
        "all_data = df[features]\n",
        "all_data.index = all_data.Date\n",
        "all_data.drop('Date', axis=1, inplace=True)"
      ]
    },
    {
      "cell_type": "code",
      "execution_count": 36,
      "metadata": {
        "colab": {
          "base_uri": "https://localhost:8080/"
        },
        "id": "EW8N4Tq0rfev",
        "outputId": "ee3de299-136a-4008-b72a-e002f9da2cad"
      },
      "outputs": [
        {
          "data": {
            "text/plain": [
              "(2603, 1)"
            ]
          },
          "execution_count": 36,
          "metadata": {},
          "output_type": "execute_result"
        }
      ],
      "source": [
        "# all_data.head()\n",
        "all_data.shape"
      ]
    },
    {
      "cell_type": "markdown",
      "metadata": {},
      "source": [
        "## Pre-processing Stock Data"
      ]
    },
    {
      "cell_type": "code",
      "execution_count": 37,
      "metadata": {
        "id": "QO-hyLkJrnZi"
      },
      "outputs": [],
      "source": [
        "dataset = all_data.values\n",
        "train = dataset[0:2000,:]\n",
        "valid = dataset[2000:,:]"
      ]
    },
    {
      "cell_type": "code",
      "execution_count": 38,
      "metadata": {
        "id": "0CfxMyGcrttd"
      },
      "outputs": [],
      "source": [
        "scaler = MinMaxScaler(feature_range=(0, 1))\n",
        "scaled_data = scaler.fit_transform(dataset)"
      ]
    },
    {
      "cell_type": "code",
      "execution_count": 39,
      "metadata": {
        "id": "D1tt-6lTr1pw"
      },
      "outputs": [],
      "source": [
        "x_train, y_train = [], []\n",
        "for i in range(90,len(train)):\n",
        "    x_train.append(scaled_data[i-90:i,0])\n",
        "    y_train.append(scaled_data[i,0])\n",
        "x_train, y_train = np.array(x_train), np.array(y_train)"
      ]
    },
    {
      "cell_type": "code",
      "execution_count": 40,
      "metadata": {
        "id": "0YlDmqJMsiLI"
      },
      "outputs": [],
      "source": [
        "x_train = np.reshape(x_train, (x_train.shape[0],x_train.shape[1],1))"
      ]
    },
    {
      "cell_type": "code",
      "execution_count": 41,
      "metadata": {
        "id": "ZOEfqN7FtvI8"
      },
      "outputs": [],
      "source": [
        "inputs = all_data[len(all_data) - len(valid)-90:].values\n",
        "inputs = inputs.reshape(-1,1)\n",
        "inputs  = scaler.transform(inputs)\n",
        "inputs.shape\n",
        "X_test = []\n",
        "for i in range(90, inputs.shape[0]):\n",
        "    X_test.append(inputs[i-90:i,0])\n",
        "X_test = np.array(X_test)"
      ]
    },
    {
      "cell_type": "markdown",
      "metadata": {
        "id": "uJduV_KwtBOK"
      },
      "source": [
        "## Making the model"
      ]
    },
    {
      "cell_type": "code",
      "execution_count": 42,
      "metadata": {
        "id": "Lx6jo8JEtFD6"
      },
      "outputs": [],
      "source": [
        "model = Sequential()\n",
        "model.add(LSTM(units=50, return_sequences=True, input_shape=(x_train.shape[1],1)))\n",
        "model.add(Dropout(rate = 0.3))\n",
        "\n",
        "model.add(LSTM(units=50, return_sequences = True))\n",
        "model.add(Dropout(rate = 0.3))\n",
        "\n",
        "model.add(LSTM(units=50, return_sequences = True))\n",
        "model.add(Dropout(rate = 0.3))\n",
        "\n",
        "model.add(LSTM(units=50, return_sequences = False))\n",
        "model.add(Dropout(rate = 0.3))\n",
        "model.add(Dense(1))\n",
        "model.compile(loss='mean_squared_error', optimizer='adam')"
      ]
    },
    {
      "cell_type": "markdown",
      "metadata": {
        "id": "o-6aXIqotTL6"
      },
      "source": [
        "## Training the model"
      ]
    },
    {
      "cell_type": "code",
      "execution_count": 43,
      "metadata": {
        "colab": {
          "base_uri": "https://localhost:8080/"
        },
        "id": "yfHJ5kpNta-P",
        "outputId": "257b9d6d-152b-4864-9a21-6439c2f5a17d"
      },
      "outputs": [
        {
          "name": "stdout",
          "output_type": "stream",
          "text": [
            "Epoch 1/100\n",
            "15/15 [==============================] - 9s 211ms/step - loss: 0.0134\n",
            "Epoch 2/100\n",
            "15/15 [==============================] - 3s 207ms/step - loss: 0.0025\n",
            "Epoch 3/100\n",
            "15/15 [==============================] - 3s 207ms/step - loss: 0.0018\n",
            "Epoch 4/100\n",
            "15/15 [==============================] - 3s 206ms/step - loss: 0.0014\n",
            "Epoch 5/100\n",
            "15/15 [==============================] - 3s 207ms/step - loss: 0.0011\n",
            "Epoch 6/100\n",
            "15/15 [==============================] - 3s 201ms/step - loss: 0.0011\n",
            "Epoch 7/100\n",
            "15/15 [==============================] - 3s 186ms/step - loss: 0.0011\n",
            "Epoch 8/100\n",
            "15/15 [==============================] - 3s 204ms/step - loss: 9.7624e-04 1s - loss: 9.93\n",
            "Epoch 9/100\n",
            "15/15 [==============================] - 3s 204ms/step - loss: 0.0010\n",
            "Epoch 10/100\n",
            "15/15 [==============================] - 3s 199ms/step - loss: 9.9006e-04\n",
            "Epoch 11/100\n",
            "15/15 [==============================] - 3s 184ms/step - loss: 8.8193e-04\n",
            "Epoch 12/100\n",
            "15/15 [==============================] - 3s 214ms/step - loss: 8.7141e-04\n",
            "Epoch 13/100\n",
            "15/15 [==============================] - 3s 220ms/step - loss: 9.4450e-04\n",
            "Epoch 14/100\n",
            "15/15 [==============================] - 3s 217ms/step - loss: 9.8664e-04\n",
            "Epoch 15/100\n",
            "15/15 [==============================] - 3s 220ms/step - loss: 8.9896e-04\n",
            "Epoch 16/100\n",
            "15/15 [==============================] - 3s 225ms/step - loss: 8.2280e-04\n",
            "Epoch 17/100\n",
            "15/15 [==============================] - 3s 206ms/step - loss: 8.5775e-04\n",
            "Epoch 18/100\n",
            "15/15 [==============================] - 3s 218ms/step - loss: 7.8244e-04\n",
            "Epoch 19/100\n",
            "15/15 [==============================] - 3s 219ms/step - loss: 8.1478e-04\n",
            "Epoch 20/100\n",
            "15/15 [==============================] - 3s 226ms/step - loss: 9.0305e-04\n",
            "Epoch 21/100\n",
            "15/15 [==============================] - 3s 207ms/step - loss: 8.5884e-04\n",
            "Epoch 22/100\n",
            "15/15 [==============================] - 3s 209ms/step - loss: 8.1631e-04\n",
            "Epoch 23/100\n",
            "15/15 [==============================] - 3s 211ms/step - loss: 8.4361e-04\n",
            "Epoch 24/100\n",
            "15/15 [==============================] - 3s 213ms/step - loss: 8.1967e-04\n",
            "Epoch 25/100\n",
            "15/15 [==============================] - 3s 207ms/step - loss: 7.0032e-04\n",
            "Epoch 26/100\n",
            "15/15 [==============================] - 3s 222ms/step - loss: 7.0039e-04\n",
            "Epoch 27/100\n",
            "15/15 [==============================] - 3s 225ms/step - loss: 8.1199e-04\n",
            "Epoch 28/100\n",
            "15/15 [==============================] - 3s 211ms/step - loss: 8.8953e-04\n",
            "Epoch 29/100\n",
            "15/15 [==============================] - 3s 223ms/step - loss: 8.2108e-04\n",
            "Epoch 30/100\n",
            "15/15 [==============================] - 3s 218ms/step - loss: 9.1249e-04\n",
            "Epoch 31/100\n",
            "15/15 [==============================] - 3s 214ms/step - loss: 7.4410e-04\n",
            "Epoch 32/100\n",
            "15/15 [==============================] - 3s 193ms/step - loss: 7.1184e-04\n",
            "Epoch 33/100\n",
            "15/15 [==============================] - 3s 186ms/step - loss: 7.5416e-04\n",
            "Epoch 34/100\n",
            "15/15 [==============================] - 3s 218ms/step - loss: 7.4845e-04\n",
            "Epoch 35/100\n",
            "15/15 [==============================] - 3s 222ms/step - loss: 6.8075e-04\n",
            "Epoch 36/100\n",
            "15/15 [==============================] - 3s 227ms/step - loss: 6.5609e-04\n",
            "Epoch 37/100\n",
            "15/15 [==============================] - 3s 234ms/step - loss: 5.8830e-04\n",
            "Epoch 38/100\n",
            "15/15 [==============================] - 3s 228ms/step - loss: 6.6196e-04\n",
            "Epoch 39/100\n",
            "15/15 [==============================] - 3s 230ms/step - loss: 7.0568e-04\n",
            "Epoch 40/100\n",
            "15/15 [==============================] - 4s 241ms/step - loss: 6.5958e-04\n",
            "Epoch 41/100\n",
            "15/15 [==============================] - 3s 224ms/step - loss: 7.0471e-04\n",
            "Epoch 42/100\n",
            "15/15 [==============================] - 4s 274ms/step - loss: 7.4250e-04\n",
            "Epoch 43/100\n",
            "15/15 [==============================] - 4s 248ms/step - loss: 7.6349e-04\n",
            "Epoch 44/100\n",
            "15/15 [==============================] - 4s 245ms/step - loss: 6.7579e-04\n",
            "Epoch 45/100\n",
            "15/15 [==============================] - 4s 242ms/step - loss: 6.3075e-04\n",
            "Epoch 46/100\n",
            "15/15 [==============================] - 4s 253ms/step - loss: 7.2305e-04\n",
            "Epoch 47/100\n",
            "15/15 [==============================] - 4s 240ms/step - loss: 6.7680e-04\n",
            "Epoch 48/100\n",
            "15/15 [==============================] - 4s 253ms/step - loss: 7.2806e-04\n",
            "Epoch 49/100\n",
            "15/15 [==============================] - 4s 255ms/step - loss: 6.5332e-04\n",
            "Epoch 50/100\n",
            "15/15 [==============================] - 4s 261ms/step - loss: 5.9452e-04\n",
            "Epoch 51/100\n",
            "15/15 [==============================] - 4s 247ms/step - loss: 6.1457e-04\n",
            "Epoch 52/100\n",
            "15/15 [==============================] - 4s 247ms/step - loss: 5.3770e-04\n",
            "Epoch 53/100\n",
            "15/15 [==============================] - 4s 252ms/step - loss: 5.9353e-04\n",
            "Epoch 54/100\n",
            "15/15 [==============================] - 4s 255ms/step - loss: 5.6680e-04\n",
            "Epoch 55/100\n",
            "15/15 [==============================] - 4s 245ms/step - loss: 6.8048e-04\n",
            "Epoch 56/100\n",
            "15/15 [==============================] - 4s 253ms/step - loss: 5.6977e-04\n",
            "Epoch 57/100\n",
            "15/15 [==============================] - 4s 242ms/step - loss: 6.4054e-04\n",
            "Epoch 58/100\n",
            "15/15 [==============================] - 4s 258ms/step - loss: 6.4850e-04\n",
            "Epoch 59/100\n",
            "15/15 [==============================] - 4s 247ms/step - loss: 5.5301e-04\n",
            "Epoch 60/100\n",
            "15/15 [==============================] - 4s 252ms/step - loss: 5.7074e-04\n",
            "Epoch 61/100\n",
            "15/15 [==============================] - 4s 277ms/step - loss: 6.7177e-04\n",
            "Epoch 62/100\n",
            "15/15 [==============================] - 4s 255ms/step - loss: 6.0505e-04\n",
            "Epoch 63/100\n",
            "15/15 [==============================] - 4s 270ms/step - loss: 5.7000e-04\n",
            "Epoch 64/100\n",
            "15/15 [==============================] - 4s 260ms/step - loss: 6.3927e-04\n",
            "Epoch 65/100\n",
            "15/15 [==============================] - 4s 246ms/step - loss: 5.9841e-04\n",
            "Epoch 66/100\n",
            "15/15 [==============================] - 4s 256ms/step - loss: 6.0969e-04\n",
            "Epoch 67/100\n",
            "15/15 [==============================] - 4s 261ms/step - loss: 5.9210e-04\n",
            "Epoch 68/100\n",
            "15/15 [==============================] - 4s 247ms/step - loss: 6.5087e-04\n",
            "Epoch 69/100\n",
            "15/15 [==============================] - 3s 228ms/step - loss: 6.0312e-04\n",
            "Epoch 70/100\n",
            "15/15 [==============================] - 4s 244ms/step - loss: 6.4928e-04\n",
            "Epoch 71/100\n",
            "15/15 [==============================] - 4s 263ms/step - loss: 5.8168e-04\n",
            "Epoch 72/100\n",
            "15/15 [==============================] - 4s 243ms/step - loss: 5.6240e-04\n",
            "Epoch 73/100\n",
            "15/15 [==============================] - 3s 232ms/step - loss: 5.7970e-04\n",
            "Epoch 74/100\n",
            "15/15 [==============================] - 4s 238ms/step - loss: 5.3279e-04\n",
            "Epoch 75/100\n",
            "15/15 [==============================] - 4s 278ms/step - loss: 5.6361e-04\n",
            "Epoch 76/100\n",
            "15/15 [==============================] - 4s 258ms/step - loss: 5.1579e-04\n",
            "Epoch 77/100\n",
            "15/15 [==============================] - 4s 270ms/step - loss: 4.9385e-04\n",
            "Epoch 78/100\n",
            "15/15 [==============================] - 4s 247ms/step - loss: 4.8427e-04\n",
            "Epoch 79/100\n",
            "15/15 [==============================] - 4s 261ms/step - loss: 5.3972e-04\n",
            "Epoch 80/100\n",
            "15/15 [==============================] - 4s 260ms/step - loss: 5.6659e-04\n",
            "Epoch 81/100\n",
            "15/15 [==============================] - 3s 227ms/step - loss: 5.8125e-04\n",
            "Epoch 82/100\n",
            "15/15 [==============================] - 3s 226ms/step - loss: 6.1012e-04\n",
            "Epoch 83/100\n",
            "15/15 [==============================] - 4s 236ms/step - loss: 5.3763e-04\n",
            "Epoch 84/100\n",
            "15/15 [==============================] - 4s 247ms/step - loss: 5.2673e-04\n",
            "Epoch 85/100\n",
            "15/15 [==============================] - 3s 231ms/step - loss: 4.8826e-04\n",
            "Epoch 86/100\n",
            "15/15 [==============================] - 3s 232ms/step - loss: 5.5976e-04\n",
            "Epoch 87/100\n",
            "15/15 [==============================] - 4s 242ms/step - loss: 5.2412e-04\n",
            "Epoch 88/100\n",
            "15/15 [==============================] - 4s 234ms/step - loss: 5.6127e-04\n",
            "Epoch 89/100\n",
            "15/15 [==============================] - 3s 228ms/step - loss: 5.5183e-04\n",
            "Epoch 90/100\n",
            "15/15 [==============================] - 4s 235ms/step - loss: 5.7425e-04\n",
            "Epoch 91/100\n",
            "15/15 [==============================] - 3s 227ms/step - loss: 5.0862e-04\n",
            "Epoch 92/100\n",
            "15/15 [==============================] - 3s 226ms/step - loss: 5.5915e-04\n",
            "Epoch 93/100\n",
            "15/15 [==============================] - 3s 229ms/step - loss: 5.7374e-04\n",
            "Epoch 94/100\n",
            "15/15 [==============================] - 4s 235ms/step - loss: 5.2601e-04\n",
            "Epoch 95/100\n",
            "15/15 [==============================] - 3s 228ms/step - loss: 5.0274e-04\n",
            "Epoch 96/100\n",
            "15/15 [==============================] - 3s 224ms/step - loss: 5.5913e-04\n",
            "Epoch 97/100\n",
            "15/15 [==============================] - 4s 233ms/step - loss: 4.6971e-04\n",
            "Epoch 98/100\n",
            "15/15 [==============================] - 3s 227ms/step - loss: 4.9532e-04\n",
            "Epoch 99/100\n",
            "15/15 [==============================] - 4s 235ms/step - loss: 5.4068e-04\n",
            "Epoch 100/100\n",
            "15/15 [==============================] - 3s 229ms/step - loss: 4.9894e-04\n"
          ]
        },
        {
          "data": {
            "text/plain": [
              "<keras.callbacks.History at 0x7f7a540445b0>"
            ]
          },
          "execution_count": 43,
          "metadata": {},
          "output_type": "execute_result"
        }
      ],
      "source": [
        "model.fit(x_train, y_train, epochs=100, batch_size=128, verbose=1)"
      ]
    },
    {
      "cell_type": "code",
      "execution_count": 44,
      "metadata": {
        "id": "wIsG10oOz4-d"
      },
      "outputs": [],
      "source": [
        "X_test = np.reshape(X_test, (X_test.shape[0], X_test.shape[1],1))\n",
        "preds = model.predict(X_test)\n",
        "preds = scaler.inverse_transform(preds)\n",
        "\n",
        "# print(X_test)"
      ]
    },
    {
      "cell_type": "code",
      "execution_count": 45,
      "metadata": {
        "colab": {
          "base_uri": "https://localhost:8080/"
        },
        "id": "gfF0mZr10En5",
        "outputId": "fd33511a-d6d3-49b6-b43e-270dec4dd022"
      },
      "outputs": [
        {
          "name": "stdout",
          "output_type": "stream",
          "text": [
            "(603, 1)\n"
          ]
        }
      ],
      "source": [
        "print(preds.shape)"
      ]
    },
    {
      "cell_type": "code",
      "execution_count": 46,
      "metadata": {
        "colab": {
          "base_uri": "https://localhost:8080/"
        },
        "id": "8JKPb6Co2qXA",
        "outputId": "8d48b327-6ed5-4803-b7a9-417a6cba62f5"
      },
      "outputs": [
        {
          "name": "stdout",
          "output_type": "stream",
          "text": [
            "(603, 1)\n"
          ]
        }
      ],
      "source": [
        "print(valid.shape)"
      ]
    },
    {
      "cell_type": "code",
      "execution_count": 47,
      "metadata": {
        "colab": {
          "base_uri": "https://localhost:8080/"
        },
        "id": "OuTHrJImMSHp",
        "outputId": "803006ff-0e3e-48b2-996f-64654456240e"
      },
      "outputs": [
        {
          "name": "stdout",
          "output_type": "stream",
          "text": [
            "[2328.139893] [2645.2585]\n"
          ]
        }
      ],
      "source": [
        "print(valid[-1],preds[-1])"
      ]
    },
    {
      "cell_type": "markdown",
      "metadata": {},
      "source": [
        "## Results"
      ]
    },
    {
      "cell_type": "code",
      "execution_count": 48,
      "metadata": {
        "id": "F3Qa3Vv20gPQ"
      },
      "outputs": [
        {
          "data": {
            "text/plain": [
              "321.82353655392086"
            ]
          },
          "execution_count": 48,
          "metadata": {},
          "output_type": "execute_result"
        }
      ],
      "source": [
        "rms=np.sqrt(np.mean(np.power((valid-preds),2)))\n",
        "rms"
      ]
    },
    {
      "cell_type": "code",
      "execution_count": 51,
      "metadata": {
        "colab": {
          "base_uri": "https://localhost:8080/",
          "height": 600
        },
        "id": "yyxx-IxC19to",
        "outputId": "b91cc3eb-f85c-4db2-aca9-be58d9f75a10"
      },
      "outputs": [
        {
          "name": "stderr",
          "output_type": "stream",
          "text": [
            "/tmp/ipykernel_11003/3655449250.py:3: SettingWithCopyWarning: \n",
            "A value is trying to be set on a copy of a slice from a DataFrame.\n",
            "Try using .loc[row_indexer,col_indexer] = value instead\n",
            "\n",
            "See the caveats in the documentation: https://pandas.pydata.org/pandas-docs/stable/user_guide/indexing.html#returning-a-view-versus-a-copy\n",
            "  valid['Predictions'] = preds\n"
          ]
        },
        {
          "data": {
            "image/png": "[encoded data removed]",
            "text/plain": [
              "<Figure size 1440x576 with 1 Axes>"
            ]
          },
          "metadata": {},
          "output_type": "display_data"
        }
      ],
      "source": [
        "train = all_data[0:2000]\n",
        "valid = all_data[2000:]\n",
        "valid['Predictions'] = preds\n",
        "plt.figure(figsize=(20,8))\n",
        "plt.plot(train['Close'])\n",
        "plt.plot(valid['Close'], color = 'red', label = 'Real Price')\n",
        "plt.plot(valid['Predictions'], color = 'blue', label = 'Predicted Price')\n",
        "plt.title('Amazon price prediction')\n",
        "plt.legend()\n",
        "plt.show()"
      ]
    },
    {
      "cell_type": "code",
      "execution_count": 52,
      "metadata": {},
      "outputs": [],
      "source": [
        "valid.to_csv('output/preds_no_sent.csv')"
      ]
    },
    {
      "cell_type": "code",
      "execution_count": null,
      "metadata": {
        "id": "YxLDvotHXOcf"
      },
      "outputs": [],
      "source": [
        "from keras.models import load_model\n",
        "model.save('AMZN.h5')  # creates a HDF5 file "
      ]
    }
  ],
  "metadata": {
    "colab": {
      "authorship_tag": "ABX9TyMnx7F+rr7ym0L12246I+Di",
      "collapsed_sections": [],
      "include_colab_link": true,
      "name": "Stock Market.ipynb",
      "provenance": []
    },
    "kernelspec": {
      "display_name": "Python 3",
      "name": "python3"
    },
    "language_info": {
      "codemirror_mode": {
        "name": "ipython",
        "version": 3
      },
      "file_extension": ".py",
      "mimetype": "text/x-python",
      "name": "python",
      "nbconvert_exporter": "python",
      "pygments_lexer": "ipython3",
      "version": "3.9.5"
    }
  },
  "nbformat": 4,
  "nbformat_minor": 0
}
