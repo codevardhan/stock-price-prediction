{
  "cells": [
    {
      "cell_type": "markdown",
      "metadata": {},
      "source": [
        "## Import Libraries\n"
      ]
    },
    {
      "cell_type": "code",
      "execution_count": 1,
      "metadata": {
        "id": "_fHYbsgACOU2"
      },
      "outputs": [],
      "source": [
        "import numpy as np \n",
        "import pandas as pd \n",
        "import os\n",
        "\n",
        "import datetime as dt\n",
        "from datetime import datetime\n",
        "\n",
        "import matplotlib.pyplot as plt\n",
        "plt.style.use('ggplot')\n",
        "\n",
        "import numpy as np\n",
        "\n",
        "from sklearn.preprocessing import MinMaxScaler\n",
        "\n",
        "### Create the Stacked LSTM model\n",
        "from tensorflow.keras.models import Sequential\n",
        "from tensorflow.keras.layers import Dense\n",
        "from tensorflow.keras.layers import LSTM\n",
        "from keras.layers import Dropout"
      ]
    },
    {
      "cell_type": "markdown",
      "metadata": {},
      "source": [
        "## Loading Stock Data"
      ]
    },
    {
      "cell_type": "markdown",
      "metadata": {
        "id": "kwVO_ar3Jsv-"
      },
      "source": [
        "The dataset is taken from https://in.finance.yahoo.com/ . Any stock dataset you want to add in the website can be taken from the website given above then traing the model on that dataset"
      ]
    },
    {
      "cell_type": "code",
      "execution_count": 2,
      "metadata": {
        "id": "FmXZfUymqmo9"
      },
      "outputs": [],
      "source": [
        "data = './data/AMZN.csv'"
      ]
    },
    {
      "cell_type": "code",
      "execution_count": 3,
      "metadata": {
        "colab": {
          "base_uri": "https://localhost:8080/",
          "height": 206
        },
        "id": "sg8IEYzgpk1n",
        "outputId": "df5a6ff1-d9f6-4fd2-ea3f-96176dc34cde"
      },
      "outputs": [
        {
          "data": {
            "text/html": [
              "<div>\n",
              "<style scoped>\n",
              "    .dataframe tbody tr th:only-of-type {\n",
              "        vertical-align: middle;\n",
              "    }\n",
              "\n",
              "    .dataframe tbody tr th {\n",
              "        vertical-align: top;\n",
              "    }\n",
              "\n",
              "    .dataframe thead th {\n",
              "        text-align: right;\n",
              "    }\n",
              "</style>\n",
              "<table border=\"1\" class=\"dataframe\">\n",
              "  <thead>\n",
              "    <tr style=\"text-align: right;\">\n",
              "      <th></th>\n",
              "      <th>Date</th>\n",
              "      <th>Open</th>\n",
              "      <th>High</th>\n",
              "      <th>Low</th>\n",
              "      <th>Close</th>\n",
              "      <th>Adj Close</th>\n",
              "      <th>Volume</th>\n",
              "    </tr>\n",
              "  </thead>\n",
              "  <tbody>\n",
              "    <tr>\n",
              "      <th>0</th>\n",
              "      <td>2000-01-03</td>\n",
              "      <td>81.5000</td>\n",
              "      <td>89.5625</td>\n",
              "      <td>79.046875</td>\n",
              "      <td>89.3750</td>\n",
              "      <td>89.3750</td>\n",
              "      <td>16117600</td>\n",
              "    </tr>\n",
              "    <tr>\n",
              "      <th>1</th>\n",
              "      <td>2000-01-04</td>\n",
              "      <td>85.3750</td>\n",
              "      <td>91.5000</td>\n",
              "      <td>81.750000</td>\n",
              "      <td>81.9375</td>\n",
              "      <td>81.9375</td>\n",
              "      <td>17487400</td>\n",
              "    </tr>\n",
              "    <tr>\n",
              "      <th>2</th>\n",
              "      <td>2000-01-05</td>\n",
              "      <td>70.5000</td>\n",
              "      <td>75.1250</td>\n",
              "      <td>68.000000</td>\n",
              "      <td>69.7500</td>\n",
              "      <td>69.7500</td>\n",
              "      <td>38457400</td>\n",
              "    </tr>\n",
              "    <tr>\n",
              "      <th>3</th>\n",
              "      <td>2000-01-06</td>\n",
              "      <td>71.3125</td>\n",
              "      <td>72.6875</td>\n",
              "      <td>64.000000</td>\n",
              "      <td>65.5625</td>\n",
              "      <td>65.5625</td>\n",
              "      <td>18752000</td>\n",
              "    </tr>\n",
              "    <tr>\n",
              "      <th>4</th>\n",
              "      <td>2000-01-07</td>\n",
              "      <td>67.0000</td>\n",
              "      <td>70.5000</td>\n",
              "      <td>66.187500</td>\n",
              "      <td>69.5625</td>\n",
              "      <td>69.5625</td>\n",
              "      <td>10505400</td>\n",
              "    </tr>\n",
              "  </tbody>\n",
              "</table>\n",
              "</div>"
            ],
            "text/plain": [
              "         Date     Open     High        Low    Close  Adj Close    Volume\n",
              "0  2000-01-03  81.5000  89.5625  79.046875  89.3750    89.3750  16117600\n",
              "1  2000-01-04  85.3750  91.5000  81.750000  81.9375    81.9375  17487400\n",
              "2  2000-01-05  70.5000  75.1250  68.000000  69.7500    69.7500  38457400\n",
              "3  2000-01-06  71.3125  72.6875  64.000000  65.5625    65.5625  18752000\n",
              "4  2000-01-07  67.0000  70.5000  66.187500  69.5625    69.5625  10505400"
            ]
          },
          "execution_count": 3,
          "metadata": {},
          "output_type": "execute_result"
        }
      ],
      "source": [
        "df = pd.read_csv(data)\n",
        "df.head()"
      ]
    },
    {
      "cell_type": "code",
      "execution_count": 9,
      "metadata": {
        "colab": {
          "base_uri": "https://localhost:8080/",
          "height": 496
        },
        "id": "U5OE4RCUqPfB",
        "outputId": "fd9c2e9d-53b2-4d68-eeb4-6a8fd9760ce1"
      },
      "outputs": [
        {
          "data": {
            "text/plain": [
              "<matplotlib.legend.Legend at 0x7f6491b89e80>"
            ]
          },
          "execution_count": 9,
          "metadata": {},
          "output_type": "execute_result"
        },
        {
          "data": {
            "image/png": "[encoded data removed]",
            "text/plain": [
              "<Figure size 1440x576 with 1 Axes>"
            ]
          },
          "metadata": {},
          "output_type": "display_data"
        }
      ],
      "source": [
        "df['Date'] = pd.to_datetime(df.Date,format='%Y-%m-%d')\n",
        "df.index = df['Date']\n",
        "plt.figure(figsize=(20,8))\n",
        "plt.plot(df['Close'], label='Close Price')\n",
        "plt.xlabel('Year')\n",
        "plt.ylabel('Close Price') \n",
        "plt.title('Close Price')\n",
        "plt.legend() "
      ]
    },
    {
      "cell_type": "code",
      "execution_count": 10,
      "metadata": {
        "colab": {
          "base_uri": "https://localhost:8080/"
        },
        "id": "jEfp7Vqrq-_h",
        "outputId": "d67d150e-cde9-401d-a096-611641cef9d6"
      },
      "outputs": [
        {
          "name": "stderr",
          "output_type": "stream",
          "text": [
            "/home/codevardhan/.env-list/mach-env/lib/python3.9/site-packages/pandas/core/frame.py:4906: SettingWithCopyWarning: \n",
            "A value is trying to be set on a copy of a slice from a DataFrame\n",
            "\n",
            "See the caveats in the documentation: https://pandas.pydata.org/pandas-docs/stable/user_guide/indexing.html#returning-a-view-versus-a-copy\n",
            "  return super().drop(\n"
          ]
        }
      ],
      "source": [
        "features = [\"Date\", \"Close\"]\n",
        "all_data = df[features]\n",
        "all_data.index = all_data.Date\n",
        "all_data.drop('Date', axis=1, inplace=True)"
      ]
    },
    {
      "cell_type": "code",
      "execution_count": 11,
      "metadata": {
        "colab": {
          "base_uri": "https://localhost:8080/"
        },
        "id": "EW8N4Tq0rfev",
        "outputId": "ee3de299-136a-4008-b72a-e002f9da2cad"
      },
      "outputs": [
        {
          "data": {
            "text/plain": [
              "(5283, 1)"
            ]
          },
          "execution_count": 11,
          "metadata": {},
          "output_type": "execute_result"
        }
      ],
      "source": [
        "all_data.head()\n",
        "all_data.shape"
      ]
    },
    {
      "cell_type": "markdown",
      "metadata": {},
      "source": [
        "## Pre-processing Stock Data"
      ]
    },
    {
      "cell_type": "code",
      "execution_count": 12,
      "metadata": {
        "id": "QO-hyLkJrnZi"
      },
      "outputs": [],
      "source": [
        "dataset = all_data.values\n",
        "train = dataset[2000:4500,:]\n",
        "valid = dataset[4500:,:]"
      ]
    },
    {
      "cell_type": "code",
      "execution_count": 13,
      "metadata": {
        "id": "0CfxMyGcrttd"
      },
      "outputs": [],
      "source": [
        "scaler = MinMaxScaler(feature_range=(0, 1))\n",
        "scaled_data = scaler.fit_transform(dataset)"
      ]
    },
    {
      "cell_type": "code",
      "execution_count": 14,
      "metadata": {
        "id": "D1tt-6lTr1pw"
      },
      "outputs": [],
      "source": [
        "x_train, y_train = [], []\n",
        "for i in range(90,len(train)):\n",
        "    x_train.append(scaled_data[i-90:i,0])\n",
        "    y_train.append(scaled_data[i,0])\n",
        "x_train, y_train = np.array(x_train), np.array(y_train)\n",
        "#we take the 90 days dataset and predict the 91st day\n",
        "#Code for making csv for it will be reflected during the presentation part where\n",
        "#We created a front end and backend to use the model we made here"
      ]
    },
    {
      "cell_type": "code",
      "execution_count": 19,
      "metadata": {
        "id": "0YlDmqJMsiLI"
      },
      "outputs": [],
      "source": [
        "x_train = np.reshape(x_train, (x_train.shape[0],x_train.shape[1],1))"
      ]
    },
    {
      "cell_type": "code",
      "execution_count": 20,
      "metadata": {
        "id": "ZOEfqN7FtvI8"
      },
      "outputs": [],
      "source": [
        "inputs = all_data[len(all_data) - len(valid)-90:].values\n",
        "inputs = inputs.reshape(-1,1)\n",
        "inputs  = scaler.transform(inputs)\n",
        "inputs.shape\n",
        "X_test = []\n",
        "for i in range(90,inputs.shape[0]):\n",
        "    X_test.append(inputs[i-90:i,0])\n",
        "X_test = np.array(X_test)"
      ]
    },
    {
      "cell_type": "markdown",
      "metadata": {
        "id": "uJduV_KwtBOK"
      },
      "source": [
        "## Making the model"
      ]
    },
    {
      "cell_type": "markdown",
      "metadata": {},
      "source": [
        "\n",
        "Initializing the LSTM model and 2nd, 3rd and 4th LSTM layer each with a Dropout Layer. The layers contain 50 neurons and with a Dropout rate of 20%, twenty percent of 50 neurons will be ignored randomly during each iteration\n",
        "\n",
        "Finally, an output layer is added with 1 as an output dimension (as we are predicting the close price)\n",
        "\n",
        "\n",
        "We use Stochastic Gradient Descent algorithm to compile the model and use mean squared error ad loss function"
      ]
    },
    {
      "cell_type": "code",
      "execution_count": 21,
      "metadata": {
        "id": "Lx6jo8JEtFD6"
      },
      "outputs": [],
      "source": [
        "model = Sequential()\n",
        "model.add(LSTM(units=50, return_sequences=True, input_shape=(x_train.shape[1],1)))\n",
        "model.add(Dropout(rate = 0.3))\n",
        "\n",
        "model.add(LSTM(units=50, return_sequences = True))\n",
        "model.add(Dropout(rate = 0.3))\n",
        "\n",
        "model.add(LSTM(units=50, return_sequences = True))\n",
        "model.add(Dropout(rate = 0.3))\n",
        "\n",
        "model.add(LSTM(units=50, return_sequences = False))\n",
        "model.add(Dropout(rate = 0.3))\n",
        "model.add(Dense(1))\n",
        "model.compile(loss='mean_squared_error', optimizer='adam')\n",
        "#we use standard adam's optimizer"
      ]
    },
    {
      "cell_type": "markdown",
      "metadata": {
        "id": "o-6aXIqotTL6"
      },
      "source": [
        "## Training the model"
      ]
    },
    {
      "cell_type": "code",
      "execution_count": 22,
      "metadata": {
        "colab": {
          "base_uri": "https://localhost:8080/"
        },
        "id": "yfHJ5kpNta-P",
        "outputId": "257b9d6d-152b-4864-9a21-6439c2f5a17d"
      },
      "outputs": [
        {
          "name": "stdout",
          "output_type": "stream",
          "text": [
            "Epoch 1/100\n",
            "19/19 [==============================] - 5s 21ms/step - loss: 7.2407e-05\n",
            "Epoch 2/100\n",
            "19/19 [==============================] - 0s 15ms/step - loss: 2.2689e-05\n",
            "Epoch 3/100\n",
            "19/19 [==============================] - 0s 16ms/step - loss: 7.2386e-06\n",
            "Epoch 4/100\n",
            "19/19 [==============================] - 0s 15ms/step - loss: 5.3153e-06\n",
            "Epoch 5/100\n",
            "19/19 [==============================] - 0s 15ms/step - loss: 4.9600e-06\n",
            "Epoch 6/100\n",
            "19/19 [==============================] - 0s 15ms/step - loss: 4.3642e-06\n",
            "Epoch 7/100\n",
            "19/19 [==============================] - 0s 15ms/step - loss: 4.5649e-06\n",
            "Epoch 8/100\n",
            "19/19 [==============================] - 0s 15ms/step - loss: 4.8130e-06\n",
            "Epoch 9/100\n",
            "19/19 [==============================] - 0s 15ms/step - loss: 4.2431e-06\n",
            "Epoch 10/100\n",
            "19/19 [==============================] - 0s 15ms/step - loss: 4.0493e-06\n",
            "Epoch 11/100\n",
            "19/19 [==============================] - 0s 15ms/step - loss: 3.8127e-06\n",
            "Epoch 12/100\n",
            "19/19 [==============================] - 0s 15ms/step - loss: 3.5958e-06\n",
            "Epoch 13/100\n",
            "19/19 [==============================] - 0s 15ms/step - loss: 3.4143e-06\n",
            "Epoch 14/100\n",
            "19/19 [==============================] - 0s 15ms/step - loss: 4.1814e-06\n",
            "Epoch 15/100\n",
            "19/19 [==============================] - 0s 15ms/step - loss: 3.2409e-06\n",
            "Epoch 16/100\n",
            "19/19 [==============================] - 0s 15ms/step - loss: 4.1503e-06\n",
            "Epoch 17/100\n",
            "19/19 [==============================] - 0s 15ms/step - loss: 3.7362e-06\n",
            "Epoch 18/100\n",
            "19/19 [==============================] - 0s 15ms/step - loss: 3.0717e-06\n",
            "Epoch 19/100\n",
            "19/19 [==============================] - 0s 15ms/step - loss: 3.5291e-06\n",
            "Epoch 20/100\n",
            "19/19 [==============================] - 0s 15ms/step - loss: 3.3083e-06\n",
            "Epoch 21/100\n",
            "19/19 [==============================] - 0s 15ms/step - loss: 3.8800e-06\n",
            "Epoch 22/100\n",
            "19/19 [==============================] - 0s 15ms/step - loss: 2.7645e-06\n",
            "Epoch 23/100\n",
            "19/19 [==============================] - 0s 15ms/step - loss: 3.3789e-06\n",
            "Epoch 24/100\n",
            "19/19 [==============================] - 0s 15ms/step - loss: 3.4238e-06\n",
            "Epoch 25/100\n",
            "19/19 [==============================] - 0s 15ms/step - loss: 3.1071e-06\n",
            "Epoch 26/100\n",
            "19/19 [==============================] - 0s 15ms/step - loss: 2.9686e-06\n",
            "Epoch 27/100\n",
            "19/19 [==============================] - 0s 15ms/step - loss: 3.1811e-06\n",
            "Epoch 28/100\n",
            "19/19 [==============================] - 0s 15ms/step - loss: 3.2029e-06\n",
            "Epoch 29/100\n",
            "19/19 [==============================] - 0s 15ms/step - loss: 2.7638e-06\n",
            "Epoch 30/100\n",
            "19/19 [==============================] - 0s 15ms/step - loss: 3.0418e-06\n",
            "Epoch 31/100\n",
            "19/19 [==============================] - 0s 17ms/step - loss: 3.3573e-06\n",
            "Epoch 32/100\n",
            "19/19 [==============================] - 0s 15ms/step - loss: 3.0838e-06\n",
            "Epoch 33/100\n",
            "19/19 [==============================] - 0s 15ms/step - loss: 2.6519e-06\n",
            "Epoch 34/100\n",
            "19/19 [==============================] - 0s 15ms/step - loss: 2.7055e-06\n",
            "Epoch 35/100\n",
            "19/19 [==============================] - 0s 15ms/step - loss: 2.9169e-06\n",
            "Epoch 36/100\n",
            "19/19 [==============================] - 0s 15ms/step - loss: 2.8884e-06\n",
            "Epoch 37/100\n",
            "19/19 [==============================] - 0s 15ms/step - loss: 2.6083e-06\n",
            "Epoch 38/100\n",
            "19/19 [==============================] - 0s 15ms/step - loss: 2.5916e-06\n",
            "Epoch 39/100\n",
            "19/19 [==============================] - 0s 18ms/step - loss: 2.8712e-06\n",
            "Epoch 40/100\n",
            "19/19 [==============================] - 0s 15ms/step - loss: 2.5962e-06\n",
            "Epoch 41/100\n",
            "19/19 [==============================] - 0s 15ms/step - loss: 2.3195e-06\n",
            "Epoch 42/100\n",
            "19/19 [==============================] - 0s 15ms/step - loss: 2.4639e-06\n",
            "Epoch 43/100\n",
            "19/19 [==============================] - 0s 16ms/step - loss: 2.6524e-06\n",
            "Epoch 44/100\n",
            "19/19 [==============================] - 0s 15ms/step - loss: 4.4988e-06\n",
            "Epoch 45/100\n",
            "19/19 [==============================] - 0s 15ms/step - loss: 3.7329e-06\n",
            "Epoch 46/100\n",
            "19/19 [==============================] - 0s 15ms/step - loss: 2.5835e-06\n",
            "Epoch 47/100\n",
            "19/19 [==============================] - 0s 15ms/step - loss: 2.5644e-06\n",
            "Epoch 48/100\n",
            "19/19 [==============================] - 0s 15ms/step - loss: 2.8080e-06\n",
            "Epoch 49/100\n",
            "19/19 [==============================] - 0s 15ms/step - loss: 2.3979e-06\n",
            "Epoch 50/100\n",
            "19/19 [==============================] - 0s 15ms/step - loss: 2.3010e-06\n",
            "Epoch 51/100\n",
            "19/19 [==============================] - 0s 16ms/step - loss: 2.5213e-06\n",
            "Epoch 52/100\n",
            "19/19 [==============================] - 0s 15ms/step - loss: 2.8831e-06\n",
            "Epoch 53/100\n",
            "19/19 [==============================] - 0s 15ms/step - loss: 2.4140e-06\n",
            "Epoch 54/100\n",
            "19/19 [==============================] - 0s 15ms/step - loss: 2.2471e-06\n",
            "Epoch 55/100\n",
            "19/19 [==============================] - 0s 15ms/step - loss: 2.5558e-06\n",
            "Epoch 56/100\n",
            "19/19 [==============================] - 0s 15ms/step - loss: 2.9012e-06\n",
            "Epoch 57/100\n",
            "19/19 [==============================] - 0s 16ms/step - loss: 2.8110e-06\n",
            "Epoch 58/100\n",
            "19/19 [==============================] - 0s 15ms/step - loss: 2.2899e-06\n",
            "Epoch 59/100\n",
            "19/19 [==============================] - 0s 15ms/step - loss: 2.2630e-06\n",
            "Epoch 60/100\n",
            "19/19 [==============================] - 0s 15ms/step - loss: 2.4215e-06\n",
            "Epoch 61/100\n",
            "19/19 [==============================] - 0s 15ms/step - loss: 2.3100e-06\n",
            "Epoch 62/100\n",
            "19/19 [==============================] - 0s 15ms/step - loss: 2.1292e-06\n",
            "Epoch 63/100\n",
            "19/19 [==============================] - 0s 15ms/step - loss: 2.0381e-06\n",
            "Epoch 64/100\n",
            "19/19 [==============================] - 0s 16ms/step - loss: 2.3934e-06\n",
            "Epoch 65/100\n",
            "19/19 [==============================] - 0s 15ms/step - loss: 3.1537e-06\n",
            "Epoch 66/100\n",
            "19/19 [==============================] - 0s 15ms/step - loss: 3.5262e-06\n",
            "Epoch 67/100\n",
            "19/19 [==============================] - 0s 15ms/step - loss: 2.5412e-06\n",
            "Epoch 68/100\n",
            "19/19 [==============================] - 0s 15ms/step - loss: 2.2714e-06: 0s - loss: 2.3591e-\n",
            "Epoch 69/100\n",
            "19/19 [==============================] - 0s 16ms/step - loss: 2.2385e-06\n",
            "Epoch 70/100\n",
            "19/19 [==============================] - 0s 15ms/step - loss: 2.2170e-06\n",
            "Epoch 71/100\n",
            "19/19 [==============================] - 0s 15ms/step - loss: 2.2560e-06\n",
            "Epoch 72/100\n",
            "19/19 [==============================] - 0s 15ms/step - loss: 3.1940e-06\n",
            "Epoch 73/100\n",
            "19/19 [==============================] - 0s 15ms/step - loss: 2.4235e-06\n",
            "Epoch 74/100\n",
            "19/19 [==============================] - 0s 15ms/step - loss: 2.5879e-06\n",
            "Epoch 75/100\n",
            "19/19 [==============================] - 0s 15ms/step - loss: 2.6841e-06\n",
            "Epoch 76/100\n",
            "19/19 [==============================] - 0s 15ms/step - loss: 2.1234e-06\n",
            "Epoch 77/100\n",
            "19/19 [==============================] - 0s 15ms/step - loss: 2.1050e-06\n",
            "Epoch 78/100\n",
            "19/19 [==============================] - 0s 16ms/step - loss: 2.0174e-06\n",
            "Epoch 79/100\n",
            "19/19 [==============================] - 0s 15ms/step - loss: 2.1158e-06\n",
            "Epoch 80/100\n",
            "19/19 [==============================] - 0s 18ms/step - loss: 2.1762e-06\n",
            "Epoch 81/100\n",
            "19/19 [==============================] - 0s 21ms/step - loss: 2.2856e-06\n",
            "Epoch 82/100\n",
            "19/19 [==============================] - 0s 16ms/step - loss: 2.3103e-06\n",
            "Epoch 83/100\n",
            "19/19 [==============================] - 0s 16ms/step - loss: 2.1569e-06\n",
            "Epoch 84/100\n",
            "19/19 [==============================] - 0s 20ms/step - loss: 2.5572e-06\n",
            "Epoch 85/100\n",
            "19/19 [==============================] - 0s 20ms/step - loss: 2.3422e-06\n",
            "Epoch 86/100\n",
            "19/19 [==============================] - 0s 16ms/step - loss: 2.0639e-06\n",
            "Epoch 87/100\n",
            "19/19 [==============================] - 0s 17ms/step - loss: 2.2059e-06\n",
            "Epoch 88/100\n",
            "19/19 [==============================] - 0s 16ms/step - loss: 2.3799e-06\n",
            "Epoch 89/100\n",
            "19/19 [==============================] - 0s 15ms/step - loss: 2.3791e-06\n",
            "Epoch 90/100\n",
            "19/19 [==============================] - 0s 15ms/step - loss: 2.1051e-06\n",
            "Epoch 91/100\n",
            "19/19 [==============================] - 0s 16ms/step - loss: 2.1032e-06\n",
            "Epoch 92/100\n",
            "19/19 [==============================] - 0s 15ms/step - loss: 2.1373e-06\n",
            "Epoch 93/100\n",
            "19/19 [==============================] - 0s 16ms/step - loss: 2.0484e-06\n",
            "Epoch 94/100\n",
            "19/19 [==============================] - 0s 16ms/step - loss: 2.0941e-06\n",
            "Epoch 95/100\n",
            "19/19 [==============================] - 0s 16ms/step - loss: 2.2951e-06\n",
            "Epoch 96/100\n",
            "19/19 [==============================] - 0s 16ms/step - loss: 1.9911e-06\n",
            "Epoch 97/100\n",
            "19/19 [==============================] - 0s 16ms/step - loss: 2.1117e-06\n",
            "Epoch 98/100\n",
            "19/19 [==============================] - 0s 16ms/step - loss: 2.2305e-06\n",
            "Epoch 99/100\n",
            "19/19 [==============================] - 0s 16ms/step - loss: 1.9483e-06\n",
            "Epoch 100/100\n",
            "19/19 [==============================] - 0s 17ms/step - loss: 2.1902e-06\n"
          ]
        },
        {
          "data": {
            "text/plain": [
              "<keras.callbacks.History at 0x7f61d0451910>"
            ]
          },
          "execution_count": 22,
          "metadata": {},
          "output_type": "execute_result"
        }
      ],
      "source": [
        "model.fit(x_train, y_train, epochs=100, batch_size=128, verbose=1)"
      ]
    },
    {
      "cell_type": "code",
      "execution_count": 23,
      "metadata": {
        "id": "wIsG10oOz4-d"
      },
      "outputs": [],
      "source": [
        "X_test = np.reshape(X_test, (X_test.shape[0],X_test.shape[1],1))\n",
        "preds = model.predict(X_test)\n",
        "preds = scaler.inverse_transform(preds)"
      ]
    },
    {
      "cell_type": "code",
      "execution_count": 24,
      "metadata": {
        "colab": {
          "base_uri": "https://localhost:8080/"
        },
        "id": "gfF0mZr10En5",
        "outputId": "fd33511a-d6d3-49b6-b43e-270dec4dd022"
      },
      "outputs": [
        {
          "name": "stdout",
          "output_type": "stream",
          "text": [
            "(783, 1)\n"
          ]
        }
      ],
      "source": [
        "print(preds.shape)"
      ]
    },
    {
      "cell_type": "code",
      "execution_count": 25,
      "metadata": {
        "colab": {
          "base_uri": "https://localhost:8080/"
        },
        "id": "8JKPb6Co2qXA",
        "outputId": "8d48b327-6ed5-4803-b7a9-417a6cba62f5"
      },
      "outputs": [
        {
          "name": "stdout",
          "output_type": "stream",
          "text": [
            "(783, 1)\n"
          ]
        }
      ],
      "source": [
        "print(valid.shape)"
      ]
    },
    {
      "cell_type": "code",
      "execution_count": 26,
      "metadata": {
        "colab": {
          "base_uri": "https://localhost:8080/"
        },
        "id": "OuTHrJImMSHp",
        "outputId": "803006ff-0e3e-48b2-996f-64654456240e"
      },
      "outputs": [
        {
          "name": "stdout",
          "output_type": "stream",
          "text": [
            "[3285.850098] [2961.966]\n"
          ]
        }
      ],
      "source": [
        "print(valid[-1],preds[-1])"
      ]
    },
    {
      "cell_type": "markdown",
      "metadata": {},
      "source": [
        "## Results"
      ]
    },
    {
      "cell_type": "code",
      "execution_count": 27,
      "metadata": {
        "id": "F3Qa3Vv20gPQ"
      },
      "outputs": [
        {
          "data": {
            "text/plain": [
              "144.16328433310358"
            ]
          },
          "execution_count": 27,
          "metadata": {},
          "output_type": "execute_result"
        }
      ],
      "source": [
        "rms=np.sqrt(np.mean(np.power((valid-preds),2)))\n",
        "rms\n",
        "# it is the standard deviation of the residuals (prediction errors)"
      ]
    },
    {
      "cell_type": "code",
      "execution_count": 28,
      "metadata": {
        "colab": {
          "base_uri": "https://localhost:8080/",
          "height": 600
        },
        "id": "yyxx-IxC19to",
        "outputId": "b91cc3eb-f85c-4db2-aca9-be58d9f75a10"
      },
      "outputs": [
        {
          "name": "stderr",
          "output_type": "stream",
          "text": [
            "/tmp/ipykernel_113918/3637043877.py:3: SettingWithCopyWarning: \n",
            "A value is trying to be set on a copy of a slice from a DataFrame.\n",
            "Try using .loc[row_indexer,col_indexer] = value instead\n",
            "\n",
            "See the caveats in the documentation: https://pandas.pydata.org/pandas-docs/stable/user_guide/indexing.html#returning-a-view-versus-a-copy\n",
            "  valid['Predictions'] = preds\n"
          ]
        },
        {
          "data": {
            "image/png": "[encoded data removed]",
            "text/plain": [
              "<Figure size 1440x576 with 1 Axes>"
            ]
          },
          "metadata": {},
          "output_type": "display_data"
        }
      ],
      "source": [
        "train = all_data[2000:4500]\n",
        "valid = all_data[4500:]\n",
        "valid['Predictions'] = preds\n",
        "plt.figure(figsize=(20,8))\n",
        "plt.plot(train['Close'])\n",
        "plt.plot(valid['Close'], color = 'blue', label = 'Real Price')\n",
        "plt.plot(valid['Predictions'], color = 'red', label = 'Predicted Price')\n",
        "plt.title('HDFCBANK price prediction')\n",
        "plt.legend()\n",
        "plt.show()"
      ]
    },
    {
      "cell_type": "code",
      "execution_count": null,
      "metadata": {
        "id": "YxLDvotHXOcf"
      },
      "outputs": [],
      "source": [
        "from keras.models import load_model\n",
        "model.save('AMZN.h5')  # creates a HDF5 file "
      ]
    }
  ],
  "metadata": {
    "colab": {
      "authorship_tag": "ABX9TyMnx7F+rr7ym0L12246I+Di",
      "collapsed_sections": [],
      "include_colab_link": true,
      "name": "Stock Market.ipynb",
      "provenance": []
    },
    "kernelspec": {
      "display_name": "Python 3",
      "name": "python3"
    },
    "language_info": {
      "codemirror_mode": {
        "name": "ipython",
        "version": 3
      },
      "file_extension": ".py",
      "mimetype": "text/x-python",
      "name": "python",
      "nbconvert_exporter": "python",
      "pygments_lexer": "ipython3",
      "version": "3.9.5"
    }
  },
  "nbformat": 4,
  "nbformat_minor": 0
}
