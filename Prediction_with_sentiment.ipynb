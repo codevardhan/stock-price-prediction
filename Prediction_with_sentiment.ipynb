{
  "cells": [
    {
      "cell_type": "markdown",
      "metadata": {},
      "source": [
        "## Import Libraries\n"
      ]
    },
    {
      "cell_type": "code",
      "execution_count": 15,
      "metadata": {
        "id": "_fHYbsgACOU2"
      },
      "outputs": [],
      "source": [
        "import numpy as np \n",
        "import pandas as pd \n",
        "import os\n",
        "\n",
        "import datetime as dt\n",
        "from datetime import datetime\n",
        "\n",
        "import matplotlib.pyplot as plt\n",
        "plt.style.use('ggplot')\n",
        "\n",
        "import numpy as np\n",
        "\n",
        "from sklearn.preprocessing import MinMaxScaler\n",
        "\n",
        "### Create the Stacked LSTM model\n",
        "from tensorflow.keras.models import Sequential\n",
        "from tensorflow.keras.layers import Dense\n",
        "from tensorflow.keras.layers import LSTM\n",
        "from keras.layers import Dropout"
      ]
    },
    {
      "cell_type": "markdown",
      "metadata": {},
      "source": [
        "## Loading Stock Data"
      ]
    },
    {
      "cell_type": "markdown",
      "metadata": {
        "id": "kwVO_ar3Jsv-"
      },
      "source": [
        "The dataset is taken from https://in.finance.yahoo.com/ . Any stock dataset you want to add in the website can be taken from the website given above then traing the model on that dataset"
      ]
    },
    {
      "cell_type": "code",
      "execution_count": null,
      "metadata": {
        "id": "FmXZfUymqmo9"
      },
      "outputs": [],
      "source": [
        "data = './data/AMZN.csv'"
      ]
    },
    {
      "cell_type": "code",
      "execution_count": null,
      "metadata": {
        "colab": {
          "base_uri": "https://localhost:8080/",
          "height": 206
        },
        "id": "sg8IEYzgpk1n",
        "outputId": "df5a6ff1-d9f6-4fd2-ea3f-96176dc34cde"
      },
      "outputs": [],
      "source": [
        "df = pd.read_csv(data)\n",
        "df.head()"
      ]
    },
    {
      "cell_type": "code",
      "execution_count": null,
      "metadata": {
        "colab": {
          "base_uri": "https://localhost:8080/",
          "height": 496
        },
        "id": "U5OE4RCUqPfB",
        "outputId": "fd9c2e9d-53b2-4d68-eeb4-6a8fd9760ce1"
      },
      "outputs": [],
      "source": [
        "df['Date'] = pd.to_datetime(df.Date,format='%Y-%m-%d')\n",
        "df.index = df['Date']\n",
        "plt.figure(figsize=(20,8))\n",
        "plt.plot(df['Close'], label='Close Price')\n",
        "plt.xlabel('Year')\n",
        "plt.ylabel('Close Price') \n",
        "plt.title('Close Price')\n",
        "plt.legend() "
      ]
    },
    {
      "cell_type": "code",
      "execution_count": null,
      "metadata": {
        "colab": {
          "base_uri": "https://localhost:8080/"
        },
        "id": "jEfp7Vqrq-_h",
        "outputId": "d67d150e-cde9-401d-a096-611641cef9d6"
      },
      "outputs": [],
      "source": [
        "features = [\"Date\", \"Close\"]\n",
        "all_data = df[features]\n",
        "all_data.index = all_data.Date\n",
        "all_data.drop('Date', axis=1, inplace=True)"
      ]
    },
    {
      "cell_type": "code",
      "execution_count": null,
      "metadata": {
        "colab": {
          "base_uri": "https://localhost:8080/"
        },
        "id": "EW8N4Tq0rfev",
        "outputId": "ee3de299-136a-4008-b72a-e002f9da2cad"
      },
      "outputs": [],
      "source": [
        "all_data.head()\n",
        "all_data.shape"
      ]
    },
    {
      "cell_type": "markdown",
      "metadata": {},
      "source": [
        "## Loading sentiment data and augmenting training data"
      ]
    },
    {
      "cell_type": "code",
      "execution_count": 11,
      "metadata": {},
      "outputs": [],
      "source": [
        "from tensorflow.keras.preprocessing.text import Tokenizer\n",
        "from tensorflow.keras.preprocessing.sequence import pad_sequences\n",
        "from tensorflow.keras.models import load_model\n",
        "import pickle"
      ]
    },
    {
      "cell_type": "code",
      "execution_count": 2,
      "metadata": {},
      "outputs": [],
      "source": [
        "tokenizer = Tokenizer()\n",
        "\n",
        "with open(\"sentiment_analysis_models/tokenizer.pkl\", \"rb\") as handle:\n",
        "    tokenizer = pickle.load(handle)"
      ]
    },
    {
      "cell_type": "code",
      "execution_count": 20,
      "metadata": {},
      "outputs": [],
      "source": [
        "# function that uses the model to predict score\n",
        "def get_score(text):\n",
        "    model = load_model(\"sentiment_analysis_models/model.h5\")\n",
        "    # Tokenize text\n",
        "    tokenized_text = pad_sequences(tokenizer.texts_to_sequences([text]), maxlen=300)\n",
        "    # Predict\n",
        "    score = model.predict([tokenized_text])[0]\n",
        "    # Decode sentiment\n",
        "    return float(score)\n",
        "    \n",
        "# print(predict(\"idk what to do\"))"
      ]
    },
    {
      "cell_type": "code",
      "execution_count": 17,
      "metadata": {},
      "outputs": [
        {
          "data": {
            "text/html": [
              "<div>\n",
              "<style scoped>\n",
              "    .dataframe tbody tr th:only-of-type {\n",
              "        vertical-align: middle;\n",
              "    }\n",
              "\n",
              "    .dataframe tbody tr th {\n",
              "        vertical-align: top;\n",
              "    }\n",
              "\n",
              "    .dataframe thead th {\n",
              "        text-align: right;\n",
              "    }\n",
              "</style>\n",
              "<table border=\"1\" class=\"dataframe\">\n",
              "  <thead>\n",
              "    <tr style=\"text-align: right;\">\n",
              "      <th></th>\n",
              "      <th>dates</th>\n",
              "      <th>data</th>\n",
              "    </tr>\n",
              "  </thead>\n",
              "  <tbody>\n",
              "    <tr>\n",
              "      <th>0</th>\n",
              "      <td>2022-04-28</td>\n",
              "      <td>of contentsunited statessecurities and exchang...</td>\n",
              "    </tr>\n",
              "    <tr>\n",
              "      <th>1</th>\n",
              "      <td>2022-04-14</td>\n",
              "      <td>form false inc xbrlishares xbrlishares table o...</td>\n",
              "    </tr>\n",
              "    <tr>\n",
              "      <th>2</th>\n",
              "      <td>2022-04-13</td>\n",
              "      <td>false united states securities and exchange co...</td>\n",
              "    </tr>\n",
              "    <tr>\n",
              "      <th>3</th>\n",
              "      <td>2022-03-09</td>\n",
              "      <td>of contentsunited statessecurities and exchang...</td>\n",
              "    </tr>\n",
              "    <tr>\n",
              "      <th>4</th>\n",
              "      <td>2022-02-03</td>\n",
              "      <td>of contentsunited statessecurities and exchang...</td>\n",
              "    </tr>\n",
              "  </tbody>\n",
              "</table>\n",
              "</div>"
            ],
            "text/plain": [
              "        dates                                               data\n",
              "0  2022-04-28  of contentsunited statessecurities and exchang...\n",
              "1  2022-04-14  form false inc xbrlishares xbrlishares table o...\n",
              "2  2022-04-13  false united states securities and exchange co...\n",
              "3  2022-03-09  of contentsunited statessecurities and exchang...\n",
              "4  2022-02-03  of contentsunited statessecurities and exchang..."
            ]
          },
          "execution_count": 17,
          "metadata": {},
          "output_type": "execute_result"
        }
      ],
      "source": [
        "sec_data=pd.read_csv('output/out.csv')\n",
        "sec_data.head()"
      ]
    },
    {
      "cell_type": "code",
      "execution_count": 19,
      "metadata": {},
      "outputs": [
        {
          "ename": "NameError",
          "evalue": "name 'get_score' is not defined",
          "output_type": "error",
          "traceback": [
            "\u001b[0;31m---------------------------------------------------------------------------\u001b[0m",
            "\u001b[0;31mNameError\u001b[0m                                 Traceback (most recent call last)",
            "\u001b[1;32m/home/codevardhan/uni/S6/Financial/Project/stock-price-prediction/Prediction_with_sentiment.ipynb Cell 15'\u001b[0m in \u001b[0;36m<module>\u001b[0;34m\u001b[0m\n\u001b[0;32m----> <a href='vscode-notebook-cell:/home/codevardhan/uni/S6/Financial/Project/stock-price-prediction/Prediction_with_sentiment.ipynb#ch0000035?line=0'>1</a>\u001b[0m sec_data[\u001b[39m\"\u001b[39m\u001b[39msentiment\u001b[39m\u001b[39m\"\u001b[39m] \u001b[39m=\u001b[39m sec_data[\u001b[39m\"\u001b[39;49m\u001b[39mdata\u001b[39;49m\u001b[39m\"\u001b[39;49m]\u001b[39m.\u001b[39;49mapply(\u001b[39mlambda\u001b[39;49;00m x: get_score(x))\n",
            "File \u001b[0;32m~/.env-list/mach-env/lib/python3.9/site-packages/pandas/core/series.py:4357\u001b[0m, in \u001b[0;36mSeries.apply\u001b[0;34m(self, func, convert_dtype, args, **kwargs)\u001b[0m\n\u001b[1;32m   <a href='file:///home/codevardhan/.env-list/mach-env/lib/python3.9/site-packages/pandas/core/series.py?line=4246'>4247</a>\u001b[0m \u001b[39mdef\u001b[39;00m \u001b[39mapply\u001b[39m(\n\u001b[1;32m   <a href='file:///home/codevardhan/.env-list/mach-env/lib/python3.9/site-packages/pandas/core/series.py?line=4247'>4248</a>\u001b[0m     \u001b[39mself\u001b[39m,\n\u001b[1;32m   <a href='file:///home/codevardhan/.env-list/mach-env/lib/python3.9/site-packages/pandas/core/series.py?line=4248'>4249</a>\u001b[0m     func: AggFuncType,\n\u001b[0;32m   (...)\u001b[0m\n\u001b[1;32m   <a href='file:///home/codevardhan/.env-list/mach-env/lib/python3.9/site-packages/pandas/core/series.py?line=4251'>4252</a>\u001b[0m     \u001b[39m*\u001b[39m\u001b[39m*\u001b[39mkwargs,\n\u001b[1;32m   <a href='file:///home/codevardhan/.env-list/mach-env/lib/python3.9/site-packages/pandas/core/series.py?line=4252'>4253</a>\u001b[0m ) \u001b[39m-\u001b[39m\u001b[39m>\u001b[39m FrameOrSeriesUnion:\n\u001b[1;32m   <a href='file:///home/codevardhan/.env-list/mach-env/lib/python3.9/site-packages/pandas/core/series.py?line=4253'>4254</a>\u001b[0m     \u001b[39m\"\"\"\u001b[39;00m\n\u001b[1;32m   <a href='file:///home/codevardhan/.env-list/mach-env/lib/python3.9/site-packages/pandas/core/series.py?line=4254'>4255</a>\u001b[0m \u001b[39m    Invoke function on values of Series.\u001b[39;00m\n\u001b[1;32m   <a href='file:///home/codevardhan/.env-list/mach-env/lib/python3.9/site-packages/pandas/core/series.py?line=4255'>4256</a>\u001b[0m \n\u001b[0;32m   (...)\u001b[0m\n\u001b[1;32m   <a href='file:///home/codevardhan/.env-list/mach-env/lib/python3.9/site-packages/pandas/core/series.py?line=4354'>4355</a>\u001b[0m \u001b[39m    dtype: float64\u001b[39;00m\n\u001b[1;32m   <a href='file:///home/codevardhan/.env-list/mach-env/lib/python3.9/site-packages/pandas/core/series.py?line=4355'>4356</a>\u001b[0m \u001b[39m    \"\"\"\u001b[39;00m\n\u001b[0;32m-> <a href='file:///home/codevardhan/.env-list/mach-env/lib/python3.9/site-packages/pandas/core/series.py?line=4356'>4357</a>\u001b[0m     \u001b[39mreturn\u001b[39;00m SeriesApply(\u001b[39mself\u001b[39;49m, func, convert_dtype, args, kwargs)\u001b[39m.\u001b[39;49mapply()\n",
            "File \u001b[0;32m~/.env-list/mach-env/lib/python3.9/site-packages/pandas/core/apply.py:1043\u001b[0m, in \u001b[0;36mSeriesApply.apply\u001b[0;34m(self)\u001b[0m\n\u001b[1;32m   <a href='file:///home/codevardhan/.env-list/mach-env/lib/python3.9/site-packages/pandas/core/apply.py?line=1038'>1039</a>\u001b[0m \u001b[39mif\u001b[39;00m \u001b[39misinstance\u001b[39m(\u001b[39mself\u001b[39m\u001b[39m.\u001b[39mf, \u001b[39mstr\u001b[39m):\n\u001b[1;32m   <a href='file:///home/codevardhan/.env-list/mach-env/lib/python3.9/site-packages/pandas/core/apply.py?line=1039'>1040</a>\u001b[0m     \u001b[39m# if we are a string, try to dispatch\u001b[39;00m\n\u001b[1;32m   <a href='file:///home/codevardhan/.env-list/mach-env/lib/python3.9/site-packages/pandas/core/apply.py?line=1040'>1041</a>\u001b[0m     \u001b[39mreturn\u001b[39;00m \u001b[39mself\u001b[39m\u001b[39m.\u001b[39mapply_str()\n\u001b[0;32m-> <a href='file:///home/codevardhan/.env-list/mach-env/lib/python3.9/site-packages/pandas/core/apply.py?line=1042'>1043</a>\u001b[0m \u001b[39mreturn\u001b[39;00m \u001b[39mself\u001b[39;49m\u001b[39m.\u001b[39;49mapply_standard()\n",
            "File \u001b[0;32m~/.env-list/mach-env/lib/python3.9/site-packages/pandas/core/apply.py:1098\u001b[0m, in \u001b[0;36mSeriesApply.apply_standard\u001b[0;34m(self)\u001b[0m\n\u001b[1;32m   <a href='file:///home/codevardhan/.env-list/mach-env/lib/python3.9/site-packages/pandas/core/apply.py?line=1091'>1092</a>\u001b[0m         values \u001b[39m=\u001b[39m obj\u001b[39m.\u001b[39mastype(\u001b[39mobject\u001b[39m)\u001b[39m.\u001b[39m_values\n\u001b[1;32m   <a href='file:///home/codevardhan/.env-list/mach-env/lib/python3.9/site-packages/pandas/core/apply.py?line=1092'>1093</a>\u001b[0m         \u001b[39m# error: Argument 2 to \"map_infer\" has incompatible type\u001b[39;00m\n\u001b[1;32m   <a href='file:///home/codevardhan/.env-list/mach-env/lib/python3.9/site-packages/pandas/core/apply.py?line=1093'>1094</a>\u001b[0m         \u001b[39m# \"Union[Callable[..., Any], str, List[Union[Callable[..., Any], str]],\u001b[39;00m\n\u001b[1;32m   <a href='file:///home/codevardhan/.env-list/mach-env/lib/python3.9/site-packages/pandas/core/apply.py?line=1094'>1095</a>\u001b[0m         \u001b[39m# Dict[Hashable, Union[Union[Callable[..., Any], str],\u001b[39;00m\n\u001b[1;32m   <a href='file:///home/codevardhan/.env-list/mach-env/lib/python3.9/site-packages/pandas/core/apply.py?line=1095'>1096</a>\u001b[0m         \u001b[39m# List[Union[Callable[..., Any], str]]]]]\"; expected\u001b[39;00m\n\u001b[1;32m   <a href='file:///home/codevardhan/.env-list/mach-env/lib/python3.9/site-packages/pandas/core/apply.py?line=1096'>1097</a>\u001b[0m         \u001b[39m# \"Callable[[Any], Any]\"\u001b[39;00m\n\u001b[0;32m-> <a href='file:///home/codevardhan/.env-list/mach-env/lib/python3.9/site-packages/pandas/core/apply.py?line=1097'>1098</a>\u001b[0m         mapped \u001b[39m=\u001b[39m lib\u001b[39m.\u001b[39;49mmap_infer(\n\u001b[1;32m   <a href='file:///home/codevardhan/.env-list/mach-env/lib/python3.9/site-packages/pandas/core/apply.py?line=1098'>1099</a>\u001b[0m             values,\n\u001b[1;32m   <a href='file:///home/codevardhan/.env-list/mach-env/lib/python3.9/site-packages/pandas/core/apply.py?line=1099'>1100</a>\u001b[0m             f,  \u001b[39m# type: ignore[arg-type]\u001b[39;49;00m\n\u001b[1;32m   <a href='file:///home/codevardhan/.env-list/mach-env/lib/python3.9/site-packages/pandas/core/apply.py?line=1100'>1101</a>\u001b[0m             convert\u001b[39m=\u001b[39;49m\u001b[39mself\u001b[39;49m\u001b[39m.\u001b[39;49mconvert_dtype,\n\u001b[1;32m   <a href='file:///home/codevardhan/.env-list/mach-env/lib/python3.9/site-packages/pandas/core/apply.py?line=1101'>1102</a>\u001b[0m         )\n\u001b[1;32m   <a href='file:///home/codevardhan/.env-list/mach-env/lib/python3.9/site-packages/pandas/core/apply.py?line=1103'>1104</a>\u001b[0m \u001b[39mif\u001b[39;00m \u001b[39mlen\u001b[39m(mapped) \u001b[39mand\u001b[39;00m \u001b[39misinstance\u001b[39m(mapped[\u001b[39m0\u001b[39m], ABCSeries):\n\u001b[1;32m   <a href='file:///home/codevardhan/.env-list/mach-env/lib/python3.9/site-packages/pandas/core/apply.py?line=1104'>1105</a>\u001b[0m     \u001b[39m# GH 25959 use pd.array instead of tolist\u001b[39;00m\n\u001b[1;32m   <a href='file:///home/codevardhan/.env-list/mach-env/lib/python3.9/site-packages/pandas/core/apply.py?line=1105'>1106</a>\u001b[0m     \u001b[39m# so extension arrays can be used\u001b[39;00m\n\u001b[1;32m   <a href='file:///home/codevardhan/.env-list/mach-env/lib/python3.9/site-packages/pandas/core/apply.py?line=1106'>1107</a>\u001b[0m     \u001b[39mreturn\u001b[39;00m obj\u001b[39m.\u001b[39m_constructor_expanddim(pd_array(mapped), index\u001b[39m=\u001b[39mobj\u001b[39m.\u001b[39mindex)\n",
            "File \u001b[0;32m~/.env-list/mach-env/lib/python3.9/site-packages/pandas/_libs/lib.pyx:2859\u001b[0m, in \u001b[0;36mpandas._libs.lib.map_infer\u001b[0;34m()\u001b[0m\n",
            "\u001b[1;32m/home/codevardhan/uni/S6/Financial/Project/stock-price-prediction/Prediction_with_sentiment.ipynb Cell 15'\u001b[0m in \u001b[0;36m<lambda>\u001b[0;34m(x)\u001b[0m\n\u001b[0;32m----> <a href='vscode-notebook-cell:/home/codevardhan/uni/S6/Financial/Project/stock-price-prediction/Prediction_with_sentiment.ipynb#ch0000035?line=0'>1</a>\u001b[0m sec_data[\u001b[39m\"\u001b[39m\u001b[39msentiment\u001b[39m\u001b[39m\"\u001b[39m] \u001b[39m=\u001b[39m sec_data[\u001b[39m\"\u001b[39m\u001b[39mdata\u001b[39m\u001b[39m\"\u001b[39m]\u001b[39m.\u001b[39mapply(\u001b[39mlambda\u001b[39;00m x: get_score(x))\n",
            "\u001b[0;31mNameError\u001b[0m: name 'get_score' is not defined"
          ]
        }
      ],
      "source": [
        "sec_data[\"sentiment\"] = sec_data[\"data\"].apply(lambda x: get_score(x))\n",
        "sec_data.head()\n"
      ]
    },
    {
      "cell_type": "markdown",
      "metadata": {},
      "source": [
        "## Pre-processing Stock Data"
      ]
    },
    {
      "cell_type": "code",
      "execution_count": null,
      "metadata": {
        "id": "QO-hyLkJrnZi"
      },
      "outputs": [],
      "source": [
        "dataset = all_data.values\n",
        "train = dataset[2000:4500,:]\n",
        "valid = dataset[4500:,:]"
      ]
    },
    {
      "cell_type": "code",
      "execution_count": null,
      "metadata": {
        "id": "0CfxMyGcrttd"
      },
      "outputs": [],
      "source": [
        "scaler = MinMaxScaler(feature_range=(0, 1))\n",
        "scaled_data = scaler.fit_transform(dataset)"
      ]
    },
    {
      "cell_type": "code",
      "execution_count": null,
      "metadata": {
        "id": "D1tt-6lTr1pw"
      },
      "outputs": [],
      "source": [
        "x_train, y_train = [], []\n",
        "for i in range(90,len(train)):\n",
        "    x_train.append(scaled_data[i-90:i,0])\n",
        "    y_train.append(scaled_data[i,0])\n",
        "x_train, y_train = np.array(x_train), np.array(y_train)\n",
        "#we take the 90 days dataset and predict the 91st day\n",
        "#Code for making csv for it will be reflected during the presentation part where\n",
        "#We created a front end and backend to use the model we made here"
      ]
    },
    {
      "cell_type": "code",
      "execution_count": null,
      "metadata": {
        "id": "0YlDmqJMsiLI"
      },
      "outputs": [],
      "source": [
        "x_train = np.reshape(x_train, (x_train.shape[0],x_train.shape[1],1))"
      ]
    },
    {
      "cell_type": "code",
      "execution_count": null,
      "metadata": {
        "id": "ZOEfqN7FtvI8"
      },
      "outputs": [],
      "source": [
        "inputs = all_data[len(all_data) - len(valid)-90:].values\n",
        "inputs = inputs.reshape(-1,1)\n",
        "inputs  = scaler.transform(inputs)\n",
        "inputs.shape\n",
        "X_test = []\n",
        "for i in range(90,inputs.shape[0]):\n",
        "    X_test.append(inputs[i-90:i,0])\n",
        "X_test = np.array(X_test)"
      ]
    },
    {
      "cell_type": "markdown",
      "metadata": {
        "id": "uJduV_KwtBOK"
      },
      "source": [
        "## Making the model"
      ]
    },
    {
      "cell_type": "markdown",
      "metadata": {},
      "source": [
        "\n",
        "Initializing the LSTM model and 2nd, 3rd and 4th LSTM layer each with a Dropout Layer. The layers contain 50 neurons and with a Dropout rate of 20%, twenty percent of 50 neurons will be ignored randomly during each iteration\n",
        "\n",
        "Finally, an output layer is added with 1 as an output dimension (as we are predicting the close price)\n",
        "\n",
        "\n",
        "We use Stochastic Gradient Descent algorithm to compile the model and use mean squared error ad loss function"
      ]
    },
    {
      "cell_type": "code",
      "execution_count": null,
      "metadata": {
        "id": "Lx6jo8JEtFD6"
      },
      "outputs": [],
      "source": [
        "model = Sequential()\n",
        "model.add(LSTM(units=50, return_sequences=True, input_shape=(x_train.shape[1],1)))\n",
        "model.add(Dropout(rate = 0.3))\n",
        "\n",
        "model.add(LSTM(units=50, return_sequences = True))\n",
        "model.add(Dropout(rate = 0.3))\n",
        "\n",
        "model.add(LSTM(units=50, return_sequences = True))\n",
        "model.add(Dropout(rate = 0.3))\n",
        "\n",
        "model.add(LSTM(units=50, return_sequences = False))\n",
        "model.add(Dropout(rate = 0.3))\n",
        "model.add(Dense(1))\n",
        "model.compile(loss='mean_squared_error', optimizer='adam')\n",
        "#we use standard adam's optimizer"
      ]
    },
    {
      "cell_type": "markdown",
      "metadata": {
        "id": "o-6aXIqotTL6"
      },
      "source": [
        "## Training the model"
      ]
    },
    {
      "cell_type": "code",
      "execution_count": null,
      "metadata": {
        "colab": {
          "base_uri": "https://localhost:8080/"
        },
        "id": "yfHJ5kpNta-P",
        "outputId": "257b9d6d-152b-4864-9a21-6439c2f5a17d"
      },
      "outputs": [],
      "source": [
        "model.fit(x_train, y_train, epochs=100, batch_size=128, verbose=1)"
      ]
    },
    {
      "cell_type": "code",
      "execution_count": null,
      "metadata": {
        "id": "wIsG10oOz4-d"
      },
      "outputs": [],
      "source": [
        "X_test = np.reshape(X_test, (X_test.shape[0],X_test.shape[1],1))\n",
        "preds = model.predict(X_test)\n",
        "preds = scaler.inverse_transform(preds)"
      ]
    },
    {
      "cell_type": "code",
      "execution_count": null,
      "metadata": {
        "colab": {
          "base_uri": "https://localhost:8080/"
        },
        "id": "gfF0mZr10En5",
        "outputId": "fd33511a-d6d3-49b6-b43e-270dec4dd022"
      },
      "outputs": [],
      "source": [
        "print(preds.shape)"
      ]
    },
    {
      "cell_type": "code",
      "execution_count": null,
      "metadata": {
        "colab": {
          "base_uri": "https://localhost:8080/"
        },
        "id": "8JKPb6Co2qXA",
        "outputId": "8d48b327-6ed5-4803-b7a9-417a6cba62f5"
      },
      "outputs": [],
      "source": [
        "print(valid.shape)"
      ]
    },
    {
      "cell_type": "code",
      "execution_count": null,
      "metadata": {
        "colab": {
          "base_uri": "https://localhost:8080/"
        },
        "id": "OuTHrJImMSHp",
        "outputId": "803006ff-0e3e-48b2-996f-64654456240e"
      },
      "outputs": [],
      "source": [
        "print(valid[-1],preds[-1])"
      ]
    },
    {
      "cell_type": "markdown",
      "metadata": {},
      "source": [
        "## Results"
      ]
    },
    {
      "cell_type": "code",
      "execution_count": null,
      "metadata": {
        "id": "F3Qa3Vv20gPQ"
      },
      "outputs": [],
      "source": [
        "rms=np.sqrt(np.mean(np.power((valid-preds),2)))\n",
        "rms\n",
        "# it is the standard deviation of the residuals (prediction errors)"
      ]
    },
    {
      "cell_type": "code",
      "execution_count": null,
      "metadata": {
        "colab": {
          "base_uri": "https://localhost:8080/",
          "height": 600
        },
        "id": "yyxx-IxC19to",
        "outputId": "b91cc3eb-f85c-4db2-aca9-be58d9f75a10"
      },
      "outputs": [],
      "source": [
        "train = all_data[2000:4500]\n",
        "valid = all_data[4500:]\n",
        "valid['Predictions'] = preds\n",
        "plt.figure(figsize=(20,8))\n",
        "plt.plot(train['Close'])\n",
        "plt.plot(valid['Close'], color = 'blue', label = 'Real Price')\n",
        "plt.plot(valid['Predictions'], color = 'red', label = 'Predicted Price')\n",
        "plt.title('HDFCBANK price prediction')\n",
        "plt.legend()\n",
        "plt.show()"
      ]
    },
    {
      "cell_type": "code",
      "execution_count": null,
      "metadata": {
        "id": "YxLDvotHXOcf"
      },
      "outputs": [],
      "source": [
        "from keras.models import load_model\n",
        "model.save('AMZN.h5')  # creates a HDF5 file "
      ]
    }
  ],
  "metadata": {
    "colab": {
      "authorship_tag": "ABX9TyMnx7F+rr7ym0L12246I+Di",
      "collapsed_sections": [],
      "include_colab_link": true,
      "name": "Stock Market.ipynb",
      "provenance": []
    },
    "kernelspec": {
      "display_name": "Python 3",
      "name": "python3"
    },
    "language_info": {
      "codemirror_mode": {
        "name": "ipython",
        "version": 3
      },
      "file_extension": ".py",
      "mimetype": "text/x-python",
      "name": "python",
      "nbconvert_exporter": "python",
      "pygments_lexer": "ipython3",
      "version": "3.9.5"
    }
  },
  "nbformat": 4,
  "nbformat_minor": 0
}
