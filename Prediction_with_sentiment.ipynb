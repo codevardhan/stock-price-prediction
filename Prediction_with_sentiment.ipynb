{
  "cells": [
    {
      "cell_type": "markdown",
      "metadata": {},
      "source": [
        "## Import Libraries\n"
      ]
    },
    {
      "cell_type": "code",
      "execution_count": 2,
      "metadata": {
        "id": "_fHYbsgACOU2"
      },
      "outputs": [],
      "source": [
        "import numpy as np \n",
        "import pandas as pd \n",
        "import os\n",
        "\n",
        "import datetime as dt\n",
        "from datetime import datetime\n",
        "\n",
        "import matplotlib.pyplot as plt\n",
        "plt.style.use('ggplot')\n",
        "\n",
        "import numpy as np\n",
        "\n",
        "from sklearn.preprocessing import MinMaxScaler\n",
        "\n",
        "### Create the Stacked LSTM model\n",
        "from tensorflow.keras.models import Sequential\n",
        "from tensorflow.keras.layers import Dense\n",
        "from tensorflow.keras.layers import LSTM\n",
        "from keras.layers import Dropout\n",
        "\n",
        "from tensorflow.keras.preprocessing.text import Tokenizer\n",
        "from tensorflow.keras.preprocessing.sequence import pad_sequences\n",
        "from tensorflow.keras.models import load_model\n",
        "import pickle"
      ]
    },
    {
      "cell_type": "markdown",
      "metadata": {},
      "source": [
        "## Loading Stock Data"
      ]
    },
    {
      "cell_type": "markdown",
      "metadata": {
        "id": "kwVO_ar3Jsv-"
      },
      "source": [
        "The dataset is taken from https://in.finance.yahoo.com/ . Any stock dataset you want to add in the website can be taken from the website given above then traing the model on that dataset"
      ]
    },
    {
      "cell_type": "code",
      "execution_count": 3,
      "metadata": {
        "id": "FmXZfUymqmo9"
      },
      "outputs": [],
      "source": [
        "data = './data/AMZN.csv'"
      ]
    },
    {
      "cell_type": "code",
      "execution_count": 4,
      "metadata": {
        "colab": {
          "base_uri": "https://localhost:8080/",
          "height": 206
        },
        "id": "sg8IEYzgpk1n",
        "outputId": "df5a6ff1-d9f6-4fd2-ea3f-96176dc34cde"
      },
      "outputs": [
        {
          "data": {
            "text/html": [
              "<div>\n",
              "<style scoped>\n",
              "    .dataframe tbody tr th:only-of-type {\n",
              "        vertical-align: middle;\n",
              "    }\n",
              "\n",
              "    .dataframe tbody tr th {\n",
              "        vertical-align: top;\n",
              "    }\n",
              "\n",
              "    .dataframe thead th {\n",
              "        text-align: right;\n",
              "    }\n",
              "</style>\n",
              "<table border=\"1\" class=\"dataframe\">\n",
              "  <thead>\n",
              "    <tr style=\"text-align: right;\">\n",
              "      <th></th>\n",
              "      <th>Date</th>\n",
              "      <th>Open</th>\n",
              "      <th>High</th>\n",
              "      <th>Low</th>\n",
              "      <th>Close</th>\n",
              "      <th>Adj Close</th>\n",
              "      <th>Volume</th>\n",
              "    </tr>\n",
              "  </thead>\n",
              "  <tbody>\n",
              "    <tr>\n",
              "      <th>0</th>\n",
              "      <td>2012-01-03</td>\n",
              "      <td>175.889999</td>\n",
              "      <td>179.479996</td>\n",
              "      <td>175.550003</td>\n",
              "      <td>179.029999</td>\n",
              "      <td>179.029999</td>\n",
              "      <td>5110800</td>\n",
              "    </tr>\n",
              "    <tr>\n",
              "      <th>1</th>\n",
              "      <td>2012-01-04</td>\n",
              "      <td>179.210007</td>\n",
              "      <td>180.500000</td>\n",
              "      <td>176.070007</td>\n",
              "      <td>177.509995</td>\n",
              "      <td>177.509995</td>\n",
              "      <td>4205200</td>\n",
              "    </tr>\n",
              "    <tr>\n",
              "      <th>2</th>\n",
              "      <td>2012-01-05</td>\n",
              "      <td>175.940002</td>\n",
              "      <td>178.250000</td>\n",
              "      <td>174.050003</td>\n",
              "      <td>177.610001</td>\n",
              "      <td>177.610001</td>\n",
              "      <td>3809100</td>\n",
              "    </tr>\n",
              "    <tr>\n",
              "      <th>3</th>\n",
              "      <td>2012-01-06</td>\n",
              "      <td>178.070007</td>\n",
              "      <td>184.649994</td>\n",
              "      <td>177.500000</td>\n",
              "      <td>182.610001</td>\n",
              "      <td>182.610001</td>\n",
              "      <td>7008400</td>\n",
              "    </tr>\n",
              "    <tr>\n",
              "      <th>4</th>\n",
              "      <td>2012-01-09</td>\n",
              "      <td>182.759995</td>\n",
              "      <td>184.369995</td>\n",
              "      <td>177.000000</td>\n",
              "      <td>178.559998</td>\n",
              "      <td>178.559998</td>\n",
              "      <td>5056900</td>\n",
              "    </tr>\n",
              "  </tbody>\n",
              "</table>\n",
              "</div>"
            ],
            "text/plain": [
              "         Date        Open        High         Low       Close   Adj Close  \\\n",
              "0  2012-01-03  175.889999  179.479996  175.550003  179.029999  179.029999   \n",
              "1  2012-01-04  179.210007  180.500000  176.070007  177.509995  177.509995   \n",
              "2  2012-01-05  175.940002  178.250000  174.050003  177.610001  177.610001   \n",
              "3  2012-01-06  178.070007  184.649994  177.500000  182.610001  182.610001   \n",
              "4  2012-01-09  182.759995  184.369995  177.000000  178.559998  178.559998   \n",
              "\n",
              "    Volume  \n",
              "0  5110800  \n",
              "1  4205200  \n",
              "2  3809100  \n",
              "3  7008400  \n",
              "4  5056900  "
            ]
          },
          "execution_count": 4,
          "metadata": {},
          "output_type": "execute_result"
        }
      ],
      "source": [
        "df = pd.read_csv(data)\n",
        "df.head()"
      ]
    },
    {
      "cell_type": "code",
      "execution_count": 5,
      "metadata": {
        "colab": {
          "base_uri": "https://localhost:8080/",
          "height": 496
        },
        "id": "U5OE4RCUqPfB",
        "outputId": "fd9c2e9d-53b2-4d68-eeb4-6a8fd9760ce1"
      },
      "outputs": [
        {
          "data": {
            "text/plain": [
              "<matplotlib.legend.Legend at 0x7fe37507e220>"
            ]
          },
          "execution_count": 5,
          "metadata": {},
          "output_type": "execute_result"
        },
        {
          "data": {
            "image/png": "[encoded data removed]",
            "text/plain": [
              "<Figure size 1440x576 with 1 Axes>"
            ]
          },
          "metadata": {},
          "output_type": "display_data"
        }
      ],
      "source": [
        "df['Date'] = pd.to_datetime(df.Date,format='%Y-%m-%d')\n",
        "df.index = df['Date']\n",
        "plt.figure(figsize=(20,8))\n",
        "plt.plot(df['Close'], label='Close Price')\n",
        "plt.xlabel('Year')\n",
        "plt.ylabel('Close Price') \n",
        "plt.title('Close Price')\n",
        "plt.legend() "
      ]
    },
    {
      "cell_type": "code",
      "execution_count": 6,
      "metadata": {
        "colab": {
          "base_uri": "https://localhost:8080/"
        },
        "id": "jEfp7Vqrq-_h",
        "outputId": "d67d150e-cde9-401d-a096-611641cef9d6"
      },
      "outputs": [
        {
          "name": "stderr",
          "output_type": "stream",
          "text": [
            "/home/codevardhan/.env-list/mach-env/lib/python3.9/site-packages/pandas/core/frame.py:4906: SettingWithCopyWarning: \n",
            "A value is trying to be set on a copy of a slice from a DataFrame\n",
            "\n",
            "See the caveats in the documentation: https://pandas.pydata.org/pandas-docs/stable/user_guide/indexing.html#returning-a-view-versus-a-copy\n",
            "  return super().drop(\n"
          ]
        }
      ],
      "source": [
        "features = [\"Date\", \"Close\"]\n",
        "all_data = df[features]\n",
        "all_data.index = all_data.Date\n",
        "all_data.drop('Date', axis=1, inplace=True)"
      ]
    },
    {
      "cell_type": "code",
      "execution_count": 7,
      "metadata": {
        "colab": {
          "base_uri": "https://localhost:8080/"
        },
        "id": "EW8N4Tq0rfev",
        "outputId": "ee3de299-136a-4008-b72a-e002f9da2cad"
      },
      "outputs": [
        {
          "name": "stdout",
          "output_type": "stream",
          "text": [
            "(2603, 1)\n"
          ]
        },
        {
          "data": {
            "text/html": [
              "<div>\n",
              "<style scoped>\n",
              "    .dataframe tbody tr th:only-of-type {\n",
              "        vertical-align: middle;\n",
              "    }\n",
              "\n",
              "    .dataframe tbody tr th {\n",
              "        vertical-align: top;\n",
              "    }\n",
              "\n",
              "    .dataframe thead th {\n",
              "        text-align: right;\n",
              "    }\n",
              "</style>\n",
              "<table border=\"1\" class=\"dataframe\">\n",
              "  <thead>\n",
              "    <tr style=\"text-align: right;\">\n",
              "      <th></th>\n",
              "      <th>Close</th>\n",
              "    </tr>\n",
              "    <tr>\n",
              "      <th>Date</th>\n",
              "      <th></th>\n",
              "    </tr>\n",
              "  </thead>\n",
              "  <tbody>\n",
              "    <tr>\n",
              "      <th>2012-01-03</th>\n",
              "      <td>179.029999</td>\n",
              "    </tr>\n",
              "    <tr>\n",
              "      <th>2012-01-04</th>\n",
              "      <td>177.509995</td>\n",
              "    </tr>\n",
              "    <tr>\n",
              "      <th>2012-01-05</th>\n",
              "      <td>177.610001</td>\n",
              "    </tr>\n",
              "    <tr>\n",
              "      <th>2012-01-06</th>\n",
              "      <td>182.610001</td>\n",
              "    </tr>\n",
              "    <tr>\n",
              "      <th>2012-01-09</th>\n",
              "      <td>178.559998</td>\n",
              "    </tr>\n",
              "  </tbody>\n",
              "</table>\n",
              "</div>"
            ],
            "text/plain": [
              "                 Close\n",
              "Date                  \n",
              "2012-01-03  179.029999\n",
              "2012-01-04  177.509995\n",
              "2012-01-05  177.610001\n",
              "2012-01-06  182.610001\n",
              "2012-01-09  178.559998"
            ]
          },
          "execution_count": 7,
          "metadata": {},
          "output_type": "execute_result"
        }
      ],
      "source": [
        "print(all_data.shape)\n",
        "all_data.head()\n"
      ]
    },
    {
      "cell_type": "markdown",
      "metadata": {},
      "source": [
        "## Loading sentiment data and augmenting training data"
      ]
    },
    {
      "cell_type": "code",
      "execution_count": null,
      "metadata": {},
      "outputs": [],
      "source": [
        "tokenizer = Tokenizer()\n",
        "\n",
        "with open(\"sentiment_analysis_models/tokenizer.pkl\", \"rb\") as handle:\n",
        "    tokenizer = pickle.load(handle)"
      ]
    },
    {
      "cell_type": "code",
      "execution_count": 8,
      "metadata": {},
      "outputs": [],
      "source": [
        "# function that uses the model to predict score\n",
        "def get_score(text):\n",
        "    model = load_model(\"sentiment_analysis_models/model.h5\")\n",
        "    # Tokenize text\n",
        "    tokenized_text = pad_sequences(tokenizer.texts_to_sequences([str(text)]), maxlen=300)\n",
        "    # Predict\n",
        "    score = model.predict([tokenized_text])[0]\n",
        "    # Decode sentiment\n",
        "    return float(score)\n",
        "    \n",
        "print(get_score(\"idk what to do\"))"
      ]
    },
    {
      "cell_type": "code",
      "execution_count": null,
      "metadata": {},
      "outputs": [],
      "source": [
        "sec_data=pd.concat([pd.read_csv('output/sec_8k.csv'), pd.read_csv('output/sec_10k.csv')])\n",
        "sec_data.head()"
      ]
    },
    {
      "cell_type": "code",
      "execution_count": null,
      "metadata": {},
      "outputs": [],
      "source": [
        "sec_data[\"sentiment\"] = sec_data[\"data\"].apply(lambda x: get_score(x))\n",
        "sec_data.head()"
      ]
    },
    {
      "cell_type": "code",
      "execution_count": null,
      "metadata": {},
      "outputs": [],
      "source": [
        "# rescaling the sentiment scores to be between -1 and 1\n",
        "def rescale(val):\n",
        "    o1 = 0\n",
        "    o2 = 1\n",
        "    n1 = -1\n",
        "    n2 = 1\n",
        "\n",
        "    val = ( (val - o1) / (o2 - o1) ) * (n2 - n1) + n1\n",
        "    return val\n",
        "\n",
        "sec_data[\"sentiment\"]=sec_data[\"sentiment\"].apply(lambda x: rescale(x))\n",
        "sec_data.head()\n"
      ]
    },
    {
      "cell_type": "code",
      "execution_count": null,
      "metadata": {},
      "outputs": [],
      "source": [
        "# sec_data.to_csv('output/sec_sentiment_data.csv', index=False)"
      ]
    },
    {
      "cell_type": "code",
      "execution_count": 8,
      "metadata": {},
      "outputs": [
        {
          "data": {
            "text/html": [
              "<div>\n",
              "<style scoped>\n",
              "    .dataframe tbody tr th:only-of-type {\n",
              "        vertical-align: middle;\n",
              "    }\n",
              "\n",
              "    .dataframe tbody tr th {\n",
              "        vertical-align: top;\n",
              "    }\n",
              "\n",
              "    .dataframe thead th {\n",
              "        text-align: right;\n",
              "    }\n",
              "</style>\n",
              "<table border=\"1\" class=\"dataframe\">\n",
              "  <thead>\n",
              "    <tr style=\"text-align: right;\">\n",
              "      <th></th>\n",
              "      <th>dates</th>\n",
              "      <th>data</th>\n",
              "      <th>sentiment</th>\n",
              "    </tr>\n",
              "  </thead>\n",
              "  <tbody>\n",
              "    <tr>\n",
              "      <th>0</th>\n",
              "      <td>2022-04-28</td>\n",
              "      <td>k amzn htm k amzn of contentsunited statessecu...</td>\n",
              "      <td>-0.061694</td>\n",
              "    </tr>\n",
              "    <tr>\n",
              "      <th>1</th>\n",
              "      <td>2022-04-14</td>\n",
              "      <td>k htm form k false inc usd xbrli shares usd xb...</td>\n",
              "      <td>0.379136</td>\n",
              "    </tr>\n",
              "    <tr>\n",
              "      <th>2</th>\n",
              "      <td>2022-04-13</td>\n",
              "      <td>k htm k k false united states securities and e...</td>\n",
              "      <td>0.273134</td>\n",
              "    </tr>\n",
              "    <tr>\n",
              "      <th>3</th>\n",
              "      <td>2022-03-09</td>\n",
              "      <td>k amzn htm k amzn of contentsunited statessecu...</td>\n",
              "      <td>0.374390</td>\n",
              "    </tr>\n",
              "    <tr>\n",
              "      <th>4</th>\n",
              "      <td>2022-02-03</td>\n",
              "      <td>k amzn htm k amzn of contentsunited statessecu...</td>\n",
              "      <td>-0.430636</td>\n",
              "    </tr>\n",
              "  </tbody>\n",
              "</table>\n",
              "</div>"
            ],
            "text/plain": [
              "        dates                                               data  sentiment\n",
              "0  2022-04-28  k amzn htm k amzn of contentsunited statessecu...  -0.061694\n",
              "1  2022-04-14  k htm form k false inc usd xbrli shares usd xb...   0.379136\n",
              "2  2022-04-13  k htm k k false united states securities and e...   0.273134\n",
              "3  2022-03-09  k amzn htm k amzn of contentsunited statessecu...   0.374390\n",
              "4  2022-02-03  k amzn htm k amzn of contentsunited statessecu...  -0.430636"
            ]
          },
          "execution_count": 8,
          "metadata": {},
          "output_type": "execute_result"
        }
      ],
      "source": [
        "sec_data = pd.read_csv('output/sec_sentiment_data.csv')\n",
        "sec_data.head()"
      ]
    },
    {
      "cell_type": "code",
      "execution_count": 9,
      "metadata": {},
      "outputs": [],
      "source": [
        "df_new = pd.DataFrame(columns=['Date', 'Close', 'Sentiment'])\n",
        "\n",
        "df = pd.read_csv('./data/AMZN.csv')\n",
        "\n",
        "for i, row in df.iterrows():\n",
        "    sentiment = 0\n",
        "    for idx, row2 in sec_data.iterrows():\n",
        "        if row['Date'] == row2['dates']:\n",
        "            sentiment = row2['sentiment']\n",
        "    \n",
        "    df_new.loc[i] = [row['Date'], row['Close'], sentiment]"
      ]
    },
    {
      "cell_type": "code",
      "execution_count": 10,
      "metadata": {},
      "outputs": [
        {
          "data": {
            "text/html": [
              "<div>\n",
              "<style scoped>\n",
              "    .dataframe tbody tr th:only-of-type {\n",
              "        vertical-align: middle;\n",
              "    }\n",
              "\n",
              "    .dataframe tbody tr th {\n",
              "        vertical-align: top;\n",
              "    }\n",
              "\n",
              "    .dataframe thead th {\n",
              "        text-align: right;\n",
              "    }\n",
              "</style>\n",
              "<table border=\"1\" class=\"dataframe\">\n",
              "  <thead>\n",
              "    <tr style=\"text-align: right;\">\n",
              "      <th></th>\n",
              "      <th>Date</th>\n",
              "      <th>Close</th>\n",
              "      <th>Sentiment</th>\n",
              "    </tr>\n",
              "  </thead>\n",
              "  <tbody>\n",
              "    <tr>\n",
              "      <th>0</th>\n",
              "      <td>2012-01-03</td>\n",
              "      <td>179.029999</td>\n",
              "      <td>0</td>\n",
              "    </tr>\n",
              "    <tr>\n",
              "      <th>1</th>\n",
              "      <td>2012-01-04</td>\n",
              "      <td>177.509995</td>\n",
              "      <td>0</td>\n",
              "    </tr>\n",
              "    <tr>\n",
              "      <th>2</th>\n",
              "      <td>2012-01-05</td>\n",
              "      <td>177.610001</td>\n",
              "      <td>0</td>\n",
              "    </tr>\n",
              "    <tr>\n",
              "      <th>3</th>\n",
              "      <td>2012-01-06</td>\n",
              "      <td>182.610001</td>\n",
              "      <td>0</td>\n",
              "    </tr>\n",
              "    <tr>\n",
              "      <th>4</th>\n",
              "      <td>2012-01-09</td>\n",
              "      <td>178.559998</td>\n",
              "      <td>0</td>\n",
              "    </tr>\n",
              "  </tbody>\n",
              "</table>\n",
              "</div>"
            ],
            "text/plain": [
              "         Date       Close Sentiment\n",
              "0  2012-01-03  179.029999         0\n",
              "1  2012-01-04  177.509995         0\n",
              "2  2012-01-05  177.610001         0\n",
              "3  2012-01-06  182.610001         0\n",
              "4  2012-01-09  178.559998         0"
            ]
          },
          "execution_count": 10,
          "metadata": {},
          "output_type": "execute_result"
        }
      ],
      "source": [
        "df_new.head()"
      ]
    },
    {
      "cell_type": "code",
      "execution_count": 11,
      "metadata": {},
      "outputs": [
        {
          "data": {
            "text/plain": [
              "array([0, -0.5625367164611816, 0.4611152410507202, -0.0324553847312927,\n",
              "       -0.6398483514785767, -0.1048037409782409, -0.3416502475738525,\n",
              "       -0.0085186958312988, -0.7438042759895325, -0.5424008369445801,\n",
              "       0.242497444152832, 0.199964165687561, 0.5491327047348022,\n",
              "       -0.1048862338066101, -0.7401959896087646, -0.5498631000518799,\n",
              "       0.3956751823425293, -0.0252444148063659, 0.580223560333252,\n",
              "       -0.2547135949134826, 0.1335667371749878, 0.6514997482299805,\n",
              "       0.0797326564788818, 0.6702210903167725, 0.4344052076339721,\n",
              "       -0.3402508497238159, -0.5089600086212158, -0.7306082844734192,\n",
              "       -0.5564051866531372, -0.5042034387588501, 0.363162636756897,\n",
              "       0.6332573890686035, -0.2069723010063171, -0.2682939767837524,\n",
              "       -0.7156701683998108, -0.5281744599342346, -0.6203857064247131,\n",
              "       0.1168383359909057, 0.4124402999877929, -0.2248092293739318,\n",
              "       0.5919485092163086, -0.2069534063339233, -0.1633265018463134,\n",
              "       -0.2688777446746826, -0.7107051610946655, -0.4639151692390442,\n",
              "       0.2587711811065674, 0.4126062393188476, 0.0753787755966186,\n",
              "       0.7043614387512207, 0.526146411895752, -0.2209903001785278,\n",
              "       0.665718674659729, 0.590451717376709, -0.6839550733566284,\n",
              "       0.3431470394134521, -0.1676383018493652, -0.2315120100975036,\n",
              "       0.0775226354598999, -0.5939744114875793, 0.4671525955200195,\n",
              "       0.0955244302749633, -0.0303334593772888, 0.0274231433868408,\n",
              "       0.7258920669555664, -0.1175113916397094, -0.7004356980323792,\n",
              "       0.4789192676544189, -0.016822874546051, 0.1209869384765625,\n",
              "       -0.0273960828781127, 0.2257885932922363, 0.7038042545318604,\n",
              "       -0.1185342073440551, -0.5602542757987976, -0.1349325180053711,\n",
              "       -0.5995020270347595, -0.6692402958869934, 0.5207078456878662,\n",
              "       0.3791525363922119, -0.033720314502716, 0.5902092456817627,\n",
              "       -0.0241242051124572, 0.5173536539077759, -0.0312542915344238,\n",
              "       0.2818033695220947, 0.189590573310852, -0.1352455615997314,\n",
              "       -0.4211481213569641, -0.3182715773582458, -0.1427188515663147,\n",
              "       0.3791123628616333, -0.0616935491561889, 0.2764879465103149,\n",
              "       0.6363691091537476, 0.1633890867233276, 0.1462085247039795,\n",
              "       -0.0508210062980651, -0.4306355118751526, -0.5636897683143616,\n",
              "       0.3743903636932373, 0.2731342315673828, 0.3791357278823852],\n",
              "      dtype=object)"
            ]
          },
          "execution_count": 11,
          "metadata": {},
          "output_type": "execute_result"
        }
      ],
      "source": [
        "df_new[\"Sentiment\"].unique()"
      ]
    },
    {
      "cell_type": "code",
      "execution_count": 12,
      "metadata": {},
      "outputs": [
        {
          "data": {
            "text/html": [
              "<div>\n",
              "<style scoped>\n",
              "    .dataframe tbody tr th:only-of-type {\n",
              "        vertical-align: middle;\n",
              "    }\n",
              "\n",
              "    .dataframe tbody tr th {\n",
              "        vertical-align: top;\n",
              "    }\n",
              "\n",
              "    .dataframe thead th {\n",
              "        text-align: right;\n",
              "    }\n",
              "</style>\n",
              "<table border=\"1\" class=\"dataframe\">\n",
              "  <thead>\n",
              "    <tr style=\"text-align: right;\">\n",
              "      <th></th>\n",
              "      <th>Close</th>\n",
              "      <th>sentiment</th>\n",
              "    </tr>\n",
              "    <tr>\n",
              "      <th>Date</th>\n",
              "      <th></th>\n",
              "      <th></th>\n",
              "    </tr>\n",
              "  </thead>\n",
              "  <tbody>\n",
              "    <tr>\n",
              "      <th>2012-01-03</th>\n",
              "      <td>179.029999</td>\n",
              "      <td>0</td>\n",
              "    </tr>\n",
              "    <tr>\n",
              "      <th>2012-01-04</th>\n",
              "      <td>177.509995</td>\n",
              "      <td>0</td>\n",
              "    </tr>\n",
              "    <tr>\n",
              "      <th>2012-01-05</th>\n",
              "      <td>177.610001</td>\n",
              "      <td>0</td>\n",
              "    </tr>\n",
              "    <tr>\n",
              "      <th>2012-01-06</th>\n",
              "      <td>182.610001</td>\n",
              "      <td>0</td>\n",
              "    </tr>\n",
              "    <tr>\n",
              "      <th>2012-01-09</th>\n",
              "      <td>178.559998</td>\n",
              "      <td>0</td>\n",
              "    </tr>\n",
              "  </tbody>\n",
              "</table>\n",
              "</div>"
            ],
            "text/plain": [
              "                 Close sentiment\n",
              "Date                            \n",
              "2012-01-03  179.029999         0\n",
              "2012-01-04  177.509995         0\n",
              "2012-01-05  177.610001         0\n",
              "2012-01-06  182.610001         0\n",
              "2012-01-09  178.559998         0"
            ]
          },
          "execution_count": 12,
          "metadata": {},
          "output_type": "execute_result"
        }
      ],
      "source": [
        "all_data['sentiment'] = df_new['Sentiment'].values\n",
        "sentiments = df_new['Sentiment'].values\n",
        "all_data.head()"
      ]
    },
    {
      "cell_type": "code",
      "execution_count": 13,
      "metadata": {},
      "outputs": [],
      "source": [
        "close_data = all_data.drop('sentiment', axis=1)"
      ]
    },
    {
      "cell_type": "markdown",
      "metadata": {},
      "source": [
        "## Pre-processing Stock Data"
      ]
    },
    {
      "cell_type": "code",
      "execution_count": 14,
      "metadata": {
        "id": "QO-hyLkJrnZi"
      },
      "outputs": [],
      "source": [
        "dataset = close_data.values\n",
        "train = dataset[0:2000, :]\n",
        "valid = dataset[2000:, :]\n",
        "# print(dataset)"
      ]
    },
    {
      "cell_type": "code",
      "execution_count": 15,
      "metadata": {
        "id": "0CfxMyGcrttd"
      },
      "outputs": [],
      "source": [
        "scaler = MinMaxScaler(feature_range=(0, 1))\n",
        "scaled_data = scaler.fit_transform(dataset)\n"
      ]
    },
    {
      "cell_type": "code",
      "execution_count": 16,
      "metadata": {},
      "outputs": [],
      "source": [
        "for i in range(0, len(train)-90):\n",
        "    scaled_data[i, 0] += sentiments[i]*0.1"
      ]
    },
    {
      "cell_type": "code",
      "execution_count": 17,
      "metadata": {
        "id": "D1tt-6lTr1pw"
      },
      "outputs": [],
      "source": [
        "x_train, y_train = [], []\n",
        "for i in range(90,len(train)):\n",
        "    arr = scaled_data[i-90:i,0]\n",
        "    np.append(arr, sentiments[i])\n",
        "    x_train.append(arr)\n",
        "    y_train.append(scaled_data[i,0])\n",
        "\n",
        "x_train, y_train = np.array(x_train), np.array(y_train)"
      ]
    },
    {
      "cell_type": "code",
      "execution_count": 18,
      "metadata": {
        "id": "0YlDmqJMsiLI"
      },
      "outputs": [
        {
          "data": {
            "text/plain": [
              "array([[[8.71895235e-04],\n",
              "        [4.44385016e-04],\n",
              "        [4.72512302e-04],\n",
              "        ...,\n",
              "        [1.34918498e-02],\n",
              "        [1.32330948e-02],\n",
              "        [1.42765562e-02]],\n",
              "\n",
              "       [[4.44385016e-04],\n",
              "        [4.72512302e-04],\n",
              "        [1.87879222e-03],\n",
              "        ...,\n",
              "        [1.32330948e-02],\n",
              "        [1.42765562e-02],\n",
              "        [1.45549971e-02]],\n",
              "\n",
              "       [[4.72512302e-04],\n",
              "        [1.87879222e-03],\n",
              "        [7.39704642e-04],\n",
              "        ...,\n",
              "        [1.42765562e-02],\n",
              "        [1.45549971e-02],\n",
              "        [1.32190312e-02]],\n",
              "\n",
              "       ...,\n",
              "\n",
              "       [[4.63315793e-01],\n",
              "        [4.46972012e-01],\n",
              "        [4.53356509e-01],\n",
              "        ...,\n",
              "        [4.40039045e-01],\n",
              "        [4.43166610e-01],\n",
              "        [4.42578795e-01]],\n",
              "\n",
              "       [[4.46972012e-01],\n",
              "        [4.53356509e-01],\n",
              "        [4.54923124e-01],\n",
              "        ...,\n",
              "        [4.43166610e-01],\n",
              "        [4.42578795e-01],\n",
              "        [4.39681844e-01]],\n",
              "\n",
              "       [[4.53356509e-01],\n",
              "        [4.54923124e-01],\n",
              "        [4.66029920e-01],\n",
              "        ...,\n",
              "        [4.42578795e-01],\n",
              "        [4.39681844e-01],\n",
              "        [4.42356591e-01]]])"
            ]
          },
          "execution_count": 18,
          "metadata": {},
          "output_type": "execute_result"
        }
      ],
      "source": [
        "x_train = np.reshape(x_train, (x_train.shape[0], x_train.shape[1], 1))\n",
        "x_train"
      ]
    },
    {
      "cell_type": "code",
      "execution_count": 19,
      "metadata": {},
      "outputs": [],
      "source": [
        "inputs = close_data[len(close_data) - len(valid)-90:].values\n",
        "inputs = inputs.reshape(-1,1)\n",
        "inputs = scaler.transform(inputs)\n",
        "sentiments_new = sentiments[len(close_data) - len(valid)-90:]\n",
        "\n",
        "for i in range(0, inputs.shape[0]-90):\n",
        "    inputs[i] += sentiments_new[i]*0.1"
      ]
    },
    {
      "cell_type": "code",
      "execution_count": 20,
      "metadata": {
        "id": "ZOEfqN7FtvI8"
      },
      "outputs": [],
      "source": [
        "\n",
        "X_test = []\n",
        "for i in range(90,inputs.shape[0]):\n",
        "    arr = inputs[i-90:i,0]\n",
        "    np.append(arr, sentiments_new[i])\n",
        "    X_test.append(arr)\n",
        "X_test = np.array(X_test)"
      ]
    },
    {
      "cell_type": "markdown",
      "metadata": {
        "id": "uJduV_KwtBOK"
      },
      "source": [
        "## Making the model"
      ]
    },
    {
      "cell_type": "code",
      "execution_count": 25,
      "metadata": {
        "id": "Lx6jo8JEtFD6"
      },
      "outputs": [],
      "source": [
        "model = Sequential()\n",
        "model.add(LSTM(units=50, return_sequences=True, input_shape=(x_train.shape[1], 1)))\n",
        "model.add(Dropout(rate = 0.3))\n",
        "\n",
        "model.add(LSTM(units=50, return_sequences = True))\n",
        "model.add(Dropout(rate = 0.3))\n",
        "\n",
        "model.add(LSTM(units=50, return_sequences = True))\n",
        "model.add(Dropout(rate = 0.3))\n",
        "\n",
        "model.add(LSTM(units=50, return_sequences = False))\n",
        "model.add(Dropout(rate = 0.3))\n",
        "model.add(Dense(1))\n",
        "\n",
        "model.compile(loss='mean_squared_error', optimizer='adam')\n",
        "#we use standard adam's optimizer"
      ]
    },
    {
      "cell_type": "code",
      "execution_count": 26,
      "metadata": {},
      "outputs": [
        {
          "name": "stdout",
          "output_type": "stream",
          "text": [
            "Model: \"sequential_2\"\n",
            "_________________________________________________________________\n",
            " Layer (type)                Output Shape              Param #   \n",
            "=================================================================\n",
            " lstm_4 (LSTM)               (None, 90, 50)            10400     \n",
            "                                                                 \n",
            " dropout_4 (Dropout)         (None, 90, 50)            0         \n",
            "                                                                 \n",
            " lstm_5 (LSTM)               (None, 90, 50)            20200     \n",
            "                                                                 \n",
            " dropout_5 (Dropout)         (None, 90, 50)            0         \n",
            "                                                                 \n",
            " lstm_6 (LSTM)               (None, 90, 50)            20200     \n",
            "                                                                 \n",
            " dropout_6 (Dropout)         (None, 90, 50)            0         \n",
            "                                                                 \n",
            " lstm_7 (LSTM)               (None, 50)                20200     \n",
            "                                                                 \n",
            " dropout_7 (Dropout)         (None, 50)                0         \n",
            "                                                                 \n",
            " dense_1 (Dense)             (None, 1)                 51        \n",
            "                                                                 \n",
            "=================================================================\n",
            "Total params: 71,051\n",
            "Trainable params: 71,051\n",
            "Non-trainable params: 0\n",
            "_________________________________________________________________\n"
          ]
        }
      ],
      "source": [
        "model.summary()"
      ]
    },
    {
      "cell_type": "markdown",
      "metadata": {
        "id": "o-6aXIqotTL6"
      },
      "source": [
        "## Training the model"
      ]
    },
    {
      "cell_type": "code",
      "execution_count": 27,
      "metadata": {
        "colab": {
          "base_uri": "https://localhost:8080/"
        },
        "id": "yfHJ5kpNta-P",
        "outputId": "257b9d6d-152b-4864-9a21-6439c2f5a17d"
      },
      "outputs": [
        {
          "name": "stdout",
          "output_type": "stream",
          "text": [
            "Epoch 1/100\n",
            "15/15 [==============================] - 12s 269ms/step - loss: 0.0138\n",
            "Epoch 2/100\n",
            "15/15 [==============================] - 4s 277ms/step - loss: 0.0026\n",
            "Epoch 3/100\n",
            "15/15 [==============================] - 4s 290ms/step - loss: 0.0016\n",
            "Epoch 4/100\n",
            "15/15 [==============================] - 4s 290ms/step - loss: 0.0013\n",
            "Epoch 5/100\n",
            "15/15 [==============================] - 4s 289ms/step - loss: 0.0012\n",
            "Epoch 6/100\n",
            "15/15 [==============================] - 4s 282ms/step - loss: 0.0011\n",
            "Epoch 7/100\n",
            "15/15 [==============================] - 4s 265ms/step - loss: 0.0012\n",
            "Epoch 8/100\n",
            "15/15 [==============================] - 5s 300ms/step - loss: 0.0011\n",
            "Epoch 9/100\n",
            "15/15 [==============================] - 5s 324ms/step - loss: 0.0012\n",
            "Epoch 10/100\n",
            "15/15 [==============================] - 5s 323ms/step - loss: 0.0011\n",
            "Epoch 11/100\n",
            "15/15 [==============================] - 4s 230ms/step - loss: 0.0010\n",
            "Epoch 12/100\n",
            "15/15 [==============================] - 2s 154ms/step - loss: 0.0010\n",
            "Epoch 13/100\n",
            "15/15 [==============================] - 2s 136ms/step - loss: 0.0010\n",
            "Epoch 14/100\n",
            "15/15 [==============================] - 2s 137ms/step - loss: 9.7549e-04\n",
            "Epoch 15/100\n",
            "15/15 [==============================] - 3s 224ms/step - loss: 0.0010\n",
            "Epoch 16/100\n",
            "15/15 [==============================] - 4s 278ms/step - loss: 0.0011\n",
            "Epoch 17/100\n",
            "15/15 [==============================] - 4s 279ms/step - loss: 9.6797e-04\n",
            "Epoch 18/100\n",
            "15/15 [==============================] - 4s 297ms/step - loss: 8.8669e-04\n",
            "Epoch 19/100\n",
            "15/15 [==============================] - 4s 292ms/step - loss: 8.9469e-04\n",
            "Epoch 20/100\n",
            "15/15 [==============================] - 4s 272ms/step - loss: 9.1080e-04\n",
            "Epoch 21/100\n",
            "15/15 [==============================] - 4s 271ms/step - loss: 8.9688e-04\n",
            "Epoch 22/100\n",
            "15/15 [==============================] - 4s 267ms/step - loss: 8.8333e-04\n",
            "Epoch 23/100\n",
            "15/15 [==============================] - 4s 276ms/step - loss: 8.8542e-04\n",
            "Epoch 24/100\n",
            "15/15 [==============================] - 4s 288ms/step - loss: 0.0010\n",
            "Epoch 25/100\n",
            "15/15 [==============================] - 4s 278ms/step - loss: 8.6115e-04\n",
            "Epoch 26/100\n",
            "15/15 [==============================] - 4s 290ms/step - loss: 8.8983e-04\n",
            "Epoch 27/100\n",
            "15/15 [==============================] - 4s 288ms/step - loss: 8.8934e-04\n",
            "Epoch 28/100\n",
            "15/15 [==============================] - 5s 305ms/step - loss: 9.1580e-04\n",
            "Epoch 29/100\n",
            "15/15 [==============================] - 5s 304ms/step - loss: 8.8651e-04\n",
            "Epoch 30/100\n",
            "15/15 [==============================] - 4s 292ms/step - loss: 9.3628e-04\n",
            "Epoch 31/100\n",
            "15/15 [==============================] - 5s 304ms/step - loss: 8.8502e-04\n",
            "Epoch 32/100\n",
            "15/15 [==============================] - 4s 287ms/step - loss: 9.2667e-04\n",
            "Epoch 33/100\n",
            "15/15 [==============================] - 4s 291ms/step - loss: 8.2629e-04\n",
            "Epoch 34/100\n",
            "15/15 [==============================] - 4s 298ms/step - loss: 8.5716e-04\n",
            "Epoch 35/100\n",
            "15/15 [==============================] - 4s 290ms/step - loss: 8.6518e-04\n",
            "Epoch 36/100\n",
            "15/15 [==============================] - 5s 305ms/step - loss: 9.1320e-04\n",
            "Epoch 37/100\n",
            "15/15 [==============================] - 4s 288ms/step - loss: 7.5816e-04\n",
            "Epoch 38/100\n",
            "15/15 [==============================] - 5s 311ms/step - loss: 7.7959e-04\n",
            "Epoch 39/100\n",
            "15/15 [==============================] - 5s 299ms/step - loss: 7.7858e-04\n",
            "Epoch 40/100\n",
            "15/15 [==============================] - 4s 282ms/step - loss: 7.3818e-04\n",
            "Epoch 41/100\n",
            "15/15 [==============================] - 4s 284ms/step - loss: 7.7701e-04\n",
            "Epoch 42/100\n",
            "15/15 [==============================] - 4s 286ms/step - loss: 7.6429e-04\n",
            "Epoch 43/100\n",
            "15/15 [==============================] - 4s 288ms/step - loss: 8.1197e-04\n",
            "Epoch 44/100\n",
            "15/15 [==============================] - 4s 286ms/step - loss: 7.1295e-04\n",
            "Epoch 45/100\n",
            "15/15 [==============================] - 4s 286ms/step - loss: 7.9726e-04\n",
            "Epoch 46/100\n",
            "15/15 [==============================] - 4s 290ms/step - loss: 7.6191e-04\n",
            "Epoch 47/100\n",
            "15/15 [==============================] - 4s 285ms/step - loss: 7.8024e-04\n",
            "Epoch 48/100\n",
            "15/15 [==============================] - 4s 287ms/step - loss: 7.7247e-04\n",
            "Epoch 49/100\n",
            "15/15 [==============================] - 4s 287ms/step - loss: 7.0350e-04\n",
            "Epoch 50/100\n",
            "15/15 [==============================] - 5s 308ms/step - loss: 7.6613e-04\n",
            "Epoch 51/100\n",
            "15/15 [==============================] - 4s 270ms/step - loss: 7.4429e-04\n",
            "Epoch 52/100\n",
            "15/15 [==============================] - 5s 313ms/step - loss: 7.3970e-04\n",
            "Epoch 53/100\n",
            "15/15 [==============================] - 4s 296ms/step - loss: 6.5910e-04\n",
            "Epoch 54/100\n",
            "15/15 [==============================] - 4s 287ms/step - loss: 7.0428e-04\n",
            "Epoch 55/100\n",
            "15/15 [==============================] - 4s 284ms/step - loss: 6.8397e-04\n",
            "Epoch 56/100\n",
            "15/15 [==============================] - 4s 229ms/step - loss: 7.2542e-04\n",
            "Epoch 57/100\n",
            "15/15 [==============================] - 3s 221ms/step - loss: 6.8128e-04\n",
            "Epoch 58/100\n",
            "15/15 [==============================] - 3s 209ms/step - loss: 6.7118e-04\n",
            "Epoch 59/100\n",
            "15/15 [==============================] - 3s 233ms/step - loss: 6.7641e-04\n",
            "Epoch 60/100\n",
            "15/15 [==============================] - 4s 236ms/step - loss: 8.0253e-04\n",
            "Epoch 61/100\n",
            "15/15 [==============================] - 3s 225ms/step - loss: 7.7251e-04\n",
            "Epoch 62/100\n",
            "15/15 [==============================] - 3s 204ms/step - loss: 7.2518e-04\n",
            "Epoch 63/100\n",
            "15/15 [==============================] - 3s 189ms/step - loss: 7.3330e-04\n",
            "Epoch 64/100\n",
            "15/15 [==============================] - 3s 206ms/step - loss: 6.8229e-04\n",
            "Epoch 65/100\n",
            "15/15 [==============================] - 3s 201ms/step - loss: 6.6633e-04\n",
            "Epoch 66/100\n",
            "15/15 [==============================] - 3s 207ms/step - loss: 6.4252e-04\n",
            "Epoch 67/100\n",
            "15/15 [==============================] - 4s 239ms/step - loss: 6.1889e-04\n",
            "Epoch 68/100\n",
            "15/15 [==============================] - 3s 220ms/step - loss: 6.2884e-04\n",
            "Epoch 69/100\n",
            "15/15 [==============================] - 3s 191ms/step - loss: 6.1468e-04\n",
            "Epoch 70/100\n",
            "15/15 [==============================] - 3s 204ms/step - loss: 6.0130e-04\n",
            "Epoch 71/100\n",
            "15/15 [==============================] - 3s 203ms/step - loss: 6.1738e-04\n",
            "Epoch 72/100\n",
            "15/15 [==============================] - 3s 200ms/step - loss: 6.4390e-04\n",
            "Epoch 73/100\n",
            "15/15 [==============================] - 3s 225ms/step - loss: 5.7419e-04\n",
            "Epoch 74/100\n",
            "15/15 [==============================] - 3s 203ms/step - loss: 6.5292e-04\n",
            "Epoch 75/100\n",
            "15/15 [==============================] - 3s 200ms/step - loss: 6.7643e-04\n",
            "Epoch 76/100\n",
            "15/15 [==============================] - 4s 237ms/step - loss: 6.5929e-04\n",
            "Epoch 77/100\n",
            "15/15 [==============================] - 3s 210ms/step - loss: 6.5188e-04\n",
            "Epoch 78/100\n",
            "15/15 [==============================] - 3s 218ms/step - loss: 6.4985e-04\n",
            "Epoch 79/100\n",
            "15/15 [==============================] - 4s 258ms/step - loss: 6.0976e-04\n",
            "Epoch 80/100\n",
            "15/15 [==============================] - 3s 220ms/step - loss: 6.5580e-04\n",
            "Epoch 81/100\n",
            "15/15 [==============================] - 4s 251ms/step - loss: 5.6392e-04\n",
            "Epoch 82/100\n",
            "15/15 [==============================] - 6s 404ms/step - loss: 6.3939e-04\n",
            "Epoch 83/100\n",
            "15/15 [==============================] - 4s 241ms/step - loss: 5.7523e-04\n",
            "Epoch 84/100\n",
            "15/15 [==============================] - 3s 209ms/step - loss: 6.5740e-04\n",
            "Epoch 85/100\n",
            "15/15 [==============================] - 3s 217ms/step - loss: 5.6252e-04\n",
            "Epoch 86/100\n",
            "15/15 [==============================] - 3s 218ms/step - loss: 5.6923e-04\n",
            "Epoch 87/100\n",
            "15/15 [==============================] - 4s 256ms/step - loss: 6.5121e-04\n",
            "Epoch 88/100\n",
            "15/15 [==============================] - 5s 329ms/step - loss: 6.5241e-04\n",
            "Epoch 89/100\n",
            "15/15 [==============================] - 5s 326ms/step - loss: 6.7112e-04\n",
            "Epoch 90/100\n",
            "15/15 [==============================] - 4s 293ms/step - loss: 5.9737e-04\n",
            "Epoch 91/100\n",
            "15/15 [==============================] - 3s 217ms/step - loss: 6.2779e-04\n",
            "Epoch 92/100\n",
            "15/15 [==============================] - 3s 237ms/step - loss: 5.7695e-04\n",
            "Epoch 93/100\n",
            "15/15 [==============================] - 4s 297ms/step - loss: 6.7829e-04\n",
            "Epoch 94/100\n",
            "15/15 [==============================] - 4s 285ms/step - loss: 5.7381e-04\n",
            "Epoch 95/100\n",
            "15/15 [==============================] - 4s 285ms/step - loss: 5.3628e-04\n",
            "Epoch 96/100\n",
            "15/15 [==============================] - 4s 282ms/step - loss: 5.7334e-04\n",
            "Epoch 97/100\n",
            "15/15 [==============================] - 4s 282ms/step - loss: 6.2351e-04\n",
            "Epoch 98/100\n",
            "15/15 [==============================] - 4s 290ms/step - loss: 6.1308e-04\n",
            "Epoch 99/100\n",
            "15/15 [==============================] - 4s 283ms/step - loss: 5.9004e-04\n",
            "Epoch 100/100\n",
            "15/15 [==============================] - 4s 282ms/step - loss: 5.6200e-04\n"
          ]
        },
        {
          "data": {
            "text/plain": [
              "<keras.callbacks.History at 0x7fe2c59425e0>"
            ]
          },
          "execution_count": 27,
          "metadata": {},
          "output_type": "execute_result"
        }
      ],
      "source": [
        "model.fit(x_train, y_train, epochs=100, batch_size=128, verbose=1)"
      ]
    },
    {
      "cell_type": "code",
      "execution_count": 29,
      "metadata": {
        "id": "wIsG10oOz4-d"
      },
      "outputs": [],
      "source": [
        "X_test = np.reshape(X_test, (X_test.shape[0],X_test.shape[1],1))\n",
        "preds = model.predict(X_test)\n",
        "preds = scaler.inverse_transform(preds)"
      ]
    },
    {
      "cell_type": "code",
      "execution_count": 30,
      "metadata": {
        "colab": {
          "base_uri": "https://localhost:8080/"
        },
        "id": "gfF0mZr10En5",
        "outputId": "fd33511a-d6d3-49b6-b43e-270dec4dd022"
      },
      "outputs": [
        {
          "name": "stdout",
          "output_type": "stream",
          "text": [
            "(603, 1)\n"
          ]
        }
      ],
      "source": [
        "print(preds.shape)"
      ]
    },
    {
      "cell_type": "code",
      "execution_count": 31,
      "metadata": {
        "colab": {
          "base_uri": "https://localhost:8080/"
        },
        "id": "8JKPb6Co2qXA",
        "outputId": "8d48b327-6ed5-4803-b7a9-417a6cba62f5"
      },
      "outputs": [
        {
          "name": "stdout",
          "output_type": "stream",
          "text": [
            "(603, 1)\n"
          ]
        }
      ],
      "source": [
        "print(valid.shape)"
      ]
    },
    {
      "cell_type": "code",
      "execution_count": 32,
      "metadata": {
        "colab": {
          "base_uri": "https://localhost:8080/"
        },
        "id": "OuTHrJImMSHp",
        "outputId": "803006ff-0e3e-48b2-996f-64654456240e"
      },
      "outputs": [
        {
          "name": "stdout",
          "output_type": "stream",
          "text": [
            "[2328.139893] [2644.4333]\n"
          ]
        }
      ],
      "source": [
        "print(valid[-1],preds[-1])"
      ]
    },
    {
      "cell_type": "code",
      "execution_count": null,
      "metadata": {},
      "outputs": [],
      "source": []
    },
    {
      "cell_type": "markdown",
      "metadata": {},
      "source": [
        "## Results"
      ]
    },
    {
      "cell_type": "code",
      "execution_count": 33,
      "metadata": {
        "id": "F3Qa3Vv20gPQ"
      },
      "outputs": [
        {
          "data": {
            "text/plain": [
              "311.0884114703983"
            ]
          },
          "execution_count": 33,
          "metadata": {},
          "output_type": "execute_result"
        }
      ],
      "source": [
        "rms=np.sqrt(np.mean(np.power((valid-preds),2)))\n",
        "rms"
      ]
    },
    {
      "cell_type": "code",
      "execution_count": 47,
      "metadata": {
        "colab": {
          "base_uri": "https://localhost:8080/",
          "height": 600
        },
        "id": "yyxx-IxC19to",
        "outputId": "b91cc3eb-f85c-4db2-aca9-be58d9f75a10"
      },
      "outputs": [
        {
          "name": "stderr",
          "output_type": "stream",
          "text": [
            "/tmp/ipykernel_40337/3774970882.py:3: SettingWithCopyWarning: \n",
            "A value is trying to be set on a copy of a slice from a DataFrame.\n",
            "Try using .loc[row_indexer,col_indexer] = value instead\n",
            "\n",
            "See the caveats in the documentation: https://pandas.pydata.org/pandas-docs/stable/user_guide/indexing.html#returning-a-view-versus-a-copy\n",
            "  valid['Predictions'] = preds\n"
          ]
        },
        {
          "data": {
            "image/png": "[encoded data removed]",
            "text/plain": [
              "<Figure size 1440x576 with 1 Axes>"
            ]
          },
          "metadata": {},
          "output_type": "display_data"
        }
      ],
      "source": [
        "train = all_data[0:2000]\n",
        "valid = all_data[2000:]\n",
        "valid['Predictions'] = preds\n",
        "plt.figure(figsize=(20,8))\n",
        "plt.plot(train['Close'])\n",
        "plt.plot(valid['Close'], color = 'red', label = 'Real Price')\n",
        "plt.plot(valid['Predictions'], color = 'blue', label = 'Predicted Price')\n",
        "plt.title('Amazon price prediction')\n",
        "plt.legend()\n",
        "plt.show()\n",
        "\n",
        "valid.to_csv('output/preds_sent.csv')"
      ]
    },
    {
      "cell_type": "code",
      "execution_count": 156,
      "metadata": {},
      "outputs": [
        {
          "data": {
            "text/html": [
              "<table>\n",
              "<tbody>\n",
              "<tr><td>With Sentiment   </td><td style=\"text-align: right;\">1855.68</td><td style=\"text-align: right;\">1851.51</td><td style=\"text-align: right;\">1949.16</td><td style=\"text-align: right;\">2254.02</td><td style=\"text-align: right;\">2318.2 </td><td style=\"text-align: right;\">2338.34</td><td style=\"text-align: right;\">2447.18</td><td style=\"text-align: right;\">2821.22</td><td style=\"text-align: right;\">2887.57</td><td style=\"text-align: right;\">3049.66</td><td style=\"text-align: right;\">2951.39</td><td style=\"text-align: right;\">2885.32</td><td style=\"text-align: right;\">2918.62</td><td style=\"text-align: right;\">2925.31</td><td style=\"text-align: right;\">2919.11</td><td style=\"text-align: right;\">3035.1 </td><td style=\"text-align: right;\">3014.33</td><td style=\"text-align: right;\">2917.61</td><td style=\"text-align: right;\">3083.94</td><td style=\"text-align: right;\">3184.11</td><td style=\"text-align: right;\">3101.01</td><td style=\"text-align: right;\">3021.17</td><td style=\"text-align: right;\">3050.82</td><td style=\"text-align: right;\">2712.76</td><td style=\"text-align: right;\">2698.51</td><td style=\"text-align: right;\">2773.2 </td><td style=\"text-align: right;\">2963.17</td><td style=\"text-align: right;\">2942.38</td><td style=\"text-align: right;\">2775.89</td></tr>\n",
              "<tr><td>Without Sentiment</td><td style=\"text-align: right;\">1850.98</td><td style=\"text-align: right;\">1848.7 </td><td style=\"text-align: right;\">1943.28</td><td style=\"text-align: right;\">2231.11</td><td style=\"text-align: right;\">2311.82</td><td style=\"text-align: right;\">2322.69</td><td style=\"text-align: right;\">2436.82</td><td style=\"text-align: right;\">2806.84</td><td style=\"text-align: right;\">2874.03</td><td style=\"text-align: right;\">3024.87</td><td style=\"text-align: right;\">2935.89</td><td style=\"text-align: right;\">2877.84</td><td style=\"text-align: right;\">2914.89</td><td style=\"text-align: right;\">2923.26</td><td style=\"text-align: right;\">2904.44</td><td style=\"text-align: right;\">3007.16</td><td style=\"text-align: right;\">3003.68</td><td style=\"text-align: right;\">2907.73</td><td style=\"text-align: right;\">3063.82</td><td style=\"text-align: right;\">3167.48</td><td style=\"text-align: right;\">3078.99</td><td style=\"text-align: right;\">3005.15</td><td style=\"text-align: right;\">3039.09</td><td style=\"text-align: right;\">2716.16</td><td style=\"text-align: right;\">2702.68</td><td style=\"text-align: right;\">2766.26</td><td style=\"text-align: right;\">2943.7 </td><td style=\"text-align: right;\">2925.7 </td><td style=\"text-align: right;\">2775.43</td></tr>\n",
              "<tr><td>Actual value     </td><td style=\"text-align: right;\">1870.68</td><td style=\"text-align: right;\">2008.72</td><td style=\"text-align: right;\">2408.19</td><td style=\"text-align: right;\">2474   </td><td style=\"text-align: right;\">2442.37</td><td style=\"text-align: right;\">2478.4 </td><td style=\"text-align: right;\">2764.41</td><td style=\"text-align: right;\">3051.88</td><td style=\"text-align: right;\">3284.72</td><td style=\"text-align: right;\">3268.61</td><td style=\"text-align: right;\">3211.01</td><td style=\"text-align: right;\">3232.58</td><td style=\"text-align: right;\">3380   </td><td style=\"text-align: right;\">3312.53</td><td style=\"text-align: right;\">3379.09</td><td style=\"text-align: right;\">3471.31</td><td style=\"text-align: right;\">3151.94</td><td style=\"text-align: right;\">3223.07</td><td style=\"text-align: right;\">3510.98</td><td style=\"text-align: right;\">3599.92</td><td style=\"text-align: right;\">3355.73</td><td style=\"text-align: right;\">3446.57</td><td style=\"text-align: right;\">3525.15</td><td style=\"text-align: right;\">2776.91</td><td style=\"text-align: right;\">3152.79</td><td style=\"text-align: right;\">2785.58</td><td style=\"text-align: right;\">3110.82</td><td style=\"text-align: right;\">3034.13</td><td style=\"text-align: right;\">2891.93</td></tr>\n",
              "</tbody>\n",
              "</table>"
            ],
            "text/plain": [
              "'<table>\\n<tbody>\\n<tr><td>With Sentiment   </td><td style=\"text-align: right;\">1855.68</td><td style=\"text-align: right;\">1851.51</td><td style=\"text-align: right;\">1949.16</td><td style=\"text-align: right;\">2254.02</td><td style=\"text-align: right;\">2318.2 </td><td style=\"text-align: right;\">2338.34</td><td style=\"text-align: right;\">2447.18</td><td style=\"text-align: right;\">2821.22</td><td style=\"text-align: right;\">2887.57</td><td style=\"text-align: right;\">3049.66</td><td style=\"text-align: right;\">2951.39</td><td style=\"text-align: right;\">2885.32</td><td style=\"text-align: right;\">2918.62</td><td style=\"text-align: right;\">2925.31</td><td style=\"text-align: right;\">2919.11</td><td style=\"text-align: right;\">3035.1 </td><td style=\"text-align: right;\">3014.33</td><td style=\"text-align: right;\">2917.61</td><td style=\"text-align: right;\">3083.94</td><td style=\"text-align: right;\">3184.11</td><td style=\"text-align: right;\">3101.01</td><td style=\"text-align: right;\">3021.17</td><td style=\"text-align: right;\">3050.82</td><td style=\"text-align: right;\">2712.76</td><td style=\"text-align: right;\">2698.51</td><td style=\"text-align: right;\">2773.2 </td><td style=\"text-align: right;\">2963.17</td><td style=\"text-align: right;\">2942.38</td><td style=\"text-align: right;\">2775.89</td></tr>\\n<tr><td>Without Sentiment</td><td style=\"text-align: right;\">1850.98</td><td style=\"text-align: right;\">1848.7 </td><td style=\"text-align: right;\">1943.28</td><td style=\"text-align: right;\">2231.11</td><td style=\"text-align: right;\">2311.82</td><td style=\"text-align: right;\">2322.69</td><td style=\"text-align: right;\">2436.82</td><td style=\"text-align: right;\">2806.84</td><td style=\"text-align: right;\">2874.03</td><td style=\"text-align: right;\">3024.87</td><td style=\"text-align: right;\">2935.89</td><td style=\"text-align: right;\">2877.84</td><td style=\"text-align: right;\">2914.89</td><td style=\"text-align: right;\">2923.26</td><td style=\"text-align: right;\">2904.44</td><td style=\"text-align: right;\">3007.16</td><td style=\"text-align: right;\">3003.68</td><td style=\"text-align: right;\">2907.73</td><td style=\"text-align: right;\">3063.82</td><td style=\"text-align: right;\">3167.48</td><td style=\"text-align: right;\">3078.99</td><td style=\"text-align: right;\">3005.15</td><td style=\"text-align: right;\">3039.09</td><td style=\"text-align: right;\">2716.16</td><td style=\"text-align: right;\">2702.68</td><td style=\"text-align: right;\">2766.26</td><td style=\"text-align: right;\">2943.7 </td><td style=\"text-align: right;\">2925.7 </td><td style=\"text-align: right;\">2775.43</td></tr>\\n<tr><td>Actual value     </td><td style=\"text-align: right;\">1870.68</td><td style=\"text-align: right;\">2008.72</td><td style=\"text-align: right;\">2408.19</td><td style=\"text-align: right;\">2474   </td><td style=\"text-align: right;\">2442.37</td><td style=\"text-align: right;\">2478.4 </td><td style=\"text-align: right;\">2764.41</td><td style=\"text-align: right;\">3051.88</td><td style=\"text-align: right;\">3284.72</td><td style=\"text-align: right;\">3268.61</td><td style=\"text-align: right;\">3211.01</td><td style=\"text-align: right;\">3232.58</td><td style=\"text-align: right;\">3380   </td><td style=\"text-align: right;\">3312.53</td><td style=\"text-align: right;\">3379.09</td><td style=\"text-align: right;\">3471.31</td><td style=\"text-align: right;\">3151.94</td><td style=\"text-align: right;\">3223.07</td><td style=\"text-align: right;\">3510.98</td><td style=\"text-align: right;\">3599.92</td><td style=\"text-align: right;\">3355.73</td><td style=\"text-align: right;\">3446.57</td><td style=\"text-align: right;\">3525.15</td><td style=\"text-align: right;\">2776.91</td><td style=\"text-align: right;\">3152.79</td><td style=\"text-align: right;\">2785.58</td><td style=\"text-align: right;\">3110.82</td><td style=\"text-align: right;\">3034.13</td><td style=\"text-align: right;\">2891.93</td></tr>\\n</tbody>\\n</table>'"
            ]
          },
          "execution_count": 156,
          "metadata": {},
          "output_type": "execute_result"
        }
      ],
      "source": [
        "valid = pd.read_csv('output/preds_sent.csv')\n",
        "valid_no_sent = pd.read_csv('output/preds_no_sent.csv')\n",
        "\n",
        "sent = []\n",
        "no_sent = []\n",
        "real = []\n",
        "\n",
        "l1 = ['With Sentiment']\n",
        "l2 = ['Without Sentiment']\n",
        "l3 = ['Actual value']\n",
        "\n",
        "for i, row in valid.iterrows():\n",
        "    if row['sentiment'] != 0.0:\n",
        "        sent.append(row['Predictions'])\n",
        "        no_sent.append(valid_no_sent.loc[i]['Predictions'])\n",
        "        real.append(row['Close'])\n",
        "\n",
        "l1 += \n",
        "\n",
        "data = [l1, l2, l3]\n",
        "table = tabulate.tabulate(data, tablefmt='html')\n",
        "table"
      ]
    },
    {
      "cell_type": "code",
      "execution_count": 158,
      "metadata": {},
      "outputs": [
        {
          "ename": "TypeError",
          "evalue": "'NoneType' object is not iterable",
          "output_type": "error",
          "traceback": [
            "\u001b[0;31m---------------------------------------------------------------------------\u001b[0m",
            "\u001b[0;31mTypeError\u001b[0m                                 Traceback (most recent call last)",
            "\u001b[1;32m/home/codevardhan/uni/S6/Financial/Project/stock-price-prediction/Prediction_with_sentiment.ipynb Cell 45'\u001b[0m in \u001b[0;36m<module>\u001b[0;34m\u001b[0m\n\u001b[1;32m      <a href='vscode-notebook-cell:/home/codevardhan/uni/S6/Financial/Project/stock-price-prediction/Prediction_with_sentiment.ipynb#ch0000046?line=0'>1</a>\u001b[0m data \u001b[39m=\u001b[39m [l1\u001b[39m.\u001b[39mreverse(), l2\u001b[39m.\u001b[39mreverse(), l3\u001b[39m.\u001b[39mreverse()]\n\u001b[0;32m----> <a href='vscode-notebook-cell:/home/codevardhan/uni/S6/Financial/Project/stock-price-prediction/Prediction_with_sentiment.ipynb#ch0000046?line=1'>2</a>\u001b[0m table \u001b[39m=\u001b[39m tabulate\u001b[39m.\u001b[39;49mtabulate(data, tablefmt\u001b[39m=\u001b[39;49m\u001b[39m'\u001b[39;49m\u001b[39mhtml\u001b[39;49m\u001b[39m'\u001b[39;49m)\n\u001b[1;32m      <a href='vscode-notebook-cell:/home/codevardhan/uni/S6/Financial/Project/stock-price-prediction/Prediction_with_sentiment.ipynb#ch0000046?line=2'>3</a>\u001b[0m table\n",
            "File \u001b[0;32m~/.env-list/mach-env/lib/python3.9/site-packages/tabulate.py:1528\u001b[0m, in \u001b[0;36mtabulate\u001b[0;34m(tabular_data, headers, tablefmt, floatfmt, numalign, stralign, missingval, showindex, disable_numparse, colalign)\u001b[0m\n\u001b[1;32m   <a href='file:///home/codevardhan/.env-list/mach-env/lib/python3.9/site-packages/tabulate.py?line=1525'>1526</a>\u001b[0m \u001b[39mif\u001b[39;00m tabular_data \u001b[39mis\u001b[39;00m \u001b[39mNone\u001b[39;00m:\n\u001b[1;32m   <a href='file:///home/codevardhan/.env-list/mach-env/lib/python3.9/site-packages/tabulate.py?line=1526'>1527</a>\u001b[0m     tabular_data \u001b[39m=\u001b[39m []\n\u001b[0;32m-> <a href='file:///home/codevardhan/.env-list/mach-env/lib/python3.9/site-packages/tabulate.py?line=1527'>1528</a>\u001b[0m list_of_lists, headers \u001b[39m=\u001b[39m _normalize_tabular_data(\n\u001b[1;32m   <a href='file:///home/codevardhan/.env-list/mach-env/lib/python3.9/site-packages/tabulate.py?line=1528'>1529</a>\u001b[0m     tabular_data, headers, showindex\u001b[39m=\u001b[39;49mshowindex\n\u001b[1;32m   <a href='file:///home/codevardhan/.env-list/mach-env/lib/python3.9/site-packages/tabulate.py?line=1529'>1530</a>\u001b[0m )\n\u001b[1;32m   <a href='file:///home/codevardhan/.env-list/mach-env/lib/python3.9/site-packages/tabulate.py?line=1531'>1532</a>\u001b[0m \u001b[39m# empty values in the first column of RST tables should be escaped (issue #82)\u001b[39;00m\n\u001b[1;32m   <a href='file:///home/codevardhan/.env-list/mach-env/lib/python3.9/site-packages/tabulate.py?line=1532'>1533</a>\u001b[0m \u001b[39m# \"\" should be escaped as \"\\\\ \" or \"..\"\u001b[39;00m\n\u001b[1;32m   <a href='file:///home/codevardhan/.env-list/mach-env/lib/python3.9/site-packages/tabulate.py?line=1533'>1534</a>\u001b[0m \u001b[39mif\u001b[39;00m tablefmt \u001b[39m==\u001b[39m \u001b[39m\"\u001b[39m\u001b[39mrst\u001b[39m\u001b[39m\"\u001b[39m:\n",
            "File \u001b[0;32m~/.env-list/mach-env/lib/python3.9/site-packages/tabulate.py:1191\u001b[0m, in \u001b[0;36m_normalize_tabular_data\u001b[0;34m(tabular_data, headers, showindex)\u001b[0m\n\u001b[1;32m   <a href='file:///home/codevardhan/.env-list/mach-env/lib/python3.9/site-packages/tabulate.py?line=1187'>1188</a>\u001b[0m     rows \u001b[39m=\u001b[39m rows[\u001b[39m1\u001b[39m:]\n\u001b[1;32m   <a href='file:///home/codevardhan/.env-list/mach-env/lib/python3.9/site-packages/tabulate.py?line=1189'>1190</a>\u001b[0m headers \u001b[39m=\u001b[39m \u001b[39mlist\u001b[39m(\u001b[39mmap\u001b[39m(_text_type, headers))\n\u001b[0;32m-> <a href='file:///home/codevardhan/.env-list/mach-env/lib/python3.9/site-packages/tabulate.py?line=1190'>1191</a>\u001b[0m rows \u001b[39m=\u001b[39m \u001b[39mlist\u001b[39;49m(\u001b[39mmap\u001b[39;49m(\u001b[39mlist\u001b[39;49m, rows))\n\u001b[1;32m   <a href='file:///home/codevardhan/.env-list/mach-env/lib/python3.9/site-packages/tabulate.py?line=1192'>1193</a>\u001b[0m \u001b[39m# add or remove an index column\u001b[39;00m\n\u001b[1;32m   <a href='file:///home/codevardhan/.env-list/mach-env/lib/python3.9/site-packages/tabulate.py?line=1193'>1194</a>\u001b[0m showindex_is_a_str \u001b[39m=\u001b[39m \u001b[39mtype\u001b[39m(showindex) \u001b[39min\u001b[39;00m [_text_type, _binary_type]\n",
            "\u001b[0;31mTypeError\u001b[0m: 'NoneType' object is not iterable"
          ]
        }
      ],
      "source": [
        "data = [X, l2.reverse(), l3.reverse()]\n",
        "table = tabulate.tabulate(data, tablefmt='html')\n",
        "table"
      ]
    },
    {
      "cell_type": "code",
      "execution_count": null,
      "metadata": {
        "id": "YxLDvotHXOcf"
      },
      "outputs": [],
      "source": [
        "from keras.models import load_model\n",
        "model.save('AMZN.h5')  # creates a HDF5 file "
      ]
    }
  ],
  "metadata": {
    "colab": {
      "authorship_tag": "ABX9TyMnx7F+rr7ym0L12246I+Di",
      "collapsed_sections": [],
      "include_colab_link": true,
      "name": "Stock Market.ipynb",
      "provenance": []
    },
    "kernelspec": {
      "display_name": "Python 3",
      "name": "python3"
    },
    "language_info": {
      "codemirror_mode": {
        "name": "ipython",
        "version": 3
      },
      "file_extension": ".py",
      "mimetype": "text/x-python",
      "name": "python",
      "nbconvert_exporter": "python",
      "pygments_lexer": "ipython3",
      "version": "3.9.5"
    }
  },
  "nbformat": 4,
  "nbformat_minor": 0
}
